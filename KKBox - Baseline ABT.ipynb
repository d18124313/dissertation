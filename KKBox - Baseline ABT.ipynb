{
 "cells": [
  {
   "cell_type": "code",
   "execution_count": 1,
   "metadata": {},
   "outputs": [],
   "source": [
    "%load_ext autoreload\n",
    "%autoreload\n",
    "\n",
    "import pandas as pd\n",
    "import numpy as np\n",
    "\n",
    "pd.options.display.float_format = \"{:.2f}\".format\n",
    "np.set_printoptions(precision=4)\n",
    "\n",
    "from sklearn.model_selection import train_test_split\n",
    "\n",
    "import matplotlib.pyplot as plt\n",
    "%matplotlib inline"
   ]
  },
  {
   "cell_type": "markdown",
   "metadata": {},
   "source": [
    "### TRAIN\n",
    "train_v2.csv contains the churn data for March, 2017.\n",
    "\n",
    "        the train set, containing the user ids and whether they have churned.\n",
    "        Churn is defined as whether the user did not continue the subscription within 30 days of expiration. \n",
    "        is_churn = 1 means churn,\n",
    "        is_churn = 0 means renewal."
   ]
  },
  {
   "cell_type": "code",
   "execution_count": 2,
   "metadata": {
    "scrolled": true
   },
   "outputs": [
    {
     "data": {
      "text/html": [
       "<div>\n",
       "<style scoped>\n",
       "    .dataframe tbody tr th:only-of-type {\n",
       "        vertical-align: middle;\n",
       "    }\n",
       "\n",
       "    .dataframe tbody tr th {\n",
       "        vertical-align: top;\n",
       "    }\n",
       "\n",
       "    .dataframe thead th {\n",
       "        text-align: right;\n",
       "    }\n",
       "</style>\n",
       "<table border=\"1\" class=\"dataframe\">\n",
       "  <thead>\n",
       "    <tr style=\"text-align: right;\">\n",
       "      <th></th>\n",
       "      <th>msno</th>\n",
       "      <th>is_churn</th>\n",
       "    </tr>\n",
       "  </thead>\n",
       "  <tbody>\n",
       "    <tr>\n",
       "      <th>0</th>\n",
       "      <td>ugx0CjOMzazClkFzU2xasmDZaoIqOUAZPsH1q0teWCg=</td>\n",
       "      <td>1</td>\n",
       "    </tr>\n",
       "    <tr>\n",
       "      <th>1</th>\n",
       "      <td>f/NmvEzHfhINFEYZTR05prUdr+E+3+oewvweYz9cCQE=</td>\n",
       "      <td>1</td>\n",
       "    </tr>\n",
       "    <tr>\n",
       "      <th>2</th>\n",
       "      <td>zLo9f73nGGT1p21ltZC3ChiRnAVvgibMyazbCxvWPcg=</td>\n",
       "      <td>1</td>\n",
       "    </tr>\n",
       "    <tr>\n",
       "      <th>3</th>\n",
       "      <td>8iF/+8HY8lJKFrTc7iR9ZYGCG2Ecrogbc2Vy5YhsfhQ=</td>\n",
       "      <td>1</td>\n",
       "    </tr>\n",
       "    <tr>\n",
       "      <th>4</th>\n",
       "      <td>K6fja4+jmoZ5xG6BypqX80Uw/XKpMgrEMdG2edFOxnA=</td>\n",
       "      <td>1</td>\n",
       "    </tr>\n",
       "  </tbody>\n",
       "</table>\n",
       "</div>"
      ],
      "text/plain": [
       "                                           msno  is_churn\n",
       "0  ugx0CjOMzazClkFzU2xasmDZaoIqOUAZPsH1q0teWCg=         1\n",
       "1  f/NmvEzHfhINFEYZTR05prUdr+E+3+oewvweYz9cCQE=         1\n",
       "2  zLo9f73nGGT1p21ltZC3ChiRnAVvgibMyazbCxvWPcg=         1\n",
       "3  8iF/+8HY8lJKFrTc7iR9ZYGCG2Ecrogbc2Vy5YhsfhQ=         1\n",
       "4  K6fja4+jmoZ5xG6BypqX80Uw/XKpMgrEMdG2edFOxnA=         1"
      ]
     },
     "execution_count": 2,
     "metadata": {},
     "output_type": "execute_result"
    }
   ],
   "source": [
    "train_input = pd.read_csv('/home/dissertation/data/train_v2.csv', \n",
    "                          dtype = {'msno' : 'category'})\n",
    "train_input.head()"
   ]
  },
  {
   "cell_type": "code",
   "execution_count": 3,
   "metadata": {},
   "outputs": [
    {
     "name": "stdout",
     "output_type": "stream",
     "text": [
      "0    883630\n",
      "1     87330\n",
      "Name: is_churn, dtype: int64\n"
     ]
    },
    {
     "data": {
      "image/png": "[encoded data removed]",
      "text/plain": [
       "<Figure size 432x288 with 1 Axes>"
      ]
     },
     "metadata": {
      "needs_background": "light"
     },
     "output_type": "display_data"
    }
   ],
   "source": [
    "train_input.is_churn\\\n",
    "        .value_counts(dropna=False, normalize=True)\\\n",
    "        .plot(kind='bar', title='Normalised Churn % (Target)')\n",
    "\n",
    "print(train_input.is_churn.value_counts())"
   ]
  },
  {
   "cell_type": "code",
   "execution_count": 5,
   "metadata": {},
   "outputs": [
    {
     "name": "stdout",
     "output_type": "stream",
     "text": [
      "Churn Rate: 0.0899\n"
     ]
    }
   ],
   "source": [
    "print(\"Churn Rate: {:.4f}\".format(np.mean(train_input.is_churn)))"
   ]
  },
  {
   "cell_type": "code",
   "execution_count": 6,
   "metadata": {},
   "outputs": [
    {
     "data": {
      "text/html": [
       "<div>\n",
       "<style scoped>\n",
       "    .dataframe tbody tr th:only-of-type {\n",
       "        vertical-align: middle;\n",
       "    }\n",
       "\n",
       "    .dataframe tbody tr th {\n",
       "        vertical-align: top;\n",
       "    }\n",
       "\n",
       "    .dataframe thead th {\n",
       "        text-align: right;\n",
       "    }\n",
       "</style>\n",
       "<table border=\"1\" class=\"dataframe\">\n",
       "  <thead>\n",
       "    <tr style=\"text-align: right;\">\n",
       "      <th></th>\n",
       "      <th>msno</th>\n",
       "      <th>is_churn</th>\n",
       "    </tr>\n",
       "  </thead>\n",
       "  <tbody>\n",
       "    <tr>\n",
       "      <th>count</th>\n",
       "      <td>970960</td>\n",
       "      <td>970960.00</td>\n",
       "    </tr>\n",
       "    <tr>\n",
       "      <th>unique</th>\n",
       "      <td>970960</td>\n",
       "      <td>nan</td>\n",
       "    </tr>\n",
       "    <tr>\n",
       "      <th>top</th>\n",
       "      <td>zzxi7n5xoTYo9Q3VTygLWvl/rBDcexwaeAry0yK7Q0E=</td>\n",
       "      <td>nan</td>\n",
       "    </tr>\n",
       "    <tr>\n",
       "      <th>freq</th>\n",
       "      <td>1</td>\n",
       "      <td>nan</td>\n",
       "    </tr>\n",
       "    <tr>\n",
       "      <th>mean</th>\n",
       "      <td>NaN</td>\n",
       "      <td>0.09</td>\n",
       "    </tr>\n",
       "    <tr>\n",
       "      <th>std</th>\n",
       "      <td>NaN</td>\n",
       "      <td>0.29</td>\n",
       "    </tr>\n",
       "    <tr>\n",
       "      <th>min</th>\n",
       "      <td>NaN</td>\n",
       "      <td>0.00</td>\n",
       "    </tr>\n",
       "    <tr>\n",
       "      <th>25%</th>\n",
       "      <td>NaN</td>\n",
       "      <td>0.00</td>\n",
       "    </tr>\n",
       "    <tr>\n",
       "      <th>50%</th>\n",
       "      <td>NaN</td>\n",
       "      <td>0.00</td>\n",
       "    </tr>\n",
       "    <tr>\n",
       "      <th>75%</th>\n",
       "      <td>NaN</td>\n",
       "      <td>0.00</td>\n",
       "    </tr>\n",
       "    <tr>\n",
       "      <th>max</th>\n",
       "      <td>NaN</td>\n",
       "      <td>1.00</td>\n",
       "    </tr>\n",
       "  </tbody>\n",
       "</table>\n",
       "</div>"
      ],
      "text/plain": [
       "                                                msno  is_churn\n",
       "count                                         970960 970960.00\n",
       "unique                                        970960       nan\n",
       "top     zzxi7n5xoTYo9Q3VTygLWvl/rBDcexwaeAry0yK7Q0E=       nan\n",
       "freq                                               1       nan\n",
       "mean                                             NaN      0.09\n",
       "std                                              NaN      0.29\n",
       "min                                              NaN      0.00\n",
       "25%                                              NaN      0.00\n",
       "50%                                              NaN      0.00\n",
       "75%                                              NaN      0.00\n",
       "max                                              NaN      1.00"
      ]
     },
     "execution_count": 6,
     "metadata": {},
     "output_type": "execute_result"
    }
   ],
   "source": [
    "train_input.describe(include='all')"
   ]
  },
  {
   "cell_type": "markdown",
   "metadata": {},
   "source": [
    "So we have churn labels for 970960 members"
   ]
  },
  {
   "cell_type": "markdown",
   "metadata": {},
   "source": [
    "### MEMBERS"
   ]
  },
  {
   "cell_type": "code",
   "execution_count": 7,
   "metadata": {},
   "outputs": [],
   "source": [
    "members_input = pd.read_csv('/home/dissertation/data/members_v3.csv',\n",
    "                            dtype={'registered_via' : np.uint8,\n",
    "                                   'gender' : str})\n",
    "\n",
    "members_input['registration_init_time_dt'] = pd.to_datetime(members_input['registration_init_time'], \n",
    "                                                            format='%Y%m%d', errors='ignore')\n",
    "members_input['city'] = members_input.city.astype(str)\n",
    "members_input['registered_via'] = members_input.registered_via.astype(str)"
   ]
  },
  {
   "cell_type": "code",
   "execution_count": 7,
   "metadata": {},
   "outputs": [],
   "source": [
    "# Reduce the dataset down to the members in the train set only\n",
    "members_input = pd.merge(train_input['msno'], members_input, on='msno', how='inner')"
   ]
  },
  {
   "cell_type": "code",
   "execution_count": 8,
   "metadata": {
    "scrolled": true
   },
   "outputs": [
    {
     "data": {
      "text/html": [
       "<div>\n",
       "<style scoped>\n",
       "    .dataframe tbody tr th:only-of-type {\n",
       "        vertical-align: middle;\n",
       "    }\n",
       "\n",
       "    .dataframe tbody tr th {\n",
       "        vertical-align: top;\n",
       "    }\n",
       "\n",
       "    .dataframe thead th {\n",
       "        text-align: right;\n",
       "    }\n",
       "</style>\n",
       "<table border=\"1\" class=\"dataframe\">\n",
       "  <thead>\n",
       "    <tr style=\"text-align: right;\">\n",
       "      <th></th>\n",
       "      <th>msno</th>\n",
       "      <th>city</th>\n",
       "      <th>bd</th>\n",
       "      <th>gender</th>\n",
       "      <th>registered_via</th>\n",
       "      <th>registration_init_time</th>\n",
       "      <th>registration_init_time_dt</th>\n",
       "    </tr>\n",
       "  </thead>\n",
       "  <tbody>\n",
       "    <tr>\n",
       "      <th>0</th>\n",
       "      <td>ugx0CjOMzazClkFzU2xasmDZaoIqOUAZPsH1q0teWCg=</td>\n",
       "      <td>5</td>\n",
       "      <td>28</td>\n",
       "      <td>male</td>\n",
       "      <td>3</td>\n",
       "      <td>20131223</td>\n",
       "      <td>2013-12-23</td>\n",
       "    </tr>\n",
       "    <tr>\n",
       "      <th>1</th>\n",
       "      <td>f/NmvEzHfhINFEYZTR05prUdr+E+3+oewvweYz9cCQE=</td>\n",
       "      <td>13</td>\n",
       "      <td>20</td>\n",
       "      <td>male</td>\n",
       "      <td>3</td>\n",
       "      <td>20131223</td>\n",
       "      <td>2013-12-23</td>\n",
       "    </tr>\n",
       "    <tr>\n",
       "      <th>2</th>\n",
       "      <td>zLo9f73nGGT1p21ltZC3ChiRnAVvgibMyazbCxvWPcg=</td>\n",
       "      <td>13</td>\n",
       "      <td>18</td>\n",
       "      <td>male</td>\n",
       "      <td>3</td>\n",
       "      <td>20131227</td>\n",
       "      <td>2013-12-27</td>\n",
       "    </tr>\n",
       "    <tr>\n",
       "      <th>3</th>\n",
       "      <td>8iF/+8HY8lJKFrTc7iR9ZYGCG2Ecrogbc2Vy5YhsfhQ=</td>\n",
       "      <td>1</td>\n",
       "      <td>0</td>\n",
       "      <td>NaN</td>\n",
       "      <td>7</td>\n",
       "      <td>20140109</td>\n",
       "      <td>2014-01-09</td>\n",
       "    </tr>\n",
       "    <tr>\n",
       "      <th>4</th>\n",
       "      <td>K6fja4+jmoZ5xG6BypqX80Uw/XKpMgrEMdG2edFOxnA=</td>\n",
       "      <td>13</td>\n",
       "      <td>35</td>\n",
       "      <td>female</td>\n",
       "      <td>7</td>\n",
       "      <td>20140125</td>\n",
       "      <td>2014-01-25</td>\n",
       "    </tr>\n",
       "  </tbody>\n",
       "</table>\n",
       "</div>"
      ],
      "text/plain": [
       "                                           msno city  bd  gender  \\\n",
       "0  ugx0CjOMzazClkFzU2xasmDZaoIqOUAZPsH1q0teWCg=    5  28    male   \n",
       "1  f/NmvEzHfhINFEYZTR05prUdr+E+3+oewvweYz9cCQE=   13  20    male   \n",
       "2  zLo9f73nGGT1p21ltZC3ChiRnAVvgibMyazbCxvWPcg=   13  18    male   \n",
       "3  8iF/+8HY8lJKFrTc7iR9ZYGCG2Ecrogbc2Vy5YhsfhQ=    1   0     NaN   \n",
       "4  K6fja4+jmoZ5xG6BypqX80Uw/XKpMgrEMdG2edFOxnA=   13  35  female   \n",
       "\n",
       "  registered_via  registration_init_time registration_init_time_dt  \n",
       "0              3                20131223                2013-12-23  \n",
       "1              3                20131223                2013-12-23  \n",
       "2              3                20131227                2013-12-27  \n",
       "3              7                20140109                2014-01-09  \n",
       "4              7                20140125                2014-01-25  "
      ]
     },
     "execution_count": 8,
     "metadata": {},
     "output_type": "execute_result"
    }
   ],
   "source": [
    "members_input.head()"
   ]
  },
  {
   "cell_type": "code",
   "execution_count": 9,
   "metadata": {
    "scrolled": false
   },
   "outputs": [
    {
     "data": {
      "text/html": [
       "<div>\n",
       "<style scoped>\n",
       "    .dataframe tbody tr th:only-of-type {\n",
       "        vertical-align: middle;\n",
       "    }\n",
       "\n",
       "    .dataframe tbody tr th {\n",
       "        vertical-align: top;\n",
       "    }\n",
       "\n",
       "    .dataframe thead th {\n",
       "        text-align: right;\n",
       "    }\n",
       "</style>\n",
       "<table border=\"1\" class=\"dataframe\">\n",
       "  <thead>\n",
       "    <tr style=\"text-align: right;\">\n",
       "      <th></th>\n",
       "      <th>msno</th>\n",
       "      <th>city</th>\n",
       "      <th>bd</th>\n",
       "      <th>gender</th>\n",
       "      <th>registered_via</th>\n",
       "      <th>registration_init_time</th>\n",
       "      <th>registration_init_time_dt</th>\n",
       "    </tr>\n",
       "  </thead>\n",
       "  <tbody>\n",
       "    <tr>\n",
       "      <th>count</th>\n",
       "      <td>860967</td>\n",
       "      <td>860967</td>\n",
       "      <td>860967.00</td>\n",
       "      <td>388905</td>\n",
       "      <td>860967</td>\n",
       "      <td>860967.00</td>\n",
       "      <td>860967</td>\n",
       "    </tr>\n",
       "    <tr>\n",
       "      <th>unique</th>\n",
       "      <td>860967</td>\n",
       "      <td>21</td>\n",
       "      <td>nan</td>\n",
       "      <td>2</td>\n",
       "      <td>5</td>\n",
       "      <td>nan</td>\n",
       "      <td>4749</td>\n",
       "    </tr>\n",
       "    <tr>\n",
       "      <th>top</th>\n",
       "      <td>/gsGyq0EHmHoe8rPwH7e5hv71z2AMe4/2lEtsIT7D8w=</td>\n",
       "      <td>1</td>\n",
       "      <td>nan</td>\n",
       "      <td>male</td>\n",
       "      <td>7</td>\n",
       "      <td>nan</td>\n",
       "      <td>2015-10-09 00:00:00</td>\n",
       "    </tr>\n",
       "    <tr>\n",
       "      <th>freq</th>\n",
       "      <td>1</td>\n",
       "      <td>442598</td>\n",
       "      <td>nan</td>\n",
       "      <td>204561</td>\n",
       "      <td>462684</td>\n",
       "      <td>nan</td>\n",
       "      <td>1575</td>\n",
       "    </tr>\n",
       "    <tr>\n",
       "      <th>first</th>\n",
       "      <td>NaN</td>\n",
       "      <td>NaN</td>\n",
       "      <td>nan</td>\n",
       "      <td>NaN</td>\n",
       "      <td>NaN</td>\n",
       "      <td>nan</td>\n",
       "      <td>2004-03-26 00:00:00</td>\n",
       "    </tr>\n",
       "    <tr>\n",
       "      <th>last</th>\n",
       "      <td>NaN</td>\n",
       "      <td>NaN</td>\n",
       "      <td>nan</td>\n",
       "      <td>NaN</td>\n",
       "      <td>NaN</td>\n",
       "      <td>nan</td>\n",
       "      <td>2017-04-24 00:00:00</td>\n",
       "    </tr>\n",
       "    <tr>\n",
       "      <th>mean</th>\n",
       "      <td>NaN</td>\n",
       "      <td>NaN</td>\n",
       "      <td>13.58</td>\n",
       "      <td>NaN</td>\n",
       "      <td>NaN</td>\n",
       "      <td>20132648.96</td>\n",
       "      <td>NaN</td>\n",
       "    </tr>\n",
       "    <tr>\n",
       "      <th>std</th>\n",
       "      <td>NaN</td>\n",
       "      <td>NaN</td>\n",
       "      <td>20.06</td>\n",
       "      <td>NaN</td>\n",
       "      <td>NaN</td>\n",
       "      <td>30111.74</td>\n",
       "      <td>NaN</td>\n",
       "    </tr>\n",
       "    <tr>\n",
       "      <th>min</th>\n",
       "      <td>NaN</td>\n",
       "      <td>NaN</td>\n",
       "      <td>-3152.00</td>\n",
       "      <td>NaN</td>\n",
       "      <td>NaN</td>\n",
       "      <td>20040326.00</td>\n",
       "      <td>NaN</td>\n",
       "    </tr>\n",
       "    <tr>\n",
       "      <th>25%</th>\n",
       "      <td>NaN</td>\n",
       "      <td>NaN</td>\n",
       "      <td>0.00</td>\n",
       "      <td>NaN</td>\n",
       "      <td>NaN</td>\n",
       "      <td>20120214.00</td>\n",
       "      <td>NaN</td>\n",
       "    </tr>\n",
       "    <tr>\n",
       "      <th>50%</th>\n",
       "      <td>NaN</td>\n",
       "      <td>NaN</td>\n",
       "      <td>0.00</td>\n",
       "      <td>NaN</td>\n",
       "      <td>NaN</td>\n",
       "      <td>20140602.00</td>\n",
       "      <td>NaN</td>\n",
       "    </tr>\n",
       "    <tr>\n",
       "      <th>75%</th>\n",
       "      <td>NaN</td>\n",
       "      <td>NaN</td>\n",
       "      <td>27.00</td>\n",
       "      <td>NaN</td>\n",
       "      <td>NaN</td>\n",
       "      <td>20160118.00</td>\n",
       "      <td>NaN</td>\n",
       "    </tr>\n",
       "    <tr>\n",
       "      <th>max</th>\n",
       "      <td>NaN</td>\n",
       "      <td>NaN</td>\n",
       "      <td>2016.00</td>\n",
       "      <td>NaN</td>\n",
       "      <td>NaN</td>\n",
       "      <td>20170424.00</td>\n",
       "      <td>NaN</td>\n",
       "    </tr>\n",
       "  </tbody>\n",
       "</table>\n",
       "</div>"
      ],
      "text/plain": [
       "                                                msno    city        bd  \\\n",
       "count                                         860967  860967 860967.00   \n",
       "unique                                        860967      21       nan   \n",
       "top     /gsGyq0EHmHoe8rPwH7e5hv71z2AMe4/2lEtsIT7D8w=       1       nan   \n",
       "freq                                               1  442598       nan   \n",
       "first                                            NaN     NaN       nan   \n",
       "last                                             NaN     NaN       nan   \n",
       "mean                                             NaN     NaN     13.58   \n",
       "std                                              NaN     NaN     20.06   \n",
       "min                                              NaN     NaN  -3152.00   \n",
       "25%                                              NaN     NaN      0.00   \n",
       "50%                                              NaN     NaN      0.00   \n",
       "75%                                              NaN     NaN     27.00   \n",
       "max                                              NaN     NaN   2016.00   \n",
       "\n",
       "        gender registered_via  registration_init_time  \\\n",
       "count   388905         860967               860967.00   \n",
       "unique       2              5                     nan   \n",
       "top       male              7                     nan   \n",
       "freq    204561         462684                     nan   \n",
       "first      NaN            NaN                     nan   \n",
       "last       NaN            NaN                     nan   \n",
       "mean       NaN            NaN             20132648.96   \n",
       "std        NaN            NaN                30111.74   \n",
       "min        NaN            NaN             20040326.00   \n",
       "25%        NaN            NaN             20120214.00   \n",
       "50%        NaN            NaN             20140602.00   \n",
       "75%        NaN            NaN             20160118.00   \n",
       "max        NaN            NaN             20170424.00   \n",
       "\n",
       "       registration_init_time_dt  \n",
       "count                     860967  \n",
       "unique                      4749  \n",
       "top          2015-10-09 00:00:00  \n",
       "freq                        1575  \n",
       "first        2004-03-26 00:00:00  \n",
       "last         2017-04-24 00:00:00  \n",
       "mean                         NaN  \n",
       "std                          NaN  \n",
       "min                          NaN  \n",
       "25%                          NaN  \n",
       "50%                          NaN  \n",
       "75%                          NaN  \n",
       "max                          NaN  "
      ]
     },
     "execution_count": 9,
     "metadata": {},
     "output_type": "execute_result"
    }
   ],
   "source": [
    "members_input.describe(include='all')"
   ]
  },
  {
   "cell_type": "code",
   "execution_count": 12,
   "metadata": {},
   "outputs": [
    {
     "data": {
      "text/plain": [
       "msno                              0\n",
       "city                              0\n",
       "bd                                0\n",
       "gender                       472062\n",
       "registered_via                    0\n",
       "registration_init_time            0\n",
       "registration_init_time_dt         0\n",
       "dtype: int64"
      ]
     },
     "execution_count": 12,
     "metadata": {},
     "output_type": "execute_result"
    }
   ],
   "source": [
    "members_input.isnull().sum()"
   ]
  },
  {
   "cell_type": "markdown",
   "metadata": {},
   "source": [
    "#### BD: Age of member"
   ]
  },
  {
   "cell_type": "code",
   "execution_count": 13,
   "metadata": {},
   "outputs": [
    {
     "data": {
      "text/plain": [
       "{'whiskers': [<matplotlib.lines.Line2D at 0x7f6fb82f83c8>,\n",
       "  <matplotlib.lines.Line2D at 0x7f6fb82f82e8>],\n",
       " 'caps': [<matplotlib.lines.Line2D at 0x7f6fb82f7b70>,\n",
       "  <matplotlib.lines.Line2D at 0x7f6fb82f7828>],\n",
       " 'boxes': [<matplotlib.lines.Line2D at 0x7f6fb82f8828>],\n",
       " 'medians': [<matplotlib.lines.Line2D at 0x7f6fb82f7438>],\n",
       " 'fliers': [<matplotlib.lines.Line2D at 0x7f6fb82f7358>],\n",
       " 'means': []}"
      ]
     },
     "execution_count": 13,
     "metadata": {},
     "output_type": "execute_result"
    },
    {
     "data": {
      "image/png": "[encoded data removed]",
      "text/plain": [
       "<Figure size 432x288 with 1 Axes>"
      ]
     },
     "metadata": {
      "needs_background": "light"
     },
     "output_type": "display_data"
    }
   ],
   "source": [
    "fig1, ax1 = plt.subplots()\n",
    "ax1.set_title('Box Plot of Age')\n",
    "ax1.boxplot(members_input['bd'])"
   ]
  },
  {
   "cell_type": "code",
   "execution_count": 15,
   "metadata": {},
   "outputs": [
    {
     "name": "stdout",
     "output_type": "stream",
     "text": [
      "Using 0.99 and 0.01 quantiles would suggest 53.0 and 0 as the upper and lower bounds of bd\n",
      "This method would  exclude 8091 instances\n",
      "Very inconsistent/noisy data in this feature. Needs to be processed somehow\n"
     ]
    }
   ],
   "source": [
    "upper_q = .99\n",
    "lower_q = .01\n",
    "upper_price_outlier = members_input['bd'].quantile(upper_q)\n",
    "lower_price_outlier = members_input['bd'].quantile(lower_q)\n",
    "print(\"Using {0} and {1} quantiles would suggest {2} and {3} as the upper and lower bounds of bd\".format(upper_q, lower_q, upper_price_outlier, max(0, lower_price_outlier)))\n",
    "print(\"This method would  exclude {0} instances\".format(len(members_input[~members_input.bd.between(lower_price_outlier, upper_price_outlier)])))\n",
    "print(\"Very inconsistent/noisy data in this feature. Needs to be processed somehow\")"
   ]
  },
  {
   "cell_type": "code",
   "execution_count": 32,
   "metadata": {},
   "outputs": [
    {
     "data": {
      "text/html": [
       "<div>\n",
       "<style scoped>\n",
       "    .dataframe tbody tr th:only-of-type {\n",
       "        vertical-align: middle;\n",
       "    }\n",
       "\n",
       "    .dataframe tbody tr th {\n",
       "        vertical-align: top;\n",
       "    }\n",
       "\n",
       "    .dataframe thead th {\n",
       "        text-align: right;\n",
       "    }\n",
       "</style>\n",
       "<table border=\"1\" class=\"dataframe\">\n",
       "  <thead>\n",
       "    <tr style=\"text-align: right;\">\n",
       "      <th></th>\n",
       "      <th>msno</th>\n",
       "      <th>city</th>\n",
       "      <th>bd</th>\n",
       "      <th>gender</th>\n",
       "      <th>registered_via</th>\n",
       "      <th>registration_init_time</th>\n",
       "      <th>registration_init_time_dt</th>\n",
       "    </tr>\n",
       "  </thead>\n",
       "  <tbody>\n",
       "    <tr>\n",
       "      <th>0</th>\n",
       "      <td>Rb9UwLQTrxzBVwCB6+bCcSQWZ9JiNLC9dXtM1oEsZA8=</td>\n",
       "      <td>1</td>\n",
       "      <td>0</td>\n",
       "      <td>NaN</td>\n",
       "      <td>11</td>\n",
       "      <td>20110911</td>\n",
       "      <td>2011-09-11</td>\n",
       "    </tr>\n",
       "    <tr>\n",
       "      <th>1</th>\n",
       "      <td>+tJonkh+O1CA796Fm5X60UMOtB6POHAwPjbTRVl/EuU=</td>\n",
       "      <td>1</td>\n",
       "      <td>0</td>\n",
       "      <td>NaN</td>\n",
       "      <td>7</td>\n",
       "      <td>20110914</td>\n",
       "      <td>2011-09-14</td>\n",
       "    </tr>\n",
       "    <tr>\n",
       "      <th>2</th>\n",
       "      <td>cV358ssn7a0f7jZOwGNWS07wCKVqxyiImJUX6xcIwKw=</td>\n",
       "      <td>1</td>\n",
       "      <td>0</td>\n",
       "      <td>NaN</td>\n",
       "      <td>11</td>\n",
       "      <td>20110915</td>\n",
       "      <td>2011-09-15</td>\n",
       "    </tr>\n",
       "    <tr>\n",
       "      <th>3</th>\n",
       "      <td>9bzDeJP6sQodK73K5CBlJ6fgIQzPeLnRl0p5B77XP+g=</td>\n",
       "      <td>1</td>\n",
       "      <td>0</td>\n",
       "      <td>NaN</td>\n",
       "      <td>11</td>\n",
       "      <td>20110915</td>\n",
       "      <td>2011-09-15</td>\n",
       "    </tr>\n",
       "    <tr>\n",
       "      <th>4</th>\n",
       "      <td>WFLY3s7z4EZsieHCt63XrsdtfTEmJ+2PnnKLH5GY4Tk=</td>\n",
       "      <td>6</td>\n",
       "      <td>32</td>\n",
       "      <td>female</td>\n",
       "      <td>9</td>\n",
       "      <td>20110915</td>\n",
       "      <td>2011-09-15</td>\n",
       "    </tr>\n",
       "  </tbody>\n",
       "</table>\n",
       "</div>"
      ],
      "text/plain": [
       "                                           msno city  bd  gender  \\\n",
       "0  Rb9UwLQTrxzBVwCB6+bCcSQWZ9JiNLC9dXtM1oEsZA8=    1   0     NaN   \n",
       "1  +tJonkh+O1CA796Fm5X60UMOtB6POHAwPjbTRVl/EuU=    1   0     NaN   \n",
       "2  cV358ssn7a0f7jZOwGNWS07wCKVqxyiImJUX6xcIwKw=    1   0     NaN   \n",
       "3  9bzDeJP6sQodK73K5CBlJ6fgIQzPeLnRl0p5B77XP+g=    1   0     NaN   \n",
       "4  WFLY3s7z4EZsieHCt63XrsdtfTEmJ+2PnnKLH5GY4Tk=    6  32  female   \n",
       "\n",
       "  registered_via  registration_init_time registration_init_time_dt  \n",
       "0             11                20110911                2011-09-11  \n",
       "1              7                20110914                2011-09-14  \n",
       "2             11                20110915                2011-09-15  \n",
       "3             11                20110915                2011-09-15  \n",
       "4              9                20110915                2011-09-15  "
      ]
     },
     "execution_count": 32,
     "metadata": {},
     "output_type": "execute_result"
    }
   ],
   "source": [
    "members_input.head()"
   ]
  },
  {
   "cell_type": "markdown",
   "metadata": {},
   "source": [
    "#### Categorical Features"
   ]
  },
  {
   "cell_type": "code",
   "execution_count": 68,
   "metadata": {},
   "outputs": [
    {
     "data": {
      "text/plain": [
       "<matplotlib.axes._subplots.AxesSubplot at 0x7fa8fda8a0b8>"
      ]
     },
     "execution_count": 68,
     "metadata": {},
     "output_type": "execute_result"
    },
    {
     "data": {
      "image/png": "[encoded data removed]",
      "text/plain": [
       "<Figure size 1152x864 with 4 Axes>"
      ]
     },
     "metadata": {
      "needs_background": "light"
     },
     "output_type": "display_data"
    }
   ],
   "source": [
    "fig, axes = plt.subplots(nrows=2, ncols=2, figsize=(16, 12))\n",
    "    \n",
    "members_input['city'].value_counts(dropna=False, normalize=True).\\\n",
    "                    plot(kind='bar', \n",
    "                         color=plt.cm.Dark2(np.arange(len(members_input['city'].unique()))), \n",
    "                         title='City - Normalized Count %',\n",
    "                         ax=axes[0,0])\n",
    "members_input['gender'].value_counts(dropna=False, normalize=True).\\\n",
    "                    plot(kind='bar', \n",
    "                         color=plt.cm.Dark2(np.arange(len(members_input['gender'].unique()))), \n",
    "                         title='Gender - Normalized Count %',\n",
    "                         ax=axes[0,1])\n",
    "members_input['registered_via'].value_counts(dropna=False, normalize=True).\\\n",
    "                    plot(kind='bar', \n",
    "                         color=plt.cm.Dark2(np.arange(len(members_input['registered_via'].unique()))), \n",
    "                         title='Registered_Via - Normalized Count %',\n",
    "                         ax=axes[1,0])\n",
    "members_input['bd'].plot(kind='box', \n",
    "                         title='Age - Distribution',\n",
    "                         ax=axes[1,1])"
   ]
  },
  {
   "cell_type": "code",
   "execution_count": 36,
   "metadata": {},
   "outputs": [
    {
     "data": {
      "text/plain": [
       "<matplotlib.axes._subplots.AxesSubplot at 0x7fa9a4d35e80>"
      ]
     },
     "execution_count": 36,
     "metadata": {},
     "output_type": "execute_result"
    },
    {
     "data": {
      "image/png": "[encoded data removed]",
      "text/plain": [
       "<Figure size 432x288 with 1 Axes>"
      ]
     },
     "metadata": {
      "needs_background": "light"
     },
     "output_type": "display_data"
    }
   ],
   "source": [
    "members_input['bd'].plot(kind='box', \n",
    "                         #color=plt.cm.Paired(np.arange(len(members_input[col].unique()))), \n",
    "                         title='Train Set - Normalized Count % ({0})'.format('registered_via'))"
   ]
  },
  {
   "cell_type": "markdown",
   "metadata": {},
   "source": [
    "#### Notes:\n",
    "    msno: 6769473 members in total in the system.\n",
    "    city [1] is by far the most active city in terms of memberships (>50%)\n",
    "    A large portion (>60%) of gender information is missing\n",
    "    There are 4 main popular approaches to registering, [7, 9, 3, 4]. The rest are minimal.\n",
    "    \n",
    "    Useful options might be:\n",
    "        Recode registered_via to ['7', '9', '3', '4', 'Others']\n",
    "        Replace NaN gender values with 'unknown'. ALso consider removing it as a feature\n",
    "        City??"
   ]
  },
  {
   "cell_type": "code",
   "execution_count": null,
   "metadata": {},
   "outputs": [],
   "source": []
  },
  {
   "cell_type": "markdown",
   "metadata": {},
   "source": [
    "#### TRANSACTIONS"
   ]
  },
  {
   "cell_type": "code",
   "execution_count": 44,
   "metadata": {},
   "outputs": [
    {
     "data": {
      "text/html": [
       "<div>\n",
       "<style scoped>\n",
       "    .dataframe tbody tr th:only-of-type {\n",
       "        vertical-align: middle;\n",
       "    }\n",
       "\n",
       "    .dataframe tbody tr th {\n",
       "        vertical-align: top;\n",
       "    }\n",
       "\n",
       "    .dataframe thead th {\n",
       "        text-align: right;\n",
       "    }\n",
       "</style>\n",
       "<table border=\"1\" class=\"dataframe\">\n",
       "  <thead>\n",
       "    <tr style=\"text-align: right;\">\n",
       "      <th></th>\n",
       "      <th>msno</th>\n",
       "      <th>payment_method_id</th>\n",
       "      <th>payment_plan_days</th>\n",
       "      <th>plan_list_price</th>\n",
       "      <th>actual_amount_paid</th>\n",
       "      <th>is_auto_renew</th>\n",
       "      <th>transaction_date</th>\n",
       "      <th>membership_expire_date</th>\n",
       "      <th>is_cancel</th>\n",
       "    </tr>\n",
       "  </thead>\n",
       "  <tbody>\n",
       "    <tr>\n",
       "      <th>0</th>\n",
       "      <td>YyO+tlZtAXYXoZhNr3Vg3+dfVQvrBVGO8j1mfqe4ZHc=</td>\n",
       "      <td>41</td>\n",
       "      <td>30</td>\n",
       "      <td>129</td>\n",
       "      <td>129</td>\n",
       "      <td>True</td>\n",
       "      <td>20150930</td>\n",
       "      <td>20151101</td>\n",
       "      <td>False</td>\n",
       "    </tr>\n",
       "    <tr>\n",
       "      <th>1</th>\n",
       "      <td>AZtu6Wl0gPojrEQYB8Q3vBSmE2wnZ3hi1FbK1rQQ0A4=</td>\n",
       "      <td>41</td>\n",
       "      <td>30</td>\n",
       "      <td>149</td>\n",
       "      <td>149</td>\n",
       "      <td>True</td>\n",
       "      <td>20150930</td>\n",
       "      <td>20151031</td>\n",
       "      <td>False</td>\n",
       "    </tr>\n",
       "    <tr>\n",
       "      <th>2</th>\n",
       "      <td>UkDFI97Qb6+s2LWcijVVv4rMAsORbVDT2wNXF0aVbns=</td>\n",
       "      <td>41</td>\n",
       "      <td>30</td>\n",
       "      <td>129</td>\n",
       "      <td>129</td>\n",
       "      <td>True</td>\n",
       "      <td>20150930</td>\n",
       "      <td>20160427</td>\n",
       "      <td>False</td>\n",
       "    </tr>\n",
       "    <tr>\n",
       "      <th>3</th>\n",
       "      <td>M1C56ijxozNaGD0t2h68PnH2xtx5iO5iR2MVYQB6nBI=</td>\n",
       "      <td>39</td>\n",
       "      <td>30</td>\n",
       "      <td>149</td>\n",
       "      <td>149</td>\n",
       "      <td>True</td>\n",
       "      <td>20150930</td>\n",
       "      <td>20151128</td>\n",
       "      <td>False</td>\n",
       "    </tr>\n",
       "    <tr>\n",
       "      <th>4</th>\n",
       "      <td>yvj6zyBUaqdbUQSrKsrZ+xNDVM62knauSZJzakS9OW4=</td>\n",
       "      <td>39</td>\n",
       "      <td>30</td>\n",
       "      <td>149</td>\n",
       "      <td>149</td>\n",
       "      <td>True</td>\n",
       "      <td>20150930</td>\n",
       "      <td>20151121</td>\n",
       "      <td>False</td>\n",
       "    </tr>\n",
       "  </tbody>\n",
       "</table>\n",
       "</div>"
      ],
      "text/plain": [
       "                                           msno  payment_method_id  \\\n",
       "0  YyO+tlZtAXYXoZhNr3Vg3+dfVQvrBVGO8j1mfqe4ZHc=                 41   \n",
       "1  AZtu6Wl0gPojrEQYB8Q3vBSmE2wnZ3hi1FbK1rQQ0A4=                 41   \n",
       "2  UkDFI97Qb6+s2LWcijVVv4rMAsORbVDT2wNXF0aVbns=                 41   \n",
       "3  M1C56ijxozNaGD0t2h68PnH2xtx5iO5iR2MVYQB6nBI=                 39   \n",
       "4  yvj6zyBUaqdbUQSrKsrZ+xNDVM62knauSZJzakS9OW4=                 39   \n",
       "\n",
       "   payment_plan_days  plan_list_price  actual_amount_paid  is_auto_renew  \\\n",
       "0                 30              129                 129           True   \n",
       "1                 30              149                 149           True   \n",
       "2                 30              129                 129           True   \n",
       "3                 30              149                 149           True   \n",
       "4                 30              149                 149           True   \n",
       "\n",
       "   transaction_date  membership_expire_date  is_cancel  \n",
       "0          20150930                20151101      False  \n",
       "1          20150930                20151031      False  \n",
       "2          20150930                20160427      False  \n",
       "3          20150930                20151128      False  \n",
       "4          20150930                20151121      False  "
      ]
     },
     "execution_count": 44,
     "metadata": {},
     "output_type": "execute_result"
    }
   ],
   "source": [
    "## Next load in the transactions data\n",
    "transactions_input = pd.read_csv('/home/dissertation/data/transactions.csv',\n",
    "                                 dtype = {'payment_method' : 'category',\n",
    "                                          'payment_plan_days' : np.uint8,\n",
    "                                          'plan_list_price' : np.uint8,\n",
    "                                          'actual_amount_paid': np.uint8,\n",
    "                                          'is_auto_renew' : np.bool,\n",
    "                                          'is_cancel' : np.bool})\n",
    "transactions_input.head()"
   ]
  },
  {
   "cell_type": "code",
   "execution_count": 46,
   "metadata": {},
   "outputs": [
    {
     "data": {
      "text/html": [
       "<div>\n",
       "<style scoped>\n",
       "    .dataframe tbody tr th:only-of-type {\n",
       "        vertical-align: middle;\n",
       "    }\n",
       "\n",
       "    .dataframe tbody tr th {\n",
       "        vertical-align: top;\n",
       "    }\n",
       "\n",
       "    .dataframe thead th {\n",
       "        text-align: right;\n",
       "    }\n",
       "</style>\n",
       "<table border=\"1\" class=\"dataframe\">\n",
       "  <thead>\n",
       "    <tr style=\"text-align: right;\">\n",
       "      <th></th>\n",
       "      <th>msno</th>\n",
       "      <th>payment_method_id</th>\n",
       "      <th>payment_plan_days</th>\n",
       "      <th>plan_list_price</th>\n",
       "      <th>actual_amount_paid</th>\n",
       "      <th>is_auto_renew</th>\n",
       "      <th>transaction_date</th>\n",
       "      <th>membership_expire_date</th>\n",
       "      <th>is_cancel</th>\n",
       "    </tr>\n",
       "  </thead>\n",
       "  <tbody>\n",
       "    <tr>\n",
       "      <th>0</th>\n",
       "      <td>ugx0CjOMzazClkFzU2xasmDZaoIqOUAZPsH1q0teWCg=</td>\n",
       "      <td>38</td>\n",
       "      <td>30</td>\n",
       "      <td>149</td>\n",
       "      <td>149</td>\n",
       "      <td>False</td>\n",
       "      <td>20170228</td>\n",
       "      <td>20170330</td>\n",
       "      <td>False</td>\n",
       "    </tr>\n",
       "    <tr>\n",
       "      <th>1</th>\n",
       "      <td>ugx0CjOMzazClkFzU2xasmDZaoIqOUAZPsH1q0teWCg=</td>\n",
       "      <td>31</td>\n",
       "      <td>0</td>\n",
       "      <td>0</td>\n",
       "      <td>149</td>\n",
       "      <td>True</td>\n",
       "      <td>20150331</td>\n",
       "      <td>20150430</td>\n",
       "      <td>False</td>\n",
       "    </tr>\n",
       "    <tr>\n",
       "      <th>2</th>\n",
       "      <td>ugx0CjOMzazClkFzU2xasmDZaoIqOUAZPsH1q0teWCg=</td>\n",
       "      <td>31</td>\n",
       "      <td>0</td>\n",
       "      <td>0</td>\n",
       "      <td>149</td>\n",
       "      <td>True</td>\n",
       "      <td>20150630</td>\n",
       "      <td>20150731</td>\n",
       "      <td>False</td>\n",
       "    </tr>\n",
       "    <tr>\n",
       "      <th>3</th>\n",
       "      <td>ugx0CjOMzazClkFzU2xasmDZaoIqOUAZPsH1q0teWCg=</td>\n",
       "      <td>31</td>\n",
       "      <td>30</td>\n",
       "      <td>149</td>\n",
       "      <td>149</td>\n",
       "      <td>True</td>\n",
       "      <td>20150902</td>\n",
       "      <td>20150901</td>\n",
       "      <td>True</td>\n",
       "    </tr>\n",
       "    <tr>\n",
       "      <th>4</th>\n",
       "      <td>ugx0CjOMzazClkFzU2xasmDZaoIqOUAZPsH1q0teWCg=</td>\n",
       "      <td>31</td>\n",
       "      <td>0</td>\n",
       "      <td>0</td>\n",
       "      <td>149</td>\n",
       "      <td>True</td>\n",
       "      <td>20150831</td>\n",
       "      <td>20150930</td>\n",
       "      <td>False</td>\n",
       "    </tr>\n",
       "  </tbody>\n",
       "</table>\n",
       "</div>"
      ],
      "text/plain": [
       "                                           msno  payment_method_id  \\\n",
       "0  ugx0CjOMzazClkFzU2xasmDZaoIqOUAZPsH1q0teWCg=                 38   \n",
       "1  ugx0CjOMzazClkFzU2xasmDZaoIqOUAZPsH1q0teWCg=                 31   \n",
       "2  ugx0CjOMzazClkFzU2xasmDZaoIqOUAZPsH1q0teWCg=                 31   \n",
       "3  ugx0CjOMzazClkFzU2xasmDZaoIqOUAZPsH1q0teWCg=                 31   \n",
       "4  ugx0CjOMzazClkFzU2xasmDZaoIqOUAZPsH1q0teWCg=                 31   \n",
       "\n",
       "   payment_plan_days  plan_list_price  actual_amount_paid  is_auto_renew  \\\n",
       "0                 30              149                 149          False   \n",
       "1                  0                0                 149           True   \n",
       "2                  0                0                 149           True   \n",
       "3                 30              149                 149           True   \n",
       "4                  0                0                 149           True   \n",
       "\n",
       "   transaction_date  membership_expire_date  is_cancel  \n",
       "0          20170228                20170330      False  \n",
       "1          20150331                20150430      False  \n",
       "2          20150630                20150731      False  \n",
       "3          20150902                20150901       True  \n",
       "4          20150831                20150930      False  "
      ]
     },
     "execution_count": 46,
     "metadata": {},
     "output_type": "execute_result"
    }
   ],
   "source": [
    "# Reduce the dataset down to the members in the train set only\n",
    "transactions = pd.merge(train_input['msno'], transactions_input, on='msno', how='inner')\n",
    "transactions.head()"
   ]
  },
  {
   "cell_type": "code",
   "execution_count": 118,
   "metadata": {},
   "outputs": [
    {
     "data": {
      "text/plain": [
       "20150101"
      ]
     },
     "execution_count": 118,
     "metadata": {},
     "output_type": "execute_result"
    }
   ],
   "source": [
    "transactions.transaction_date.min()"
   ]
  },
  {
   "cell_type": "code",
   "execution_count": 22,
   "metadata": {},
   "outputs": [
    {
     "data": {
      "text/plain": [
       "20170331"
      ]
     },
     "execution_count": 22,
     "metadata": {},
     "output_type": "execute_result"
    }
   ],
   "source": [
    "transactions.membership_expire_date.max()"
   ]
  },
  {
   "cell_type": "code",
   "execution_count": null,
   "metadata": {},
   "outputs": [],
   "source": []
  },
  {
   "cell_type": "markdown",
   "metadata": {},
   "source": [
    "#### EDA on Transactions"
   ]
  },
  {
   "cell_type": "code",
   "execution_count": 23,
   "metadata": {},
   "outputs": [
    {
     "data": {
      "text/plain": [
       "<matplotlib.axes._subplots.AxesSubplot at 0x7f6fb8342cc0>"
      ]
     },
     "execution_count": 23,
     "metadata": {},
     "output_type": "execute_result"
    },
    {
     "data": {
      "image/png": "[encoded data removed]",
      "text/plain": [
       "<Figure size 432x288 with 1 Axes>"
      ]
     },
     "metadata": {
      "needs_background": "light"
     },
     "output_type": "display_data"
    }
   ],
   "source": [
    "transactions.plan_list_price.value_counts().plot(kind='bar')"
   ]
  },
  {
   "cell_type": "code",
   "execution_count": 24,
   "metadata": {},
   "outputs": [
    {
     "data": {
      "text/html": [
       "<div>\n",
       "<style scoped>\n",
       "    .dataframe tbody tr th:only-of-type {\n",
       "        vertical-align: middle;\n",
       "    }\n",
       "\n",
       "    .dataframe tbody tr th {\n",
       "        vertical-align: top;\n",
       "    }\n",
       "\n",
       "    .dataframe thead th {\n",
       "        text-align: right;\n",
       "    }\n",
       "</style>\n",
       "<table border=\"1\" class=\"dataframe\">\n",
       "  <thead>\n",
       "    <tr style=\"text-align: right;\">\n",
       "      <th></th>\n",
       "      <th>msno</th>\n",
       "      <th>payment_method_id</th>\n",
       "      <th>payment_plan_days</th>\n",
       "      <th>plan_list_price</th>\n",
       "      <th>actual_amount_paid</th>\n",
       "      <th>is_auto_renew</th>\n",
       "      <th>transaction_date</th>\n",
       "      <th>membership_expire_date</th>\n",
       "      <th>is_cancel</th>\n",
       "    </tr>\n",
       "  </thead>\n",
       "  <tbody>\n",
       "    <tr>\n",
       "      <th>count</th>\n",
       "      <td>15123586</td>\n",
       "      <td>15123586.00</td>\n",
       "      <td>15123586.00</td>\n",
       "      <td>15123586.00</td>\n",
       "      <td>15123586.00</td>\n",
       "      <td>15123586</td>\n",
       "      <td>15123586.00</td>\n",
       "      <td>15123586.00</td>\n",
       "      <td>15123586</td>\n",
       "    </tr>\n",
       "    <tr>\n",
       "      <th>unique</th>\n",
       "      <td>968433</td>\n",
       "      <td>nan</td>\n",
       "      <td>nan</td>\n",
       "      <td>nan</td>\n",
       "      <td>nan</td>\n",
       "      <td>2</td>\n",
       "      <td>nan</td>\n",
       "      <td>nan</td>\n",
       "      <td>2</td>\n",
       "    </tr>\n",
       "    <tr>\n",
       "      <th>top</th>\n",
       "      <td>ur5l+RJ9n6L7h96PqgBIOfgFxSM95YzhdrA8xS1NvRQ=</td>\n",
       "      <td>nan</td>\n",
       "      <td>nan</td>\n",
       "      <td>nan</td>\n",
       "      <td>nan</td>\n",
       "      <td>True</td>\n",
       "      <td>nan</td>\n",
       "      <td>nan</td>\n",
       "      <td>False</td>\n",
       "    </tr>\n",
       "    <tr>\n",
       "      <th>freq</th>\n",
       "      <td>64</td>\n",
       "      <td>nan</td>\n",
       "      <td>nan</td>\n",
       "      <td>nan</td>\n",
       "      <td>nan</td>\n",
       "      <td>13935880</td>\n",
       "      <td>nan</td>\n",
       "      <td>nan</td>\n",
       "      <td>14875173</td>\n",
       "    </tr>\n",
       "    <tr>\n",
       "      <th>mean</th>\n",
       "      <td>NaN</td>\n",
       "      <td>39.16</td>\n",
       "      <td>29.45</td>\n",
       "      <td>128.28</td>\n",
       "      <td>132.88</td>\n",
       "      <td>NaN</td>\n",
       "      <td>20158550.60</td>\n",
       "      <td>20159654.62</td>\n",
       "      <td>NaN</td>\n",
       "    </tr>\n",
       "    <tr>\n",
       "      <th>std</th>\n",
       "      <td>NaN</td>\n",
       "      <td>3.34</td>\n",
       "      <td>11.23</td>\n",
       "      <td>36.08</td>\n",
       "      <td>26.98</td>\n",
       "      <td>NaN</td>\n",
       "      <td>6212.03</td>\n",
       "      <td>6881.81</td>\n",
       "      <td>NaN</td>\n",
       "    </tr>\n",
       "    <tr>\n",
       "      <th>min</th>\n",
       "      <td>NaN</td>\n",
       "      <td>2.00</td>\n",
       "      <td>0.00</td>\n",
       "      <td>0.00</td>\n",
       "      <td>0.00</td>\n",
       "      <td>NaN</td>\n",
       "      <td>20150101.00</td>\n",
       "      <td>19700101.00</td>\n",
       "      <td>NaN</td>\n",
       "    </tr>\n",
       "    <tr>\n",
       "      <th>25%</th>\n",
       "      <td>NaN</td>\n",
       "      <td>39.00</td>\n",
       "      <td>30.00</td>\n",
       "      <td>99.00</td>\n",
       "      <td>99.00</td>\n",
       "      <td>NaN</td>\n",
       "      <td>20151028.00</td>\n",
       "      <td>20151205.00</td>\n",
       "      <td>NaN</td>\n",
       "    </tr>\n",
       "    <tr>\n",
       "      <th>50%</th>\n",
       "      <td>NaN</td>\n",
       "      <td>41.00</td>\n",
       "      <td>30.00</td>\n",
       "      <td>149.00</td>\n",
       "      <td>149.00</td>\n",
       "      <td>NaN</td>\n",
       "      <td>20160516.00</td>\n",
       "      <td>20160623.00</td>\n",
       "      <td>NaN</td>\n",
       "    </tr>\n",
       "    <tr>\n",
       "      <th>75%</th>\n",
       "      <td>NaN</td>\n",
       "      <td>41.00</td>\n",
       "      <td>30.00</td>\n",
       "      <td>149.00</td>\n",
       "      <td>149.00</td>\n",
       "      <td>NaN</td>\n",
       "      <td>20161023.00</td>\n",
       "      <td>20161126.00</td>\n",
       "      <td>NaN</td>\n",
       "    </tr>\n",
       "    <tr>\n",
       "      <th>max</th>\n",
       "      <td>NaN</td>\n",
       "      <td>41.00</td>\n",
       "      <td>240.00</td>\n",
       "      <td>252.00</td>\n",
       "      <td>252.00</td>\n",
       "      <td>NaN</td>\n",
       "      <td>20170228.00</td>\n",
       "      <td>20170331.00</td>\n",
       "      <td>NaN</td>\n",
       "    </tr>\n",
       "  </tbody>\n",
       "</table>\n",
       "</div>"
      ],
      "text/plain": [
       "                                                msno  payment_method_id  \\\n",
       "count                                       15123586        15123586.00   \n",
       "unique                                        968433                nan   \n",
       "top     ur5l+RJ9n6L7h96PqgBIOfgFxSM95YzhdrA8xS1NvRQ=                nan   \n",
       "freq                                              64                nan   \n",
       "mean                                             NaN              39.16   \n",
       "std                                              NaN               3.34   \n",
       "min                                              NaN               2.00   \n",
       "25%                                              NaN              39.00   \n",
       "50%                                              NaN              41.00   \n",
       "75%                                              NaN              41.00   \n",
       "max                                              NaN              41.00   \n",
       "\n",
       "        payment_plan_days  plan_list_price  actual_amount_paid is_auto_renew  \\\n",
       "count         15123586.00      15123586.00         15123586.00      15123586   \n",
       "unique                nan              nan                 nan             2   \n",
       "top                   nan              nan                 nan          True   \n",
       "freq                  nan              nan                 nan      13935880   \n",
       "mean                29.45           128.28              132.88           NaN   \n",
       "std                 11.23            36.08               26.98           NaN   \n",
       "min                  0.00             0.00                0.00           NaN   \n",
       "25%                 30.00            99.00               99.00           NaN   \n",
       "50%                 30.00           149.00              149.00           NaN   \n",
       "75%                 30.00           149.00              149.00           NaN   \n",
       "max                240.00           252.00              252.00           NaN   \n",
       "\n",
       "        transaction_date  membership_expire_date is_cancel  \n",
       "count        15123586.00             15123586.00  15123586  \n",
       "unique               nan                     nan         2  \n",
       "top                  nan                     nan     False  \n",
       "freq                 nan                     nan  14875173  \n",
       "mean         20158550.60             20159654.62       NaN  \n",
       "std              6212.03                 6881.81       NaN  \n",
       "min          20150101.00             19700101.00       NaN  \n",
       "25%          20151028.00             20151205.00       NaN  \n",
       "50%          20160516.00             20160623.00       NaN  \n",
       "75%          20161023.00             20161126.00       NaN  \n",
       "max          20170228.00             20170331.00       NaN  "
      ]
     },
     "execution_count": 24,
     "metadata": {},
     "output_type": "execute_result"
    }
   ],
   "source": [
    "transactions.describe(include='all')"
   ]
  },
  {
   "cell_type": "code",
   "execution_count": 25,
   "metadata": {
    "scrolled": false
   },
   "outputs": [
    {
     "data": {
      "text/plain": [
       "(array([1.1193e+05, 1.4000e+01, 6.0000e+00, 0.0000e+00, 8.2170e+03,\n",
       "        0.0000e+00, 3.2320e+03, 0.0000e+00, 5.6970e+03, 1.9300e+02,\n",
       "        0.0000e+00, 0.0000e+00, 1.9170e+03, 5.3000e+01, 0.0000e+00,\n",
       "        0.0000e+00, 5.1000e+01, 0.0000e+00, 2.1100e+02, 4.3466e+06,\n",
       "        6.0000e+01, 0.0000e+00, 0.0000e+00, 2.5293e+05, 0.0000e+00,\n",
       "        9.3317e+05, 3.0770e+03, 0.0000e+00, 1.2900e+02, 8.9085e+06,\n",
       "        0.0000e+00, 0.0000e+00, 1.2870e+03, 0.0000e+00, 6.4900e+02,\n",
       "        5.1524e+05, 0.0000e+00, 3.0720e+03, 4.4200e+02, 0.0000e+00,\n",
       "        0.0000e+00, 4.3000e+01, 0.0000e+00, 3.8270e+03, 6.5030e+03,\n",
       "        0.0000e+00, 1.7000e+02, 0.0000e+00, 3.5500e+02, 1.6050e+04]),\n",
       " array([  0.  ,   5.04,  10.08,  15.12,  20.16,  25.2 ,  30.24,  35.28,\n",
       "         40.32,  45.36,  50.4 ,  55.44,  60.48,  65.52,  70.56,  75.6 ,\n",
       "         80.64,  85.68,  90.72,  95.76, 100.8 , 105.84, 110.88, 115.92,\n",
       "        120.96, 126.  , 131.04, 136.08, 141.12, 146.16, 151.2 , 156.24,\n",
       "        161.28, 166.32, 171.36, 176.4 , 181.44, 186.48, 191.52, 196.56,\n",
       "        201.6 , 206.64, 211.68, 216.72, 221.76, 226.8 , 231.84, 236.88,\n",
       "        241.92, 246.96, 252.  ]),\n",
       " <a list of 50 Patch objects>)"
      ]
     },
     "execution_count": 25,
     "metadata": {},
     "output_type": "execute_result"
    },
    {
     "data": {
      "image/png": "[encoded data removed]",
      "text/plain": [
       "<Figure size 432x288 with 1 Axes>"
      ]
     },
     "metadata": {
      "needs_background": "light"
     },
     "output_type": "display_data"
    }
   ],
   "source": [
    "plt.hist(transactions.actual_amount_paid, bins=50)"
   ]
  },
  {
   "cell_type": "code",
   "execution_count": 47,
   "metadata": {
    "scrolled": true
   },
   "outputs": [
    {
     "data": {
      "image/png": "[encoded data removed]",
      "text/plain": [
       "<Figure size 432x288 with 1 Axes>"
      ]
     },
     "metadata": {
      "needs_background": "light"
     },
     "output_type": "display_data"
    },
    {
     "data": {
      "image/png": "[encoded data removed]",
      "text/plain": [
       "<Figure size 432x288 with 1 Axes>"
      ]
     },
     "metadata": {
      "needs_background": "light"
     },
     "output_type": "display_data"
    },
    {
     "data": {
      "image/png": "[encoded data removed]",
      "text/plain": [
       "<Figure size 432x288 with 1 Axes>"
      ]
     },
     "metadata": {
      "needs_background": "light"
     },
     "output_type": "display_data"
    },
    {
     "data": {
      "image/png": "[encoded data removed]",
      "text/plain": [
       "<Figure size 432x288 with 1 Axes>"
      ]
     },
     "metadata": {
      "needs_background": "light"
     },
     "output_type": "display_data"
    }
   ],
   "source": [
    "for idx, col in enumerate(['payment_method_id','payment_plan_days','is_auto_renew','is_cancel']):\n",
    "    plt.figure()\n",
    "    transactions[col].value_counts(dropna=False, normalize=True).plot(kind='bar', title='Train Set - Normalized Count % ({0})'.format(col))"
   ]
  },
  {
   "cell_type": "code",
   "execution_count": 54,
   "metadata": {},
   "outputs": [
    {
     "data": {
      "text/plain": [
       "array([ 0,  1,  2,  3,  4,  5,  6,  7,  8,  9, 10, 11, 12, 13, 14, 15, 16,\n",
       "       17, 18, 19, 20, 21, 22, 23, 24, 25, 26, 27, 28, 29, 30, 31, 32, 33,\n",
       "       34, 35, 36, 37])"
      ]
     },
     "execution_count": 54,
     "metadata": {},
     "output_type": "execute_result"
    }
   ],
   "source": [
    "np.arange(len(transactions['payment_method_id'].unique()))"
   ]
  },
  {
   "cell_type": "code",
   "execution_count": 64,
   "metadata": {},
   "outputs": [
    {
     "data": {
      "text/plain": [
       "<matplotlib.axes._subplots.AxesSubplot at 0x7fa8fe16de80>"
      ]
     },
     "execution_count": 64,
     "metadata": {},
     "output_type": "execute_result"
    },
    {
     "data": {
      "image/png": "[encoded data removed]",
      "text/plain": [
       "<Figure size 1152x864 with 4 Axes>"
      ]
     },
     "metadata": {
      "needs_background": "light"
     },
     "output_type": "display_data"
    }
   ],
   "source": [
    "fig, axes = plt.subplots(nrows=2, ncols=2, figsize=(16, 12))\n",
    "    \n",
    "transactions['payment_method_id'].value_counts(dropna=False, normalize=True).\\\n",
    "                    plot(kind='bar', \n",
    "                         color=plt.cm.Dark2(np.arange(len(transactions['payment_method_id'].unique()))), \n",
    "                         title='Payment Method - Normalized Count %',\n",
    "                         ax=axes[0,0])\n",
    "transactions['payment_plan_days'].value_counts(dropna=False, normalize=True).\\\n",
    "                    plot(kind='bar', \n",
    "                         color=plt.cm.Dark2(np.arange(len(transactions['payment_plan_days'].unique()))), \n",
    "                         title='Payment Plan Days - Normalized Count %',\n",
    "                         ax=axes[0,1])\n",
    "transactions['is_auto_renew'].value_counts(dropna=False, normalize=True).\\\n",
    "                    plot(kind='bar', \n",
    "                         color=plt.cm.Dark2(np.arange(len(transactions['is_auto_renew'].unique()))), \n",
    "                         title='Is Auto Renew - Normalized Count %',\n",
    "                         ax=axes[1,0])\n",
    "transactions['is_cancel'].value_counts(dropna=False, normalize=True).\\\n",
    "                    plot(kind='bar', \n",
    "                         color=plt.cm.Dark2(np.arange(len(transactions['is_cancel'].unique()))), \n",
    "                         title='Is Cancel - Normalized Count %',\n",
    "                         ax=axes[1,1])"
   ]
  },
  {
   "cell_type": "markdown",
   "metadata": {},
   "source": [
    "#### Notes:\n",
    "    payment_method_id 41 accounts for >50% of all payment types\n",
    "    most members purchase 30 day plans\n",
    "    >85% of customers opt to auto_renew \n",
    "    >90% have not cancelled their subscription"
   ]
  },
  {
   "cell_type": "markdown",
   "metadata": {},
   "source": [
    "### Merging train_input and members"
   ]
  },
  {
   "cell_type": "code",
   "execution_count": 8,
   "metadata": {},
   "outputs": [
    {
     "data": {
      "text/html": [
       "<div>\n",
       "<style scoped>\n",
       "    .dataframe tbody tr th:only-of-type {\n",
       "        vertical-align: middle;\n",
       "    }\n",
       "\n",
       "    .dataframe tbody tr th {\n",
       "        vertical-align: top;\n",
       "    }\n",
       "\n",
       "    .dataframe thead th {\n",
       "        text-align: right;\n",
       "    }\n",
       "</style>\n",
       "<table border=\"1\" class=\"dataframe\">\n",
       "  <thead>\n",
       "    <tr style=\"text-align: right;\">\n",
       "      <th></th>\n",
       "      <th>msno</th>\n",
       "      <th>is_churn</th>\n",
       "      <th>city</th>\n",
       "      <th>bd</th>\n",
       "      <th>gender</th>\n",
       "      <th>registered_via</th>\n",
       "      <th>registration_init_time</th>\n",
       "      <th>registration_init_time_dt</th>\n",
       "    </tr>\n",
       "  </thead>\n",
       "  <tbody>\n",
       "    <tr>\n",
       "      <th>0</th>\n",
       "      <td>ugx0CjOMzazClkFzU2xasmDZaoIqOUAZPsH1q0teWCg=</td>\n",
       "      <td>1</td>\n",
       "      <td>5</td>\n",
       "      <td>28</td>\n",
       "      <td>male</td>\n",
       "      <td>3</td>\n",
       "      <td>20131223</td>\n",
       "      <td>2013-12-23</td>\n",
       "    </tr>\n",
       "    <tr>\n",
       "      <th>1</th>\n",
       "      <td>f/NmvEzHfhINFEYZTR05prUdr+E+3+oewvweYz9cCQE=</td>\n",
       "      <td>1</td>\n",
       "      <td>13</td>\n",
       "      <td>20</td>\n",
       "      <td>male</td>\n",
       "      <td>3</td>\n",
       "      <td>20131223</td>\n",
       "      <td>2013-12-23</td>\n",
       "    </tr>\n",
       "    <tr>\n",
       "      <th>2</th>\n",
       "      <td>zLo9f73nGGT1p21ltZC3ChiRnAVvgibMyazbCxvWPcg=</td>\n",
       "      <td>1</td>\n",
       "      <td>13</td>\n",
       "      <td>18</td>\n",
       "      <td>male</td>\n",
       "      <td>3</td>\n",
       "      <td>20131227</td>\n",
       "      <td>2013-12-27</td>\n",
       "    </tr>\n",
       "    <tr>\n",
       "      <th>3</th>\n",
       "      <td>8iF/+8HY8lJKFrTc7iR9ZYGCG2Ecrogbc2Vy5YhsfhQ=</td>\n",
       "      <td>1</td>\n",
       "      <td>1</td>\n",
       "      <td>0</td>\n",
       "      <td>NaN</td>\n",
       "      <td>7</td>\n",
       "      <td>20140109</td>\n",
       "      <td>2014-01-09</td>\n",
       "    </tr>\n",
       "    <tr>\n",
       "      <th>4</th>\n",
       "      <td>K6fja4+jmoZ5xG6BypqX80Uw/XKpMgrEMdG2edFOxnA=</td>\n",
       "      <td>1</td>\n",
       "      <td>13</td>\n",
       "      <td>35</td>\n",
       "      <td>female</td>\n",
       "      <td>7</td>\n",
       "      <td>20140125</td>\n",
       "      <td>2014-01-25</td>\n",
       "    </tr>\n",
       "  </tbody>\n",
       "</table>\n",
       "</div>"
      ],
      "text/plain": [
       "                                           msno  is_churn city  bd  gender  \\\n",
       "0  ugx0CjOMzazClkFzU2xasmDZaoIqOUAZPsH1q0teWCg=         1    5  28    male   \n",
       "1  f/NmvEzHfhINFEYZTR05prUdr+E+3+oewvweYz9cCQE=         1   13  20    male   \n",
       "2  zLo9f73nGGT1p21ltZC3ChiRnAVvgibMyazbCxvWPcg=         1   13  18    male   \n",
       "3  8iF/+8HY8lJKFrTc7iR9ZYGCG2Ecrogbc2Vy5YhsfhQ=         1    1   0     NaN   \n",
       "4  K6fja4+jmoZ5xG6BypqX80Uw/XKpMgrEMdG2edFOxnA=         1   13  35  female   \n",
       "\n",
       "  registered_via  registration_init_time registration_init_time_dt  \n",
       "0              3                20131223                2013-12-23  \n",
       "1              3                20131223                2013-12-23  \n",
       "2              3                20131227                2013-12-27  \n",
       "3              7                20140109                2014-01-09  \n",
       "4              7                20140125                2014-01-25  "
      ]
     },
     "execution_count": 8,
     "metadata": {},
     "output_type": "execute_result"
    }
   ],
   "source": [
    "merged_input = pd.merge(left=train_input, right=members_input, how='inner', on=['msno'])\n",
    "merged_input.head()"
   ]
  },
  {
   "cell_type": "code",
   "execution_count": 10,
   "metadata": {},
   "outputs": [
    {
     "data": {
      "text/plain": [
       "860967"
      ]
     },
     "execution_count": 10,
     "metadata": {},
     "output_type": "execute_result"
    }
   ],
   "source": [
    "len(merged_input)"
   ]
  },
  {
   "cell_type": "code",
   "execution_count": 11,
   "metadata": {},
   "outputs": [
    {
     "data": {
      "text/plain": [
       "0.09460060606271785"
      ]
     },
     "execution_count": 11,
     "metadata": {},
     "output_type": "execute_result"
    }
   ],
   "source": [
    "np.mean(merged_input.is_churn)"
   ]
  },
  {
   "cell_type": "code",
   "execution_count": 9,
   "metadata": {},
   "outputs": [
    {
     "data": {
      "text/plain": [
       "0    779519\n",
       "1     81448\n",
       "Name: is_churn, dtype: int64"
      ]
     },
     "execution_count": 9,
     "metadata": {},
     "output_type": "execute_result"
    }
   ],
   "source": [
    "merged_input.is_churn.value_counts()"
   ]
  },
  {
   "cell_type": "code",
   "execution_count": 14,
   "metadata": {},
   "outputs": [
    {
     "data": {
      "text/plain": [
       "<matplotlib.axes._subplots.AxesSubplot at 0x7fa9a5c700f0>"
      ]
     },
     "execution_count": 14,
     "metadata": {},
     "output_type": "execute_result"
    },
    {
     "data": {
      "image/png": "[encoded data removed]",
      "text/plain": [
       "<Figure size 432x288 with 1 Axes>"
      ]
     },
     "metadata": {
      "needs_background": "light"
     },
     "output_type": "display_data"
    }
   ],
   "source": [
    "merged_input.is_churn\\\n",
    "        .value_counts(dropna=False, normalize=True)\\\n",
    "        .plot(kind='bar', title='Normalised Churn % (Target)')"
   ]
  },
  {
   "cell_type": "code",
   "execution_count": null,
   "metadata": {},
   "outputs": [],
   "source": []
  },
  {
   "cell_type": "code",
   "execution_count": 29,
   "metadata": {},
   "outputs": [
    {
     "data": {
      "text/html": [
       "<div>\n",
       "<style scoped>\n",
       "    .dataframe tbody tr th:only-of-type {\n",
       "        vertical-align: middle;\n",
       "    }\n",
       "\n",
       "    .dataframe tbody tr th {\n",
       "        vertical-align: top;\n",
       "    }\n",
       "\n",
       "    .dataframe thead th {\n",
       "        text-align: right;\n",
       "    }\n",
       "</style>\n",
       "<table border=\"1\" class=\"dataframe\">\n",
       "  <thead>\n",
       "    <tr style=\"text-align: right;\">\n",
       "      <th></th>\n",
       "      <th>msno</th>\n",
       "      <th>is_churn</th>\n",
       "      <th>city</th>\n",
       "      <th>bd</th>\n",
       "      <th>gender</th>\n",
       "      <th>registered_via</th>\n",
       "      <th>registration_init_time</th>\n",
       "      <th>registration_init_time_dt</th>\n",
       "    </tr>\n",
       "  </thead>\n",
       "  <tbody>\n",
       "    <tr>\n",
       "      <th>count</th>\n",
       "      <td>860967</td>\n",
       "      <td>860967.00</td>\n",
       "      <td>860967</td>\n",
       "      <td>860967.00</td>\n",
       "      <td>388905</td>\n",
       "      <td>860967</td>\n",
       "      <td>860967.00</td>\n",
       "      <td>860967</td>\n",
       "    </tr>\n",
       "    <tr>\n",
       "      <th>unique</th>\n",
       "      <td>860967</td>\n",
       "      <td>nan</td>\n",
       "      <td>21</td>\n",
       "      <td>nan</td>\n",
       "      <td>2</td>\n",
       "      <td>5</td>\n",
       "      <td>nan</td>\n",
       "      <td>4749</td>\n",
       "    </tr>\n",
       "    <tr>\n",
       "      <th>top</th>\n",
       "      <td>/gsGyq0EHmHoe8rPwH7e5hv71z2AMe4/2lEtsIT7D8w=</td>\n",
       "      <td>nan</td>\n",
       "      <td>1</td>\n",
       "      <td>nan</td>\n",
       "      <td>male</td>\n",
       "      <td>7</td>\n",
       "      <td>nan</td>\n",
       "      <td>2015-10-09 00:00:00</td>\n",
       "    </tr>\n",
       "    <tr>\n",
       "      <th>freq</th>\n",
       "      <td>1</td>\n",
       "      <td>nan</td>\n",
       "      <td>442598</td>\n",
       "      <td>nan</td>\n",
       "      <td>204561</td>\n",
       "      <td>462684</td>\n",
       "      <td>nan</td>\n",
       "      <td>1575</td>\n",
       "    </tr>\n",
       "    <tr>\n",
       "      <th>first</th>\n",
       "      <td>NaN</td>\n",
       "      <td>nan</td>\n",
       "      <td>NaN</td>\n",
       "      <td>nan</td>\n",
       "      <td>NaN</td>\n",
       "      <td>NaN</td>\n",
       "      <td>nan</td>\n",
       "      <td>2004-03-26 00:00:00</td>\n",
       "    </tr>\n",
       "    <tr>\n",
       "      <th>last</th>\n",
       "      <td>NaN</td>\n",
       "      <td>nan</td>\n",
       "      <td>NaN</td>\n",
       "      <td>nan</td>\n",
       "      <td>NaN</td>\n",
       "      <td>NaN</td>\n",
       "      <td>nan</td>\n",
       "      <td>2017-04-24 00:00:00</td>\n",
       "    </tr>\n",
       "    <tr>\n",
       "      <th>mean</th>\n",
       "      <td>NaN</td>\n",
       "      <td>0.09</td>\n",
       "      <td>NaN</td>\n",
       "      <td>13.58</td>\n",
       "      <td>NaN</td>\n",
       "      <td>NaN</td>\n",
       "      <td>20132648.96</td>\n",
       "      <td>NaN</td>\n",
       "    </tr>\n",
       "    <tr>\n",
       "      <th>std</th>\n",
       "      <td>NaN</td>\n",
       "      <td>0.29</td>\n",
       "      <td>NaN</td>\n",
       "      <td>20.06</td>\n",
       "      <td>NaN</td>\n",
       "      <td>NaN</td>\n",
       "      <td>30111.74</td>\n",
       "      <td>NaN</td>\n",
       "    </tr>\n",
       "    <tr>\n",
       "      <th>min</th>\n",
       "      <td>NaN</td>\n",
       "      <td>0.00</td>\n",
       "      <td>NaN</td>\n",
       "      <td>-3152.00</td>\n",
       "      <td>NaN</td>\n",
       "      <td>NaN</td>\n",
       "      <td>20040326.00</td>\n",
       "      <td>NaN</td>\n",
       "    </tr>\n",
       "    <tr>\n",
       "      <th>25%</th>\n",
       "      <td>NaN</td>\n",
       "      <td>0.00</td>\n",
       "      <td>NaN</td>\n",
       "      <td>0.00</td>\n",
       "      <td>NaN</td>\n",
       "      <td>NaN</td>\n",
       "      <td>20120214.00</td>\n",
       "      <td>NaN</td>\n",
       "    </tr>\n",
       "    <tr>\n",
       "      <th>50%</th>\n",
       "      <td>NaN</td>\n",
       "      <td>0.00</td>\n",
       "      <td>NaN</td>\n",
       "      <td>0.00</td>\n",
       "      <td>NaN</td>\n",
       "      <td>NaN</td>\n",
       "      <td>20140602.00</td>\n",
       "      <td>NaN</td>\n",
       "    </tr>\n",
       "    <tr>\n",
       "      <th>75%</th>\n",
       "      <td>NaN</td>\n",
       "      <td>0.00</td>\n",
       "      <td>NaN</td>\n",
       "      <td>27.00</td>\n",
       "      <td>NaN</td>\n",
       "      <td>NaN</td>\n",
       "      <td>20160118.00</td>\n",
       "      <td>NaN</td>\n",
       "    </tr>\n",
       "    <tr>\n",
       "      <th>max</th>\n",
       "      <td>NaN</td>\n",
       "      <td>1.00</td>\n",
       "      <td>NaN</td>\n",
       "      <td>2016.00</td>\n",
       "      <td>NaN</td>\n",
       "      <td>NaN</td>\n",
       "      <td>20170424.00</td>\n",
       "      <td>NaN</td>\n",
       "    </tr>\n",
       "  </tbody>\n",
       "</table>\n",
       "</div>"
      ],
      "text/plain": [
       "                                                msno  is_churn    city  \\\n",
       "count                                         860967 860967.00  860967   \n",
       "unique                                        860967       nan      21   \n",
       "top     /gsGyq0EHmHoe8rPwH7e5hv71z2AMe4/2lEtsIT7D8w=       nan       1   \n",
       "freq                                               1       nan  442598   \n",
       "first                                            NaN       nan     NaN   \n",
       "last                                             NaN       nan     NaN   \n",
       "mean                                             NaN      0.09     NaN   \n",
       "std                                              NaN      0.29     NaN   \n",
       "min                                              NaN      0.00     NaN   \n",
       "25%                                              NaN      0.00     NaN   \n",
       "50%                                              NaN      0.00     NaN   \n",
       "75%                                              NaN      0.00     NaN   \n",
       "max                                              NaN      1.00     NaN   \n",
       "\n",
       "              bd  gender registered_via  registration_init_time  \\\n",
       "count  860967.00  388905         860967               860967.00   \n",
       "unique       nan       2              5                     nan   \n",
       "top          nan    male              7                     nan   \n",
       "freq         nan  204561         462684                     nan   \n",
       "first        nan     NaN            NaN                     nan   \n",
       "last         nan     NaN            NaN                     nan   \n",
       "mean       13.58     NaN            NaN             20132648.96   \n",
       "std        20.06     NaN            NaN                30111.74   \n",
       "min     -3152.00     NaN            NaN             20040326.00   \n",
       "25%         0.00     NaN            NaN             20120214.00   \n",
       "50%         0.00     NaN            NaN             20140602.00   \n",
       "75%        27.00     NaN            NaN             20160118.00   \n",
       "max      2016.00     NaN            NaN             20170424.00   \n",
       "\n",
       "       registration_init_time_dt  \n",
       "count                     860967  \n",
       "unique                      4749  \n",
       "top          2015-10-09 00:00:00  \n",
       "freq                        1575  \n",
       "first        2004-03-26 00:00:00  \n",
       "last         2017-04-24 00:00:00  \n",
       "mean                         NaN  \n",
       "std                          NaN  \n",
       "min                          NaN  \n",
       "25%                          NaN  \n",
       "50%                          NaN  \n",
       "75%                          NaN  \n",
       "max                          NaN  "
      ]
     },
     "execution_count": 29,
     "metadata": {},
     "output_type": "execute_result"
    }
   ],
   "source": [
    "merged_input.describe(include='all')"
   ]
  },
  {
   "cell_type": "code",
   "execution_count": 121,
   "metadata": {
    "scrolled": false
   },
   "outputs": [
    {
     "ename": "KeyError",
     "evalue": "'gender'",
     "output_type": "error",
     "traceback": [
      "\u001b[0;31m---------------------------------------------------------------------------\u001b[0m",
      "\u001b[0;31mKeyError\u001b[0m                                  Traceback (most recent call last)",
      "\u001b[0;32m/home/anaconda/envs/py373/lib/python3.7/site-packages/pandas/core/indexes/base.py\u001b[0m in \u001b[0;36mget_loc\u001b[0;34m(self, key, method, tolerance)\u001b[0m\n\u001b[1;32m   2656\u001b[0m             \u001b[0;32mtry\u001b[0m\u001b[0;34m:\u001b[0m\u001b[0;34m\u001b[0m\u001b[0;34m\u001b[0m\u001b[0m\n\u001b[0;32m-> 2657\u001b[0;31m                 \u001b[0;32mreturn\u001b[0m \u001b[0mself\u001b[0m\u001b[0;34m.\u001b[0m\u001b[0m_engine\u001b[0m\u001b[0;34m.\u001b[0m\u001b[0mget_loc\u001b[0m\u001b[0;34m(\u001b[0m\u001b[0mkey\u001b[0m\u001b[0;34m)\u001b[0m\u001b[0;34m\u001b[0m\u001b[0;34m\u001b[0m\u001b[0m\n\u001b[0m\u001b[1;32m   2658\u001b[0m             \u001b[0;32mexcept\u001b[0m \u001b[0mKeyError\u001b[0m\u001b[0;34m:\u001b[0m\u001b[0;34m\u001b[0m\u001b[0;34m\u001b[0m\u001b[0m\n",
      "\u001b[0;32mpandas/_libs/index.pyx\u001b[0m in \u001b[0;36mpandas._libs.index.IndexEngine.get_loc\u001b[0;34m()\u001b[0m\n",
      "\u001b[0;32mpandas/_libs/index.pyx\u001b[0m in \u001b[0;36mpandas._libs.index.IndexEngine.get_loc\u001b[0;34m()\u001b[0m\n",
      "\u001b[0;32mpandas/_libs/hashtable_class_helper.pxi\u001b[0m in \u001b[0;36mpandas._libs.hashtable.PyObjectHashTable.get_item\u001b[0;34m()\u001b[0m\n",
      "\u001b[0;32mpandas/_libs/hashtable_class_helper.pxi\u001b[0m in \u001b[0;36mpandas._libs.hashtable.PyObjectHashTable.get_item\u001b[0;34m()\u001b[0m\n",
      "\u001b[0;31mKeyError\u001b[0m: 'gender'",
      "\nDuring handling of the above exception, another exception occurred:\n",
      "\u001b[0;31mKeyError\u001b[0m                                  Traceback (most recent call last)",
      "\u001b[0;32m<ipython-input-121-6392728a0f71>\u001b[0m in \u001b[0;36m<module>\u001b[0;34m\u001b[0m\n\u001b[0;32m----> 1\u001b[0;31m \u001b[0mmerged_input\u001b[0m\u001b[0;34m[\u001b[0m\u001b[0;34m'gender'\u001b[0m\u001b[0;34m]\u001b[0m \u001b[0;34m=\u001b[0m \u001b[0mmerged_input\u001b[0m\u001b[0;34m[\u001b[0m\u001b[0;34m'gender'\u001b[0m\u001b[0;34m]\u001b[0m\u001b[0;34m.\u001b[0m\u001b[0mastype\u001b[0m\u001b[0;34m(\u001b[0m\u001b[0mstr\u001b[0m\u001b[0;34m)\u001b[0m\u001b[0;34m\u001b[0m\u001b[0;34m\u001b[0m\u001b[0m\n\u001b[0m\u001b[1;32m      2\u001b[0m pd.crosstab(merged_input['gender'].fillna('missing'), \n\u001b[1;32m      3\u001b[0m             merged_input['is_churn'].fillna('missing')).plot(kind='bar', stacked=True)\n\u001b[1;32m      4\u001b[0m pd.crosstab(merged_input['gender'].fillna('missing'), \n\u001b[1;32m      5\u001b[0m             merged_input['is_churn'].fillna('missing'), normalize=True)\n",
      "\u001b[0;32m/home/anaconda/envs/py373/lib/python3.7/site-packages/pandas/core/frame.py\u001b[0m in \u001b[0;36m__getitem__\u001b[0;34m(self, key)\u001b[0m\n\u001b[1;32m   2925\u001b[0m             \u001b[0;32mif\u001b[0m \u001b[0mself\u001b[0m\u001b[0;34m.\u001b[0m\u001b[0mcolumns\u001b[0m\u001b[0;34m.\u001b[0m\u001b[0mnlevels\u001b[0m \u001b[0;34m>\u001b[0m \u001b[0;36m1\u001b[0m\u001b[0;34m:\u001b[0m\u001b[0;34m\u001b[0m\u001b[0;34m\u001b[0m\u001b[0m\n\u001b[1;32m   2926\u001b[0m                 \u001b[0;32mreturn\u001b[0m \u001b[0mself\u001b[0m\u001b[0;34m.\u001b[0m\u001b[0m_getitem_multilevel\u001b[0m\u001b[0;34m(\u001b[0m\u001b[0mkey\u001b[0m\u001b[0;34m)\u001b[0m\u001b[0;34m\u001b[0m\u001b[0;34m\u001b[0m\u001b[0m\n\u001b[0;32m-> 2927\u001b[0;31m             \u001b[0mindexer\u001b[0m \u001b[0;34m=\u001b[0m \u001b[0mself\u001b[0m\u001b[0;34m.\u001b[0m\u001b[0mcolumns\u001b[0m\u001b[0;34m.\u001b[0m\u001b[0mget_loc\u001b[0m\u001b[0;34m(\u001b[0m\u001b[0mkey\u001b[0m\u001b[0;34m)\u001b[0m\u001b[0;34m\u001b[0m\u001b[0;34m\u001b[0m\u001b[0m\n\u001b[0m\u001b[1;32m   2928\u001b[0m             \u001b[0;32mif\u001b[0m \u001b[0mis_integer\u001b[0m\u001b[0;34m(\u001b[0m\u001b[0mindexer\u001b[0m\u001b[0;34m)\u001b[0m\u001b[0;34m:\u001b[0m\u001b[0;34m\u001b[0m\u001b[0;34m\u001b[0m\u001b[0m\n\u001b[1;32m   2929\u001b[0m                 \u001b[0mindexer\u001b[0m \u001b[0;34m=\u001b[0m \u001b[0;34m[\u001b[0m\u001b[0mindexer\u001b[0m\u001b[0;34m]\u001b[0m\u001b[0;34m\u001b[0m\u001b[0;34m\u001b[0m\u001b[0m\n",
      "\u001b[0;32m/home/anaconda/envs/py373/lib/python3.7/site-packages/pandas/core/indexes/base.py\u001b[0m in \u001b[0;36mget_loc\u001b[0;34m(self, key, method, tolerance)\u001b[0m\n\u001b[1;32m   2657\u001b[0m                 \u001b[0;32mreturn\u001b[0m \u001b[0mself\u001b[0m\u001b[0;34m.\u001b[0m\u001b[0m_engine\u001b[0m\u001b[0;34m.\u001b[0m\u001b[0mget_loc\u001b[0m\u001b[0;34m(\u001b[0m\u001b[0mkey\u001b[0m\u001b[0;34m)\u001b[0m\u001b[0;34m\u001b[0m\u001b[0;34m\u001b[0m\u001b[0m\n\u001b[1;32m   2658\u001b[0m             \u001b[0;32mexcept\u001b[0m \u001b[0mKeyError\u001b[0m\u001b[0;34m:\u001b[0m\u001b[0;34m\u001b[0m\u001b[0;34m\u001b[0m\u001b[0m\n\u001b[0;32m-> 2659\u001b[0;31m                 \u001b[0;32mreturn\u001b[0m \u001b[0mself\u001b[0m\u001b[0;34m.\u001b[0m\u001b[0m_engine\u001b[0m\u001b[0;34m.\u001b[0m\u001b[0mget_loc\u001b[0m\u001b[0;34m(\u001b[0m\u001b[0mself\u001b[0m\u001b[0;34m.\u001b[0m\u001b[0m_maybe_cast_indexer\u001b[0m\u001b[0;34m(\u001b[0m\u001b[0mkey\u001b[0m\u001b[0;34m)\u001b[0m\u001b[0;34m)\u001b[0m\u001b[0;34m\u001b[0m\u001b[0;34m\u001b[0m\u001b[0m\n\u001b[0m\u001b[1;32m   2660\u001b[0m         \u001b[0mindexer\u001b[0m \u001b[0;34m=\u001b[0m \u001b[0mself\u001b[0m\u001b[0;34m.\u001b[0m\u001b[0mget_indexer\u001b[0m\u001b[0;34m(\u001b[0m\u001b[0;34m[\u001b[0m\u001b[0mkey\u001b[0m\u001b[0;34m]\u001b[0m\u001b[0;34m,\u001b[0m \u001b[0mmethod\u001b[0m\u001b[0;34m=\u001b[0m\u001b[0mmethod\u001b[0m\u001b[0;34m,\u001b[0m \u001b[0mtolerance\u001b[0m\u001b[0;34m=\u001b[0m\u001b[0mtolerance\u001b[0m\u001b[0;34m)\u001b[0m\u001b[0;34m\u001b[0m\u001b[0;34m\u001b[0m\u001b[0m\n\u001b[1;32m   2661\u001b[0m         \u001b[0;32mif\u001b[0m \u001b[0mindexer\u001b[0m\u001b[0;34m.\u001b[0m\u001b[0mndim\u001b[0m \u001b[0;34m>\u001b[0m \u001b[0;36m1\u001b[0m \u001b[0;32mor\u001b[0m \u001b[0mindexer\u001b[0m\u001b[0;34m.\u001b[0m\u001b[0msize\u001b[0m \u001b[0;34m>\u001b[0m \u001b[0;36m1\u001b[0m\u001b[0;34m:\u001b[0m\u001b[0;34m\u001b[0m\u001b[0;34m\u001b[0m\u001b[0m\n",
      "\u001b[0;32mpandas/_libs/index.pyx\u001b[0m in \u001b[0;36mpandas._libs.index.IndexEngine.get_loc\u001b[0;34m()\u001b[0m\n",
      "\u001b[0;32mpandas/_libs/index.pyx\u001b[0m in \u001b[0;36mpandas._libs.index.IndexEngine.get_loc\u001b[0;34m()\u001b[0m\n",
      "\u001b[0;32mpandas/_libs/hashtable_class_helper.pxi\u001b[0m in \u001b[0;36mpandas._libs.hashtable.PyObjectHashTable.get_item\u001b[0;34m()\u001b[0m\n",
      "\u001b[0;32mpandas/_libs/hashtable_class_helper.pxi\u001b[0m in \u001b[0;36mpandas._libs.hashtable.PyObjectHashTable.get_item\u001b[0;34m()\u001b[0m\n",
      "\u001b[0;31mKeyError\u001b[0m: 'gender'"
     ]
    }
   ],
   "source": [
    "merged_input['gender'] = merged_input['gender'].astype(str)\n",
    "pd.crosstab(merged_input['gender'].fillna('missing'), \n",
    "            merged_input['is_churn'].fillna('missing')).plot(kind='bar', stacked=True)\n",
    "pd.crosstab(merged_input['gender'].fillna('missing'), \n",
    "            merged_input['is_churn'].fillna('missing'), normalize=True)"
   ]
  },
  {
   "cell_type": "code",
   "execution_count": null,
   "metadata": {},
   "outputs": [],
   "source": [
    "fig1, ax1 = plt.subplots()\n",
    "ax1.set_title('Box Plot of Age')\n",
    "ax1.boxplot(merged_input[merged_input.bd.between(0,100)]['bd'])"
   ]
  },
  {
   "cell_type": "code",
   "execution_count": null,
   "metadata": {},
   "outputs": [],
   "source": []
  },
  {
   "cell_type": "code",
   "execution_count": null,
   "metadata": {},
   "outputs": [],
   "source": [
    "transactions.isnull().sum()"
   ]
  },
  {
   "cell_type": "markdown",
   "metadata": {},
   "source": [
    "### Merging Transactions with those members involved in the churn study"
   ]
  },
  {
   "cell_type": "code",
   "execution_count": 122,
   "metadata": {},
   "outputs": [
    {
     "data": {
      "text/plain": [
       "15123586"
      ]
     },
     "execution_count": 122,
     "metadata": {},
     "output_type": "execute_result"
    }
   ],
   "source": [
    "len(transactions)"
   ]
  },
  {
   "cell_type": "code",
   "execution_count": 32,
   "metadata": {},
   "outputs": [],
   "source": [
    "#transactions[transactions.msno == 'ugx0CjOMzazClkFzU2xasmDZaoIqOUAZPsH1q0teWCg=']"
   ]
  },
  {
   "cell_type": "code",
   "execution_count": 33,
   "metadata": {},
   "outputs": [],
   "source": [
    "# %%time\n",
    "# #[transactions_merged.msno == 'ugx0CjOMzazClkFzU2xasmDZaoIqOUAZPsH1q0teWCg=']\\\n",
    "\n",
    "# transactions_merged[transactions_merged.msno == 'ugx0CjOMzazClkFzU2xasmDZaoIqOUAZPsH1q0teWCg=']\\\n",
    "#         .groupby('msno')\\\n",
    "#         .agg({'msno' : {'total_order' : 'count'},\n",
    "#                         'payment_method_id' : {'payment_method_id_mode' : lambda x: x.mode()[0],\n",
    "#                                                'payment_method_id_count' : lambda x: len(np.unique(x))},\n",
    "#                         'payment_plan_days' : {'payment_plan_days_mode' : lambda x: x[x>0].mode()[0],\n",
    "#                                                'payment_plan_days_mean' : 'mean'},\n",
    "#                         'plan_list_price' : {'plan_list_price_mean' : 'mean',\n",
    "#                                              'plan_lifetime_value' : 'sum'},\n",
    "#                         'actual_amount_paid' : {'actual_amount_mean' : 'mean',\n",
    "#                                                 'total_actual_amount' : 'sum'},\n",
    "#                         'is_auto_renew' : {'is_auto_renew_mode' : lambda x : x.mode()[0]},\n",
    "#                         'transaction_date' : {'transaction_date_min' : lambda x: x.min(),\n",
    "#                                               'transaction_date_max' : lambda x: x.max()},\n",
    "#                         'is_cancel' : {'cancel_times' : lambda x : sum(x==1)}\n",
    "#             })"
   ]
  },
  {
   "cell_type": "code",
   "execution_count": 34,
   "metadata": {},
   "outputs": [
    {
     "name": "stderr",
     "output_type": "stream",
     "text": [
      "/home/anaconda/envs/py373/lib/python3.7/site-packages/pandas/core/groupby/generic.py:1315: FutureWarning: using a dict with renaming is deprecated and will be removed in a future version\n",
      "  return super(DataFrameGroupBy, self).aggregate(arg, *args, **kwargs)\n"
     ]
    },
    {
     "name": "stdout",
     "output_type": "stream",
     "text": [
      "CPU times: user 12min 47s, sys: 11.2 s, total: 12min 58s\n",
      "Wall time: 12min 37s\n"
     ]
    }
   ],
   "source": [
    "%%time\n",
    "transactions_summary = \\\n",
    "    transactions\\\n",
    "            .groupby('msno')\\\n",
    "            .agg({'msno' : {'total_order' : 'count'},\n",
    "                            'payment_method_id' : {'payment_method_id_mode' : lambda x: x.mode()[0] if len(x) > 1 else x,\n",
    "                                                   'payment_method_id_count' : lambda x: len(np.unique(x))},\n",
    "                            'payment_plan_days' : {'payment_plan_days_mode' : lambda x: x.mode()[0] if len(x) > 1 else x\n",
    "                                                   ,\n",
    "                                                   'payment_plan_days_mean' : 'mean'},\n",
    "                            'plan_list_price' : {'plan_list_price_mean' : 'mean',\n",
    "                                                 'plan_lifetime_value' : 'sum'},\n",
    "                            'actual_amount_paid' : {'actual_amount_mean' : 'mean',\n",
    "                                                    'total_actual_amount' : 'sum'},\n",
    "                            'is_auto_renew' : {'is_auto_renew_mode' : lambda x : x.mode()[0] if len(x) > 1 else x},\n",
    "                            'transaction_date' : {'transaction_date_min' : lambda x: x.min(),\n",
    "                                                  'transaction_date_max' : lambda x: x.max()},\n",
    "                            'is_cancel' : {'cancel_times' : lambda x : sum(x==1)}\n",
    "                })\n",
    "        \n",
    "transactions_summary.columns = transactions_summary.columns.droplevel(0)\n",
    "transactions_summary.reset_index(inplace=True)"
   ]
  },
  {
   "cell_type": "code",
   "execution_count": 35,
   "metadata": {},
   "outputs": [
    {
     "data": {
      "text/html": [
       "<div>\n",
       "<style scoped>\n",
       "    .dataframe tbody tr th:only-of-type {\n",
       "        vertical-align: middle;\n",
       "    }\n",
       "\n",
       "    .dataframe tbody tr th {\n",
       "        vertical-align: top;\n",
       "    }\n",
       "\n",
       "    .dataframe thead th {\n",
       "        text-align: right;\n",
       "    }\n",
       "</style>\n",
       "<table border=\"1\" class=\"dataframe\">\n",
       "  <thead>\n",
       "    <tr style=\"text-align: right;\">\n",
       "      <th></th>\n",
       "      <th>msno</th>\n",
       "      <th>total_order</th>\n",
       "      <th>payment_method_id_mode</th>\n",
       "      <th>payment_method_id_count</th>\n",
       "      <th>payment_plan_days_mode</th>\n",
       "      <th>payment_plan_days_mean</th>\n",
       "      <th>plan_list_price_mean</th>\n",
       "      <th>plan_lifetime_value</th>\n",
       "      <th>actual_amount_mean</th>\n",
       "      <th>total_actual_amount</th>\n",
       "      <th>is_auto_renew_mode</th>\n",
       "      <th>transaction_date_min</th>\n",
       "      <th>transaction_date_max</th>\n",
       "      <th>cancel_times</th>\n",
       "    </tr>\n",
       "  </thead>\n",
       "  <tbody>\n",
       "    <tr>\n",
       "      <th>0</th>\n",
       "      <td>+++hVY1rZox/33YtvDgmKA2Frg/2qhkz12B9ylCvh8o=</td>\n",
       "      <td>4</td>\n",
       "      <td>41</td>\n",
       "      <td>1</td>\n",
       "      <td>30</td>\n",
       "      <td>30.00</td>\n",
       "      <td>99.00</td>\n",
       "      <td>396.00</td>\n",
       "      <td>99.00</td>\n",
       "      <td>396.00</td>\n",
       "      <td>True</td>\n",
       "      <td>20161116</td>\n",
       "      <td>20170215</td>\n",
       "      <td>0</td>\n",
       "    </tr>\n",
       "    <tr>\n",
       "      <th>1</th>\n",
       "      <td>+++l/EXNMLTijfLBa8p2TUVVVp2aFGSuUI/h7mLmthw=</td>\n",
       "      <td>19</td>\n",
       "      <td>39</td>\n",
       "      <td>1</td>\n",
       "      <td>30</td>\n",
       "      <td>28.58</td>\n",
       "      <td>141.16</td>\n",
       "      <td>2682.00</td>\n",
       "      <td>149.00</td>\n",
       "      <td>2831.00</td>\n",
       "      <td>True</td>\n",
       "      <td>20150131</td>\n",
       "      <td>20170131</td>\n",
       "      <td>0</td>\n",
       "    </tr>\n",
       "    <tr>\n",
       "      <th>2</th>\n",
       "      <td>+++snpr7pmobhLKUgSHTv/mpkqgBT0tQJ0zQj6qKrqc=</td>\n",
       "      <td>26</td>\n",
       "      <td>41</td>\n",
       "      <td>1</td>\n",
       "      <td>30</td>\n",
       "      <td>28.85</td>\n",
       "      <td>143.27</td>\n",
       "      <td>3725.00</td>\n",
       "      <td>149.00</td>\n",
       "      <td>3874.00</td>\n",
       "      <td>True</td>\n",
       "      <td>20150126</td>\n",
       "      <td>20170226</td>\n",
       "      <td>0</td>\n",
       "    </tr>\n",
       "    <tr>\n",
       "      <th>3</th>\n",
       "      <td>++/9R3sX37CjxbY/AaGvbwr3QkwElKBCtSvVzhCBDOk=</td>\n",
       "      <td>12</td>\n",
       "      <td>41</td>\n",
       "      <td>1</td>\n",
       "      <td>30</td>\n",
       "      <td>30.00</td>\n",
       "      <td>149.00</td>\n",
       "      <td>1788.00</td>\n",
       "      <td>149.00</td>\n",
       "      <td>1788.00</td>\n",
       "      <td>True</td>\n",
       "      <td>20160315</td>\n",
       "      <td>20170215</td>\n",
       "      <td>0</td>\n",
       "    </tr>\n",
       "    <tr>\n",
       "      <th>4</th>\n",
       "      <td>++/UDNo9DLrxT8QVGiDi1OnWfczAdEwThaVyD0fXO50=</td>\n",
       "      <td>19</td>\n",
       "      <td>39</td>\n",
       "      <td>1</td>\n",
       "      <td>30</td>\n",
       "      <td>28.58</td>\n",
       "      <td>141.16</td>\n",
       "      <td>2682.00</td>\n",
       "      <td>149.00</td>\n",
       "      <td>2831.00</td>\n",
       "      <td>True</td>\n",
       "      <td>20150131</td>\n",
       "      <td>20170131</td>\n",
       "      <td>0</td>\n",
       "    </tr>\n",
       "  </tbody>\n",
       "</table>\n",
       "</div>"
      ],
      "text/plain": [
       "                                           msno  total_order  \\\n",
       "0  +++hVY1rZox/33YtvDgmKA2Frg/2qhkz12B9ylCvh8o=            4   \n",
       "1  +++l/EXNMLTijfLBa8p2TUVVVp2aFGSuUI/h7mLmthw=           19   \n",
       "2  +++snpr7pmobhLKUgSHTv/mpkqgBT0tQJ0zQj6qKrqc=           26   \n",
       "3  ++/9R3sX37CjxbY/AaGvbwr3QkwElKBCtSvVzhCBDOk=           12   \n",
       "4  ++/UDNo9DLrxT8QVGiDi1OnWfczAdEwThaVyD0fXO50=           19   \n",
       "\n",
       "   payment_method_id_mode  payment_method_id_count  payment_plan_days_mode  \\\n",
       "0                      41                        1                      30   \n",
       "1                      39                        1                      30   \n",
       "2                      41                        1                      30   \n",
       "3                      41                        1                      30   \n",
       "4                      39                        1                      30   \n",
       "\n",
       "   payment_plan_days_mean  plan_list_price_mean  plan_lifetime_value  \\\n",
       "0                   30.00                 99.00               396.00   \n",
       "1                   28.58                141.16              2682.00   \n",
       "2                   28.85                143.27              3725.00   \n",
       "3                   30.00                149.00              1788.00   \n",
       "4                   28.58                141.16              2682.00   \n",
       "\n",
       "   actual_amount_mean  total_actual_amount  is_auto_renew_mode  \\\n",
       "0               99.00               396.00                True   \n",
       "1              149.00              2831.00                True   \n",
       "2              149.00              3874.00                True   \n",
       "3              149.00              1788.00                True   \n",
       "4              149.00              2831.00                True   \n",
       "\n",
       "   transaction_date_min  transaction_date_max  cancel_times  \n",
       "0              20161116              20170215             0  \n",
       "1              20150131              20170131             0  \n",
       "2              20150126              20170226             0  \n",
       "3              20160315              20170215             0  \n",
       "4              20150131              20170131             0  "
      ]
     },
     "execution_count": 35,
     "metadata": {},
     "output_type": "execute_result"
    }
   ],
   "source": [
    "transactions_summary.head()"
   ]
  },
  {
   "cell_type": "code",
   "execution_count": 39,
   "metadata": {},
   "outputs": [
    {
     "data": {
      "text/plain": [
       "968433"
      ]
     },
     "execution_count": 39,
     "metadata": {},
     "output_type": "execute_result"
    }
   ],
   "source": [
    "len(transactions_summary)"
   ]
  },
  {
   "cell_type": "code",
   "execution_count": null,
   "metadata": {},
   "outputs": [],
   "source": []
  },
  {
   "cell_type": "markdown",
   "metadata": {},
   "source": [
    "### What about gender and age\n",
    "\n",
    "#### Can either impute, drop to re-code. "
   ]
  },
  {
   "cell_type": "code",
   "execution_count": null,
   "metadata": {},
   "outputs": [],
   "source": [
    "# FOr this the simple approach will be taken, Gender will be dropped"
   ]
  },
  {
   "cell_type": "code",
   "execution_count": 37,
   "metadata": {},
   "outputs": [
    {
     "data": {
      "text/html": [
       "<div>\n",
       "<style scoped>\n",
       "    .dataframe tbody tr th:only-of-type {\n",
       "        vertical-align: middle;\n",
       "    }\n",
       "\n",
       "    .dataframe tbody tr th {\n",
       "        vertical-align: top;\n",
       "    }\n",
       "\n",
       "    .dataframe thead th {\n",
       "        text-align: right;\n",
       "    }\n",
       "</style>\n",
       "<table border=\"1\" class=\"dataframe\">\n",
       "  <thead>\n",
       "    <tr style=\"text-align: right;\">\n",
       "      <th></th>\n",
       "      <th>msno</th>\n",
       "      <th>is_churn</th>\n",
       "      <th>city</th>\n",
       "      <th>bd</th>\n",
       "      <th>registered_via</th>\n",
       "      <th>registration_init_time</th>\n",
       "      <th>registration_init_time_dt</th>\n",
       "    </tr>\n",
       "  </thead>\n",
       "  <tbody>\n",
       "    <tr>\n",
       "      <th>0</th>\n",
       "      <td>ugx0CjOMzazClkFzU2xasmDZaoIqOUAZPsH1q0teWCg=</td>\n",
       "      <td>1</td>\n",
       "      <td>5</td>\n",
       "      <td>28</td>\n",
       "      <td>3</td>\n",
       "      <td>20131223</td>\n",
       "      <td>2013-12-23</td>\n",
       "    </tr>\n",
       "    <tr>\n",
       "      <th>1</th>\n",
       "      <td>f/NmvEzHfhINFEYZTR05prUdr+E+3+oewvweYz9cCQE=</td>\n",
       "      <td>1</td>\n",
       "      <td>13</td>\n",
       "      <td>20</td>\n",
       "      <td>3</td>\n",
       "      <td>20131223</td>\n",
       "      <td>2013-12-23</td>\n",
       "    </tr>\n",
       "    <tr>\n",
       "      <th>2</th>\n",
       "      <td>zLo9f73nGGT1p21ltZC3ChiRnAVvgibMyazbCxvWPcg=</td>\n",
       "      <td>1</td>\n",
       "      <td>13</td>\n",
       "      <td>18</td>\n",
       "      <td>3</td>\n",
       "      <td>20131227</td>\n",
       "      <td>2013-12-27</td>\n",
       "    </tr>\n",
       "    <tr>\n",
       "      <th>3</th>\n",
       "      <td>8iF/+8HY8lJKFrTc7iR9ZYGCG2Ecrogbc2Vy5YhsfhQ=</td>\n",
       "      <td>1</td>\n",
       "      <td>1</td>\n",
       "      <td>0</td>\n",
       "      <td>7</td>\n",
       "      <td>20140109</td>\n",
       "      <td>2014-01-09</td>\n",
       "    </tr>\n",
       "    <tr>\n",
       "      <th>4</th>\n",
       "      <td>K6fja4+jmoZ5xG6BypqX80Uw/XKpMgrEMdG2edFOxnA=</td>\n",
       "      <td>1</td>\n",
       "      <td>13</td>\n",
       "      <td>35</td>\n",
       "      <td>7</td>\n",
       "      <td>20140125</td>\n",
       "      <td>2014-01-25</td>\n",
       "    </tr>\n",
       "  </tbody>\n",
       "</table>\n",
       "</div>"
      ],
      "text/plain": [
       "                                           msno  is_churn city  bd  \\\n",
       "0  ugx0CjOMzazClkFzU2xasmDZaoIqOUAZPsH1q0teWCg=         1    5  28   \n",
       "1  f/NmvEzHfhINFEYZTR05prUdr+E+3+oewvweYz9cCQE=         1   13  20   \n",
       "2  zLo9f73nGGT1p21ltZC3ChiRnAVvgibMyazbCxvWPcg=         1   13  18   \n",
       "3  8iF/+8HY8lJKFrTc7iR9ZYGCG2Ecrogbc2Vy5YhsfhQ=         1    1   0   \n",
       "4  K6fja4+jmoZ5xG6BypqX80Uw/XKpMgrEMdG2edFOxnA=         1   13  35   \n",
       "\n",
       "  registered_via  registration_init_time registration_init_time_dt  \n",
       "0              3                20131223                2013-12-23  \n",
       "1              3                20131223                2013-12-23  \n",
       "2              3                20131227                2013-12-27  \n",
       "3              7                20140109                2014-01-09  \n",
       "4              7                20140125                2014-01-25  "
      ]
     },
     "execution_count": 37,
     "metadata": {},
     "output_type": "execute_result"
    }
   ],
   "source": [
    "merged_input.drop(['gender'], axis=1, inplace=True)\n",
    "merged_input.head()"
   ]
  },
  {
   "cell_type": "code",
   "execution_count": null,
   "metadata": {},
   "outputs": [],
   "source": []
  },
  {
   "cell_type": "code",
   "execution_count": null,
   "metadata": {},
   "outputs": [],
   "source": [
    "# Age will be restricted to 0 and 90 ... \n",
    "#Removing about 634 records"
   ]
  },
  {
   "cell_type": "code",
   "execution_count": 40,
   "metadata": {},
   "outputs": [
    {
     "name": "stdout",
     "output_type": "stream",
     "text": [
      "Removing all aged not between 0..90 will lose 634 records\n"
     ]
    }
   ],
   "source": [
    "print('Removing all aged not between 0..90 will lose {} records'.format(len(merged_input[~merged_input.bd.between(0,90)])))"
   ]
  },
  {
   "cell_type": "code",
   "execution_count": 41,
   "metadata": {},
   "outputs": [],
   "source": [
    "#Everything below 0 and above 90 is junk\n",
    "merged_input = merged_input[merged_input.bd.between(0,90)]"
   ]
  },
  {
   "cell_type": "code",
   "execution_count": 42,
   "metadata": {},
   "outputs": [
    {
     "data": {
      "text/plain": [
       "473729"
      ]
     },
     "execution_count": 42,
     "metadata": {},
     "output_type": "execute_result"
    }
   ],
   "source": [
    "len(merged_input[merged_input.bd == 0])"
   ]
  },
  {
   "cell_type": "code",
   "execution_count": null,
   "metadata": {
    "scrolled": false
   },
   "outputs": [],
   "source": []
  },
  {
   "cell_type": "markdown",
   "metadata": {},
   "source": [
    "### Whats null now"
   ]
  },
  {
   "cell_type": "code",
   "execution_count": 43,
   "metadata": {},
   "outputs": [
    {
     "data": {
      "text/plain": [
       "msno                         0\n",
       "is_churn                     0\n",
       "city                         0\n",
       "bd                           0\n",
       "registered_via               0\n",
       "registration_init_time       0\n",
       "registration_init_time_dt    0\n",
       "dtype: int64"
      ]
     },
     "execution_count": 43,
     "metadata": {},
     "output_type": "execute_result"
    }
   ],
   "source": [
    "merged_input.isnull().sum()"
   ]
  },
  {
   "cell_type": "code",
   "execution_count": 44,
   "metadata": {},
   "outputs": [
    {
     "data": {
      "text/html": [
       "<div>\n",
       "<style scoped>\n",
       "    .dataframe tbody tr th:only-of-type {\n",
       "        vertical-align: middle;\n",
       "    }\n",
       "\n",
       "    .dataframe tbody tr th {\n",
       "        vertical-align: top;\n",
       "    }\n",
       "\n",
       "    .dataframe thead th {\n",
       "        text-align: right;\n",
       "    }\n",
       "</style>\n",
       "<table border=\"1\" class=\"dataframe\">\n",
       "  <thead>\n",
       "    <tr style=\"text-align: right;\">\n",
       "      <th></th>\n",
       "      <th>msno</th>\n",
       "      <th>is_churn</th>\n",
       "      <th>city</th>\n",
       "      <th>bd</th>\n",
       "      <th>registered_via</th>\n",
       "      <th>registration_init_time</th>\n",
       "      <th>registration_init_time_dt</th>\n",
       "    </tr>\n",
       "  </thead>\n",
       "  <tbody>\n",
       "    <tr>\n",
       "      <th>count</th>\n",
       "      <td>860333</td>\n",
       "      <td>860333.00</td>\n",
       "      <td>860333</td>\n",
       "      <td>860333.00</td>\n",
       "      <td>860333</td>\n",
       "      <td>860333.00</td>\n",
       "      <td>860333</td>\n",
       "    </tr>\n",
       "    <tr>\n",
       "      <th>unique</th>\n",
       "      <td>860333</td>\n",
       "      <td>nan</td>\n",
       "      <td>21</td>\n",
       "      <td>nan</td>\n",
       "      <td>5</td>\n",
       "      <td>nan</td>\n",
       "      <td>4749</td>\n",
       "    </tr>\n",
       "    <tr>\n",
       "      <th>top</th>\n",
       "      <td>/gsGyq0EHmHoe8rPwH7e5hv71z2AMe4/2lEtsIT7D8w=</td>\n",
       "      <td>nan</td>\n",
       "      <td>1</td>\n",
       "      <td>nan</td>\n",
       "      <td>7</td>\n",
       "      <td>nan</td>\n",
       "      <td>2015-10-09 00:00:00</td>\n",
       "    </tr>\n",
       "    <tr>\n",
       "      <th>freq</th>\n",
       "      <td>1</td>\n",
       "      <td>nan</td>\n",
       "      <td>442554</td>\n",
       "      <td>nan</td>\n",
       "      <td>462595</td>\n",
       "      <td>nan</td>\n",
       "      <td>1574</td>\n",
       "    </tr>\n",
       "    <tr>\n",
       "      <th>first</th>\n",
       "      <td>NaN</td>\n",
       "      <td>nan</td>\n",
       "      <td>NaN</td>\n",
       "      <td>nan</td>\n",
       "      <td>NaN</td>\n",
       "      <td>nan</td>\n",
       "      <td>2004-03-26 00:00:00</td>\n",
       "    </tr>\n",
       "    <tr>\n",
       "      <th>last</th>\n",
       "      <td>NaN</td>\n",
       "      <td>nan</td>\n",
       "      <td>NaN</td>\n",
       "      <td>nan</td>\n",
       "      <td>NaN</td>\n",
       "      <td>nan</td>\n",
       "      <td>2017-04-24 00:00:00</td>\n",
       "    </tr>\n",
       "    <tr>\n",
       "      <th>mean</th>\n",
       "      <td>NaN</td>\n",
       "      <td>0.09</td>\n",
       "      <td>NaN</td>\n",
       "      <td>13.43</td>\n",
       "      <td>NaN</td>\n",
       "      <td>20132655.07</td>\n",
       "      <td>NaN</td>\n",
       "    </tr>\n",
       "    <tr>\n",
       "      <th>std</th>\n",
       "      <td>NaN</td>\n",
       "      <td>0.29</td>\n",
       "      <td>NaN</td>\n",
       "      <td>16.01</td>\n",
       "      <td>NaN</td>\n",
       "      <td>30108.85</td>\n",
       "      <td>NaN</td>\n",
       "    </tr>\n",
       "    <tr>\n",
       "      <th>min</th>\n",
       "      <td>NaN</td>\n",
       "      <td>0.00</td>\n",
       "      <td>NaN</td>\n",
       "      <td>0.00</td>\n",
       "      <td>NaN</td>\n",
       "      <td>20040326.00</td>\n",
       "      <td>NaN</td>\n",
       "    </tr>\n",
       "    <tr>\n",
       "      <th>25%</th>\n",
       "      <td>NaN</td>\n",
       "      <td>0.00</td>\n",
       "      <td>NaN</td>\n",
       "      <td>0.00</td>\n",
       "      <td>NaN</td>\n",
       "      <td>20120214.00</td>\n",
       "      <td>NaN</td>\n",
       "    </tr>\n",
       "    <tr>\n",
       "      <th>50%</th>\n",
       "      <td>NaN</td>\n",
       "      <td>0.00</td>\n",
       "      <td>NaN</td>\n",
       "      <td>0.00</td>\n",
       "      <td>NaN</td>\n",
       "      <td>20140602.00</td>\n",
       "      <td>NaN</td>\n",
       "    </tr>\n",
       "    <tr>\n",
       "      <th>75%</th>\n",
       "      <td>NaN</td>\n",
       "      <td>0.00</td>\n",
       "      <td>NaN</td>\n",
       "      <td>27.00</td>\n",
       "      <td>NaN</td>\n",
       "      <td>20160118.00</td>\n",
       "      <td>NaN</td>\n",
       "    </tr>\n",
       "    <tr>\n",
       "      <th>max</th>\n",
       "      <td>NaN</td>\n",
       "      <td>1.00</td>\n",
       "      <td>NaN</td>\n",
       "      <td>90.00</td>\n",
       "      <td>NaN</td>\n",
       "      <td>20170424.00</td>\n",
       "      <td>NaN</td>\n",
       "    </tr>\n",
       "  </tbody>\n",
       "</table>\n",
       "</div>"
      ],
      "text/plain": [
       "                                                msno  is_churn    city  \\\n",
       "count                                         860333 860333.00  860333   \n",
       "unique                                        860333       nan      21   \n",
       "top     /gsGyq0EHmHoe8rPwH7e5hv71z2AMe4/2lEtsIT7D8w=       nan       1   \n",
       "freq                                               1       nan  442554   \n",
       "first                                            NaN       nan     NaN   \n",
       "last                                             NaN       nan     NaN   \n",
       "mean                                             NaN      0.09     NaN   \n",
       "std                                              NaN      0.29     NaN   \n",
       "min                                              NaN      0.00     NaN   \n",
       "25%                                              NaN      0.00     NaN   \n",
       "50%                                              NaN      0.00     NaN   \n",
       "75%                                              NaN      0.00     NaN   \n",
       "max                                              NaN      1.00     NaN   \n",
       "\n",
       "              bd registered_via  registration_init_time  \\\n",
       "count  860333.00         860333               860333.00   \n",
       "unique       nan              5                     nan   \n",
       "top          nan              7                     nan   \n",
       "freq         nan         462595                     nan   \n",
       "first        nan            NaN                     nan   \n",
       "last         nan            NaN                     nan   \n",
       "mean       13.43            NaN             20132655.07   \n",
       "std        16.01            NaN                30108.85   \n",
       "min         0.00            NaN             20040326.00   \n",
       "25%         0.00            NaN             20120214.00   \n",
       "50%         0.00            NaN             20140602.00   \n",
       "75%        27.00            NaN             20160118.00   \n",
       "max        90.00            NaN             20170424.00   \n",
       "\n",
       "       registration_init_time_dt  \n",
       "count                     860333  \n",
       "unique                      4749  \n",
       "top          2015-10-09 00:00:00  \n",
       "freq                        1574  \n",
       "first        2004-03-26 00:00:00  \n",
       "last         2017-04-24 00:00:00  \n",
       "mean                         NaN  \n",
       "std                          NaN  \n",
       "min                          NaN  \n",
       "25%                          NaN  \n",
       "50%                          NaN  \n",
       "75%                          NaN  \n",
       "max                          NaN  "
      ]
     },
     "execution_count": 44,
     "metadata": {},
     "output_type": "execute_result"
    }
   ],
   "source": [
    "merged_input.describe(include='all')"
   ]
  },
  {
   "cell_type": "code",
   "execution_count": null,
   "metadata": {},
   "outputs": [],
   "source": []
  },
  {
   "cell_type": "code",
   "execution_count": 45,
   "metadata": {},
   "outputs": [
    {
     "data": {
      "text/plain": [
       "msno                       0\n",
       "total_order                0\n",
       "payment_method_id_mode     0\n",
       "payment_method_id_count    0\n",
       "payment_plan_days_mode     0\n",
       "payment_plan_days_mean     0\n",
       "plan_list_price_mean       0\n",
       "plan_lifetime_value        0\n",
       "actual_amount_mean         0\n",
       "total_actual_amount        0\n",
       "is_auto_renew_mode         0\n",
       "transaction_date_min       0\n",
       "transaction_date_max       0\n",
       "cancel_times               0\n",
       "dtype: int64"
      ]
     },
     "execution_count": 45,
     "metadata": {},
     "output_type": "execute_result"
    }
   ],
   "source": [
    "transactions_summary.isnull().sum()"
   ]
  },
  {
   "cell_type": "code",
   "execution_count": 46,
   "metadata": {},
   "outputs": [
    {
     "data": {
      "text/html": [
       "<div>\n",
       "<style scoped>\n",
       "    .dataframe tbody tr th:only-of-type {\n",
       "        vertical-align: middle;\n",
       "    }\n",
       "\n",
       "    .dataframe tbody tr th {\n",
       "        vertical-align: top;\n",
       "    }\n",
       "\n",
       "    .dataframe thead th {\n",
       "        text-align: right;\n",
       "    }\n",
       "</style>\n",
       "<table border=\"1\" class=\"dataframe\">\n",
       "  <thead>\n",
       "    <tr style=\"text-align: right;\">\n",
       "      <th></th>\n",
       "      <th>msno</th>\n",
       "      <th>total_order</th>\n",
       "      <th>payment_method_id_mode</th>\n",
       "      <th>payment_method_id_count</th>\n",
       "      <th>payment_plan_days_mode</th>\n",
       "      <th>payment_plan_days_mean</th>\n",
       "      <th>plan_list_price_mean</th>\n",
       "      <th>plan_lifetime_value</th>\n",
       "      <th>actual_amount_mean</th>\n",
       "      <th>total_actual_amount</th>\n",
       "      <th>is_auto_renew_mode</th>\n",
       "      <th>transaction_date_min</th>\n",
       "      <th>transaction_date_max</th>\n",
       "      <th>cancel_times</th>\n",
       "    </tr>\n",
       "  </thead>\n",
       "  <tbody>\n",
       "    <tr>\n",
       "      <th>count</th>\n",
       "      <td>968433</td>\n",
       "      <td>968433.00</td>\n",
       "      <td>968433.00</td>\n",
       "      <td>968433.00</td>\n",
       "      <td>968433.00</td>\n",
       "      <td>968433.00</td>\n",
       "      <td>968433.00</td>\n",
       "      <td>968433.00</td>\n",
       "      <td>968433.00</td>\n",
       "      <td>968433.00</td>\n",
       "      <td>968433</td>\n",
       "      <td>968433.00</td>\n",
       "      <td>968433.00</td>\n",
       "      <td>968433.00</td>\n",
       "    </tr>\n",
       "    <tr>\n",
       "      <th>unique</th>\n",
       "      <td>968433</td>\n",
       "      <td>nan</td>\n",
       "      <td>nan</td>\n",
       "      <td>nan</td>\n",
       "      <td>nan</td>\n",
       "      <td>nan</td>\n",
       "      <td>nan</td>\n",
       "      <td>nan</td>\n",
       "      <td>nan</td>\n",
       "      <td>nan</td>\n",
       "      <td>2</td>\n",
       "      <td>nan</td>\n",
       "      <td>nan</td>\n",
       "      <td>nan</td>\n",
       "    </tr>\n",
       "    <tr>\n",
       "      <th>top</th>\n",
       "      <td>/gsGyq0EHmHoe8rPwH7e5hv71z2AMe4/2lEtsIT7D8w=</td>\n",
       "      <td>nan</td>\n",
       "      <td>nan</td>\n",
       "      <td>nan</td>\n",
       "      <td>nan</td>\n",
       "      <td>nan</td>\n",
       "      <td>nan</td>\n",
       "      <td>nan</td>\n",
       "      <td>nan</td>\n",
       "      <td>nan</td>\n",
       "      <td>True</td>\n",
       "      <td>nan</td>\n",
       "      <td>nan</td>\n",
       "      <td>nan</td>\n",
       "    </tr>\n",
       "    <tr>\n",
       "      <th>freq</th>\n",
       "      <td>1</td>\n",
       "      <td>nan</td>\n",
       "      <td>nan</td>\n",
       "      <td>nan</td>\n",
       "      <td>nan</td>\n",
       "      <td>nan</td>\n",
       "      <td>nan</td>\n",
       "      <td>nan</td>\n",
       "      <td>nan</td>\n",
       "      <td>nan</td>\n",
       "      <td>846605</td>\n",
       "      <td>nan</td>\n",
       "      <td>nan</td>\n",
       "      <td>nan</td>\n",
       "    </tr>\n",
       "    <tr>\n",
       "      <th>mean</th>\n",
       "      <td>NaN</td>\n",
       "      <td>15.62</td>\n",
       "      <td>38.94</td>\n",
       "      <td>1.18</td>\n",
       "      <td>31.85</td>\n",
       "      <td>31.88</td>\n",
       "      <td>127.01</td>\n",
       "      <td>2003.36</td>\n",
       "      <td>129.72</td>\n",
       "      <td>2075.18</td>\n",
       "      <td>NaN</td>\n",
       "      <td>20154902.11</td>\n",
       "      <td>20169892.06</td>\n",
       "      <td>0.26</td>\n",
       "    </tr>\n",
       "    <tr>\n",
       "      <th>std</th>\n",
       "      <td>NaN</td>\n",
       "      <td>8.52</td>\n",
       "      <td>3.66</td>\n",
       "      <td>0.48</td>\n",
       "      <td>16.14</td>\n",
       "      <td>16.90</td>\n",
       "      <td>27.13</td>\n",
       "      <td>1216.60</td>\n",
       "      <td>28.47</td>\n",
       "      <td>1279.80</td>\n",
       "      <td>NaN</td>\n",
       "      <td>6028.26</td>\n",
       "      <td>1749.14</td>\n",
       "      <td>0.56</td>\n",
       "    </tr>\n",
       "    <tr>\n",
       "      <th>min</th>\n",
       "      <td>NaN</td>\n",
       "      <td>1.00</td>\n",
       "      <td>2.00</td>\n",
       "      <td>1.00</td>\n",
       "      <td>0.00</td>\n",
       "      <td>0.00</td>\n",
       "      <td>0.00</td>\n",
       "      <td>0.00</td>\n",
       "      <td>0.00</td>\n",
       "      <td>0.00</td>\n",
       "      <td>NaN</td>\n",
       "      <td>20150101.00</td>\n",
       "      <td>20150102.00</td>\n",
       "      <td>0.00</td>\n",
       "    </tr>\n",
       "    <tr>\n",
       "      <th>25%</th>\n",
       "      <td>NaN</td>\n",
       "      <td>8.00</td>\n",
       "      <td>38.00</td>\n",
       "      <td>1.00</td>\n",
       "      <td>30.00</td>\n",
       "      <td>28.89</td>\n",
       "      <td>99.00</td>\n",
       "      <td>923.00</td>\n",
       "      <td>99.00</td>\n",
       "      <td>900.00</td>\n",
       "      <td>NaN</td>\n",
       "      <td>20150131.00</td>\n",
       "      <td>20170205.00</td>\n",
       "      <td>0.00</td>\n",
       "    </tr>\n",
       "    <tr>\n",
       "      <th>50%</th>\n",
       "      <td>NaN</td>\n",
       "      <td>16.00</td>\n",
       "      <td>41.00</td>\n",
       "      <td>1.00</td>\n",
       "      <td>30.00</td>\n",
       "      <td>30.00</td>\n",
       "      <td>131.76</td>\n",
       "      <td>1788.00</td>\n",
       "      <td>139.07</td>\n",
       "      <td>1788.00</td>\n",
       "      <td>NaN</td>\n",
       "      <td>20150919.00</td>\n",
       "      <td>20170214.00</td>\n",
       "      <td>0.00</td>\n",
       "    </tr>\n",
       "    <tr>\n",
       "      <th>75%</th>\n",
       "      <td>NaN</td>\n",
       "      <td>22.00</td>\n",
       "      <td>41.00</td>\n",
       "      <td>1.00</td>\n",
       "      <td>30.00</td>\n",
       "      <td>30.00</td>\n",
       "      <td>149.00</td>\n",
       "      <td>3030.00</td>\n",
       "      <td>149.00</td>\n",
       "      <td>3278.00</td>\n",
       "      <td>NaN</td>\n",
       "      <td>20160519.00</td>\n",
       "      <td>20170223.00</td>\n",
       "      <td>0.00</td>\n",
       "    </tr>\n",
       "    <tr>\n",
       "      <th>max</th>\n",
       "      <td>NaN</td>\n",
       "      <td>64.00</td>\n",
       "      <td>41.00</td>\n",
       "      <td>8.00</td>\n",
       "      <td>240.00</td>\n",
       "      <td>240.00</td>\n",
       "      <td>252.00</td>\n",
       "      <td>8139.00</td>\n",
       "      <td>252.00</td>\n",
       "      <td>8138.00</td>\n",
       "      <td>NaN</td>\n",
       "      <td>20170228.00</td>\n",
       "      <td>20170228.00</td>\n",
       "      <td>20.00</td>\n",
       "    </tr>\n",
       "  </tbody>\n",
       "</table>\n",
       "</div>"
      ],
      "text/plain": [
       "                                                msno  total_order  \\\n",
       "count                                         968433    968433.00   \n",
       "unique                                        968433          nan   \n",
       "top     /gsGyq0EHmHoe8rPwH7e5hv71z2AMe4/2lEtsIT7D8w=          nan   \n",
       "freq                                               1          nan   \n",
       "mean                                             NaN        15.62   \n",
       "std                                              NaN         8.52   \n",
       "min                                              NaN         1.00   \n",
       "25%                                              NaN         8.00   \n",
       "50%                                              NaN        16.00   \n",
       "75%                                              NaN        22.00   \n",
       "max                                              NaN        64.00   \n",
       "\n",
       "        payment_method_id_mode  payment_method_id_count  \\\n",
       "count                968433.00                968433.00   \n",
       "unique                     nan                      nan   \n",
       "top                        nan                      nan   \n",
       "freq                       nan                      nan   \n",
       "mean                     38.94                     1.18   \n",
       "std                       3.66                     0.48   \n",
       "min                       2.00                     1.00   \n",
       "25%                      38.00                     1.00   \n",
       "50%                      41.00                     1.00   \n",
       "75%                      41.00                     1.00   \n",
       "max                      41.00                     8.00   \n",
       "\n",
       "        payment_plan_days_mode  payment_plan_days_mean  plan_list_price_mean  \\\n",
       "count                968433.00               968433.00             968433.00   \n",
       "unique                     nan                     nan                   nan   \n",
       "top                        nan                     nan                   nan   \n",
       "freq                       nan                     nan                   nan   \n",
       "mean                     31.85                   31.88                127.01   \n",
       "std                      16.14                   16.90                 27.13   \n",
       "min                       0.00                    0.00                  0.00   \n",
       "25%                      30.00                   28.89                 99.00   \n",
       "50%                      30.00                   30.00                131.76   \n",
       "75%                      30.00                   30.00                149.00   \n",
       "max                     240.00                  240.00                252.00   \n",
       "\n",
       "        plan_lifetime_value  actual_amount_mean  total_actual_amount  \\\n",
       "count             968433.00           968433.00            968433.00   \n",
       "unique                  nan                 nan                  nan   \n",
       "top                     nan                 nan                  nan   \n",
       "freq                    nan                 nan                  nan   \n",
       "mean                2003.36              129.72              2075.18   \n",
       "std                 1216.60               28.47              1279.80   \n",
       "min                    0.00                0.00                 0.00   \n",
       "25%                  923.00               99.00               900.00   \n",
       "50%                 1788.00              139.07              1788.00   \n",
       "75%                 3030.00              149.00              3278.00   \n",
       "max                 8139.00              252.00              8138.00   \n",
       "\n",
       "       is_auto_renew_mode  transaction_date_min  transaction_date_max  \\\n",
       "count              968433             968433.00             968433.00   \n",
       "unique                  2                   nan                   nan   \n",
       "top                  True                   nan                   nan   \n",
       "freq               846605                   nan                   nan   \n",
       "mean                  NaN           20154902.11           20169892.06   \n",
       "std                   NaN               6028.26               1749.14   \n",
       "min                   NaN           20150101.00           20150102.00   \n",
       "25%                   NaN           20150131.00           20170205.00   \n",
       "50%                   NaN           20150919.00           20170214.00   \n",
       "75%                   NaN           20160519.00           20170223.00   \n",
       "max                   NaN           20170228.00           20170228.00   \n",
       "\n",
       "        cancel_times  \n",
       "count      968433.00  \n",
       "unique           nan  \n",
       "top              nan  \n",
       "freq             nan  \n",
       "mean            0.26  \n",
       "std             0.56  \n",
       "min             0.00  \n",
       "25%             0.00  \n",
       "50%             0.00  \n",
       "75%             0.00  \n",
       "max            20.00  "
      ]
     },
     "execution_count": 46,
     "metadata": {},
     "output_type": "execute_result"
    }
   ],
   "source": [
    "transactions_summary.describe(include='all')"
   ]
  },
  {
   "cell_type": "code",
   "execution_count": 49,
   "metadata": {},
   "outputs": [
    {
     "data": {
      "text/plain": [
       "968433"
      ]
     },
     "execution_count": 49,
     "metadata": {},
     "output_type": "execute_result"
    }
   ],
   "source": [
    "len(transactions_summary)"
   ]
  },
  {
   "cell_type": "code",
   "execution_count": 47,
   "metadata": {},
   "outputs": [
    {
     "name": "stdout",
     "output_type": "stream",
     "text": [
      "(858301, 20)\n"
     ]
    },
    {
     "data": {
      "text/html": [
       "<div>\n",
       "<style scoped>\n",
       "    .dataframe tbody tr th:only-of-type {\n",
       "        vertical-align: middle;\n",
       "    }\n",
       "\n",
       "    .dataframe tbody tr th {\n",
       "        vertical-align: top;\n",
       "    }\n",
       "\n",
       "    .dataframe thead th {\n",
       "        text-align: right;\n",
       "    }\n",
       "</style>\n",
       "<table border=\"1\" class=\"dataframe\">\n",
       "  <thead>\n",
       "    <tr style=\"text-align: right;\">\n",
       "      <th></th>\n",
       "      <th>msno</th>\n",
       "      <th>is_churn</th>\n",
       "      <th>city</th>\n",
       "      <th>bd</th>\n",
       "      <th>registered_via</th>\n",
       "      <th>registration_init_time</th>\n",
       "      <th>registration_init_time_dt</th>\n",
       "      <th>total_order</th>\n",
       "      <th>payment_method_id_mode</th>\n",
       "      <th>payment_method_id_count</th>\n",
       "      <th>payment_plan_days_mode</th>\n",
       "      <th>payment_plan_days_mean</th>\n",
       "      <th>plan_list_price_mean</th>\n",
       "      <th>plan_lifetime_value</th>\n",
       "      <th>actual_amount_mean</th>\n",
       "      <th>total_actual_amount</th>\n",
       "      <th>is_auto_renew_mode</th>\n",
       "      <th>transaction_date_min</th>\n",
       "      <th>transaction_date_max</th>\n",
       "      <th>cancel_times</th>\n",
       "    </tr>\n",
       "  </thead>\n",
       "  <tbody>\n",
       "    <tr>\n",
       "      <th>0</th>\n",
       "      <td>ugx0CjOMzazClkFzU2xasmDZaoIqOUAZPsH1q0teWCg=</td>\n",
       "      <td>1</td>\n",
       "      <td>5</td>\n",
       "      <td>28</td>\n",
       "      <td>3</td>\n",
       "      <td>20131223</td>\n",
       "      <td>2013-12-23</td>\n",
       "      <td>6</td>\n",
       "      <td>31</td>\n",
       "      <td>2</td>\n",
       "      <td>0</td>\n",
       "      <td>10.00</td>\n",
       "      <td>49.67</td>\n",
       "      <td>298.00</td>\n",
       "      <td>149.00</td>\n",
       "      <td>894.00</td>\n",
       "      <td>True</td>\n",
       "      <td>20150331</td>\n",
       "      <td>20170228</td>\n",
       "      <td>1</td>\n",
       "    </tr>\n",
       "    <tr>\n",
       "      <th>1</th>\n",
       "      <td>f/NmvEzHfhINFEYZTR05prUdr+E+3+oewvweYz9cCQE=</td>\n",
       "      <td>1</td>\n",
       "      <td>13</td>\n",
       "      <td>20</td>\n",
       "      <td>3</td>\n",
       "      <td>20131223</td>\n",
       "      <td>2013-12-23</td>\n",
       "      <td>5</td>\n",
       "      <td>38</td>\n",
       "      <td>3</td>\n",
       "      <td>30</td>\n",
       "      <td>25.40</td>\n",
       "      <td>125.40</td>\n",
       "      <td>627.00</td>\n",
       "      <td>125.40</td>\n",
       "      <td>627.00</td>\n",
       "      <td>False</td>\n",
       "      <td>20160303</td>\n",
       "      <td>20170210</td>\n",
       "      <td>0</td>\n",
       "    </tr>\n",
       "    <tr>\n",
       "      <th>2</th>\n",
       "      <td>zLo9f73nGGT1p21ltZC3ChiRnAVvgibMyazbCxvWPcg=</td>\n",
       "      <td>1</td>\n",
       "      <td>13</td>\n",
       "      <td>18</td>\n",
       "      <td>3</td>\n",
       "      <td>20131227</td>\n",
       "      <td>2013-12-27</td>\n",
       "      <td>18</td>\n",
       "      <td>38</td>\n",
       "      <td>1</td>\n",
       "      <td>30</td>\n",
       "      <td>30.00</td>\n",
       "      <td>149.00</td>\n",
       "      <td>2682.00</td>\n",
       "      <td>149.00</td>\n",
       "      <td>2682.00</td>\n",
       "      <td>False</td>\n",
       "      <td>20150819</td>\n",
       "      <td>20170130</td>\n",
       "      <td>0</td>\n",
       "    </tr>\n",
       "    <tr>\n",
       "      <th>3</th>\n",
       "      <td>8iF/+8HY8lJKFrTc7iR9ZYGCG2Ecrogbc2Vy5YhsfhQ=</td>\n",
       "      <td>1</td>\n",
       "      <td>1</td>\n",
       "      <td>0</td>\n",
       "      <td>7</td>\n",
       "      <td>20140109</td>\n",
       "      <td>2014-01-09</td>\n",
       "      <td>19</td>\n",
       "      <td>41</td>\n",
       "      <td>2</td>\n",
       "      <td>30</td>\n",
       "      <td>25.63</td>\n",
       "      <td>125.47</td>\n",
       "      <td>2384.00</td>\n",
       "      <td>141.16</td>\n",
       "      <td>2682.00</td>\n",
       "      <td>True</td>\n",
       "      <td>20150108</td>\n",
       "      <td>20160225</td>\n",
       "      <td>3</td>\n",
       "    </tr>\n",
       "    <tr>\n",
       "      <th>4</th>\n",
       "      <td>K6fja4+jmoZ5xG6BypqX80Uw/XKpMgrEMdG2edFOxnA=</td>\n",
       "      <td>1</td>\n",
       "      <td>13</td>\n",
       "      <td>35</td>\n",
       "      <td>7</td>\n",
       "      <td>20140125</td>\n",
       "      <td>2014-01-25</td>\n",
       "      <td>24</td>\n",
       "      <td>41</td>\n",
       "      <td>1</td>\n",
       "      <td>30</td>\n",
       "      <td>26.25</td>\n",
       "      <td>105.38</td>\n",
       "      <td>2529.00</td>\n",
       "      <td>123.17</td>\n",
       "      <td>2956.00</td>\n",
       "      <td>True</td>\n",
       "      <td>20150124</td>\n",
       "      <td>20160901</td>\n",
       "      <td>2</td>\n",
       "    </tr>\n",
       "  </tbody>\n",
       "</table>\n",
       "</div>"
      ],
      "text/plain": [
       "                                           msno  is_churn city  bd  \\\n",
       "0  ugx0CjOMzazClkFzU2xasmDZaoIqOUAZPsH1q0teWCg=         1    5  28   \n",
       "1  f/NmvEzHfhINFEYZTR05prUdr+E+3+oewvweYz9cCQE=         1   13  20   \n",
       "2  zLo9f73nGGT1p21ltZC3ChiRnAVvgibMyazbCxvWPcg=         1   13  18   \n",
       "3  8iF/+8HY8lJKFrTc7iR9ZYGCG2Ecrogbc2Vy5YhsfhQ=         1    1   0   \n",
       "4  K6fja4+jmoZ5xG6BypqX80Uw/XKpMgrEMdG2edFOxnA=         1   13  35   \n",
       "\n",
       "  registered_via  registration_init_time registration_init_time_dt  \\\n",
       "0              3                20131223                2013-12-23   \n",
       "1              3                20131223                2013-12-23   \n",
       "2              3                20131227                2013-12-27   \n",
       "3              7                20140109                2014-01-09   \n",
       "4              7                20140125                2014-01-25   \n",
       "\n",
       "   total_order  payment_method_id_mode  payment_method_id_count  \\\n",
       "0            6                      31                        2   \n",
       "1            5                      38                        3   \n",
       "2           18                      38                        1   \n",
       "3           19                      41                        2   \n",
       "4           24                      41                        1   \n",
       "\n",
       "   payment_plan_days_mode  payment_plan_days_mean  plan_list_price_mean  \\\n",
       "0                       0                   10.00                 49.67   \n",
       "1                      30                   25.40                125.40   \n",
       "2                      30                   30.00                149.00   \n",
       "3                      30                   25.63                125.47   \n",
       "4                      30                   26.25                105.38   \n",
       "\n",
       "   plan_lifetime_value  actual_amount_mean  total_actual_amount  \\\n",
       "0               298.00              149.00               894.00   \n",
       "1               627.00              125.40               627.00   \n",
       "2              2682.00              149.00              2682.00   \n",
       "3              2384.00              141.16              2682.00   \n",
       "4              2529.00              123.17              2956.00   \n",
       "\n",
       "   is_auto_renew_mode  transaction_date_min  transaction_date_max  \\\n",
       "0                True              20150331              20170228   \n",
       "1               False              20160303              20170210   \n",
       "2               False              20150819              20170130   \n",
       "3                True              20150108              20160225   \n",
       "4                True              20150124              20160901   \n",
       "\n",
       "   cancel_times  \n",
       "0             1  \n",
       "1             0  \n",
       "2             0  \n",
       "3             3  \n",
       "4             2  "
      ]
     },
     "execution_count": 47,
     "metadata": {},
     "output_type": "execute_result"
    }
   ],
   "source": [
    "base_abt = pd.merge(left = merged_input,\n",
    "                    right = transactions_summary,\n",
    "                    how = 'inner',\n",
    "                    on='msno')\n",
    "\n",
    "print(base_abt.shape)\n",
    "base_abt.head()"
   ]
  },
  {
   "cell_type": "code",
   "execution_count": 50,
   "metadata": {},
   "outputs": [
    {
     "data": {
      "text/plain": [
       "msno                                 object\n",
       "is_churn                              int64\n",
       "city                                 object\n",
       "bd                                    int64\n",
       "registered_via                       object\n",
       "registration_init_time                int64\n",
       "registration_init_time_dt    datetime64[ns]\n",
       "total_order                           int64\n",
       "payment_method_id_mode                int64\n",
       "payment_method_id_count               int64\n",
       "payment_plan_days_mode                uint8\n",
       "payment_plan_days_mean              float64\n",
       "plan_list_price_mean                float64\n",
       "plan_lifetime_value                 float64\n",
       "actual_amount_mean                  float64\n",
       "total_actual_amount                 float64\n",
       "is_auto_renew_mode                     bool\n",
       "transaction_date_min                  int64\n",
       "transaction_date_max                  int64\n",
       "cancel_times                          int64\n",
       "dtype: object"
      ]
     },
     "execution_count": 50,
     "metadata": {},
     "output_type": "execute_result"
    }
   ],
   "source": [
    "base_abt.dtypes"
   ]
  },
  {
   "cell_type": "code",
   "execution_count": 53,
   "metadata": {},
   "outputs": [
    {
     "data": {
      "text/plain": [
       "<matplotlib.axes._subplots.AxesSubplot at 0x7f6fb9a678d0>"
      ]
     },
     "execution_count": 53,
     "metadata": {},
     "output_type": "execute_result"
    },
    {
     "data": {
      "image/png": "[encoded data removed]",
      "text/plain": [
       "<Figure size 432x288 with 1 Axes>"
      ]
     },
     "metadata": {
      "needs_background": "light"
     },
     "output_type": "display_data"
    }
   ],
   "source": [
    "base_abt.is_churn.value_counts().plot(kind='bar')"
   ]
  },
  {
   "cell_type": "code",
   "execution_count": 54,
   "metadata": {},
   "outputs": [
    {
     "data": {
      "text/plain": [
       "<matplotlib.axes._subplots.AxesSubplot at 0x7f6fb9a2c278>"
      ]
     },
     "execution_count": 54,
     "metadata": {},
     "output_type": "execute_result"
    },
    {
     "data": {
      "image/png": "[encoded data removed]",
      "text/plain": [
       "<Figure size 720x720 with 2 Axes>"
      ]
     },
     "metadata": {
      "needs_background": "light"
     },
     "output_type": "display_data"
    }
   ],
   "source": [
    "import seaborn as sns\n",
    "\n",
    "# calculate the correlation matrix using spearman as some of the distributions are not normal.\n",
    "df_corr = base_abt[['bd', 'total_order', 'payment_method_id_count', 'payment_plan_days_mode', 'payment_plan_days_mean', \\\n",
    "                    'plan_list_price_mean', 'plan_lifetime_value', 'actual_amount_mean', 'total_actual_amount', \\\n",
    "                    'transaction_date_min', 'transaction_date_max', 'cancel_times']]\\\n",
    "                .corr('spearman')\n",
    "\n",
    "fig, ax = plt.subplots(figsize=(10,10)) \n",
    "sns.heatmap(df_corr, xticklabels=df_corr.columns, yticklabels=df_corr.columns, annot=True)"
   ]
  },
  {
   "cell_type": "markdown",
   "metadata": {},
   "source": [
    "    total_actual_amount and plan_lifetime_value are near perfectly correlated. \n",
    "    transaction_date_min is highly correlated with a number of variables also\n",
    "    actual_amount_mean is highly correlated with plan_list_price_mean"
   ]
  },
  {
   "cell_type": "code",
   "execution_count": 55,
   "metadata": {},
   "outputs": [
    {
     "data": {
      "text/plain": [
       "<matplotlib.axes._subplots.AxesSubplot at 0x7f6fb99da898>"
      ]
     },
     "execution_count": 55,
     "metadata": {},
     "output_type": "execute_result"
    },
    {
     "data": {
      "image/png": "[encoded data removed]",
      "text/plain": [
       "<Figure size 720x720 with 2 Axes>"
      ]
     },
     "metadata": {
      "needs_background": "light"
     },
     "output_type": "display_data"
    }
   ],
   "source": [
    "# calculate the correlation matrix using spearman as some of the distributions are not normal.\n",
    "df_corr = base_abt[['bd', 'total_order', 'payment_method_id_count', 'payment_plan_days_mode', 'payment_plan_days_mean', \\\n",
    "                    'plan_list_price_mean', 'plan_lifetime_value', \\\n",
    "                    'transaction_date_max', 'cancel_times']]\\\n",
    "                .corr('spearman')\n",
    "\n",
    "fig, ax = plt.subplots(figsize=(10,10)) \n",
    "sns.heatmap(df_corr, xticklabels=df_corr.columns, yticklabels=df_corr.columns, annot=True)"
   ]
  },
  {
   "cell_type": "code",
   "execution_count": 56,
   "metadata": {},
   "outputs": [
    {
     "data": {
      "text/html": [
       "<div>\n",
       "<style scoped>\n",
       "    .dataframe tbody tr th:only-of-type {\n",
       "        vertical-align: middle;\n",
       "    }\n",
       "\n",
       "    .dataframe tbody tr th {\n",
       "        vertical-align: top;\n",
       "    }\n",
       "\n",
       "    .dataframe thead th {\n",
       "        text-align: right;\n",
       "    }\n",
       "</style>\n",
       "<table border=\"1\" class=\"dataframe\">\n",
       "  <thead>\n",
       "    <tr style=\"text-align: right;\">\n",
       "      <th></th>\n",
       "      <th>msno</th>\n",
       "      <th>is_churn</th>\n",
       "      <th>city</th>\n",
       "      <th>bd</th>\n",
       "      <th>registered_via</th>\n",
       "      <th>registration_init_time</th>\n",
       "      <th>registration_init_time_dt</th>\n",
       "      <th>total_order</th>\n",
       "      <th>payment_method_id_mode</th>\n",
       "      <th>payment_method_id_count</th>\n",
       "      <th>payment_plan_days_mode</th>\n",
       "      <th>payment_plan_days_mean</th>\n",
       "      <th>plan_list_price_mean</th>\n",
       "      <th>plan_lifetime_value</th>\n",
       "      <th>is_auto_renew_mode</th>\n",
       "      <th>transaction_date_max</th>\n",
       "      <th>cancel_times</th>\n",
       "    </tr>\n",
       "  </thead>\n",
       "  <tbody>\n",
       "    <tr>\n",
       "      <th>0</th>\n",
       "      <td>ugx0CjOMzazClkFzU2xasmDZaoIqOUAZPsH1q0teWCg=</td>\n",
       "      <td>1</td>\n",
       "      <td>5</td>\n",
       "      <td>28</td>\n",
       "      <td>3</td>\n",
       "      <td>20131223</td>\n",
       "      <td>2013-12-23</td>\n",
       "      <td>6</td>\n",
       "      <td>31</td>\n",
       "      <td>2</td>\n",
       "      <td>0</td>\n",
       "      <td>10.00</td>\n",
       "      <td>49.67</td>\n",
       "      <td>298.00</td>\n",
       "      <td>True</td>\n",
       "      <td>20170228</td>\n",
       "      <td>1</td>\n",
       "    </tr>\n",
       "    <tr>\n",
       "      <th>1</th>\n",
       "      <td>f/NmvEzHfhINFEYZTR05prUdr+E+3+oewvweYz9cCQE=</td>\n",
       "      <td>1</td>\n",
       "      <td>13</td>\n",
       "      <td>20</td>\n",
       "      <td>3</td>\n",
       "      <td>20131223</td>\n",
       "      <td>2013-12-23</td>\n",
       "      <td>5</td>\n",
       "      <td>38</td>\n",
       "      <td>3</td>\n",
       "      <td>30</td>\n",
       "      <td>25.40</td>\n",
       "      <td>125.40</td>\n",
       "      <td>627.00</td>\n",
       "      <td>False</td>\n",
       "      <td>20170210</td>\n",
       "      <td>0</td>\n",
       "    </tr>\n",
       "    <tr>\n",
       "      <th>2</th>\n",
       "      <td>zLo9f73nGGT1p21ltZC3ChiRnAVvgibMyazbCxvWPcg=</td>\n",
       "      <td>1</td>\n",
       "      <td>13</td>\n",
       "      <td>18</td>\n",
       "      <td>3</td>\n",
       "      <td>20131227</td>\n",
       "      <td>2013-12-27</td>\n",
       "      <td>18</td>\n",
       "      <td>38</td>\n",
       "      <td>1</td>\n",
       "      <td>30</td>\n",
       "      <td>30.00</td>\n",
       "      <td>149.00</td>\n",
       "      <td>2682.00</td>\n",
       "      <td>False</td>\n",
       "      <td>20170130</td>\n",
       "      <td>0</td>\n",
       "    </tr>\n",
       "    <tr>\n",
       "      <th>3</th>\n",
       "      <td>8iF/+8HY8lJKFrTc7iR9ZYGCG2Ecrogbc2Vy5YhsfhQ=</td>\n",
       "      <td>1</td>\n",
       "      <td>1</td>\n",
       "      <td>0</td>\n",
       "      <td>7</td>\n",
       "      <td>20140109</td>\n",
       "      <td>2014-01-09</td>\n",
       "      <td>19</td>\n",
       "      <td>41</td>\n",
       "      <td>2</td>\n",
       "      <td>30</td>\n",
       "      <td>25.63</td>\n",
       "      <td>125.47</td>\n",
       "      <td>2384.00</td>\n",
       "      <td>True</td>\n",
       "      <td>20160225</td>\n",
       "      <td>3</td>\n",
       "    </tr>\n",
       "    <tr>\n",
       "      <th>4</th>\n",
       "      <td>K6fja4+jmoZ5xG6BypqX80Uw/XKpMgrEMdG2edFOxnA=</td>\n",
       "      <td>1</td>\n",
       "      <td>13</td>\n",
       "      <td>35</td>\n",
       "      <td>7</td>\n",
       "      <td>20140125</td>\n",
       "      <td>2014-01-25</td>\n",
       "      <td>24</td>\n",
       "      <td>41</td>\n",
       "      <td>1</td>\n",
       "      <td>30</td>\n",
       "      <td>26.25</td>\n",
       "      <td>105.38</td>\n",
       "      <td>2529.00</td>\n",
       "      <td>True</td>\n",
       "      <td>20160901</td>\n",
       "      <td>2</td>\n",
       "    </tr>\n",
       "  </tbody>\n",
       "</table>\n",
       "</div>"
      ],
      "text/plain": [
       "                                           msno  is_churn city  bd  \\\n",
       "0  ugx0CjOMzazClkFzU2xasmDZaoIqOUAZPsH1q0teWCg=         1    5  28   \n",
       "1  f/NmvEzHfhINFEYZTR05prUdr+E+3+oewvweYz9cCQE=         1   13  20   \n",
       "2  zLo9f73nGGT1p21ltZC3ChiRnAVvgibMyazbCxvWPcg=         1   13  18   \n",
       "3  8iF/+8HY8lJKFrTc7iR9ZYGCG2Ecrogbc2Vy5YhsfhQ=         1    1   0   \n",
       "4  K6fja4+jmoZ5xG6BypqX80Uw/XKpMgrEMdG2edFOxnA=         1   13  35   \n",
       "\n",
       "  registered_via  registration_init_time registration_init_time_dt  \\\n",
       "0              3                20131223                2013-12-23   \n",
       "1              3                20131223                2013-12-23   \n",
       "2              3                20131227                2013-12-27   \n",
       "3              7                20140109                2014-01-09   \n",
       "4              7                20140125                2014-01-25   \n",
       "\n",
       "   total_order  payment_method_id_mode  payment_method_id_count  \\\n",
       "0            6                      31                        2   \n",
       "1            5                      38                        3   \n",
       "2           18                      38                        1   \n",
       "3           19                      41                        2   \n",
       "4           24                      41                        1   \n",
       "\n",
       "   payment_plan_days_mode  payment_plan_days_mean  plan_list_price_mean  \\\n",
       "0                       0                   10.00                 49.67   \n",
       "1                      30                   25.40                125.40   \n",
       "2                      30                   30.00                149.00   \n",
       "3                      30                   25.63                125.47   \n",
       "4                      30                   26.25                105.38   \n",
       "\n",
       "   plan_lifetime_value  is_auto_renew_mode  transaction_date_max  cancel_times  \n",
       "0               298.00                True              20170228             1  \n",
       "1               627.00               False              20170210             0  \n",
       "2              2682.00               False              20170130             0  \n",
       "3              2384.00                True              20160225             3  \n",
       "4              2529.00                True              20160901             2  "
      ]
     },
     "execution_count": 56,
     "metadata": {},
     "output_type": "execute_result"
    }
   ],
   "source": [
    "data_prepared = base_abt.drop(['total_actual_amount', 'transaction_date_min', 'actual_amount_mean'], axis=1)\n",
    "data_prepared.head()"
   ]
  },
  {
   "cell_type": "code",
   "execution_count": null,
   "metadata": {},
   "outputs": [],
   "source": []
  },
  {
   "cell_type": "code",
   "execution_count": 104,
   "metadata": {},
   "outputs": [],
   "source": [
    "## These are not used \n",
    "data_prepared = data_prepared[~data_prepared.payment_method_id_mode.isin([2,3,4])]"
   ]
  },
  {
   "cell_type": "markdown",
   "metadata": {},
   "source": [
    "### Split the data to test and train"
   ]
  },
  {
   "cell_type": "code",
   "execution_count": 115,
   "metadata": {},
   "outputs": [
    {
     "name": "stdout",
     "output_type": "stream",
     "text": [
      "X_train:  (600803, 16) (600803,)\n",
      "X_test:  (257487, 16) (257487,)\n"
     ]
    }
   ],
   "source": [
    "df = data_prepared.copy()\n",
    "target_index = df.columns.get_loc(\"is_churn\")\n",
    "split_ratio = 0.7\n",
    "r_state = 42\n",
    "\n",
    "## Finally generate the train-test splits\n",
    "X_train, X_test, y_train, y_test = train_test_split(df.drop(['is_churn'], axis=1), \n",
    "                                                    df.iloc[:, target_index],\n",
    "                                                    train_size = split_ratio, \n",
    "                                                    stratify = df.iloc[:,target_index],\n",
    "                                                    random_state = r_state)\n",
    "\n",
    "print(\"X_train: \", X_train.shape, y_train.shape)\n",
    "print(\"X_test: \", X_test.shape, y_test.shape)"
   ]
  },
  {
   "cell_type": "code",
   "execution_count": 116,
   "metadata": {},
   "outputs": [],
   "source": [
    "store = pd.HDFStore('/home/dissertation/data/base_abt_split.h5')\n",
    "store['X_train'] = X_train   # write to HDF5\n",
    "store['X_test'] = X_test   # write to HDF5\n",
    "store['y_train'] = y_train   # write to HDF5\n",
    "store['y_test'] = y_test   # write to HDF5\n",
    "store.close()"
   ]
  },
  {
   "cell_type": "code",
   "execution_count": null,
   "metadata": {},
   "outputs": [],
   "source": []
  },
  {
   "cell_type": "code",
   "execution_count": 2,
   "metadata": {},
   "outputs": [],
   "source": [
    "store = pd.HDFStore('/home/dissertation/data/base_abt_split.h5')\n",
    "X_train, X_test, y_train, y_test = store['X_train'], store['X_test'], store['y_train'], store['y_test']\n",
    "store.close()"
   ]
  },
  {
   "cell_type": "code",
   "execution_count": 8,
   "metadata": {},
   "outputs": [],
   "source": [
    "from imblearn.under_sampling import RandomUnderSampler\n",
    "\n",
    "sampler = RandomUnderSampler(random_state=42)"
   ]
  },
  {
   "cell_type": "code",
   "execution_count": null,
   "metadata": {},
   "outputs": [],
   "source": [
    "print(\"PRE-SAMPLING:\", X_train.shape, y_train.shape, Counter(y_train))\n",
    "## This will fit the provided sampling approach to the training data \n",
    "X_train, y_train = sampler.fit_resample(X_train, y_train)\n",
    "print(\"POST-SAMPLING:\", X_train.shape, y_train.shape, Counter(y_train))"
   ]
  },
  {
   "cell_type": "code",
   "execution_count": 4,
   "metadata": {},
   "outputs": [
    {
     "data": {
      "text/plain": [
       "703741    0\n",
       "228194    0\n",
       "735733    0\n",
       "774256    0\n",
       "282188    0\n",
       "Name: is_churn, dtype: int64"
      ]
     },
     "execution_count": 4,
     "metadata": {},
     "output_type": "execute_result"
    }
   ],
   "source": [
    "y_train.head()"
   ]
  },
  {
   "cell_type": "code",
   "execution_count": 5,
   "metadata": {},
   "outputs": [],
   "source": [
    "X_train['is_churn'] = y_train\n",
    "X_test['is_churn'] = y_test"
   ]
  },
  {
   "cell_type": "code",
   "execution_count": 6,
   "metadata": {
    "scrolled": true
   },
   "outputs": [
    {
     "data": {
      "text/html": [
       "<div>\n",
       "<style scoped>\n",
       "    .dataframe tbody tr th:only-of-type {\n",
       "        vertical-align: middle;\n",
       "    }\n",
       "\n",
       "    .dataframe tbody tr th {\n",
       "        vertical-align: top;\n",
       "    }\n",
       "\n",
       "    .dataframe thead th {\n",
       "        text-align: right;\n",
       "    }\n",
       "</style>\n",
       "<table border=\"1\" class=\"dataframe\">\n",
       "  <thead>\n",
       "    <tr style=\"text-align: right;\">\n",
       "      <th></th>\n",
       "      <th>msno</th>\n",
       "      <th>city</th>\n",
       "      <th>bd</th>\n",
       "      <th>registered_via</th>\n",
       "      <th>registration_init_time</th>\n",
       "      <th>registration_init_time_dt</th>\n",
       "      <th>total_order</th>\n",
       "      <th>payment_method_id_mode</th>\n",
       "      <th>payment_method_id_count</th>\n",
       "      <th>payment_plan_days_mode</th>\n",
       "      <th>payment_plan_days_mean</th>\n",
       "      <th>plan_list_price_mean</th>\n",
       "      <th>plan_lifetime_value</th>\n",
       "      <th>is_auto_renew_mode</th>\n",
       "      <th>transaction_date_max</th>\n",
       "      <th>cancel_times</th>\n",
       "      <th>is_churn</th>\n",
       "    </tr>\n",
       "  </thead>\n",
       "  <tbody>\n",
       "    <tr>\n",
       "      <th>703741</th>\n",
       "      <td>k5508nHWp+WmOeQTuChB4ETVmbhFmA+7E0qgK1uXKEg=</td>\n",
       "      <td>4</td>\n",
       "      <td>32</td>\n",
       "      <td>3</td>\n",
       "      <td>20130407</td>\n",
       "      <td>2013-04-07</td>\n",
       "      <td>22</td>\n",
       "      <td>33</td>\n",
       "      <td>1</td>\n",
       "      <td>30</td>\n",
       "      <td>21.82</td>\n",
       "      <td>108.36</td>\n",
       "      <td>2384.00</td>\n",
       "      <td>True</td>\n",
       "      <td>20170228</td>\n",
       "      <td>0</td>\n",
       "      <td>0</td>\n",
       "    </tr>\n",
       "    <tr>\n",
       "      <th>228194</th>\n",
       "      <td>WiRqDxpeBqgkDSqd3kRG/VgZbbDUh7yjxHquuY+iVbY=</td>\n",
       "      <td>13</td>\n",
       "      <td>33</td>\n",
       "      <td>3</td>\n",
       "      <td>20131125</td>\n",
       "      <td>2013-11-25</td>\n",
       "      <td>19</td>\n",
       "      <td>39</td>\n",
       "      <td>1</td>\n",
       "      <td>30</td>\n",
       "      <td>28.58</td>\n",
       "      <td>141.16</td>\n",
       "      <td>2682.00</td>\n",
       "      <td>True</td>\n",
       "      <td>20170131</td>\n",
       "      <td>0</td>\n",
       "      <td>0</td>\n",
       "    </tr>\n",
       "    <tr>\n",
       "      <th>735733</th>\n",
       "      <td>YVVOQPk0x2NeB3WqLgc9Sp1R8rIbaWDAnXAZFOf7rlY=</td>\n",
       "      <td>15</td>\n",
       "      <td>22</td>\n",
       "      <td>3</td>\n",
       "      <td>20150705</td>\n",
       "      <td>2015-07-05</td>\n",
       "      <td>17</td>\n",
       "      <td>40</td>\n",
       "      <td>3</td>\n",
       "      <td>30</td>\n",
       "      <td>30.00</td>\n",
       "      <td>158.12</td>\n",
       "      <td>2688.00</td>\n",
       "      <td>True</td>\n",
       "      <td>20170210</td>\n",
       "      <td>4</td>\n",
       "      <td>0</td>\n",
       "    </tr>\n",
       "    <tr>\n",
       "      <th>774256</th>\n",
       "      <td>pm07iNhaXPZ3On4cr4xyL4qOETYWikeemBOHZKhvzYI=</td>\n",
       "      <td>1</td>\n",
       "      <td>0</td>\n",
       "      <td>7</td>\n",
       "      <td>20140806</td>\n",
       "      <td>2014-08-06</td>\n",
       "      <td>26</td>\n",
       "      <td>41</td>\n",
       "      <td>1</td>\n",
       "      <td>30</td>\n",
       "      <td>28.85</td>\n",
       "      <td>143.27</td>\n",
       "      <td>3725.00</td>\n",
       "      <td>True</td>\n",
       "      <td>20170205</td>\n",
       "      <td>0</td>\n",
       "      <td>0</td>\n",
       "    </tr>\n",
       "    <tr>\n",
       "      <th>282188</th>\n",
       "      <td>MboyMUzNIj6LN+wDrZai6uLE3XQ0ReA79JSMNZfkLgk=</td>\n",
       "      <td>1</td>\n",
       "      <td>0</td>\n",
       "      <td>7</td>\n",
       "      <td>20121026</td>\n",
       "      <td>2012-10-26</td>\n",
       "      <td>27</td>\n",
       "      <td>41</td>\n",
       "      <td>1</td>\n",
       "      <td>30</td>\n",
       "      <td>28.89</td>\n",
       "      <td>132.00</td>\n",
       "      <td>3564.00</td>\n",
       "      <td>True</td>\n",
       "      <td>20170216</td>\n",
       "      <td>1</td>\n",
       "      <td>0</td>\n",
       "    </tr>\n",
       "  </tbody>\n",
       "</table>\n",
       "</div>"
      ],
      "text/plain": [
       "                                                msno city  bd registered_via  \\\n",
       "703741  k5508nHWp+WmOeQTuChB4ETVmbhFmA+7E0qgK1uXKEg=    4  32              3   \n",
       "228194  WiRqDxpeBqgkDSqd3kRG/VgZbbDUh7yjxHquuY+iVbY=   13  33              3   \n",
       "735733  YVVOQPk0x2NeB3WqLgc9Sp1R8rIbaWDAnXAZFOf7rlY=   15  22              3   \n",
       "774256  pm07iNhaXPZ3On4cr4xyL4qOETYWikeemBOHZKhvzYI=    1   0              7   \n",
       "282188  MboyMUzNIj6LN+wDrZai6uLE3XQ0ReA79JSMNZfkLgk=    1   0              7   \n",
       "\n",
       "        registration_init_time registration_init_time_dt  total_order  \\\n",
       "703741                20130407                2013-04-07           22   \n",
       "228194                20131125                2013-11-25           19   \n",
       "735733                20150705                2015-07-05           17   \n",
       "774256                20140806                2014-08-06           26   \n",
       "282188                20121026                2012-10-26           27   \n",
       "\n",
       "        payment_method_id_mode  payment_method_id_count  \\\n",
       "703741                      33                        1   \n",
       "228194                      39                        1   \n",
       "735733                      40                        3   \n",
       "774256                      41                        1   \n",
       "282188                      41                        1   \n",
       "\n",
       "        payment_plan_days_mode  payment_plan_days_mean  plan_list_price_mean  \\\n",
       "703741                      30                   21.82                108.36   \n",
       "228194                      30                   28.58                141.16   \n",
       "735733                      30                   30.00                158.12   \n",
       "774256                      30                   28.85                143.27   \n",
       "282188                      30                   28.89                132.00   \n",
       "\n",
       "        plan_lifetime_value  is_auto_renew_mode  transaction_date_max  \\\n",
       "703741              2384.00                True              20170228   \n",
       "228194              2682.00                True              20170131   \n",
       "735733              2688.00                True              20170210   \n",
       "774256              3725.00                True              20170205   \n",
       "282188              3564.00                True              20170216   \n",
       "\n",
       "        cancel_times  is_churn  \n",
       "703741             0         0  \n",
       "228194             0         0  \n",
       "735733             4         0  \n",
       "774256             0         0  \n",
       "282188             1         0  "
      ]
     },
     "execution_count": 6,
     "metadata": {},
     "output_type": "execute_result"
    }
   ],
   "source": [
    "dataset = pd.concat([X_train, X_test])\n",
    "dataset.head()"
   ]
  },
  {
   "cell_type": "code",
   "execution_count": null,
   "metadata": {},
   "outputs": [],
   "source": []
  },
  {
   "cell_type": "code",
   "execution_count": 7,
   "metadata": {},
   "outputs": [],
   "source": [
    "dataset.to_csv('/tmp/base_dataset.csv', index=False)"
   ]
  },
  {
   "cell_type": "markdown",
   "metadata": {},
   "source": [
    "### Preserve the same msno member details in all proceeding data prep splits"
   ]
  },
  {
   "cell_type": "code",
   "execution_count": 117,
   "metadata": {},
   "outputs": [],
   "source": [
    "store = pd.HDFStore('/home/dissertation/data/msno_train_test_split.h5')\n",
    "store['train_msno'] = X_train['msno']   # write to HDF5\n",
    "store['test_msno'] = X_test['msno']   # write to HDF5\n",
    "store.close()"
   ]
  }
 ],
 "metadata": {
  "kernelspec": {
   "display_name": "Python 3",
   "language": "python",
   "name": "python3"
  },
  "language_info": {
   "codemirror_mode": {
    "name": "ipython",
    "version": 3
   },
   "file_extension": ".py",
   "mimetype": "text/x-python",
   "name": "python",
   "nbconvert_exporter": "python",
   "pygments_lexer": "ipython3",
   "version": "3.7.3"
  }
 },
 "nbformat": 4,
 "nbformat_minor": 2
}
