{
 "cells": [
  {
   "cell_type": "code",
   "execution_count": 1,
   "metadata": {
    "init_cell": true
   },
   "outputs": [],
   "source": [
    "## @see https://www.kaggle.com/toorkp/churn-wsdm/data"
   ]
  },
  {
   "cell_type": "code",
   "execution_count": 2,
   "metadata": {
    "init_cell": true,
    "scrolled": true
   },
   "outputs": [],
   "source": [
    "%load_ext autoreload\n",
    "%autoreload"
   ]
  },
  {
   "cell_type": "code",
   "execution_count": 3,
   "metadata": {
    "init_cell": true
   },
   "outputs": [
    {
     "name": "stderr",
     "output_type": "stream",
     "text": [
      "/home/anaconda/envs/py373/lib/python3.7/site-packages/pyparsing.py:2927: FutureWarning: Possible set intersection at position 3\n",
      "  self.re = re.compile( self.reString )\n",
      "/home/anaconda/envs/py373/lib/python3.7/site-packages/sklearn/externals/joblib/__init__.py:15: DeprecationWarning: sklearn.externals.joblib is deprecated in 0.21 and will be removed in 0.23. Please import this functionality directly from joblib, which can be installed with: pip install joblib. If this warning is raised when loading pickled models, you may need to re-serialize those models with scikit-learn 0.21+.\n",
      "  warnings.warn(msg, category=DeprecationWarning)\n"
     ]
    }
   ],
   "source": [
    "import numpy as np\n",
    "import pandas as pd\n",
    "import time\n",
    "import gc; gc.enable()\n",
    "import time\n",
    "import sys\n",
    "\n",
    "from sklearn import model_selection\n",
    "from sklearn.neighbors import KNeighborsClassifier\n",
    "from sklearn.tree import DecisionTreeClassifier\n",
    "from sklearn.ensemble import RandomForestClassifier, AdaBoostClassifier\n",
    "from sklearn.linear_model import LogisticRegression\n",
    "from sklearn.naive_bayes import GaussianNB\n",
    "from sklearn.model_selection import train_test_split\n",
    "from sklearn.metrics import accuracy_score, roc_curve, auc, confusion_matrix, f1_score, log_loss, confusion_matrix\n",
    "from sklearn.neural_network import MLPClassifier\n",
    "import xgboost as xgb\n",
    "\n",
    "from scipy.stats import randint as sp_randint\n",
    "\n",
    "from collections import Counter\n",
    "from numpy.random import RandomState\n",
    "from imblearn.over_sampling import SMOTENC\n",
    "from imblearn.over_sampling import RandomOverSampler\n",
    "from imblearn.under_sampling import RandomUnderSampler\n",
    "\n",
    "pd.options.display.float_format = \"{:.2f}\".format\n",
    "np.set_printoptions(precision=4)\n",
    "\n",
    "import matplotlib.pyplot as plt\n",
    "%matplotlib inline\n",
    "\n",
    "sys.path.append('modules')\n",
    "\n",
    "from shared_functions import *\n",
    "import pickle\n",
    "from datetime import datetime"
   ]
  },
  {
   "cell_type": "code",
   "execution_count": null,
   "metadata": {},
   "outputs": [],
   "source": []
  },
  {
   "cell_type": "code",
   "execution_count": 4,
   "metadata": {},
   "outputs": [
    {
     "name": "stdout",
     "output_type": "stream",
     "text": [
      "(600803, 18) (600803,)\n",
      "(257487, 18) (257487,)\n"
     ]
    },
    {
     "data": {
      "text/html": [
       "<div>\n",
       "<style scoped>\n",
       "    .dataframe tbody tr th:only-of-type {\n",
       "        vertical-align: middle;\n",
       "    }\n",
       "\n",
       "    .dataframe tbody tr th {\n",
       "        vertical-align: top;\n",
       "    }\n",
       "\n",
       "    .dataframe thead th {\n",
       "        text-align: right;\n",
       "    }\n",
       "</style>\n",
       "<table border=\"1\" class=\"dataframe\">\n",
       "  <thead>\n",
       "    <tr style=\"text-align: right;\">\n",
       "      <th></th>\n",
       "      <th>city</th>\n",
       "      <th>bd</th>\n",
       "      <th>gender</th>\n",
       "      <th>registered_via</th>\n",
       "      <th>registration_init_time</th>\n",
       "      <th>membership_months</th>\n",
       "      <th>total_order</th>\n",
       "      <th>payment_method_id_mode</th>\n",
       "      <th>payment_method_id_count</th>\n",
       "      <th>payment_plan_days_mode</th>\n",
       "      <th>payment_plan_days_mean</th>\n",
       "      <th>plan_list_price_mean</th>\n",
       "      <th>plan_lifetime_value</th>\n",
       "      <th>actual_amount_mean</th>\n",
       "      <th>total_actual_amount</th>\n",
       "      <th>is_auto_renew_mode</th>\n",
       "      <th>cancel_times</th>\n",
       "      <th>transaction_date_delta</th>\n",
       "    </tr>\n",
       "  </thead>\n",
       "  <tbody>\n",
       "    <tr>\n",
       "      <th>0</th>\n",
       "      <td>5</td>\n",
       "      <td>28</td>\n",
       "      <td>male</td>\n",
       "      <td>3</td>\n",
       "      <td>2013-12-23</td>\n",
       "      <td>38</td>\n",
       "      <td>6</td>\n",
       "      <td>31</td>\n",
       "      <td>2</td>\n",
       "      <td>0</td>\n",
       "      <td>10.00</td>\n",
       "      <td>49.67</td>\n",
       "      <td>298.00</td>\n",
       "      <td>149.00</td>\n",
       "      <td>894.00</td>\n",
       "      <td>True</td>\n",
       "      <td>1</td>\n",
       "      <td>700.00</td>\n",
       "    </tr>\n",
       "    <tr>\n",
       "      <th>1</th>\n",
       "      <td>13</td>\n",
       "      <td>20</td>\n",
       "      <td>male</td>\n",
       "      <td>3</td>\n",
       "      <td>2013-12-23</td>\n",
       "      <td>38</td>\n",
       "      <td>5</td>\n",
       "      <td>38</td>\n",
       "      <td>3</td>\n",
       "      <td>30</td>\n",
       "      <td>25.40</td>\n",
       "      <td>125.40</td>\n",
       "      <td>627.00</td>\n",
       "      <td>125.40</td>\n",
       "      <td>627.00</td>\n",
       "      <td>False</td>\n",
       "      <td>0</td>\n",
       "      <td>344.00</td>\n",
       "    </tr>\n",
       "    <tr>\n",
       "      <th>2</th>\n",
       "      <td>13</td>\n",
       "      <td>18</td>\n",
       "      <td>male</td>\n",
       "      <td>3</td>\n",
       "      <td>2013-12-27</td>\n",
       "      <td>38</td>\n",
       "      <td>18</td>\n",
       "      <td>38</td>\n",
       "      <td>1</td>\n",
       "      <td>30</td>\n",
       "      <td>30.00</td>\n",
       "      <td>149.00</td>\n",
       "      <td>2682.00</td>\n",
       "      <td>149.00</td>\n",
       "      <td>2682.00</td>\n",
       "      <td>False</td>\n",
       "      <td>0</td>\n",
       "      <td>530.00</td>\n",
       "    </tr>\n",
       "    <tr>\n",
       "      <th>3</th>\n",
       "      <td>1</td>\n",
       "      <td>0</td>\n",
       "      <td>unknown</td>\n",
       "      <td>7</td>\n",
       "      <td>2014-01-09</td>\n",
       "      <td>37</td>\n",
       "      <td>19</td>\n",
       "      <td>41</td>\n",
       "      <td>2</td>\n",
       "      <td>30</td>\n",
       "      <td>25.63</td>\n",
       "      <td>125.47</td>\n",
       "      <td>2384.00</td>\n",
       "      <td>141.16</td>\n",
       "      <td>2682.00</td>\n",
       "      <td>True</td>\n",
       "      <td>3</td>\n",
       "      <td>413.00</td>\n",
       "    </tr>\n",
       "    <tr>\n",
       "      <th>4</th>\n",
       "      <td>13</td>\n",
       "      <td>35</td>\n",
       "      <td>female</td>\n",
       "      <td>7</td>\n",
       "      <td>2014-01-25</td>\n",
       "      <td>37</td>\n",
       "      <td>24</td>\n",
       "      <td>41</td>\n",
       "      <td>1</td>\n",
       "      <td>30</td>\n",
       "      <td>26.25</td>\n",
       "      <td>105.38</td>\n",
       "      <td>2529.00</td>\n",
       "      <td>123.17</td>\n",
       "      <td>2956.00</td>\n",
       "      <td>True</td>\n",
       "      <td>2</td>\n",
       "      <td>586.00</td>\n",
       "    </tr>\n",
       "  </tbody>\n",
       "</table>\n",
       "</div>"
      ],
      "text/plain": [
       "  city  bd   gender registered_via registration_init_time  membership_months  \\\n",
       "0    5  28     male              3             2013-12-23                 38   \n",
       "1   13  20     male              3             2013-12-23                 38   \n",
       "2   13  18     male              3             2013-12-27                 38   \n",
       "3    1   0  unknown              7             2014-01-09                 37   \n",
       "4   13  35   female              7             2014-01-25                 37   \n",
       "\n",
       "   total_order  payment_method_id_mode  payment_method_id_count  \\\n",
       "0            6                      31                        2   \n",
       "1            5                      38                        3   \n",
       "2           18                      38                        1   \n",
       "3           19                      41                        2   \n",
       "4           24                      41                        1   \n",
       "\n",
       "   payment_plan_days_mode  payment_plan_days_mean  plan_list_price_mean  \\\n",
       "0                       0                   10.00                 49.67   \n",
       "1                      30                   25.40                125.40   \n",
       "2                      30                   30.00                149.00   \n",
       "3                      30                   25.63                125.47   \n",
       "4                      30                   26.25                105.38   \n",
       "\n",
       "   plan_lifetime_value  actual_amount_mean  total_actual_amount  \\\n",
       "0               298.00              149.00               894.00   \n",
       "1               627.00              125.40               627.00   \n",
       "2              2682.00              149.00              2682.00   \n",
       "3              2384.00              141.16              2682.00   \n",
       "4              2529.00              123.17              2956.00   \n",
       "\n",
       "   is_auto_renew_mode  cancel_times  transaction_date_delta  \n",
       "0                True             1                  700.00  \n",
       "1               False             0                  344.00  \n",
       "2               False             0                  530.00  \n",
       "3                True             3                  413.00  \n",
       "4                True             2                  586.00  "
      ]
     },
     "execution_count": 4,
     "metadata": {},
     "output_type": "execute_result"
    }
   ],
   "source": [
    "# Load the pre-split data\n",
    "\n",
    "store = pd.HDFStore('/home/dissertation/data/feat_eng_abt_split.h5')\n",
    "X_train = store['X_train']\n",
    "X_test = store['X_test']\n",
    "y_train = store['y_train']\n",
    "y_test = store['y_test']\n",
    "store.close()\n",
    "\n",
    "# Drop msno from the dataset\n",
    "X_train.drop(['msno'], inplace=True, axis=1)\n",
    "X_test.drop(['msno'], inplace=True, axis=1)\n",
    "\n",
    "print(X_train.shape, y_train.shape)\n",
    "print(X_test.shape, y_test.shape)\n",
    "\n",
    "cat_col = ['gender', 'city', 'registered_via', 'payment_method_id_mode']\n",
    "\n",
    "X_train.head()"
   ]
  },
  {
   "cell_type": "code",
   "execution_count": 5,
   "metadata": {
    "scrolled": true
   },
   "outputs": [
    {
     "data": {
      "text/plain": [
       "dict_keys(['explained_variance', 'r2', 'max_error', 'neg_median_absolute_error', 'neg_mean_absolute_error', 'neg_mean_squared_error', 'neg_mean_squared_log_error', 'accuracy', 'roc_auc', 'balanced_accuracy', 'average_precision', 'neg_log_loss', 'brier_score_loss', 'adjusted_rand_score', 'homogeneity_score', 'completeness_score', 'v_measure_score', 'mutual_info_score', 'adjusted_mutual_info_score', 'normalized_mutual_info_score', 'fowlkes_mallows_score', 'precision', 'precision_macro', 'precision_micro', 'precision_samples', 'precision_weighted', 'recall', 'recall_macro', 'recall_micro', 'recall_samples', 'recall_weighted', 'f1', 'f1_macro', 'f1_micro', 'f1_samples', 'f1_weighted', 'jaccard', 'jaccard_macro', 'jaccard_micro', 'jaccard_samples', 'jaccard_weighted'])"
      ]
     },
     "execution_count": 5,
     "metadata": {},
     "output_type": "execute_result"
    }
   ],
   "source": [
    "import sklearn \n",
    "sklearn.metrics.SCORERS.keys()"
   ]
  },
  {
   "cell_type": "code",
   "execution_count": 6,
   "metadata": {},
   "outputs": [],
   "source": [
    "## WHAT METRIC SHOULD BE OPTIMSED AS PART OF CV"
   ]
  },
  {
   "cell_type": "code",
   "execution_count": 10,
   "metadata": {},
   "outputs": [],
   "source": [
    "RANDOM_STATE = 42 \n",
    "CV_ITER = 5\n",
    "SCORING_METRIC = 'recall'\n",
    "BASE_NAME = \"random_\" + str(CV_ITER) + \"cv_\" + SCORING_METRIC\n",
    "\n",
    "## Each entry in the list is a Tuple of\n",
    "##   [ModelName, Model, HyperParams, ScoringMetric]\n",
    "\n",
    "classifiers = [\n",
    "        ('NB_' + BASE_NAME, GaussianNB(), {}, \n",
    "               SCORING_METRIC),    \n",
    "        ('DT_' + BASE_NAME, DecisionTreeClassifier(), \n",
    "                        {'search_type': 'RANDOM_SEARCH_CV',\n",
    "                             \"criterion\": [\"entropy\"], \n",
    "                             \"max_depth\":sp_randint(10,30), \n",
    "                             \"min_samples_leaf\":sp_randint(10,50),\n",
    "                             \"min_samples_split\":sp_randint(10,100),\n",
    "                             \"class_weight\":[None, \"balanced\"],\n",
    "                             \"presort\" : [True, False]}, \n",
    "                SCORING_METRIC),    \n",
    "        ('RF_' + BASE_NAME, RandomForestClassifier(n_jobs =-1), \n",
    "                        {'search_type': 'RANDOM_SEARCH_CV',\n",
    "                             \"criterion\": [\"entropy\",\"gini\"], \n",
    "                             \"n_estimators\": sp_randint(100,200),\n",
    "                             \"max_depth\":sp_randint(10,30), \n",
    "                             \"min_samples_leaf\":sp_randint(10,50),\n",
    "                             \"min_samples_split\":sp_randint(10,100),\n",
    "                             \"class_weight\":[None, \"balanced\"]},\n",
    "               SCORING_METRIC),    \n",
    "        ('LR_' + BASE_NAME, LogisticRegression(), \n",
    "                        {'search_type': 'RANDOM_SEARCH_CV',\n",
    "                             \"solver\" : ['newton-cg', 'lbfgs', 'liblinear','saga'],\n",
    "                             \"class_weight\": [None, \"balanced\"],\n",
    "                             \"max_iter\": sp_randint(10,100),\n",
    "                             \"C\": sp_randint(1,10)}, \n",
    "               SCORING_METRIC),\n",
    "#         ('AB_' + BASE_NAME, AdaBoostClassifier(), \n",
    "#                         {'search_type': 'RANDOM_SEARCH_CV',\n",
    "#                              \"n_estimators\": sp_randint(300,800),\n",
    "#                         }, \n",
    "#                 SCORING_METRIC),\n",
    "        ('MLP_' + BASE_NAME, MLPClassifier(), \n",
    "                        {'search_type': 'RANDOM_SEARCH_CV',\n",
    "                             \"hidden_layer_sizes\": [(50,), (100,)],\n",
    "                             \"activation\": [\"tanh\", \"relu\"],\n",
    "                             \"solver\": [\"adam\"],\n",
    "                             \"alpha\": [0.0001, 0.001, 0.01]}, \n",
    "                SCORING_METRIC),\n",
    "        ('XGB_' + BASE_NAME, xgb.XGBClassifier(objective=\"binary:logistic\", n_jobs=8), \n",
    "                        {'search_type': 'RANDOM_SEARCH_CV',\n",
    "                             \"n_estimators\": sp_randint(100,200),\n",
    "                             \"max_depth\":sp_randint(1,6),\n",
    "                             \"learning_rate\": [0.0001, 0.001, 0.01]\n",
    "                             }, SCORING_METRIC) \n",
    "]"
   ]
  },
  {
   "cell_type": "code",
   "execution_count": null,
   "metadata": {},
   "outputs": [],
   "source": []
  },
  {
   "cell_type": "code",
   "execution_count": 8,
   "metadata": {},
   "outputs": [],
   "source": [
    "all_metrics = pd.DataFrame()\n",
    "all_results = list()"
   ]
  },
  {
   "cell_type": "markdown",
   "metadata": {},
   "source": [
    "### Experiment 1.1 Baseline - Default Settings - No sampling"
   ]
  },
  {
   "cell_type": "code",
   "execution_count": 9,
   "metadata": {
    "scrolled": false
   },
   "outputs": [
    {
     "name": "stdout",
     "output_type": "stream",
     "text": [
      "Model Build Iteration 0\n",
      "PRE-SAMPLING: (600803, 18) (600803,) Counter({0: 544661, 1: 56142})\n",
      "POST-SAMPLING: (600803, 18) (600803,) Counter({0: 544661, 1: 56142})\n",
      "Set the train df types correctly based on the test set\n",
      "Applying normalisation to train and test sets\n",
      "Categorical columns in dataset ['gender', 'city', 'registered_via', 'payment_method_id_mode']\n",
      "Categorical columns in dataset ['gender', 'city', 'registered_via', 'payment_method_id_mode']\n",
      "X_train:  (600803, 52) (600803, 1)\n",
      "X_test:  (257487, 52) (257487, 1)\n"
     ]
    },
    {
     "data": {
      "image/png": "[encoded data removed]",
      "text/plain": [
       "<Figure size 432x288 with 2 Axes>"
      ]
     },
     "metadata": {
      "needs_background": "light"
     },
     "output_type": "display_data"
    },
    {
     "name": "stdout",
     "output_type": "stream",
     "text": [
      "Training NB_random_5cv_recall classifier\n",
      "No params set, using Standard training\n",
      "Generating test scores for NB_random_5cv_recall classifier\n",
      "Performing 5-fold CV on test set using recall metric\n",
      "Training DT_random_5cv_recall classifier\n",
      "Optimising using RandomizedSearchCV\n",
      "Fitting 5 folds for each of 10 candidates, totalling 50 fits\n"
     ]
    },
    {
     "name": "stderr",
     "output_type": "stream",
     "text": [
      "[Parallel(n_jobs=-1)]: Using backend LokyBackend with 8 concurrent workers.\n",
      "/home/anaconda/envs/py373/lib/python3.7/site-packages/joblib/externals/loky/process_executor.py:706: UserWarning: A worker stopped while some jobs were given to the executor. This can be caused by a too short worker timeout or by a memory leak.\n",
      "  \"timeout or by a memory leak.\", UserWarning\n",
      "[Parallel(n_jobs=-1)]: Done  25 tasks      | elapsed:  8.9min\n",
      "[Parallel(n_jobs=-1)]: Done  50 out of  50 | elapsed: 22.1min finished\n"
     ]
    },
    {
     "name": "stdout",
     "output_type": "stream",
     "text": [
      "CLF: {'class_weight': 'balanced', 'criterion': 'entropy', 'max_depth': 11, 'min_samples_leaf': 19, 'min_samples_split': 98, 'presort': True}\n",
      "Generating test scores for DT_random_5cv_recall classifier\n",
      "Performing 5-fold CV on test set using recall metric\n",
      "Training RF_random_5cv_recall classifier\n",
      "Optimising using RandomizedSearchCV\n",
      "Fitting 5 folds for each of 10 candidates, totalling 50 fits\n"
     ]
    },
    {
     "name": "stderr",
     "output_type": "stream",
     "text": [
      "[Parallel(n_jobs=-1)]: Using backend LokyBackend with 8 concurrent workers.\n",
      "/home/anaconda/envs/py373/lib/python3.7/site-packages/joblib/externals/loky/process_executor.py:706: UserWarning: A worker stopped while some jobs were given to the executor. This can be caused by a too short worker timeout or by a memory leak.\n",
      "  \"timeout or by a memory leak.\", UserWarning\n",
      "[Parallel(n_jobs=-1)]: Done  25 tasks      | elapsed: 12.6min\n",
      "[Parallel(n_jobs=-1)]: Done  50 out of  50 | elapsed: 25.6min finished\n"
     ]
    },
    {
     "name": "stdout",
     "output_type": "stream",
     "text": [
      "CLF: {'class_weight': 'balanced', 'criterion': 'gini', 'max_depth': 17, 'min_samples_leaf': 24, 'min_samples_split': 84, 'n_estimators': 180}\n",
      "Generating test scores for RF_random_5cv_recall classifier\n",
      "Performing 5-fold CV on test set using recall metric\n",
      "Training LR_random_5cv_recall classifier\n",
      "Optimising using RandomizedSearchCV\n",
      "Fitting 5 folds for each of 10 candidates, totalling 50 fits\n"
     ]
    },
    {
     "name": "stderr",
     "output_type": "stream",
     "text": [
      "[Parallel(n_jobs=-1)]: Using backend LokyBackend with 8 concurrent workers.\n",
      "/home/anaconda/envs/py373/lib/python3.7/site-packages/joblib/externals/loky/process_executor.py:706: UserWarning: A worker stopped while some jobs were given to the executor. This can be caused by a too short worker timeout or by a memory leak.\n",
      "  \"timeout or by a memory leak.\", UserWarning\n",
      "[Parallel(n_jobs=-1)]: Done  25 tasks      | elapsed:  3.5min\n",
      "[Parallel(n_jobs=-1)]: Done  50 out of  50 | elapsed:  5.8min finished\n"
     ]
    },
    {
     "name": "stdout",
     "output_type": "stream",
     "text": [
      "CLF: {'C': 7, 'class_weight': 'balanced', 'max_iter': 74, 'solver': 'liblinear'}\n",
      "Generating test scores for LR_random_5cv_recall classifier\n",
      "Performing 5-fold CV on test set using recall metric\n",
      "Training AB_random_5cv_recall classifier\n",
      "Optimising using RandomizedSearchCV\n",
      "Fitting 5 folds for each of 10 candidates, totalling 50 fits\n"
     ]
    },
    {
     "name": "stderr",
     "output_type": "stream",
     "text": [
      "[Parallel(n_jobs=-1)]: Using backend LokyBackend with 8 concurrent workers.\n",
      "/home/anaconda/envs/py373/lib/python3.7/site-packages/joblib/externals/loky/process_executor.py:706: UserWarning: A worker stopped while some jobs were given to the executor. This can be caused by a too short worker timeout or by a memory leak.\n",
      "  \"timeout or by a memory leak.\", UserWarning\n",
      "[Parallel(n_jobs=-1)]: Done  25 tasks      | elapsed: 75.9min\n",
      "[Parallel(n_jobs=-1)]: Done  50 out of  50 | elapsed: 146.1min finished\n"
     ]
    },
    {
     "name": "stdout",
     "output_type": "stream",
     "text": [
      "CLF: {'n_estimators': 745}\n",
      "Generating test scores for AB_random_5cv_recall classifier\n",
      "Performing 5-fold CV on test set using recall metric\n",
      "Training MLP_random_5cv_recall classifier\n",
      "Optimising using RandomizedSearchCV\n",
      "Fitting 5 folds for each of 10 candidates, totalling 50 fits\n"
     ]
    },
    {
     "name": "stderr",
     "output_type": "stream",
     "text": [
      "[Parallel(n_jobs=-1)]: Using backend LokyBackend with 8 concurrent workers.\n",
      "/home/anaconda/envs/py373/lib/python3.7/site-packages/joblib/externals/loky/process_executor.py:706: UserWarning: A worker stopped while some jobs were given to the executor. This can be caused by a too short worker timeout or by a memory leak.\n",
      "  \"timeout or by a memory leak.\", UserWarning\n",
      "[Parallel(n_jobs=-1)]: Done  25 tasks      | elapsed: 17.9min\n",
      "[Parallel(n_jobs=-1)]: Done  50 out of  50 | elapsed: 35.3min finished\n"
     ]
    },
    {
     "name": "stdout",
     "output_type": "stream",
     "text": [
      "CLF: {'solver': 'adam', 'hidden_layer_sizes': (50,), 'alpha': 0.001, 'activation': 'relu'}\n",
      "Generating test scores for MLP_random_5cv_recall classifier\n",
      "Performing 5-fold CV on test set using recall metric\n",
      "Training XGB_random_5cv_recall classifier\n",
      "Optimising using RandomizedSearchCV\n",
      "Fitting 5 folds for each of 10 candidates, totalling 50 fits\n"
     ]
    },
    {
     "name": "stderr",
     "output_type": "stream",
     "text": [
      "[Parallel(n_jobs=-1)]: Using backend LokyBackend with 8 concurrent workers.\n",
      "/home/anaconda/envs/py373/lib/python3.7/site-packages/joblib/externals/loky/process_executor.py:706: UserWarning: A worker stopped while some jobs were given to the executor. This can be caused by a too short worker timeout or by a memory leak.\n",
      "  \"timeout or by a memory leak.\", UserWarning\n",
      "[Parallel(n_jobs=-1)]: Done  25 tasks      | elapsed:  9.3min\n",
      "[Parallel(n_jobs=-1)]: Done  50 out of  50 | elapsed: 18.9min finished\n"
     ]
    },
    {
     "name": "stdout",
     "output_type": "stream",
     "text": [
      "CLF: {'learning_rate': 0.001, 'max_depth': 5, 'n_estimators': 159}\n",
      "Generating test scores for XGB_random_5cv_recall classifier\n",
      "Performing 5-fold CV on test set using recall metric\n"
     ]
    },
    {
     "data": {
      "image/png": "[encoded data removed]",
      "text/plain": [
       "<Figure size 1152x576 with 2 Axes>"
      ]
     },
     "metadata": {
      "needs_background": "light"
     },
     "output_type": "display_data"
    },
    {
     "name": "stdout",
     "output_type": "stream",
     "text": [
      "CPU times: user 1h 25min 41s, sys: 5min 30s, total: 1h 31min 12s\n",
      "Wall time: 5h 7min 41s\n"
     ]
    }
   ],
   "source": [
    "%%time\n",
    "start = time.time()\n",
    "\n",
    "sampler = ('None', DummySampler())\n",
    "\n",
    "exp_metrics, model_results = perform_experiment(X_train, X_test, y_train, y_test, classifiers, sampler, 1, \\\n",
    "                                                cv_iter=CV_ITER, cat_col=cat_col)\n",
    "\n",
    "all_metrics = all_metrics.append(exp_metrics)\n",
    "all_results.append((sampler[0]+\"_\"+BASE_NAME, exp_metrics, model_results))\n",
    "\n",
    "log(\"manual, random_search, {0}, {1}\".format(sampler[0], time.time()-start), 'Manual_RdmSearch.log')"
   ]
  },
  {
   "cell_type": "code",
   "execution_count": null,
   "metadata": {},
   "outputs": [],
   "source": []
  },
  {
   "cell_type": "markdown",
   "metadata": {},
   "source": [
    "### Experiment 1.2 Baseline - Default Settings - Oversampled training set 100%"
   ]
  },
  {
   "cell_type": "code",
   "execution_count": null,
   "metadata": {
    "scrolled": false
   },
   "outputs": [
    {
     "name": "stdout",
     "output_type": "stream",
     "text": [
      "Model Build Iteration 0\n",
      "PRE-SAMPLING: (600803, 18) (600803,) Counter({0: 544661, 1: 56142})\n",
      "POST-SAMPLING: (1089322, 18) (1089322,) Counter({1: 544661, 0: 544661})\n",
      "Set the train df types correctly based on the test set\n",
      "Applying normalisation to train and test sets\n",
      "Categorical columns in dataset ['gender', 'city', 'registered_via', 'payment_method_id_mode']\n",
      "Categorical columns in dataset ['gender', 'city', 'registered_via', 'payment_method_id_mode']\n",
      "X_train:  (1089322, 52) (1089322, 1)\n",
      "X_test:  (257487, 52) (257487, 1)\n"
     ]
    },
    {
     "data": {
      "image/png": "[encoded data removed]",
      "text/plain": [
       "<Figure size 432x288 with 2 Axes>"
      ]
     },
     "metadata": {
      "needs_background": "light"
     },
     "output_type": "display_data"
    },
    {
     "name": "stdout",
     "output_type": "stream",
     "text": [
      "Training NB_random_5cv_recall classifier\n",
      "No params set, using Standard training\n",
      "Generating test scores for NB_random_5cv_recall classifier\n",
      "Performing 5-fold CV on test set using recall metric\n",
      "Training DT_random_5cv_recall classifier\n",
      "Optimising using RandomizedSearchCV\n",
      "Fitting 5 folds for each of 10 candidates, totalling 50 fits\n"
     ]
    },
    {
     "name": "stderr",
     "output_type": "stream",
     "text": [
      "[Parallel(n_jobs=-1)]: Using backend LokyBackend with 8 concurrent workers.\n",
      "/home/anaconda/envs/py373/lib/python3.7/site-packages/joblib/externals/loky/process_executor.py:706: UserWarning: A worker stopped while some jobs were given to the executor. This can be caused by a too short worker timeout or by a memory leak.\n",
      "  \"timeout or by a memory leak.\", UserWarning\n",
      "[Parallel(n_jobs=-1)]: Done  25 tasks      | elapsed: 69.9min\n"
     ]
    }
   ],
   "source": [
    "%%time\n",
    "start = time.time()\n",
    "\n",
    "sampler = ('ROS 1:1', RandomOverSampler(random_state=RANDOM_STATE))\n",
    "\n",
    "exp_metrics, model_results = perform_experiment(X_train, X_test, y_train, y_test, classifiers, sampler, 1, \\\n",
    "                                                cv_iter=CV_ITER, cat_col=cat_col)\n",
    "\n",
    "all_metrics = all_metrics.append(exp_metrics)\n",
    "all_results.append((sampler[0]+\"_\"+BASE_NAME, exp_metrics, model_results))\n",
    "\n",
    "log(\"manual, random_search, {0}, {1}\".format(sampler[0], time.time()-start), 'Manual_RdmSearch.log')"
   ]
  },
  {
   "cell_type": "code",
   "execution_count": null,
   "metadata": {},
   "outputs": [],
   "source": []
  },
  {
   "cell_type": "markdown",
   "metadata": {},
   "source": [
    "### Experiment 1.3 Baseline - Default Settings - Undersampled training set"
   ]
  },
  {
   "cell_type": "code",
   "execution_count": null,
   "metadata": {
    "scrolled": false
   },
   "outputs": [],
   "source": [
    "%%time\n",
    "start = time.time()\n",
    "\n",
    "sampler = ('RUS 1:1', RandomUnderSampler(random_state=RANDOM_STATE))\n",
    "\n",
    "exp_metrics, model_results = perform_experiment(X_train, X_test, y_train, y_test, classifiers, sampler, 1, \\\n",
    "                                                cv_iter=CV_ITER, cat_col=cat_col)\n",
    "\n",
    "all_metrics = all_metrics.append(exp_metrics)\n",
    "all_results.append((sampler[0]+\"_\"+BASE_NAME, exp_metrics, model_results))\n",
    "\n",
    "log(\"manual, random_search, {0}, {1}\".format(sampler[0], time.time()-start), 'Manual_RdmSearch.log')"
   ]
  },
  {
   "cell_type": "code",
   "execution_count": null,
   "metadata": {},
   "outputs": [],
   "source": []
  },
  {
   "cell_type": "code",
   "execution_count": null,
   "metadata": {},
   "outputs": [],
   "source": [
    "all_metrics"
   ]
  },
  {
   "cell_type": "markdown",
   "metadata": {},
   "source": [
    "### Experiment 1.4 Baseline - Default Settings - Over sampling - 33% of majority size"
   ]
  },
  {
   "cell_type": "code",
   "execution_count": null,
   "metadata": {
    "scrolled": false
   },
   "outputs": [],
   "source": [
    "%%time\n",
    "start = time.time()\n",
    "\n",
    "sampler = ('ROS 3:1', RandomOverSampler(random_state=RANDOM_STATE, sampling_strategy = 1/3))\n",
    "\n",
    "exp_metrics, model_results = perform_experiment(X_train, X_test, y_train, y_test, classifiers, sampler, 1, \\\n",
    "                                                cv_iter=CV_ITER, cat_col=cat_col)\n",
    "\n",
    "all_metrics = all_metrics.append(exp_metrics)\n",
    "all_results.append((sampler[0]+\"_\"+BASE_NAME, exp_metrics, model_results))\n",
    "\n",
    "log(\"manual, random_search, {0}, {1}\".format(sampler[0], time.time()-start), 'Manual_RdmSearch.log')"
   ]
  },
  {
   "cell_type": "code",
   "execution_count": null,
   "metadata": {},
   "outputs": [],
   "source": []
  },
  {
   "cell_type": "markdown",
   "metadata": {},
   "source": [
    "### Experiment 1.5 Baseline - Default Settings - Over sampling - 66% of majority size"
   ]
  },
  {
   "cell_type": "code",
   "execution_count": null,
   "metadata": {},
   "outputs": [],
   "source": [
    "%%time\n",
    "start = time.time()\n",
    "\n",
    "sampler = ('ROS 3:2', RandomOverSampler(random_state=RANDOM_STATE, sampling_strategy = 2/3))\n",
    "\n",
    "exp_metrics, model_results = perform_experiment(X_train, X_test, y_train, y_test, classifiers, sampler, 1, \\\n",
    "                                                cv_iter=CV_ITER, cat_col=cat_col)\n",
    "\n",
    "all_metrics = all_metrics.append(exp_metrics)\n",
    "all_results.append((sampler[0]+\"_\"+BASE_NAME, exp_metrics, model_results))\n",
    "\n",
    "log(\"manual, random_search, {0}, {1}\".format(sampler[0], time.time()-start), 'Manual_RdmSearch.log')"
   ]
  },
  {
   "cell_type": "code",
   "execution_count": null,
   "metadata": {},
   "outputs": [],
   "source": []
  },
  {
   "cell_type": "markdown",
   "metadata": {},
   "source": [
    "### Experiment 1.6 Baseline - Default Settings - Over sampling - 50% of majority size"
   ]
  },
  {
   "cell_type": "code",
   "execution_count": null,
   "metadata": {},
   "outputs": [],
   "source": [
    "%%time\n",
    "start = time.time()\n",
    "\n",
    "sampler = ('ROS 2:1', RandomOverSampler(random_state=RANDOM_STATE, sampling_strategy = 1/2))\n",
    "\n",
    "exp_metrics, model_results = perform_experiment(X_train, X_test, y_train, y_test, classifiers, sampler, 1, \\\n",
    "                                                cv_iter=CV_ITER, cat_col=cat_col)\n",
    "\n",
    "all_metrics = all_metrics.append(exp_metrics)\n",
    "all_results.append((sampler[0]+\"_\"+BASE_NAME, exp_metrics, model_results))\n",
    "\n",
    "log(\"manual, random_search, {0}, {1}\".format(sampler[0], time.time()-start), 'Manual_RdmSearch.log')"
   ]
  },
  {
   "cell_type": "code",
   "execution_count": null,
   "metadata": {},
   "outputs": [],
   "source": []
  },
  {
   "cell_type": "markdown",
   "metadata": {},
   "source": [
    "### Experiment 1.7 Baseline Default Settings SMOTE-NC"
   ]
  },
  {
   "cell_type": "code",
   "execution_count": null,
   "metadata": {
    "scrolled": false
   },
   "outputs": [],
   "source": [
    "%%time\n",
    "start = time.time()\n",
    "\n",
    "sampler = ('SMOTE_NC', SMOTENC(random_state=RANDOM_STATE, categorical_features=[0,1,2,3,4,5,6,7,8,13,14], n_jobs=8))\n",
    "\n",
    "## Keep the following, essentially dropping the dt columns\n",
    "cols = ['is_churn', 'city', 'gender', 'age_cat', 'registered_via', 'total_order',\n",
    "       'payment_method_id_mode', 'payment_method_id_count',\n",
    "       'payment_plan_days_mode', 'payment_plan_days_mean',\n",
    "       'plan_list_price_mean', 'plan_lifetime_value', 'actual_amount_mean',\n",
    "       'total_actual_amount', 'is_auto_renew_mode', 'cancel_times','transaction_date_delta']\n",
    "\n",
    "exp_metrics, model_results = perform_experiment(X_train, X_test, y_train, y_test, classifiers, sampler, 1, \\\n",
    "                                                cv_iter=CV_ITER, cat_col=cat_col)\n",
    "\n",
    "all_metrics = all_metrics.append(exp_metrics)\n",
    "all_results.append((sampler[0]+\"_\"+BASE_NAME, exp_metrics, model_results))\n",
    "\n",
    "log(\"manual, random_search, {0}, {1}\".format(sampler[0], time.time()-start), 'Manual_RdmSearch.log')"
   ]
  },
  {
   "cell_type": "code",
   "execution_count": null,
   "metadata": {},
   "outputs": [],
   "source": []
  },
  {
   "cell_type": "markdown",
   "metadata": {},
   "source": [
    "### Persist results to disk"
   ]
  },
  {
   "cell_type": "code",
   "execution_count": null,
   "metadata": {},
   "outputs": [],
   "source": [
    "store(all_results, 'Manual_RdmSearch_{0}.pickle'.format(datetime.today().strftime('%Y-%m-%d')))"
   ]
  },
  {
   "cell_type": "markdown",
   "metadata": {},
   "source": [
    "### Sort the results and get the best sampling config per classifier "
   ]
  },
  {
   "cell_type": "code",
   "execution_count": null,
   "metadata": {},
   "outputs": [],
   "source": [
    "top_results = all_metrics.sort_values(['balanced_accuracy'], ascending=[False]).groupby('classifier').head(1)\n",
    "top_results"
   ]
  },
  {
   "cell_type": "markdown",
   "metadata": {},
   "source": [
    "### Graph the results base on the list of best classifiers above"
   ]
  },
  {
   "cell_type": "code",
   "execution_count": null,
   "metadata": {},
   "outputs": [],
   "source": [
    "temp = filter_top_model_results(top_results, all_results)\n",
    "plot_roc_prc(temp)"
   ]
  },
  {
   "cell_type": "code",
   "execution_count": null,
   "metadata": {},
   "outputs": [],
   "source": []
  },
  {
   "cell_type": "code",
   "execution_count": null,
   "metadata": {},
   "outputs": [],
   "source": []
  },
  {
   "cell_type": "code",
   "execution_count": null,
   "metadata": {},
   "outputs": [],
   "source": []
  },
  {
   "cell_type": "code",
   "execution_count": null,
   "metadata": {},
   "outputs": [],
   "source": []
  },
  {
   "cell_type": "code",
   "execution_count": null,
   "metadata": {},
   "outputs": [],
   "source": [
    "## Just try an SVM \n",
    "from sklearn.svm import SVC\n",
    "from sklearn.svm import LinearSVC\n",
    "from sklearn.linear_model import SGDClassifier"
   ]
  },
  {
   "cell_type": "code",
   "execution_count": null,
   "metadata": {},
   "outputs": [],
   "source": [
    "%%time\n",
    "model_train_results = train_model(base_dataset, sampling_method = 'under', classifiers = [('SGDClassifier', SGDClassifier(loss='log'))])"
   ]
  },
  {
   "cell_type": "code",
   "execution_count": null,
   "metadata": {},
   "outputs": [],
   "source": []
  },
  {
   "cell_type": "code",
   "execution_count": null,
   "metadata": {},
   "outputs": [],
   "source": [
    "## Print the feature importance \n",
    "\n",
    "feature_index = np.flip(np.argsort(model.feature_importances_), axis=0)\n",
    "ordered_features = []\n",
    "column_names = X_test.columns\n",
    "\n",
    "for i in feature_index[0:10]:\n",
    "    print(np.round(model.feature_importances_[i], 3), ' --> ', column_names[i])\n",
    "    ordered_features.append(column_names[i])"
   ]
  },
  {
   "cell_type": "code",
   "execution_count": null,
   "metadata": {
    "code_folding": [],
    "scrolled": false
   },
   "outputs": [],
   "source": [
    "## Print the permutation importance \n",
    "\n",
    "import eli5\n",
    "from eli5.sklearn import PermutationImportance\n",
    "\n",
    "_, X_test, _, y_test = prepare_train_test_split(model_dataset, 0)\n",
    "\n",
    "perm = PermutationImportance(model, random_state=1).fit(X_test, y_test)\n",
    "\n",
    "eli5.show_weights(perm, feature_names = X_test.columns.tolist())"
   ]
  },
  {
   "cell_type": "code",
   "execution_count": null,
   "metadata": {},
   "outputs": [],
   "source": [
    "#model_name, model = model_train_results[1][2]\n",
    "\n",
    "for model_name, model in model_train_results[1]:\n",
    "    probs = model.predict_proba(X_test)[:, 1]\n",
    "    pr_data = plot_precision_recall(\n",
    "        y_test, probs, title='PR Curve for {0}'.format(model_name))"
   ]
  },
  {
   "cell_type": "code",
   "execution_count": null,
   "metadata": {},
   "outputs": [],
   "source": [
    "probs = model.predict_proba(X_test)[:, 1]\n",
    "pr_data = plot_precision_recall(\n",
    "    y_test, probs, title='PR Curve for {0}'.format(model_name))"
   ]
  },
  {
   "cell_type": "code",
   "execution_count": null,
   "metadata": {},
   "outputs": [],
   "source": [
    "pr_data = plot_roc(\n",
    "    y_test, probs, title='ROC Curve for {0}'.format(model_name))"
   ]
  },
  {
   "cell_type": "code",
   "execution_count": null,
   "metadata": {},
   "outputs": [],
   "source": [
    "print(plt.style.available)"
   ]
  },
  {
   "cell_type": "code",
   "execution_count": null,
   "metadata": {},
   "outputs": [],
   "source": []
  },
  {
   "cell_type": "code",
   "execution_count": null,
   "metadata": {},
   "outputs": [],
   "source": [
    "model_dataset.head()"
   ]
  },
  {
   "cell_type": "code",
   "execution_count": null,
   "metadata": {},
   "outputs": [],
   "source": []
  },
  {
   "cell_type": "code",
   "execution_count": null,
   "metadata": {},
   "outputs": [],
   "source": []
  },
  {
   "cell_type": "code",
   "execution_count": null,
   "metadata": {},
   "outputs": [],
   "source": [
    "print(\"Original Data distribution\")\n",
    "print(model_dataset['is_churn'].value_counts())"
   ]
  },
  {
   "cell_type": "code",
   "execution_count": null,
   "metadata": {},
   "outputs": [],
   "source": [
    "# Display new class counts\n",
    "print('Sci-Kit Learn : resample : Down Sampled data set')\n",
    "train_downsample = undersampled_dataset(model_dataset, 'is_churn')\n",
    "\n",
    "print(train_downsample['is_churn'].value_counts())\n",
    "print(\"Num records = \", train_downsample.shape[0])\n",
    "train_downsample.is_churn.value_counts().plot(kind='bar', title='Count (target)')"
   ]
  },
  {
   "cell_type": "code",
   "execution_count": null,
   "metadata": {},
   "outputs": [],
   "source": [
    "# Display new class counts\n",
    "print('Sci-Kit Learn : resample : Up Sampled data set')\n",
    "train_upsample = oversampled_dataset(model_dataset, 'is_churn')\n",
    "\n",
    "print(train_upsample['is_churn'].value_counts())\n",
    "print(\"Num records = \", train_upsample.shape[0])\n",
    "train_upsample.is_churn.value_counts().plot(kind='bar', title='Count (target)')"
   ]
  },
  {
   "cell_type": "code",
   "execution_count": null,
   "metadata": {},
   "outputs": [],
   "source": []
  },
  {
   "cell_type": "code",
   "execution_count": null,
   "metadata": {},
   "outputs": [],
   "source": []
  },
  {
   "cell_type": "code",
   "execution_count": null,
   "metadata": {},
   "outputs": [],
   "source": []
  },
  {
   "cell_type": "code",
   "execution_count": null,
   "metadata": {
    "scrolled": false
   },
   "outputs": [],
   "source": [
    "probs = model.predict_proba(X_test)[:, 1]\n",
    "pr_data = plot_precision_recall(\n",
    "    y_test, probs, title='Precision-Recall Curve for Random Forest')"
   ]
  },
  {
   "cell_type": "code",
   "execution_count": null,
   "metadata": {},
   "outputs": [],
   "source": [
    "precision_above = pr_data.loc[pr_data['precision'] >= 0.25].copy()\n",
    "precision_above.sort_values('recall', ascending=False, inplace=True)\n",
    "precision_above.head()"
   ]
  },
  {
   "cell_type": "code",
   "execution_count": null,
   "metadata": {},
   "outputs": [],
   "source": []
  },
  {
   "cell_type": "code",
   "execution_count": null,
   "metadata": {},
   "outputs": [],
   "source": []
  },
  {
   "cell_type": "code",
   "execution_count": null,
   "metadata": {},
   "outputs": [],
   "source": []
  },
  {
   "cell_type": "code",
   "execution_count": null,
   "metadata": {
    "scrolled": false
   },
   "outputs": [],
   "source": [
    "threshold_required = 0.5\n",
    "# Make predictions where probability is above threshold\n",
    "preds = np.zeros(len(y_test))\n",
    "preds[probs >= threshold_required] = 1\n",
    "\n",
    "# Make and plot confusion matrix\n",
    "cm = confusion_matrix(y_test, preds)\n",
    "plot_confusion_matrix(cm, classes=['No Churn', 'Churn'],\n",
    "                      title='Churn Confusion Matrix')"
   ]
  },
  {
   "cell_type": "code",
   "execution_count": null,
   "metadata": {},
   "outputs": [],
   "source": [
    "model_dataset.head()"
   ]
  },
  {
   "cell_type": "code",
   "execution_count": null,
   "metadata": {},
   "outputs": [],
   "source": [
    "fi = pd.DataFrame({'importance': model.feature_importances_}, index=model_dataset.iloc[:, 1:].columns).\\\n",
    "    sort_values('importance', ascending=False)\n",
    "fi.head(10)"
   ]
  },
  {
   "cell_type": "code",
   "execution_count": null,
   "metadata": {},
   "outputs": [],
   "source": []
  },
  {
   "cell_type": "code",
   "execution_count": null,
   "metadata": {},
   "outputs": [],
   "source": []
  },
  {
   "cell_type": "code",
   "execution_count": null,
   "metadata": {},
   "outputs": [],
   "source": []
  },
  {
   "cell_type": "code",
   "execution_count": null,
   "metadata": {},
   "outputs": [],
   "source": []
  },
  {
   "cell_type": "code",
   "execution_count": null,
   "metadata": {},
   "outputs": [],
   "source": []
  }
 ],
 "metadata": {
  "kernelspec": {
   "display_name": "Python 3",
   "language": "python",
   "name": "python3"
  },
  "language_info": {
   "codemirror_mode": {
    "name": "ipython",
    "version": 3
   },
   "file_extension": ".py",
   "mimetype": "text/x-python",
   "name": "python",
   "nbconvert_exporter": "python",
   "pygments_lexer": "ipython3",
   "version": "3.7.3"
  }
 },
 "nbformat": 4,
 "nbformat_minor": 2
}
