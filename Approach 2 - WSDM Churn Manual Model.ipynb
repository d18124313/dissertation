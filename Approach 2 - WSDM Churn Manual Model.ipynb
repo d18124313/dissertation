{
 "cells": [
  {
   "cell_type": "code",
   "execution_count": 1,
   "metadata": {
    "init_cell": true
   },
   "outputs": [],
   "source": [
    "## @see https://www.kaggle.com/toorkp/churn-wsdm/data"
   ]
  },
  {
   "cell_type": "code",
   "execution_count": 1,
   "metadata": {
    "init_cell": true,
    "scrolled": true
   },
   "outputs": [],
   "source": [
    "%load_ext autoreload\n",
    "%autoreload"
   ]
  },
  {
   "cell_type": "code",
   "execution_count": 2,
   "metadata": {
    "init_cell": true
   },
   "outputs": [],
   "source": [
    "import numpy as np\n",
    "import pandas as pd\n",
    "import time\n",
    "import gc; gc.enable()\n",
    "import time\n",
    "import sys\n",
    "\n",
    "from sklearn import model_selection\n",
    "from sklearn.neighbors import KNeighborsClassifier\n",
    "from sklearn.tree import DecisionTreeClassifier\n",
    "from sklearn.ensemble import RandomForestClassifier, AdaBoostClassifier\n",
    "from sklearn.linear_model import LogisticRegression\n",
    "from sklearn.naive_bayes import GaussianNB\n",
    "from sklearn.model_selection import train_test_split\n",
    "from sklearn.metrics import accuracy_score, roc_curve, auc, confusion_matrix, f1_score, log_loss, confusion_matrix\n",
    "from sklearn.neural_network import MLPClassifier\n",
    "\n",
    "pd.options.display.float_format = \"{:.2f}\".format\n",
    "np.set_printoptions(precision=4)\n",
    "\n",
    "import matplotlib.pyplot as plt\n",
    "%matplotlib inline\n",
    "\n",
    "sys.path.append('modules')\n",
    "\n",
    "from shared_functions import *"
   ]
  },
  {
   "cell_type": "code",
   "execution_count": 4,
   "metadata": {
    "scrolled": true
   },
   "outputs": [
    {
     "data": {
      "text/html": [
       "<div>\n",
       "<style scoped>\n",
       "    .dataframe tbody tr th:only-of-type {\n",
       "        vertical-align: middle;\n",
       "    }\n",
       "\n",
       "    .dataframe tbody tr th {\n",
       "        vertical-align: top;\n",
       "    }\n",
       "\n",
       "    .dataframe thead th {\n",
       "        text-align: right;\n",
       "    }\n",
       "</style>\n",
       "<table border=\"1\" class=\"dataframe\">\n",
       "  <thead>\n",
       "    <tr style=\"text-align: right;\">\n",
       "      <th></th>\n",
       "      <th>msno</th>\n",
       "      <th>is_churn</th>\n",
       "      <th>city</th>\n",
       "      <th>bd</th>\n",
       "      <th>gender</th>\n",
       "      <th>registered_via</th>\n",
       "      <th>registration_init_time</th>\n",
       "      <th>registration_init_time_dt</th>\n",
       "      <th>age_cat</th>\n",
       "      <th>total_order</th>\n",
       "      <th>...</th>\n",
       "      <th>payment_method_id_count</th>\n",
       "      <th>payment_plan_days_mode</th>\n",
       "      <th>payment_plan_days_mean</th>\n",
       "      <th>plan_list_price_mean</th>\n",
       "      <th>plan_lifetime_value</th>\n",
       "      <th>actual_amount_mean</th>\n",
       "      <th>total_actual_amount</th>\n",
       "      <th>is_auto_renew_mode</th>\n",
       "      <th>cancel_times</th>\n",
       "      <th>transaction_date_delta</th>\n",
       "    </tr>\n",
       "  </thead>\n",
       "  <tbody>\n",
       "    <tr>\n",
       "      <th>0</th>\n",
       "      <td>ugx0CjOMzazClkFzU2xasmDZaoIqOUAZPsH1q0teWCg=</td>\n",
       "      <td>1</td>\n",
       "      <td>5</td>\n",
       "      <td>28</td>\n",
       "      <td>male</td>\n",
       "      <td>3</td>\n",
       "      <td>20131223</td>\n",
       "      <td>2013-12-23</td>\n",
       "      <td>28</td>\n",
       "      <td>6</td>\n",
       "      <td>...</td>\n",
       "      <td>2</td>\n",
       "      <td>0</td>\n",
       "      <td>10.00</td>\n",
       "      <td>49.67</td>\n",
       "      <td>298.00</td>\n",
       "      <td>149.00</td>\n",
       "      <td>894.00</td>\n",
       "      <td>True</td>\n",
       "      <td>1</td>\n",
       "      <td>700.00</td>\n",
       "    </tr>\n",
       "    <tr>\n",
       "      <th>1</th>\n",
       "      <td>f/NmvEzHfhINFEYZTR05prUdr+E+3+oewvweYz9cCQE=</td>\n",
       "      <td>1</td>\n",
       "      <td>13</td>\n",
       "      <td>20</td>\n",
       "      <td>male</td>\n",
       "      <td>3</td>\n",
       "      <td>20131223</td>\n",
       "      <td>2013-12-23</td>\n",
       "      <td>20</td>\n",
       "      <td>5</td>\n",
       "      <td>...</td>\n",
       "      <td>3</td>\n",
       "      <td>30</td>\n",
       "      <td>25.40</td>\n",
       "      <td>125.40</td>\n",
       "      <td>627.00</td>\n",
       "      <td>125.40</td>\n",
       "      <td>627.00</td>\n",
       "      <td>False</td>\n",
       "      <td>0</td>\n",
       "      <td>344.00</td>\n",
       "    </tr>\n",
       "    <tr>\n",
       "      <th>2</th>\n",
       "      <td>zLo9f73nGGT1p21ltZC3ChiRnAVvgibMyazbCxvWPcg=</td>\n",
       "      <td>1</td>\n",
       "      <td>13</td>\n",
       "      <td>18</td>\n",
       "      <td>male</td>\n",
       "      <td>3</td>\n",
       "      <td>20131227</td>\n",
       "      <td>2013-12-27</td>\n",
       "      <td>18</td>\n",
       "      <td>18</td>\n",
       "      <td>...</td>\n",
       "      <td>1</td>\n",
       "      <td>30</td>\n",
       "      <td>30.00</td>\n",
       "      <td>149.00</td>\n",
       "      <td>2682.00</td>\n",
       "      <td>149.00</td>\n",
       "      <td>2682.00</td>\n",
       "      <td>False</td>\n",
       "      <td>0</td>\n",
       "      <td>530.00</td>\n",
       "    </tr>\n",
       "    <tr>\n",
       "      <th>3</th>\n",
       "      <td>8iF/+8HY8lJKFrTc7iR9ZYGCG2Ecrogbc2Vy5YhsfhQ=</td>\n",
       "      <td>1</td>\n",
       "      <td>1</td>\n",
       "      <td>0</td>\n",
       "      <td>unknown</td>\n",
       "      <td>7</td>\n",
       "      <td>20140109</td>\n",
       "      <td>2014-01-09</td>\n",
       "      <td>0</td>\n",
       "      <td>19</td>\n",
       "      <td>...</td>\n",
       "      <td>2</td>\n",
       "      <td>30</td>\n",
       "      <td>25.63</td>\n",
       "      <td>125.47</td>\n",
       "      <td>2384.00</td>\n",
       "      <td>141.16</td>\n",
       "      <td>2682.00</td>\n",
       "      <td>True</td>\n",
       "      <td>3</td>\n",
       "      <td>413.00</td>\n",
       "    </tr>\n",
       "    <tr>\n",
       "      <th>4</th>\n",
       "      <td>K6fja4+jmoZ5xG6BypqX80Uw/XKpMgrEMdG2edFOxnA=</td>\n",
       "      <td>1</td>\n",
       "      <td>13</td>\n",
       "      <td>35</td>\n",
       "      <td>female</td>\n",
       "      <td>7</td>\n",
       "      <td>20140125</td>\n",
       "      <td>2014-01-25</td>\n",
       "      <td>35</td>\n",
       "      <td>24</td>\n",
       "      <td>...</td>\n",
       "      <td>1</td>\n",
       "      <td>30</td>\n",
       "      <td>26.25</td>\n",
       "      <td>105.38</td>\n",
       "      <td>2529.00</td>\n",
       "      <td>123.17</td>\n",
       "      <td>2956.00</td>\n",
       "      <td>True</td>\n",
       "      <td>2</td>\n",
       "      <td>586.00</td>\n",
       "    </tr>\n",
       "  </tbody>\n",
       "</table>\n",
       "<p>5 rows × 21 columns</p>\n",
       "</div>"
      ],
      "text/plain": [
       "                                           msno  is_churn city  bd   gender  \\\n",
       "0  ugx0CjOMzazClkFzU2xasmDZaoIqOUAZPsH1q0teWCg=         1    5  28     male   \n",
       "1  f/NmvEzHfhINFEYZTR05prUdr+E+3+oewvweYz9cCQE=         1   13  20     male   \n",
       "2  zLo9f73nGGT1p21ltZC3ChiRnAVvgibMyazbCxvWPcg=         1   13  18     male   \n",
       "3  8iF/+8HY8lJKFrTc7iR9ZYGCG2Ecrogbc2Vy5YhsfhQ=         1    1   0  unknown   \n",
       "4  K6fja4+jmoZ5xG6BypqX80Uw/XKpMgrEMdG2edFOxnA=         1   13  35   female   \n",
       "\n",
       "  registered_via  registration_init_time registration_init_time_dt age_cat  \\\n",
       "0              3                20131223                2013-12-23      28   \n",
       "1              3                20131223                2013-12-23      20   \n",
       "2              3                20131227                2013-12-27      18   \n",
       "3              7                20140109                2014-01-09       0   \n",
       "4              7                20140125                2014-01-25      35   \n",
       "\n",
       "   total_order  ...  payment_method_id_count  payment_plan_days_mode  \\\n",
       "0            6  ...                        2                       0   \n",
       "1            5  ...                        3                      30   \n",
       "2           18  ...                        1                      30   \n",
       "3           19  ...                        2                      30   \n",
       "4           24  ...                        1                      30   \n",
       "\n",
       "   payment_plan_days_mean  plan_list_price_mean  plan_lifetime_value  \\\n",
       "0                   10.00                 49.67               298.00   \n",
       "1                   25.40                125.40               627.00   \n",
       "2                   30.00                149.00              2682.00   \n",
       "3                   25.63                125.47              2384.00   \n",
       "4                   26.25                105.38              2529.00   \n",
       "\n",
       "   actual_amount_mean  total_actual_amount  is_auto_renew_mode  cancel_times  \\\n",
       "0              149.00               894.00                True             1   \n",
       "1              125.40               627.00               False             0   \n",
       "2              149.00              2682.00               False             0   \n",
       "3              141.16              2682.00                True             3   \n",
       "4              123.17              2956.00                True             2   \n",
       "\n",
       "   transaction_date_delta  \n",
       "0                  700.00  \n",
       "1                  344.00  \n",
       "2                  530.00  \n",
       "3                  413.00  \n",
       "4                  586.00  \n",
       "\n",
       "[5 rows x 21 columns]"
      ]
     },
     "execution_count": 4,
     "metadata": {},
     "output_type": "execute_result"
    }
   ],
   "source": [
    "base_dataset = pd.read_hdf('/home/dissertation/data/feat_eng_abt.h5', 'feat_eng_abt')\n",
    "base_dataset.drop(['transaction_date_min', 'transaction_date_max'], axis = 1, inplace=True)\n",
    "base_dataset.head()"
   ]
  },
  {
   "cell_type": "code",
   "execution_count": 3,
   "metadata": {},
   "outputs": [
    {
     "ename": "NameError",
     "evalue": "name 'base_dataset' is not defined",
     "output_type": "error",
     "traceback": [
      "\u001b[0;31m---------------------------------------------------------------------------\u001b[0m",
      "\u001b[0;31mNameError\u001b[0m                                 Traceback (most recent call last)",
      "\u001b[0;32m<ipython-input-3-3709163c4ebc>\u001b[0m in \u001b[0;36m<module>\u001b[0;34m\u001b[0m\n\u001b[1;32m      3\u001b[0m                 \u001b[0;34m'total_order'\u001b[0m\u001b[0;34m,\u001b[0m \u001b[0;34m'plan_list_price_mean'\u001b[0m\u001b[0;34m,\u001b[0m \u001b[0;34m'plan_lifetime_value'\u001b[0m\u001b[0;34m,\u001b[0m\u001b[0;31m\\\u001b[0m\u001b[0;34m\u001b[0m\u001b[0;34m\u001b[0m\u001b[0m\n\u001b[1;32m      4\u001b[0m                 'cancel_times']\n\u001b[0;32m----> 5\u001b[0;31m \u001b[0mbase_dataset\u001b[0m \u001b[0;34m=\u001b[0m \u001b[0mbase_dataset\u001b[0m\u001b[0;34m[\u001b[0m\u001b[0mcols_to_keep\u001b[0m\u001b[0;34m]\u001b[0m\u001b[0;34m\u001b[0m\u001b[0;34m\u001b[0m\u001b[0m\n\u001b[0m",
      "\u001b[0;31mNameError\u001b[0m: name 'base_dataset' is not defined"
     ]
    }
   ],
   "source": [
    "cols_to_keep = ['msno', 'is_churn', 'city', 'bd', 'gender', 'registered_via',\\\n",
    "                'registration_init_time', 'registration_init_time_dt',\\\n",
    "                'total_order', 'plan_list_price_mean', 'plan_lifetime_value',\\\n",
    "                'cancel_times']\n",
    "base_dataset = base_dataset[cols_to_keep]"
   ]
  },
  {
   "cell_type": "code",
   "execution_count": 6,
   "metadata": {
    "scrolled": false
   },
   "outputs": [
    {
     "name": "stdout",
     "output_type": "stream",
     "text": [
      "Categorical columns in dataset ['city', 'registered_via']\n",
      "(858935, 44)\n",
      "(858935, 44)\n"
     ]
    },
    {
     "data": {
      "text/html": [
       "<div>\n",
       "<style scoped>\n",
       "    .dataframe tbody tr th:only-of-type {\n",
       "        vertical-align: middle;\n",
       "    }\n",
       "\n",
       "    .dataframe tbody tr th {\n",
       "        vertical-align: top;\n",
       "    }\n",
       "\n",
       "    .dataframe thead th {\n",
       "        text-align: right;\n",
       "    }\n",
       "</style>\n",
       "<table border=\"1\" class=\"dataframe\">\n",
       "  <thead>\n",
       "    <tr style=\"text-align: right;\">\n",
       "      <th></th>\n",
       "      <th>is_churn</th>\n",
       "      <th>registration_init_time</th>\n",
       "      <th>registration_init_time_dt</th>\n",
       "      <th>total_order</th>\n",
       "      <th>plan_list_price_mean</th>\n",
       "      <th>plan_lifetime_value</th>\n",
       "      <th>cancel_times</th>\n",
       "      <th>ohe_city_10</th>\n",
       "      <th>ohe_city_11</th>\n",
       "      <th>ohe_city_12</th>\n",
       "      <th>...</th>\n",
       "      <th>ohe_registered_via_4</th>\n",
       "      <th>ohe_registered_via_5</th>\n",
       "      <th>ohe_registered_via_6</th>\n",
       "      <th>ohe_registered_via_7</th>\n",
       "      <th>ohe_registered_via_8</th>\n",
       "      <th>ohe_registered_via_9</th>\n",
       "      <th>ohe_registered_via_1</th>\n",
       "      <th>ohe_registered_via_18</th>\n",
       "      <th>ohe_registered_via_10</th>\n",
       "      <th>ohe_registered_via_-1</th>\n",
       "    </tr>\n",
       "  </thead>\n",
       "  <tbody>\n",
       "    <tr>\n",
       "      <th>0</th>\n",
       "      <td>1</td>\n",
       "      <td>20131223</td>\n",
       "      <td>2013-12-23</td>\n",
       "      <td>6</td>\n",
       "      <td>49.67</td>\n",
       "      <td>298.00</td>\n",
       "      <td>1</td>\n",
       "      <td>0</td>\n",
       "      <td>0</td>\n",
       "      <td>0</td>\n",
       "      <td>...</td>\n",
       "      <td>0</td>\n",
       "      <td>0</td>\n",
       "      <td>0</td>\n",
       "      <td>0</td>\n",
       "      <td>0</td>\n",
       "      <td>0</td>\n",
       "      <td>0</td>\n",
       "      <td>0</td>\n",
       "      <td>0</td>\n",
       "      <td>0</td>\n",
       "    </tr>\n",
       "    <tr>\n",
       "      <th>1</th>\n",
       "      <td>1</td>\n",
       "      <td>20131223</td>\n",
       "      <td>2013-12-23</td>\n",
       "      <td>5</td>\n",
       "      <td>125.40</td>\n",
       "      <td>627.00</td>\n",
       "      <td>0</td>\n",
       "      <td>0</td>\n",
       "      <td>0</td>\n",
       "      <td>0</td>\n",
       "      <td>...</td>\n",
       "      <td>0</td>\n",
       "      <td>0</td>\n",
       "      <td>0</td>\n",
       "      <td>0</td>\n",
       "      <td>0</td>\n",
       "      <td>0</td>\n",
       "      <td>0</td>\n",
       "      <td>0</td>\n",
       "      <td>0</td>\n",
       "      <td>0</td>\n",
       "    </tr>\n",
       "    <tr>\n",
       "      <th>2</th>\n",
       "      <td>1</td>\n",
       "      <td>20131227</td>\n",
       "      <td>2013-12-27</td>\n",
       "      <td>18</td>\n",
       "      <td>149.00</td>\n",
       "      <td>2682.00</td>\n",
       "      <td>0</td>\n",
       "      <td>0</td>\n",
       "      <td>0</td>\n",
       "      <td>0</td>\n",
       "      <td>...</td>\n",
       "      <td>0</td>\n",
       "      <td>0</td>\n",
       "      <td>0</td>\n",
       "      <td>0</td>\n",
       "      <td>0</td>\n",
       "      <td>0</td>\n",
       "      <td>0</td>\n",
       "      <td>0</td>\n",
       "      <td>0</td>\n",
       "      <td>0</td>\n",
       "    </tr>\n",
       "    <tr>\n",
       "      <th>3</th>\n",
       "      <td>1</td>\n",
       "      <td>20140109</td>\n",
       "      <td>2014-01-09</td>\n",
       "      <td>19</td>\n",
       "      <td>125.47</td>\n",
       "      <td>2384.00</td>\n",
       "      <td>3</td>\n",
       "      <td>0</td>\n",
       "      <td>0</td>\n",
       "      <td>0</td>\n",
       "      <td>...</td>\n",
       "      <td>0</td>\n",
       "      <td>0</td>\n",
       "      <td>0</td>\n",
       "      <td>1</td>\n",
       "      <td>0</td>\n",
       "      <td>0</td>\n",
       "      <td>0</td>\n",
       "      <td>0</td>\n",
       "      <td>0</td>\n",
       "      <td>0</td>\n",
       "    </tr>\n",
       "    <tr>\n",
       "      <th>4</th>\n",
       "      <td>1</td>\n",
       "      <td>20140125</td>\n",
       "      <td>2014-01-25</td>\n",
       "      <td>24</td>\n",
       "      <td>105.38</td>\n",
       "      <td>2529.00</td>\n",
       "      <td>2</td>\n",
       "      <td>0</td>\n",
       "      <td>0</td>\n",
       "      <td>0</td>\n",
       "      <td>...</td>\n",
       "      <td>0</td>\n",
       "      <td>0</td>\n",
       "      <td>0</td>\n",
       "      <td>1</td>\n",
       "      <td>0</td>\n",
       "      <td>0</td>\n",
       "      <td>0</td>\n",
       "      <td>0</td>\n",
       "      <td>0</td>\n",
       "      <td>0</td>\n",
       "    </tr>\n",
       "  </tbody>\n",
       "</table>\n",
       "<p>5 rows × 44 columns</p>\n",
       "</div>"
      ],
      "text/plain": [
       "   is_churn  registration_init_time registration_init_time_dt  total_order  \\\n",
       "0         1                20131223                2013-12-23            6   \n",
       "1         1                20131223                2013-12-23            5   \n",
       "2         1                20131227                2013-12-27           18   \n",
       "3         1                20140109                2014-01-09           19   \n",
       "4         1                20140125                2014-01-25           24   \n",
       "\n",
       "   plan_list_price_mean  plan_lifetime_value  cancel_times  ohe_city_10  \\\n",
       "0                 49.67               298.00             1            0   \n",
       "1                125.40               627.00             0            0   \n",
       "2                149.00              2682.00             0            0   \n",
       "3                125.47              2384.00             3            0   \n",
       "4                105.38              2529.00             2            0   \n",
       "\n",
       "   ohe_city_11  ohe_city_12  ...  ohe_registered_via_4  ohe_registered_via_5  \\\n",
       "0            0            0  ...                     0                     0   \n",
       "1            0            0  ...                     0                     0   \n",
       "2            0            0  ...                     0                     0   \n",
       "3            0            0  ...                     0                     0   \n",
       "4            0            0  ...                     0                     0   \n",
       "\n",
       "   ohe_registered_via_6  ohe_registered_via_7  ohe_registered_via_8  \\\n",
       "0                     0                     0                     0   \n",
       "1                     0                     0                     0   \n",
       "2                     0                     0                     0   \n",
       "3                     0                     1                     0   \n",
       "4                     0                     1                     0   \n",
       "\n",
       "   ohe_registered_via_9  ohe_registered_via_1  ohe_registered_via_18  \\\n",
       "0                     0                     0                      0   \n",
       "1                     0                     0                      0   \n",
       "2                     0                     0                      0   \n",
       "3                     0                     0                      0   \n",
       "4                     0                     0                      0   \n",
       "\n",
       "   ohe_registered_via_10  ohe_registered_via_-1  \n",
       "0                      0                      0  \n",
       "1                      0                      0  \n",
       "2                      0                      0  \n",
       "3                      0                      0  \n",
       "4                      0                      0  \n",
       "\n",
       "[5 rows x 44 columns]"
      ]
     },
     "execution_count": 6,
     "metadata": {},
     "output_type": "execute_result"
    }
   ],
   "source": [
    "## Simple Data Prep \n",
    "base_dataset = base_dataset.drop(labels =['msno', 'bd', 'gender'], axis=1)\n",
    "\n",
    "base_dataset = OHE(base_dataset, col = ['city', 'registered_via'])\n",
    "\n",
    "## Simply drops records with NA ast this stage\n",
    "base_dataset = clean_dataset(base_dataset)\n",
    "\n",
    "print(base_dataset.shape)\n",
    "base_dataset.head()"
   ]
  },
  {
   "cell_type": "code",
   "execution_count": 7,
   "metadata": {},
   "outputs": [],
   "source": [
    "## Each entry in the list is a Tuple of\n",
    "##   [ModelName, Model, HyperParams, ScoringMetric]\n",
    "classifiers = [\n",
    "    #('NB', GaussianNB(), {}, 'f1'),\n",
    "    ('DT', DecisionTreeClassifier(), {\"max_depth\":[10,25,50], \"min_samples_leaf\":[5,10,15,30]}, 'recall'),\n",
    "    #('DT', DecisionTreeClassifier(), {}, 'f1'),\n",
    "    #('RF', RandomForestClassifier(), {}, 'f1'),\n",
    "    #('LR', LogisticRegression(), {}, 'f1'),\n",
    "    #('AB', AdaBoostClassifier(), {}, 'f1'),\n",
    "    #('MLP', MLPClassifier(), {}, 'f1')\n",
    "]"
   ]
  },
  {
   "cell_type": "markdown",
   "metadata": {},
   "source": [
    "### Experiment 1.1 Baseline - Default Settings - No sampling"
   ]
  },
  {
   "cell_type": "code",
   "execution_count": 11,
   "metadata": {
    "scrolled": false
   },
   "outputs": [
    {
     "name": "stderr",
     "output_type": "stream",
     "text": [
      "/home/anaconda/lib/python3.7/site-packages/sklearn/model_selection/_split.py:2026: FutureWarning: From version 0.21, test_size will always complement train_size unless both are specified.\n",
      "  FutureWarning)\n"
     ]
    },
    {
     "name": "stdout",
     "output_type": "stream",
     "text": [
      "Applying normalisation to train and test sets\n"
     ]
    },
    {
     "data": {
      "image/png": "[encoded data removed]",
      "text/plain": [
       "<Figure size 432x288 with 2 Axes>"
      ]
     },
     "metadata": {
      "needs_background": "light"
     },
     "output_type": "display_data"
    },
    {
     "name": "stderr",
     "output_type": "stream",
     "text": [
      "/home/anaconda/lib/python3.7/site-packages/sklearn/model_selection/_split.py:2026: FutureWarning: From version 0.21, test_size will always complement train_size unless both are specified.\n",
      "  FutureWarning)\n"
     ]
    },
    {
     "name": "stdout",
     "output_type": "stream",
     "text": [
      "Applying normalisation to train and test sets\n",
      "Building DT classifier\n",
      "Optimising using GridSearchCV\n",
      "Fitting 5 folds for each of 12 candidates, totalling 60 fits\n",
      "[CV] max_depth=10, min_samples_leaf=5 ................................\n",
      "[CV] max_depth=10, min_samples_leaf=5 ................................\n",
      "[CV] max_depth=10, min_samples_leaf=5 ................................\n",
      "[CV] max_depth=10, min_samples_leaf=5 ................................\n",
      "[CV] max_depth=10, min_samples_leaf=5 ................................\n",
      "[CV] max_depth=10, min_samples_leaf=10 ...............................\n",
      "[CV] max_depth=10, min_samples_leaf=10 ...............................\n",
      "[CV] max_depth=10, min_samples_leaf=10 ...............................\n",
      "[CV] ................. max_depth=10, min_samples_leaf=5, total=   5.0s\n",
      "[CV] max_depth=10, min_samples_leaf=10 ...............................\n",
      "[CV] ................. max_depth=10, min_samples_leaf=5, total=   5.0s\n",
      "[CV] max_depth=10, min_samples_leaf=10 ...............................\n",
      "[CV] ................. max_depth=10, min_samples_leaf=5, total=   5.5s\n",
      "[CV] max_depth=10, min_samples_leaf=15 ...............................\n",
      "[CV] ................. max_depth=10, min_samples_leaf=5, total=   5.5s\n",
      "[CV] max_depth=10, min_samples_leaf=15 ...............................\n",
      "[CV] ................. max_depth=10, min_samples_leaf=5, total=   5.7s\n",
      "[CV] max_depth=10, min_samples_leaf=15 ...............................\n",
      "[CV] ................ max_depth=10, min_samples_leaf=10, total=   5.5s\n",
      "[CV] ................ max_depth=10, min_samples_leaf=10, total=   5.9s\n",
      "[CV] max_depth=10, min_samples_leaf=15 ...............................\n",
      "[CV] ................ max_depth=10, min_samples_leaf=10, total=   5.6s\n",
      "[CV] max_depth=10, min_samples_leaf=15 ...............................\n",
      "[CV] max_depth=10, min_samples_leaf=30 ...............................\n",
      "[CV] ................ max_depth=10, min_samples_leaf=10, total=   5.9s\n",
      "[CV] max_depth=10, min_samples_leaf=30 ...............................\n",
      "[CV] ................ max_depth=10, min_samples_leaf=10, total=   5.6s\n",
      "[CV] max_depth=10, min_samples_leaf=30 ...............................\n",
      "[CV] ................ max_depth=10, min_samples_leaf=15, total=   6.3s\n",
      "[CV] max_depth=10, min_samples_leaf=30 ...............................\n",
      "[CV] ................ max_depth=10, min_samples_leaf=15, total=   6.2s\n",
      "[CV] ................ max_depth=10, min_samples_leaf=15, total=   5.6s\n",
      "[CV] max_depth=10, min_samples_leaf=30 ...............................\n",
      "[CV] ................ max_depth=10, min_samples_leaf=15, total=   5.8s\n",
      "[CV] max_depth=25, min_samples_leaf=5 ................................\n",
      "[CV] ................ max_depth=10, min_samples_leaf=15, total=   6.1s\n",
      "[CV] max_depth=25, min_samples_leaf=5 ................................\n",
      "[CV] max_depth=25, min_samples_leaf=5 ................................\n",
      "[CV] ................ max_depth=10, min_samples_leaf=30, total=   6.0s\n",
      "[CV] max_depth=25, min_samples_leaf=5 ................................\n",
      "[CV] ................ max_depth=10, min_samples_leaf=30, total=   6.3s\n",
      "[CV] max_depth=25, min_samples_leaf=5 ................................\n",
      "[CV] ................ max_depth=10, min_samples_leaf=30, total=   5.8s\n",
      "[CV] max_depth=25, min_samples_leaf=10 ...............................\n",
      "[CV] ................ max_depth=10, min_samples_leaf=30, total=   7.7s\n",
      "[CV] max_depth=25, min_samples_leaf=10 ...............................\n",
      "[CV] ................ max_depth=10, min_samples_leaf=30, total=   6.7s\n",
      "[CV] max_depth=25, min_samples_leaf=10 ...............................\n",
      "[CV] ................. max_depth=25, min_samples_leaf=5, total=  10.2s\n",
      "[CV] max_depth=25, min_samples_leaf=10 ...............................\n",
      "[CV] ................. max_depth=25, min_samples_leaf=5, total=   9.6s\n",
      "[CV] max_depth=25, min_samples_leaf=10 ...............................\n",
      "[CV] ................. max_depth=25, min_samples_leaf=5, total=  10.0s\n",
      "[CV] max_depth=25, min_samples_leaf=15 ...............................\n",
      "[CV] ................. max_depth=25, min_samples_leaf=5, total=  11.8s\n",
      "[CV] max_depth=25, min_samples_leaf=15 ...............................\n",
      "[CV] ................ max_depth=25, min_samples_leaf=10, total=   9.7s\n",
      "[CV] max_depth=25, min_samples_leaf=15 ...............................\n",
      "[CV] ................. max_depth=25, min_samples_leaf=5, total=  10.8s\n"
     ]
    },
    {
     "name": "stderr",
     "output_type": "stream",
     "text": [
      "[Parallel(n_jobs=-1)]: Done  25 tasks      | elapsed:   30.5s\n"
     ]
    },
    {
     "name": "stdout",
     "output_type": "stream",
     "text": [
      "[CV] max_depth=25, min_samples_leaf=15 ...............................\n",
      "[CV] ................ max_depth=25, min_samples_leaf=10, total=  10.3s\n",
      "[CV] max_depth=25, min_samples_leaf=15 ...............................\n",
      "[CV] ................ max_depth=25, min_samples_leaf=10, total=  10.8s\n",
      "[CV] max_depth=25, min_samples_leaf=30 ...............................\n",
      "[CV] ................ max_depth=25, min_samples_leaf=10, total=  11.7s\n",
      "[CV] max_depth=25, min_samples_leaf=30 ...............................\n",
      "[CV] ................ max_depth=25, min_samples_leaf=10, total=  12.7s\n",
      "[CV] max_depth=25, min_samples_leaf=30 ...............................\n",
      "[CV] ................ max_depth=25, min_samples_leaf=15, total=  11.7s\n",
      "[CV] max_depth=25, min_samples_leaf=30 ...............................\n",
      "[CV] ................ max_depth=25, min_samples_leaf=15, total=  13.2s\n",
      "[CV] max_depth=25, min_samples_leaf=30 ...............................\n",
      "[CV] ................ max_depth=25, min_samples_leaf=15, total=  11.7s\n",
      "[CV] max_depth=50, min_samples_leaf=5 ................................\n",
      "[CV] ................ max_depth=25, min_samples_leaf=15, total=  12.5s\n",
      "[CV] max_depth=50, min_samples_leaf=5 ................................\n",
      "[CV] ................ max_depth=25, min_samples_leaf=15, total=  11.6s\n",
      "[CV] max_depth=50, min_samples_leaf=5 ................................\n",
      "[CV] ................ max_depth=25, min_samples_leaf=30, total=  11.9s\n",
      "[CV] max_depth=50, min_samples_leaf=5 ................................\n",
      "[CV] ................ max_depth=25, min_samples_leaf=30, total=   8.5s\n",
      "[CV] max_depth=50, min_samples_leaf=5 ................................\n",
      "[CV] ................ max_depth=25, min_samples_leaf=30, total=   9.0s\n",
      "[CV] max_depth=50, min_samples_leaf=10 ...............................\n",
      "[CV] ................ max_depth=25, min_samples_leaf=30, total=   9.6s\n",
      "[CV] max_depth=50, min_samples_leaf=10 ...............................\n",
      "[CV] ................ max_depth=25, min_samples_leaf=30, total=   9.0s\n",
      "[CV] max_depth=50, min_samples_leaf=10 ...............................\n",
      "[CV] ................. max_depth=50, min_samples_leaf=5, total=   9.2s\n",
      "[CV] ................. max_depth=50, min_samples_leaf=5, total=  10.1s\n",
      "[CV] max_depth=50, min_samples_leaf=10 ...............................\n",
      "[CV] max_depth=50, min_samples_leaf=10 ...............................\n",
      "[CV] ................. max_depth=50, min_samples_leaf=5, total=   9.0s\n",
      "[CV] max_depth=50, min_samples_leaf=15 ...............................\n",
      "[CV] ................. max_depth=50, min_samples_leaf=5, total=   9.6s\n",
      "[CV] max_depth=50, min_samples_leaf=15 ...............................\n",
      "[CV] ................ max_depth=50, min_samples_leaf=10, total=   9.2s\n",
      "[CV] max_depth=50, min_samples_leaf=15 ...............................\n",
      "[CV] ................. max_depth=50, min_samples_leaf=5, total=   9.7s\n",
      "[CV] max_depth=50, min_samples_leaf=15 ...............................\n",
      "[CV] ................ max_depth=50, min_samples_leaf=10, total=  10.1s\n",
      "[CV] max_depth=50, min_samples_leaf=15 ...............................\n",
      "[CV] ................ max_depth=50, min_samples_leaf=10, total=   9.2s\n",
      "[CV] max_depth=50, min_samples_leaf=30 ...............................\n",
      "[CV] ................ max_depth=50, min_samples_leaf=10, total=   9.0s\n",
      "[CV] max_depth=50, min_samples_leaf=30 ...............................\n",
      "[CV] ................ max_depth=50, min_samples_leaf=10, total=   9.2s\n",
      "[CV] max_depth=50, min_samples_leaf=30 ...............................\n",
      "[CV] ................ max_depth=50, min_samples_leaf=15, total=   9.6s\n",
      "[CV] max_depth=50, min_samples_leaf=30 ...............................\n",
      "[CV] ................ max_depth=50, min_samples_leaf=15, total=   9.6s\n",
      "[CV] max_depth=50, min_samples_leaf=30 ...............................\n",
      "[CV] ................ max_depth=50, min_samples_leaf=15, total=   8.4s\n",
      "[CV] ................ max_depth=50, min_samples_leaf=15, total=   9.8s\n",
      "[CV] ................ max_depth=50, min_samples_leaf=15, total=   8.4s\n",
      "[CV] ................ max_depth=50, min_samples_leaf=30, total=   8.7s\n",
      "[CV] ................ max_depth=50, min_samples_leaf=30, total=   5.9s\n",
      "[CV] ................ max_depth=50, min_samples_leaf=30, total=   7.0s\n",
      "[CV] ................ max_depth=50, min_samples_leaf=30, total=   7.1s\n",
      "[CV] ................ max_depth=50, min_samples_leaf=30, total=   5.1s\n"
     ]
    },
    {
     "name": "stderr",
     "output_type": "stream",
     "text": [
      "[Parallel(n_jobs=-1)]: Done  60 out of  60 | elapsed:  1.2min finished\n"
     ]
    },
    {
     "name": "stdout",
     "output_type": "stream",
     "text": [
      "CLF: {'max_depth': 50, 'min_samples_leaf': 5}\n",
      "Performing 10-fold CV on test set\n",
      "P_Recall: 0.281; N_Recall: 0.985\n"
     ]
    },
    {
     "data": {
      "image/png": "[encoded data removed]",
      "text/plain": [
       "<Figure size 1152x576 with 2 Axes>"
      ]
     },
     "metadata": {
      "needs_background": "light"
     },
     "output_type": "display_data"
    },
    {
     "data": {
      "text/html": [
       "<div>\n",
       "<style scoped>\n",
       "    .dataframe tbody tr th:only-of-type {\n",
       "        vertical-align: middle;\n",
       "    }\n",
       "\n",
       "    .dataframe tbody tr th {\n",
       "        vertical-align: top;\n",
       "    }\n",
       "\n",
       "    .dataframe thead th {\n",
       "        text-align: right;\n",
       "    }\n",
       "</style>\n",
       "<table border=\"1\" class=\"dataframe\">\n",
       "  <thead>\n",
       "    <tr style=\"text-align: right;\">\n",
       "      <th></th>\n",
       "      <th>classifier</th>\n",
       "      <th>sampling_method</th>\n",
       "      <th>sampling_ratio</th>\n",
       "      <th>tn</th>\n",
       "      <th>fn</th>\n",
       "      <th>tp</th>\n",
       "      <th>fp</th>\n",
       "      <th>accuracy</th>\n",
       "      <th>precision</th>\n",
       "      <th>recall</th>\n",
       "      <th>f1_score</th>\n",
       "      <th>log_loss</th>\n",
       "      <th>time_taken</th>\n",
       "      <th>aucroc</th>\n",
       "      <th>auprc</th>\n",
       "      <th>bal_acc</th>\n",
       "      <th>cv_score</th>\n",
       "      <th>model_churn_cost</th>\n",
       "    </tr>\n",
       "  </thead>\n",
       "  <tbody>\n",
       "    <tr>\n",
       "      <th>0</th>\n",
       "      <td>DecisionTreeClassifier</td>\n",
       "      <td>None</td>\n",
       "      <td>None</td>\n",
       "      <td>230130</td>\n",
       "      <td>17314</td>\n",
       "      <td>6776</td>\n",
       "      <td>3461</td>\n",
       "      <td>0.92</td>\n",
       "      <td>0.66</td>\n",
       "      <td>0.28</td>\n",
       "      <td>0.39</td>\n",
       "      <td>2.78</td>\n",
       "      <td>75.21</td>\n",
       "      <td>0.79</td>\n",
       "      <td>0.46</td>\n",
       "      <td>0.63</td>\n",
       "      <td>[0.3720653789004458, 0.37569060773480656, 0.39...</td>\n",
       "      <td>5009750.00</td>\n",
       "    </tr>\n",
       "  </tbody>\n",
       "</table>\n",
       "</div>"
      ],
      "text/plain": [
       "               classifier sampling_method sampling_ratio      tn     fn    tp  \\\n",
       "0  DecisionTreeClassifier            None           None  230130  17314  6776   \n",
       "\n",
       "     fp  accuracy  precision  recall  f1_score  log_loss  time_taken  aucroc  \\\n",
       "0  3461      0.92       0.66    0.28      0.39      2.78       75.21    0.79   \n",
       "\n",
       "   auprc  bal_acc                                           cv_score  \\\n",
       "0   0.46     0.63  [0.3720653789004458, 0.37569060773480656, 0.39...   \n",
       "\n",
       "   model_churn_cost  \n",
       "0        5009750.00  "
      ]
     },
     "execution_count": 11,
     "metadata": {},
     "output_type": "execute_result"
    }
   ],
   "source": [
    "sampl_method = None\n",
    "sampl_ratio = None\n",
    "\n",
    "## sampling can be one of [None, 'under', 'over']\n",
    "X_train, X_test, y_train, y_test = prepare_train_test_split(base_dataset, 0, sampl_method, sampl_ratio)\n",
    "\n",
    "plt.subplot(1, 2, 1)\n",
    "y_train.value_counts().plot(kind='bar', title='Train Set - Count (target)')\n",
    "\n",
    "plt.subplot(1, 2, 2)\n",
    "y_test.value_counts().plot(kind='bar', title='Test Set - Count (target)')\n",
    "\n",
    "plt.tight_layout()\n",
    "plt.show()\n",
    "\n",
    "model_build_results = train_model(base_dataset, \n",
    "                                  sampling_method = sampl_method, sample_ratio = sampl_ratio, \n",
    "                                  classifiers = classifiers)\n",
    "\n",
    "metrics = model_build_results[0]\n",
    "\n",
    "plot_data = []\n",
    "for res in model_build_results[1]:\n",
    "    model_name, model, (fpr, tpr, roc_auc), (precision, recall, prc_auc) = res\n",
    "    plot_data.append((model_name, tpr, fpr, roc_auc, precision, recall, prc_auc))   \n",
    "    \n",
    "plot_roc_prc(plot_data)\n",
    "\n",
    "metrics"
   ]
  },
  {
   "cell_type": "code",
   "execution_count": null,
   "metadata": {},
   "outputs": [],
   "source": []
  },
  {
   "cell_type": "markdown",
   "metadata": {},
   "source": [
    "### Experiment 1.2 Baseline - Default Settings - Oversampled training set 100%"
   ]
  },
  {
   "cell_type": "code",
   "execution_count": null,
   "metadata": {},
   "outputs": [],
   "source": [
    "sampl_method = 'over'\n",
    "sampl_ratio = 1.0\n",
    "\n",
    "## sampling can be one of [None, 'under', 'over']\n",
    "X_train, X_test, y_train, y_test = prepare_train_test_split(base_dataset, 0, sampl_method, sampl_ratio)\n",
    "\n",
    "plt.subplot(1, 2, 1)\n",
    "y_train.value_counts().plot(kind='bar', title='Train Set - Count (target)')\n",
    "\n",
    "plt.subplot(1, 2, 2)\n",
    "y_test.value_counts().plot(kind='bar', title='Test Set - Count (target)')\n",
    "\n",
    "plt.tight_layout()\n",
    "plt.show()\n",
    "\n",
    "model_build_results = train_model(base_dataset, \n",
    "                                  sampling_method = sampl_method, sample_ratio = sampl_ratio, \n",
    "                                  classifiers = classifiers)\n",
    "\n",
    "metrics = pd.concat([metrics, model_build_results[0]])\n",
    "metrics.sort_values(['auprc'], ascending=[False])\n",
    "\n",
    "plot_data = []\n",
    "for res in model_build_results[1]:\n",
    "    model_name, model, (fpr, tpr, roc_auc), (precision, recall, prc_auc) = res\n",
    "    plot_data.append((model_name, tpr, fpr, roc_auc, precision, recall, prc_auc))   \n",
    "    \n",
    "plot_roc_prc(plot_data)\n",
    "\n",
    "metrics"
   ]
  },
  {
   "cell_type": "code",
   "execution_count": null,
   "metadata": {},
   "outputs": [],
   "source": []
  },
  {
   "cell_type": "markdown",
   "metadata": {},
   "source": [
    "### Experiment 1.3 Baseline - Default Settings - Undersampled training set"
   ]
  },
  {
   "cell_type": "code",
   "execution_count": null,
   "metadata": {},
   "outputs": [],
   "source": [
    "sampl_method = 'under'\n",
    "sampl_ratio = None\n",
    "\n",
    "## sampling can be one of [None, 'under', 'over']\n",
    "X_train, X_test, y_train, y_test = prepare_train_test_split(base_dataset, 0, sampl_method, sampl_ratio)\n",
    "\n",
    "plt.subplot(1, 2, 1)\n",
    "y_train.value_counts().plot(kind='bar', title='Train Set - Count (target)')\n",
    "\n",
    "plt.subplot(1, 2, 2)\n",
    "y_test.value_counts().plot(kind='bar', title='Test Set - Count (target)')\n",
    "\n",
    "plt.tight_layout()\n",
    "plt.show()\n",
    "\n",
    "model_build_results = train_model(base_dataset, \n",
    "                                  sampling_method = sampl_method, sample_ratio = sampl_ratio, \n",
    "                                  classifiers = classifiers)\n",
    "\n",
    "metrics = pd.concat([metrics, model_build_results[0]])\n",
    "metrics.sort_values(['auprc'], ascending=[False])\n",
    "\n",
    "plot_data = []\n",
    "for res in model_build_results[1]:\n",
    "    model_name, model, (fpr, tpr, roc_auc), (precision, recall, prc_auc) = res\n",
    "    plot_data.append((model_name, tpr, fpr, roc_auc, precision, recall, prc_auc))   \n",
    "    \n",
    "plot_roc_prc(plot_data)\n",
    "\n",
    "metrics"
   ]
  },
  {
   "cell_type": "code",
   "execution_count": null,
   "metadata": {},
   "outputs": [],
   "source": []
  },
  {
   "cell_type": "markdown",
   "metadata": {},
   "source": [
    "### Experiment 1.4 Baseline - Default Settings - Over sampling - 33% of majority size"
   ]
  },
  {
   "cell_type": "code",
   "execution_count": null,
   "metadata": {},
   "outputs": [],
   "source": [
    "sampl_method = 'over'\n",
    "sampl_ratio = 0.33\n",
    "\n",
    "## sampling can be one of [None, 'under', 'over']\n",
    "X_train, X_test, y_train, y_test = prepare_train_test_split(base_dataset, 0, sampl_method, sampl_ratio)\n",
    "\n",
    "plt.subplot(1, 2, 1)\n",
    "y_train.value_counts().plot(kind='bar', title='Train Set - Count (target)')\n",
    "\n",
    "plt.subplot(1, 2, 2)\n",
    "y_test.value_counts().plot(kind='bar', title='Test Set - Count (target)')\n",
    "\n",
    "plt.tight_layout()\n",
    "plt.show()\n",
    "\n",
    "model_build_results = train_model(base_dataset, \n",
    "                                  sampling_method = sampl_method, sample_ratio = sampl_ratio, \n",
    "                                  classifiers = classifiers)\n",
    "\n",
    "metrics = pd.concat([metrics, model_build_results[0]])\n",
    "metrics.sort_values(['auprc'], ascending=[False])\n",
    "\n",
    "plot_data = []\n",
    "for res in model_build_results[1]:\n",
    "    model_name, model, (fpr, tpr, roc_auc), (precision, recall, prc_auc) = res\n",
    "    plot_data.append((model_name, tpr, fpr, roc_auc, precision, recall, prc_auc))   \n",
    "    \n",
    "plot_roc_prc(plot_data)\n",
    "\n",
    "metrics"
   ]
  },
  {
   "cell_type": "code",
   "execution_count": null,
   "metadata": {},
   "outputs": [],
   "source": []
  },
  {
   "cell_type": "markdown",
   "metadata": {},
   "source": [
    "### Experiment 1.5 Baseline - Default Settings - Over sampling - 66% of majority size"
   ]
  },
  {
   "cell_type": "code",
   "execution_count": null,
   "metadata": {},
   "outputs": [],
   "source": [
    "sampl_method = 'over'\n",
    "sampl_ratio = 0.66\n",
    "\n",
    "## sampling can be one of [None, 'under', 'over']\n",
    "X_train, X_test, y_train, y_test = prepare_train_test_split(base_dataset, 0, sampl_method, sampl_ratio)\n",
    "\n",
    "plt.subplot(1, 2, 1)\n",
    "y_train.value_counts().plot(kind='bar', title='Train Set - Count (target)')\n",
    "\n",
    "plt.subplot(1, 2, 2)\n",
    "y_test.value_counts().plot(kind='bar', title='Test Set - Count (target)')\n",
    "\n",
    "plt.tight_layout()\n",
    "plt.show()\n",
    "\n",
    "model_build_results = train_model(base_dataset, \n",
    "                                  sampling_method = sampl_method, sample_ratio = sampl_ratio, \n",
    "                                  classifiers = classifiers)\n",
    "\n",
    "metrics = pd.concat([metrics, model_build_results[0]])\n",
    "metrics.sort_values(['auprc'], ascending=[False])\n",
    "\n",
    "plot_data = []\n",
    "for res in model_build_results[1]:\n",
    "    model_name, model, (fpr, tpr, roc_auc), (precision, recall, prc_auc) = res\n",
    "    plot_data.append((model_name, tpr, fpr, roc_auc, precision, recall, prc_auc))   \n",
    "    \n",
    "plot_roc_prc(plot_data)\n",
    "\n",
    "metrics"
   ]
  },
  {
   "cell_type": "code",
   "execution_count": null,
   "metadata": {},
   "outputs": [],
   "source": []
  },
  {
   "cell_type": "markdown",
   "metadata": {},
   "source": [
    "### Experiment 1.6 Baseline - Default Settings - Over sampling - 50% of majority size"
   ]
  },
  {
   "cell_type": "code",
   "execution_count": null,
   "metadata": {},
   "outputs": [],
   "source": [
    "sampl_method = 'over'\n",
    "sampl_ratio = 0.5\n",
    "\n",
    "## sampling can be one of [None, 'under', 'over']\n",
    "X_train, X_test, y_train, y_test = prepare_train_test_split(base_dataset, 0, sampl_method, sampl_ratio)\n",
    "\n",
    "plt.subplot(1, 2, 1)\n",
    "y_train.value_counts().plot(kind='bar', title='Train Set - Count (target)')\n",
    "\n",
    "plt.subplot(1, 2, 2)\n",
    "y_test.value_counts().plot(kind='bar', title='Test Set - Count (target)')\n",
    "\n",
    "plt.tight_layout()\n",
    "plt.show()\n",
    "\n",
    "model_build_results = train_model(base_dataset, \n",
    "                                  sampling_method = sampl_method, sample_ratio = sampl_ratio, \n",
    "                                  classifiers = classifiers)\n",
    "\n",
    "metrics = pd.concat([metrics, model_build_results[0]])\n",
    "metrics.sort_values(['auprc'], ascending=[False])\n",
    "\n",
    "plot_data = []\n",
    "for res in model_build_results[1]:\n",
    "    model_name, model, (fpr, tpr, roc_auc), (precision, recall, prc_auc) = res\n",
    "    plot_data.append((model_name, tpr, fpr, roc_auc, precision, recall, prc_auc))   \n",
    "    \n",
    "plot_roc_prc(plot_data)\n",
    "\n",
    "metrics"
   ]
  },
  {
   "cell_type": "code",
   "execution_count": null,
   "metadata": {},
   "outputs": [],
   "source": []
  },
  {
   "cell_type": "code",
   "execution_count": null,
   "metadata": {},
   "outputs": [],
   "source": [
    "metrics.sort_values('model_churn_cost', ascending=True)"
   ]
  },
  {
   "cell_type": "code",
   "execution_count": null,
   "metadata": {},
   "outputs": [],
   "source": []
  },
  {
   "cell_type": "code",
   "execution_count": null,
   "metadata": {},
   "outputs": [],
   "source": []
  },
  {
   "cell_type": "code",
   "execution_count": null,
   "metadata": {},
   "outputs": [],
   "source": []
  },
  {
   "cell_type": "code",
   "execution_count": null,
   "metadata": {},
   "outputs": [],
   "source": [
    "## Just try an SVM \n",
    "from sklearn.svm import SVC\n",
    "from sklearn.svm import LinearSVC\n",
    "from sklearn.linear_model import SGDClassifier"
   ]
  },
  {
   "cell_type": "code",
   "execution_count": null,
   "metadata": {},
   "outputs": [],
   "source": [
    "%%time\n",
    "model_train_results = train_model(base_dataset, sampling_method = 'under', classifiers = [('SGDClassifier', SGDClassifier(loss='log'))])"
   ]
  },
  {
   "cell_type": "code",
   "execution_count": null,
   "metadata": {},
   "outputs": [],
   "source": []
  },
  {
   "cell_type": "code",
   "execution_count": null,
   "metadata": {},
   "outputs": [],
   "source": [
    "## Print the feature importance \n",
    "\n",
    "feature_index = np.flip(np.argsort(model.feature_importances_), axis=0)\n",
    "ordered_features = []\n",
    "column_names = X_test.columns\n",
    "\n",
    "for i in feature_index[0:10]:\n",
    "    print(np.round(model.feature_importances_[i], 3), ' --> ', column_names[i])\n",
    "    ordered_features.append(column_names[i])"
   ]
  },
  {
   "cell_type": "code",
   "execution_count": null,
   "metadata": {
    "code_folding": [],
    "scrolled": false
   },
   "outputs": [],
   "source": [
    "## Print the permutation importance \n",
    "\n",
    "import eli5\n",
    "from eli5.sklearn import PermutationImportance\n",
    "\n",
    "_, X_test, _, y_test = prepare_train_test_split(model_dataset, 0)\n",
    "\n",
    "perm = PermutationImportance(model, random_state=1).fit(X_test, y_test)\n",
    "\n",
    "eli5.show_weights(perm, feature_names = X_test.columns.tolist())"
   ]
  },
  {
   "cell_type": "code",
   "execution_count": null,
   "metadata": {},
   "outputs": [],
   "source": [
    "#model_name, model = model_train_results[1][2]\n",
    "\n",
    "for model_name, model in model_train_results[1]:\n",
    "    probs = model.predict_proba(X_test)[:, 1]\n",
    "    pr_data = plot_precision_recall(\n",
    "        y_test, probs, title='PR Curve for {0}'.format(model_name))"
   ]
  },
  {
   "cell_type": "code",
   "execution_count": null,
   "metadata": {},
   "outputs": [],
   "source": [
    "probs = model.predict_proba(X_test)[:, 1]\n",
    "pr_data = plot_precision_recall(\n",
    "    y_test, probs, title='PR Curve for {0}'.format(model_name))"
   ]
  },
  {
   "cell_type": "code",
   "execution_count": null,
   "metadata": {},
   "outputs": [],
   "source": [
    "pr_data = plot_roc(\n",
    "    y_test, probs, title='ROC Curve for {0}'.format(model_name))"
   ]
  },
  {
   "cell_type": "code",
   "execution_count": null,
   "metadata": {},
   "outputs": [],
   "source": [
    "print(plt.style.available)"
   ]
  },
  {
   "cell_type": "code",
   "execution_count": null,
   "metadata": {},
   "outputs": [],
   "source": []
  },
  {
   "cell_type": "code",
   "execution_count": null,
   "metadata": {},
   "outputs": [],
   "source": [
    "model_dataset.head()"
   ]
  },
  {
   "cell_type": "code",
   "execution_count": null,
   "metadata": {},
   "outputs": [],
   "source": []
  },
  {
   "cell_type": "code",
   "execution_count": null,
   "metadata": {},
   "outputs": [],
   "source": []
  },
  {
   "cell_type": "code",
   "execution_count": null,
   "metadata": {},
   "outputs": [],
   "source": [
    "print(\"Original Data distribution\")\n",
    "print(model_dataset['is_churn'].value_counts())"
   ]
  },
  {
   "cell_type": "code",
   "execution_count": null,
   "metadata": {},
   "outputs": [],
   "source": [
    "# Display new class counts\n",
    "print('Sci-Kit Learn : resample : Down Sampled data set')\n",
    "train_downsample = undersampled_dataset(model_dataset, 'is_churn')\n",
    "\n",
    "print(train_downsample['is_churn'].value_counts())\n",
    "print(\"Num records = \", train_downsample.shape[0])\n",
    "train_downsample.is_churn.value_counts().plot(kind='bar', title='Count (target)')"
   ]
  },
  {
   "cell_type": "code",
   "execution_count": null,
   "metadata": {},
   "outputs": [],
   "source": [
    "# Display new class counts\n",
    "print('Sci-Kit Learn : resample : Up Sampled data set')\n",
    "train_upsample = oversampled_dataset(model_dataset, 'is_churn')\n",
    "\n",
    "print(train_upsample['is_churn'].value_counts())\n",
    "print(\"Num records = \", train_upsample.shape[0])\n",
    "train_upsample.is_churn.value_counts().plot(kind='bar', title='Count (target)')"
   ]
  },
  {
   "cell_type": "code",
   "execution_count": null,
   "metadata": {},
   "outputs": [],
   "source": []
  },
  {
   "cell_type": "code",
   "execution_count": null,
   "metadata": {},
   "outputs": [],
   "source": []
  },
  {
   "cell_type": "code",
   "execution_count": null,
   "metadata": {},
   "outputs": [],
   "source": []
  },
  {
   "cell_type": "code",
   "execution_count": null,
   "metadata": {
    "scrolled": false
   },
   "outputs": [],
   "source": [
    "probs = model.predict_proba(X_test)[:, 1]\n",
    "pr_data = plot_precision_recall(\n",
    "    y_test, probs, title='Precision-Recall Curve for Random Forest')"
   ]
  },
  {
   "cell_type": "code",
   "execution_count": null,
   "metadata": {},
   "outputs": [],
   "source": [
    "precision_above = pr_data.loc[pr_data['precision'] >= 0.25].copy()\n",
    "precision_above.sort_values('recall', ascending=False, inplace=True)\n",
    "precision_above.head()"
   ]
  },
  {
   "cell_type": "code",
   "execution_count": null,
   "metadata": {},
   "outputs": [],
   "source": []
  },
  {
   "cell_type": "code",
   "execution_count": null,
   "metadata": {},
   "outputs": [],
   "source": []
  },
  {
   "cell_type": "code",
   "execution_count": null,
   "metadata": {},
   "outputs": [],
   "source": []
  },
  {
   "cell_type": "code",
   "execution_count": null,
   "metadata": {
    "scrolled": false
   },
   "outputs": [],
   "source": [
    "threshold_required = 0.5\n",
    "# Make predictions where probability is above threshold\n",
    "preds = np.zeros(len(y_test))\n",
    "preds[probs >= threshold_required] = 1\n",
    "\n",
    "# Make and plot confusion matrix\n",
    "cm = confusion_matrix(y_test, preds)\n",
    "plot_confusion_matrix(cm, classes=['No Churn', 'Churn'],\n",
    "                      title='Churn Confusion Matrix')"
   ]
  },
  {
   "cell_type": "code",
   "execution_count": null,
   "metadata": {},
   "outputs": [],
   "source": [
    "model_dataset.head()"
   ]
  },
  {
   "cell_type": "code",
   "execution_count": null,
   "metadata": {},
   "outputs": [],
   "source": [
    "fi = pd.DataFrame({'importance': model.feature_importances_}, index=model_dataset.iloc[:, 1:].columns).\\\n",
    "    sort_values('importance', ascending=False)\n",
    "fi.head(10)"
   ]
  },
  {
   "cell_type": "code",
   "execution_count": null,
   "metadata": {},
   "outputs": [],
   "source": []
  },
  {
   "cell_type": "code",
   "execution_count": null,
   "metadata": {},
   "outputs": [],
   "source": []
  },
  {
   "cell_type": "code",
   "execution_count": null,
   "metadata": {},
   "outputs": [],
   "source": []
  },
  {
   "cell_type": "code",
   "execution_count": null,
   "metadata": {},
   "outputs": [],
   "source": []
  },
  {
   "cell_type": "code",
   "execution_count": null,
   "metadata": {},
   "outputs": [],
   "source": []
  }
 ],
 "metadata": {
  "kernelspec": {
   "display_name": "Python 3",
   "language": "python",
   "name": "python3"
  },
  "language_info": {
   "codemirror_mode": {
    "name": "ipython",
    "version": 3
   },
   "file_extension": ".py",
   "mimetype": "text/x-python",
   "name": "python",
   "nbconvert_exporter": "python",
   "pygments_lexer": "ipython3",
   "version": "3.7.3"
  }
 },
 "nbformat": 4,
 "nbformat_minor": 2
}
