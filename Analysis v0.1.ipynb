{
 "cells": [
  {
   "cell_type": "code",
   "execution_count": 173,
   "metadata": {},
   "outputs": [
    {
     "name": "stdout",
     "output_type": "stream",
     "text": [
      "The autoreload extension is already loaded. To reload it, use:\n",
      "  %reload_ext autoreload\n"
     ]
    }
   ],
   "source": [
    "%load_ext autoreload\n",
    "%autoreload"
   ]
  },
  {
   "cell_type": "code",
   "execution_count": 174,
   "metadata": {},
   "outputs": [],
   "source": [
    "import numpy as np\n",
    "import pandas as pd\n",
    "import time\n",
    "import gc; gc.enable()\n",
    "import time\n",
    "import sys\n",
    "\n",
    "pd.options.display.float_format = \"{:.2f}\".format\n",
    "np.set_printoptions(precision=4)\n",
    "\n",
    "import matplotlib.pyplot as plt\n",
    "%matplotlib inline\n",
    "\n",
    "sys.path.append('modules')\n",
    "\n",
    "from shared_functions import *\n",
    "\n",
    "import pickle\n",
    "from datetime import datetime"
   ]
  },
  {
   "cell_type": "code",
   "execution_count": 3,
   "metadata": {},
   "outputs": [],
   "source": [
    "def load_results(file_name):\n",
    "    data = None\n",
    "    with open(file_name, 'rb') as f:\n",
    "        # The protocol version used is detected automatically, so we do not\n",
    "        # have to specify it.\n",
    "        data = pickle.load(f)\n",
    "    return data\n",
    "\n",
    "def filter_top_model_results(top_models, all_model_results):\n",
    "    plot_data = list()\n",
    "    for idx, row in top_models.iterrows():\n",
    "        #print(\"row.label: \" + row.label + ',' + row.classifier + ',' + row.sampling_method)\n",
    "        for res in all_model_results:       \n",
    "            for alg_results in res:\n",
    "                if alg_results[0] == row.label and alg_results[1] == row.classifier and alg_results[2] == row.sampling_method:\n",
    "                    #print(alg_results)\n",
    "                    label, model_name, sampling_method, _, tpr, fpr, roc_auc, precision, recall, prc_auc = alg_results\n",
    "\n",
    "                    plot_data.append((\"{} {}\".format(model_name, sampling_method), tpr, fpr, roc_auc, precision, recall, prc_auc))\n",
    "    return plot_data\n",
    "\n",
    "def rebuild_results(res):\n",
    "    ## Gather all the metrics\n",
    "    temp_metrics = pd.DataFrame()\n",
    "    temp_results = list()\n",
    "    for i in range(0, len(res)):\n",
    "        temp_metrics = pd.concat([temp_metrics, res[i][1]])\n",
    "        temp_results.append(res[i][2])    \n",
    "    return temp_metrics, temp_results"
   ]
  },
  {
   "cell_type": "code",
   "execution_count": null,
   "metadata": {},
   "outputs": [],
   "source": []
  },
  {
   "cell_type": "code",
   "execution_count": null,
   "metadata": {},
   "outputs": [],
   "source": [
    "asklearn = load_results('Asklearn_Default_Undersample.pickle')"
   ]
  },
  {
   "cell_type": "code",
   "execution_count": null,
   "metadata": {},
   "outputs": [],
   "source": [
    "manualrdm = load_results('Manual_RdmSearch_2019-08-05.pickle')"
   ]
  },
  {
   "cell_type": "code",
   "execution_count": null,
   "metadata": {},
   "outputs": [],
   "source": [
    "manualgrid = load_results('Manual_GridSearch_2019-08-05.pickle')"
   ]
  },
  {
   "cell_type": "code",
   "execution_count": null,
   "metadata": {},
   "outputs": [],
   "source": [
    "Manual_GridSearch_2019-08-10.pickle\n",
    "Manual_RdmSearch_2019-08-10.pickle\n",
    "\n",
    "DFS_Default_2019-08-10.pickle"
   ]
  },
  {
   "cell_type": "code",
   "execution_count": 295,
   "metadata": {},
   "outputs": [],
   "source": [
    "measurements = ['classifier', 'sampling_method', \\\n",
    "                #'fp', 'fn',\\\n",
    "                'balanced_accuracy', 'recall', 'precision', \\\n",
    "                 #'f1_score',\\\n",
    "                'train_time', 'aucroc', 'auprc',\\\n",
    "                'model_churn_cost']\n",
    "\n",
    "measurements_alias = ['classifier', 'sampling', \\\n",
    "                      'bal_acc', 'recall', 'precision',\\\n",
    "                      # 'f1',\\\n",
    "                      'train_time', 'auroc', 'auprc',\\\n",
    "                      'churn_cost']"
   ]
  },
  {
   "cell_type": "markdown",
   "metadata": {},
   "source": [
    "## Approach 1.1 - Churn BasicData + Default Hyper"
   ]
  },
  {
   "cell_type": "code",
   "execution_count": 4,
   "metadata": {},
   "outputs": [],
   "source": [
    "## First Experiment:\n",
    "## Approach 1.1 - Churn BasicData + Default Hyper\n",
    "exp1_1 = load_results('/home/dissertation/code/RESULTS_FINAL/Basic_DefaultHyper_2019-08-12.pickle')\n",
    "exp_metrics, exp_results = rebuild_results(exp1_1)\n",
    "\n",
    "#exp_metrics = exp_metrics[(exp_metrics.recall > 0) & (exp_metrics.recall < 1)]"
   ]
  },
  {
   "cell_type": "code",
   "execution_count": 164,
   "metadata": {},
   "outputs": [],
   "source": [
    "#exp_metrics[['classifier', 'sampling_method','accuracy']].groupby(['sampling_method']).count()"
   ]
  },
  {
   "cell_type": "code",
   "execution_count": 276,
   "metadata": {},
   "outputs": [],
   "source": [
    "measure_by = ['balanced_accuracy', 'recall']\n",
    "measure_by_sort = [False, False]\n",
    "\n",
    "# measure_by = ['balanced_accuracy']\n",
    "# measure_by_sort = [False]\n",
    "\n",
    "# measure_by = ['model_churn_cost']\n",
    "# measure_by_sort = [True]\n",
    "\n",
    "# measure_by = ['f1_score']\n",
    "# measure_by_sort = [False]"
   ]
  },
  {
   "cell_type": "code",
   "execution_count": 269,
   "metadata": {},
   "outputs": [
    {
     "data": {
      "text/plain": [
       "0.08964972628592079"
      ]
     },
     "execution_count": 269,
     "metadata": {},
     "output_type": "execute_result"
    }
   ],
   "source": [
    "(8141100 - 7471300) / 7471300"
   ]
  },
  {
   "cell_type": "code",
   "execution_count": 270,
   "metadata": {},
   "outputs": [
    {
     "data": {
      "text/plain": [
       "42"
      ]
     },
     "execution_count": 270,
     "metadata": {},
     "output_type": "execute_result"
    }
   ],
   "source": [
    "len(exp_metrics)"
   ]
  },
  {
   "cell_type": "markdown",
   "metadata": {},
   "source": [
    "### The best 5 performing models by approach as measured by .... "
   ]
  },
  {
   "cell_type": "code",
   "execution_count": 305,
   "metadata": {
    "scrolled": true
   },
   "outputs": [
    {
     "name": "stdout",
     "output_type": "stream",
     "text": [
      "Getting results for ['balanced_accuracy', 'recall'] / ordered ascending? [False, False]\n"
     ]
    },
    {
     "data": {
      "text/html": [
       "<div>\n",
       "<style scoped>\n",
       "    .dataframe tbody tr th:only-of-type {\n",
       "        vertical-align: middle;\n",
       "    }\n",
       "\n",
       "    .dataframe tbody tr th {\n",
       "        vertical-align: top;\n",
       "    }\n",
       "\n",
       "    .dataframe thead th {\n",
       "        text-align: right;\n",
       "    }\n",
       "</style>\n",
       "<table border=\"1\" class=\"dataframe\">\n",
       "  <thead>\n",
       "    <tr style=\"text-align: right;\">\n",
       "      <th></th>\n",
       "      <th>classifier</th>\n",
       "      <th>sampling_method</th>\n",
       "      <th>balanced_accuracy</th>\n",
       "      <th>recall</th>\n",
       "      <th>precision</th>\n",
       "      <th>train_time</th>\n",
       "      <th>aucroc</th>\n",
       "      <th>auprc</th>\n",
       "      <th>model_churn_cost</th>\n",
       "    </tr>\n",
       "  </thead>\n",
       "  <tbody>\n",
       "    <tr>\n",
       "      <th>0</th>\n",
       "      <td>XGBClassifier</td>\n",
       "      <td>ROS 1:1</td>\n",
       "      <td>0.81</td>\n",
       "      <td>0.74</td>\n",
       "      <td>0.38</td>\n",
       "      <td>160.65</td>\n",
       "      <td>0.88</td>\n",
       "      <td>0.62</td>\n",
       "      <td>7752900</td>\n",
       "    </tr>\n",
       "    <tr>\n",
       "      <th>0</th>\n",
       "      <td>XGBClassifier</td>\n",
       "      <td>RUS 1:1</td>\n",
       "      <td>0.81</td>\n",
       "      <td>0.74</td>\n",
       "      <td>0.38</td>\n",
       "      <td>14.89</td>\n",
       "      <td>0.88</td>\n",
       "      <td>0.62</td>\n",
       "      <td>7794600</td>\n",
       "    </tr>\n",
       "    <tr>\n",
       "      <th>0</th>\n",
       "      <td>XGBClassifier</td>\n",
       "      <td>ROS 3:2</td>\n",
       "      <td>0.80</td>\n",
       "      <td>0.71</td>\n",
       "      <td>0.41</td>\n",
       "      <td>129.31</td>\n",
       "      <td>0.88</td>\n",
       "      <td>0.62</td>\n",
       "      <td>7634000</td>\n",
       "    </tr>\n",
       "    <tr>\n",
       "      <th>0</th>\n",
       "      <td>XGBClassifier</td>\n",
       "      <td>SMOTE_NC</td>\n",
       "      <td>0.80</td>\n",
       "      <td>0.71</td>\n",
       "      <td>0.40</td>\n",
       "      <td>161.53</td>\n",
       "      <td>0.87</td>\n",
       "      <td>0.60</td>\n",
       "      <td>7752100</td>\n",
       "    </tr>\n",
       "    <tr>\n",
       "      <th>0</th>\n",
       "      <td>RandomForestClassifier</td>\n",
       "      <td>RUS 1:1</td>\n",
       "      <td>0.80</td>\n",
       "      <td>0.76</td>\n",
       "      <td>0.32</td>\n",
       "      <td>2.92</td>\n",
       "      <td>0.87</td>\n",
       "      <td>0.55</td>\n",
       "      <td>8656700</td>\n",
       "    </tr>\n",
       "  </tbody>\n",
       "</table>\n",
       "</div>"
      ],
      "text/plain": [
       "               classifier sampling_method  balanced_accuracy  recall  \\\n",
       "0           XGBClassifier         ROS 1:1               0.81    0.74   \n",
       "0           XGBClassifier         RUS 1:1               0.81    0.74   \n",
       "0           XGBClassifier         ROS 3:2               0.80    0.71   \n",
       "0           XGBClassifier        SMOTE_NC               0.80    0.71   \n",
       "0  RandomForestClassifier         RUS 1:1               0.80    0.76   \n",
       "\n",
       "   precision  train_time  aucroc  auprc  model_churn_cost  \n",
       "0       0.38      160.65    0.88   0.62           7752900  \n",
       "0       0.38       14.89    0.88   0.62           7794600  \n",
       "0       0.41      129.31    0.88   0.62           7634000  \n",
       "0       0.40      161.53    0.87   0.60           7752100  \n",
       "0       0.32        2.92    0.87   0.55           8656700  "
      ]
     },
     "execution_count": 305,
     "metadata": {},
     "output_type": "execute_result"
    }
   ],
   "source": [
    "print(\"Getting results for {} / ordered ascending? {}\".format(measure_by, measure_by_sort))\n",
    "top_results = exp_metrics\\\n",
    "                .sort_values(measure_by, ascending=measure_by_sort)\n",
    "top_results = top_results[measurements]\n",
    "top_results.head(5)"
   ]
  },
  {
   "cell_type": "code",
   "execution_count": 320,
   "metadata": {},
   "outputs": [
    {
     "name": "stdout",
     "output_type": "stream",
     "text": [
      "Getting results for ['balanced_accuracy', 'recall'] / ordered ascending? [True, True]\n"
     ]
    },
    {
     "data": {
      "text/html": [
       "<div>\n",
       "<style scoped>\n",
       "    .dataframe tbody tr th:only-of-type {\n",
       "        vertical-align: middle;\n",
       "    }\n",
       "\n",
       "    .dataframe tbody tr th {\n",
       "        vertical-align: top;\n",
       "    }\n",
       "\n",
       "    .dataframe thead th {\n",
       "        text-align: right;\n",
       "    }\n",
       "</style>\n",
       "<table border=\"1\" class=\"dataframe\">\n",
       "  <thead>\n",
       "    <tr style=\"text-align: right;\">\n",
       "      <th></th>\n",
       "      <th>classifier</th>\n",
       "      <th>sampling_method</th>\n",
       "      <th>balanced_accuracy</th>\n",
       "      <th>recall</th>\n",
       "      <th>precision</th>\n",
       "      <th>train_time</th>\n",
       "      <th>aucroc</th>\n",
       "      <th>auprc</th>\n",
       "      <th>model_churn_cost</th>\n",
       "    </tr>\n",
       "  </thead>\n",
       "  <tbody>\n",
       "    <tr>\n",
       "      <th>0</th>\n",
       "      <td>LogisticRegression</td>\n",
       "      <td>None</td>\n",
       "      <td>0.50</td>\n",
       "      <td>0.00</td>\n",
       "      <td>0.00</td>\n",
       "      <td>4.71</td>\n",
       "      <td>0.72</td>\n",
       "      <td>0.45</td>\n",
       "      <td>12030500</td>\n",
       "    </tr>\n",
       "    <tr>\n",
       "      <th>0</th>\n",
       "      <td>MLPClassifier</td>\n",
       "      <td>None</td>\n",
       "      <td>0.50</td>\n",
       "      <td>0.00</td>\n",
       "      <td>0.00</td>\n",
       "      <td>620.33</td>\n",
       "      <td>0.50</td>\n",
       "      <td>0.55</td>\n",
       "      <td>12030500</td>\n",
       "    </tr>\n",
       "    <tr>\n",
       "      <th>0</th>\n",
       "      <td>MLPClassifier</td>\n",
       "      <td>RUS 1:1</td>\n",
       "      <td>0.50</td>\n",
       "      <td>0.00</td>\n",
       "      <td>0.00</td>\n",
       "      <td>381.71</td>\n",
       "      <td>0.50</td>\n",
       "      <td>0.55</td>\n",
       "      <td>12030500</td>\n",
       "    </tr>\n",
       "    <tr>\n",
       "      <th>0</th>\n",
       "      <td>LogisticRegression</td>\n",
       "      <td>ROS 3:1</td>\n",
       "      <td>0.50</td>\n",
       "      <td>0.00</td>\n",
       "      <td>0.00</td>\n",
       "      <td>5.03</td>\n",
       "      <td>0.72</td>\n",
       "      <td>0.45</td>\n",
       "      <td>12030500</td>\n",
       "    </tr>\n",
       "    <tr>\n",
       "      <th>0</th>\n",
       "      <td>MLPClassifier</td>\n",
       "      <td>ROS 3:1</td>\n",
       "      <td>0.50</td>\n",
       "      <td>0.00</td>\n",
       "      <td>0.00</td>\n",
       "      <td>1422.61</td>\n",
       "      <td>0.50</td>\n",
       "      <td>0.55</td>\n",
       "      <td>12030500</td>\n",
       "    </tr>\n",
       "  </tbody>\n",
       "</table>\n",
       "</div>"
      ],
      "text/plain": [
       "           classifier sampling_method  balanced_accuracy  recall  precision  \\\n",
       "0  LogisticRegression            None               0.50    0.00       0.00   \n",
       "0       MLPClassifier            None               0.50    0.00       0.00   \n",
       "0       MLPClassifier         RUS 1:1               0.50    0.00       0.00   \n",
       "0  LogisticRegression         ROS 3:1               0.50    0.00       0.00   \n",
       "0       MLPClassifier         ROS 3:1               0.50    0.00       0.00   \n",
       "\n",
       "   train_time  aucroc  auprc  model_churn_cost  \n",
       "0        4.71    0.72   0.45          12030500  \n",
       "0      620.33    0.50   0.55          12030500  \n",
       "0      381.71    0.50   0.55          12030500  \n",
       "0        5.03    0.72   0.45          12030500  \n",
       "0     1422.61    0.50   0.55          12030500  "
      ]
     },
     "execution_count": 320,
     "metadata": {},
     "output_type": "execute_result"
    }
   ],
   "source": [
    "### The best 5 performing models by approach as measured by .... \n",
    "\n",
    "print(\"Getting results for {} / ordered ascending? {}\".format(measure_by, [not f for f in measure_by_sort]))\n",
    "top_results = exp_metrics\\\n",
    "                .sort_values(measure_by, ascending=[not f for f in measure_by_sort])\n",
    "top_results = top_results[measurements]\n",
    "top_results.head(5)"
   ]
  },
  {
   "cell_type": "code",
   "execution_count": 321,
   "metadata": {},
   "outputs": [
    {
     "name": "stdout",
     "output_type": "stream",
     "text": [
      "\\begin{tabular}{llrrrrrrr}\n",
      "\\toprule\n",
      "         classifier & sampling &  bal\\_acc &  recall &  precision &  train\\_time &  auroc &  auprc &  churn\\_cost \\\\\n",
      "\\midrule\n",
      " LogisticRegression &     None &     0.50 &    0.00 &       0.00 &        4.71 &   0.72 &   0.45 &    12030500 \\\\\n",
      "                MLP &     None &     0.50 &    0.00 &       0.00 &      620.33 &   0.50 &   0.55 &    12030500 \\\\\n",
      "                MLP &  RUS 1:1 &     0.50 &    0.00 &       0.00 &      381.71 &   0.50 &   0.55 &    12030500 \\\\\n",
      " LogisticRegression &  ROS 3:1 &     0.50 &    0.00 &       0.00 &        5.03 &   0.72 &   0.45 &    12030500 \\\\\n",
      "                MLP &  ROS 3:1 &     0.50 &    0.00 &       0.00 &     1422.61 &   0.50 &   0.55 &    12030500 \\\\\n",
      "\\bottomrule\n",
      "\\end{tabular}\n",
      "\n"
     ]
    },
    {
     "name": "stderr",
     "output_type": "stream",
     "text": [
      "/home/anaconda/envs/py373/lib/python3.7/site-packages/ipykernel_launcher.py:3: SettingWithCopyWarning: \n",
      "A value is trying to be set on a copy of a slice from a DataFrame.\n",
      "Try using .loc[row_indexer,col_indexer] = value instead\n",
      "\n",
      "See the caveats in the documentation: http://pandas.pydata.org/pandas-docs/stable/indexing.html#indexing-view-versus-copy\n",
      "  This is separate from the ipykernel package so we can avoid doing imports until\n"
     ]
    }
   ],
   "source": [
    "temp = top_results.head(5)\n",
    "temp.columns = measurements_alias\n",
    "temp['classifier'] = temp['classifier'].apply(lambda v: str(v).replace('Classifier', ''))\n",
    "print(temp.to_latex(index=False))"
   ]
  },
  {
   "cell_type": "markdown",
   "metadata": {},
   "source": [
    "### Summary statistics of classifiers across performance for all sampling techniques"
   ]
  },
  {
   "cell_type": "code",
   "execution_count": 304,
   "metadata": {},
   "outputs": [
    {
     "data": {
      "text/html": [
       "<div>\n",
       "<style scoped>\n",
       "    .dataframe tbody tr th:only-of-type {\n",
       "        vertical-align: middle;\n",
       "    }\n",
       "\n",
       "    .dataframe tbody tr th {\n",
       "        vertical-align: top;\n",
       "    }\n",
       "\n",
       "    .dataframe thead tr th {\n",
       "        text-align: left;\n",
       "    }\n",
       "\n",
       "    .dataframe thead tr:last-of-type th {\n",
       "        text-align: right;\n",
       "    }\n",
       "</style>\n",
       "<table border=\"1\" class=\"dataframe\">\n",
       "  <thead>\n",
       "    <tr>\n",
       "      <th></th>\n",
       "      <th colspan=\"3\" halign=\"left\">recall</th>\n",
       "      <th colspan=\"3\" halign=\"left\">balanced_accuracy</th>\n",
       "      <th colspan=\"3\" halign=\"left\">precision</th>\n",
       "      <th>model_churn_cost</th>\n",
       "    </tr>\n",
       "    <tr>\n",
       "      <th></th>\n",
       "      <th>best</th>\n",
       "      <th>median</th>\n",
       "      <th>iqr</th>\n",
       "      <th>best</th>\n",
       "      <th>median</th>\n",
       "      <th>iqr</th>\n",
       "      <th>best</th>\n",
       "      <th>median</th>\n",
       "      <th>iqr</th>\n",
       "      <th>best</th>\n",
       "    </tr>\n",
       "    <tr>\n",
       "      <th>sampling_method</th>\n",
       "      <th></th>\n",
       "      <th></th>\n",
       "      <th></th>\n",
       "      <th></th>\n",
       "      <th></th>\n",
       "      <th></th>\n",
       "      <th></th>\n",
       "      <th></th>\n",
       "      <th></th>\n",
       "      <th></th>\n",
       "    </tr>\n",
       "  </thead>\n",
       "  <tbody>\n",
       "    <tr>\n",
       "      <th>None</th>\n",
       "      <td>0.53</td>\n",
       "      <td>0.44</td>\n",
       "      <td>0.15</td>\n",
       "      <td>0.73</td>\n",
       "      <td>0.70</td>\n",
       "      <td>0.05</td>\n",
       "      <td>0.83</td>\n",
       "      <td>0.60</td>\n",
       "      <td>0.37</td>\n",
       "      <td>8404900</td>\n",
       "    </tr>\n",
       "    <tr>\n",
       "      <th>ROS 1:1</th>\n",
       "      <td>0.74</td>\n",
       "      <td>0.55</td>\n",
       "      <td>0.07</td>\n",
       "      <td>0.81</td>\n",
       "      <td>0.74</td>\n",
       "      <td>0.04</td>\n",
       "      <td>0.44</td>\n",
       "      <td>0.39</td>\n",
       "      <td>0.03</td>\n",
       "      <td>7752900</td>\n",
       "    </tr>\n",
       "    <tr>\n",
       "      <th>ROS 2:1</th>\n",
       "      <td>0.65</td>\n",
       "      <td>0.56</td>\n",
       "      <td>0.15</td>\n",
       "      <td>0.79</td>\n",
       "      <td>0.75</td>\n",
       "      <td>0.07</td>\n",
       "      <td>0.54</td>\n",
       "      <td>0.47</td>\n",
       "      <td>0.11</td>\n",
       "      <td>7471300</td>\n",
       "    </tr>\n",
       "    <tr>\n",
       "      <th>ROS 3:1</th>\n",
       "      <td>0.60</td>\n",
       "      <td>0.54</td>\n",
       "      <td>0.10</td>\n",
       "      <td>0.77</td>\n",
       "      <td>0.74</td>\n",
       "      <td>0.05</td>\n",
       "      <td>0.57</td>\n",
       "      <td>0.51</td>\n",
       "      <td>0.13</td>\n",
       "      <td>7477200</td>\n",
       "    </tr>\n",
       "    <tr>\n",
       "      <th>ROS 3:2</th>\n",
       "      <td>0.71</td>\n",
       "      <td>0.52</td>\n",
       "      <td>0.10</td>\n",
       "      <td>0.80</td>\n",
       "      <td>0.74</td>\n",
       "      <td>0.04</td>\n",
       "      <td>0.51</td>\n",
       "      <td>0.42</td>\n",
       "      <td>0.03</td>\n",
       "      <td>7634000</td>\n",
       "    </tr>\n",
       "    <tr>\n",
       "      <th>RUS 1:1</th>\n",
       "      <td>0.76</td>\n",
       "      <td>0.74</td>\n",
       "      <td>0.13</td>\n",
       "      <td>0.81</td>\n",
       "      <td>0.77</td>\n",
       "      <td>0.04</td>\n",
       "      <td>0.42</td>\n",
       "      <td>0.32</td>\n",
       "      <td>0.10</td>\n",
       "      <td>7794600</td>\n",
       "    </tr>\n",
       "    <tr>\n",
       "      <th>SMOTE_NC</th>\n",
       "      <td>0.71</td>\n",
       "      <td>0.56</td>\n",
       "      <td>0.08</td>\n",
       "      <td>0.80</td>\n",
       "      <td>0.74</td>\n",
       "      <td>0.04</td>\n",
       "      <td>0.42</td>\n",
       "      <td>0.38</td>\n",
       "      <td>0.03</td>\n",
       "      <td>7752100</td>\n",
       "    </tr>\n",
       "  </tbody>\n",
       "</table>\n",
       "</div>"
      ],
      "text/plain": [
       "                recall             balanced_accuracy             precision  \\\n",
       "                  best median  iqr              best median  iqr      best   \n",
       "sampling_method                                                              \n",
       "None              0.53   0.44 0.15              0.73   0.70 0.05      0.83   \n",
       "ROS 1:1           0.74   0.55 0.07              0.81   0.74 0.04      0.44   \n",
       "ROS 2:1           0.65   0.56 0.15              0.79   0.75 0.07      0.54   \n",
       "ROS 3:1           0.60   0.54 0.10              0.77   0.74 0.05      0.57   \n",
       "ROS 3:2           0.71   0.52 0.10              0.80   0.74 0.04      0.51   \n",
       "RUS 1:1           0.76   0.74 0.13              0.81   0.77 0.04      0.42   \n",
       "SMOTE_NC          0.71   0.56 0.08              0.80   0.74 0.04      0.42   \n",
       "\n",
       "                            model_churn_cost  \n",
       "                median  iqr             best  \n",
       "sampling_method                               \n",
       "None              0.60 0.37          8404900  \n",
       "ROS 1:1           0.39 0.03          7752900  \n",
       "ROS 2:1           0.47 0.11          7471300  \n",
       "ROS 3:1           0.51 0.13          7477200  \n",
       "ROS 3:2           0.42 0.03          7634000  \n",
       "RUS 1:1           0.32 0.10          7794600  \n",
       "SMOTE_NC          0.38 0.03          7752100  "
      ]
     },
     "execution_count": 304,
     "metadata": {},
     "output_type": "execute_result"
    }
   ],
   "source": [
    "## Excludes LR and MLP as those produce bad classifiers\n",
    "\n",
    "stats_summary = {'best':max,\n",
    "                 'median':'median', \n",
    "                 'iqr':lambda x: np.percentile(x, 75, interpolation='higher') - np.percentile(x, 25, interpolation='lower'),\n",
    "                # 'range':lambda x: max(x) - min(x)\n",
    "                }\n",
    "\n",
    "exp_metrics[~exp_metrics.recall.isin([0.0, 1.0])]\\\n",
    "        .groupby(['sampling_method'])\\\n",
    "        .agg({\n",
    "             'recall':stats_summary,\n",
    "             'balanced_accuracy':stats_summary,\n",
    "             'precision':stats_summary,\n",
    "             'model_churn_cost':{'best':min},\n",
    "             #'aucroc':stats_summary,\n",
    "             #'auprc':stats_summary,\n",
    "             #'train_time':stats_summary,\n",
    "             })"
   ]
  },
  {
   "cell_type": "code",
   "execution_count": null,
   "metadata": {},
   "outputs": [],
   "source": [
    "'''\n",
    "The summary of classifier perofmance when viewed across all \n",
    "'''"
   ]
  },
  {
   "cell_type": "markdown",
   "metadata": {},
   "source": [
    "### The best performing models by classifier as measured by .... "
   ]
  },
  {
   "cell_type": "code",
   "execution_count": 280,
   "metadata": {},
   "outputs": [
    {
     "name": "stdout",
     "output_type": "stream",
     "text": [
      "Getting results for ['balanced_accuracy', 'recall'] / ordered ascending? [False, False]\n"
     ]
    },
    {
     "data": {
      "text/html": [
       "<div>\n",
       "<style scoped>\n",
       "    .dataframe tbody tr th:only-of-type {\n",
       "        vertical-align: middle;\n",
       "    }\n",
       "\n",
       "    .dataframe tbody tr th {\n",
       "        vertical-align: top;\n",
       "    }\n",
       "\n",
       "    .dataframe thead th {\n",
       "        text-align: right;\n",
       "    }\n",
       "</style>\n",
       "<table border=\"1\" class=\"dataframe\">\n",
       "  <thead>\n",
       "    <tr style=\"text-align: right;\">\n",
       "      <th></th>\n",
       "      <th>classifier</th>\n",
       "      <th>sampling_method</th>\n",
       "      <th>precision</th>\n",
       "      <th>recall</th>\n",
       "      <th>train_time</th>\n",
       "      <th>aucroc</th>\n",
       "      <th>auprc</th>\n",
       "      <th>balanced_accuracy</th>\n",
       "      <th>model_churn_cost</th>\n",
       "    </tr>\n",
       "  </thead>\n",
       "  <tbody>\n",
       "    <tr>\n",
       "      <th>0</th>\n",
       "      <td>XGBClassifier</td>\n",
       "      <td>ROS 1:1</td>\n",
       "      <td>0.38</td>\n",
       "      <td>0.74</td>\n",
       "      <td>160.65</td>\n",
       "      <td>0.88</td>\n",
       "      <td>0.62</td>\n",
       "      <td>0.81</td>\n",
       "      <td>7752900</td>\n",
       "    </tr>\n",
       "    <tr>\n",
       "      <th>0</th>\n",
       "      <td>RandomForestClassifier</td>\n",
       "      <td>RUS 1:1</td>\n",
       "      <td>0.32</td>\n",
       "      <td>0.76</td>\n",
       "      <td>2.92</td>\n",
       "      <td>0.87</td>\n",
       "      <td>0.55</td>\n",
       "      <td>0.80</td>\n",
       "      <td>8656700</td>\n",
       "    </tr>\n",
       "    <tr>\n",
       "      <th>0</th>\n",
       "      <td>DecisionTreeClassifier</td>\n",
       "      <td>RUS 1:1</td>\n",
       "      <td>0.28</td>\n",
       "      <td>0.74</td>\n",
       "      <td>2.56</td>\n",
       "      <td>0.76</td>\n",
       "      <td>0.49</td>\n",
       "      <td>0.77</td>\n",
       "      <td>9502600</td>\n",
       "    </tr>\n",
       "    <tr>\n",
       "      <th>0</th>\n",
       "      <td>GaussianNB</td>\n",
       "      <td>SMOTE_NC</td>\n",
       "      <td>0.38</td>\n",
       "      <td>0.64</td>\n",
       "      <td>6.52</td>\n",
       "      <td>0.81</td>\n",
       "      <td>0.55</td>\n",
       "      <td>0.77</td>\n",
       "      <td>8412300</td>\n",
       "    </tr>\n",
       "    <tr>\n",
       "      <th>0</th>\n",
       "      <td>LogisticRegression</td>\n",
       "      <td>RUS 1:1</td>\n",
       "      <td>0.23</td>\n",
       "      <td>0.55</td>\n",
       "      <td>2.23</td>\n",
       "      <td>0.74</td>\n",
       "      <td>0.38</td>\n",
       "      <td>0.68</td>\n",
       "      <td>11122700</td>\n",
       "    </tr>\n",
       "    <tr>\n",
       "      <th>0</th>\n",
       "      <td>MLPClassifier</td>\n",
       "      <td>ROS 1:1</td>\n",
       "      <td>0.09</td>\n",
       "      <td>1.00</td>\n",
       "      <td>1555.64</td>\n",
       "      <td>0.50</td>\n",
       "      <td>0.55</td>\n",
       "      <td>0.50</td>\n",
       "      <td>25748700</td>\n",
       "    </tr>\n",
       "  </tbody>\n",
       "</table>\n",
       "</div>"
      ],
      "text/plain": [
       "               classifier sampling_method  precision  recall  train_time  \\\n",
       "0           XGBClassifier         ROS 1:1       0.38    0.74      160.65   \n",
       "0  RandomForestClassifier         RUS 1:1       0.32    0.76        2.92   \n",
       "0  DecisionTreeClassifier         RUS 1:1       0.28    0.74        2.56   \n",
       "0              GaussianNB        SMOTE_NC       0.38    0.64        6.52   \n",
       "0      LogisticRegression         RUS 1:1       0.23    0.55        2.23   \n",
       "0           MLPClassifier         ROS 1:1       0.09    1.00     1555.64   \n",
       "\n",
       "   aucroc  auprc  balanced_accuracy  model_churn_cost  \n",
       "0    0.88   0.62               0.81           7752900  \n",
       "0    0.87   0.55               0.80           8656700  \n",
       "0    0.76   0.49               0.77           9502600  \n",
       "0    0.81   0.55               0.77           8412300  \n",
       "0    0.74   0.38               0.68          11122700  \n",
       "0    0.50   0.55               0.50          25748700  "
      ]
     },
     "execution_count": 280,
     "metadata": {},
     "output_type": "execute_result"
    }
   ],
   "source": [
    "print(\"Getting results for {} / ordered ascending? {}\".format(measure_by, measure_by_sort))\n",
    "top_results = exp_metrics.sort_values(measure_by, ascending=measure_by_sort).groupby('classifier').head(1)\n",
    "top_results = top_results[measurements]\n",
    "top_results"
   ]
  },
  {
   "cell_type": "code",
   "execution_count": 183,
   "metadata": {},
   "outputs": [
    {
     "data": {
      "text/plain": [
       "'\\nMETRICS\\n\\nCHURN_COST:\\n\\nWhen assessed using model_churn_cost, the XGBoost classifier returns the lowest cost 7471300 TWD, and\\nreturns strong values of balanced accuracy, AUROC and AUPRC of 0.79, 0.88 and 0.63 respectively. It is also shown that when\\nassessing using churn chost, the XGBoost classifier comes out top for all sampling approaches. That is, XGBoost is the\\nbest single classifier for all sampling approaches when using the baseline ABT. \\n\\nBALANCED_ACCURACY/RECALL:\\n\\nAssessing based on balanced_accuracy and recall respectively, it can be see that an XGBClassifier with 1:1 Oversampling\\nperforms well returning values of 0.81 and 0.74. A RandomForestClassifier using Undersampling returns 0.80 and 0.76 \\nrespectively however this classifier suffers from a higher number of false positives as can be seen by the precision \\nvalue of 0.32, which is quite lower than that returned by the XGBClassifier. This increase in false positives has a knock\\non effect on its monetary cost, as false positives incur an incentive cost when trying to retain that customer.\\n\\nThe other classifiers perform relatives poorly with the Multi-layer Perceptron performing very poorly in this default \\nhyper-parameter scenario and simple predicts all members as churners, therefore recalls all churners but has extremely\\nlow precision. It is no better than random guessing. The following charts show the comparative performance of the \\nclassifiers for this initial baseline experiment.   \\n\\n\\nSAMPLING_TYPE\\n\\nInterestingly there is no clear winner in terms of which sampling method performs best, however the top 10 models all use \\nsome sort of sampling meaning not sampling the dataset provides inferior results. \\n\\nTIME_TAKEN\\nThe MLP classifier is consistently expensive to train and returns the poorest of results. The XGBCLassifier is next in terms \\nof training time but only takes a fraction of the MLPClassifier. Interestingly the XGBoost and RandomForest classifiers have \\nsimilar performance metrics but significantly different training times. This is largely due to the parallelisable nature\\nof constructing the RF tree ensemble, while the boosted XGB classifier is trained sequentially. \\n\\n'"
      ]
     },
     "execution_count": 183,
     "metadata": {},
     "output_type": "execute_result"
    }
   ],
   "source": [
    "'''\n",
    "METRICS\n",
    "\n",
    "CHURN_COST:\n",
    "\n",
    "When assessed using model_churn_cost, the XGBoost classifier returns the lowest cost 7471300 TWD, and\n",
    "returns strong values of balanced accuracy, AUROC and AUPRC of 0.79, 0.88 and 0.63 respectively. It is also shown that when\n",
    "assessing using churn chost, the XGBoost classifier comes out top for all sampling approaches. That is, XGBoost is the\n",
    "best single classifier for all sampling approaches when using the baseline ABT. \n",
    "\n",
    "BALANCED_ACCURACY/RECALL:\n",
    "\n",
    "Assessing based on balanced_accuracy and recall respectively, it can be see that an XGBClassifier with 1:1 Oversampling\n",
    "performs well returning values of 0.81 and 0.74. A RandomForestClassifier using Undersampling returns 0.80 and 0.76 \n",
    "respectively however this classifier suffers from a higher number of false positives as can be seen by the precision \n",
    "value of 0.32, which is quite lower than that returned by the XGBClassifier. This increase in false positives has a knock\n",
    "on effect on its monetary cost, as false positives incur an incentive cost when trying to retain that customer.\n",
    "\n",
    "The other classifiers perform relatives poorly with the Multi-layer Perceptron performing very poorly in this default \n",
    "hyper-parameter scenario and simple predicts all members as churners, therefore recalls all churners but has extremely\n",
    "low precision. It is no better than random guessing. The following charts show the comparative performance of the \n",
    "classifiers for this initial baseline experiment.   \n",
    "\n",
    "\n",
    "SAMPLING_TYPE\n",
    "\n",
    "Interestingly there is no clear winner in terms of which sampling method performs best, however the top 10 models all use \n",
    "some sort of sampling meaning not sampling the dataset provides inferior results. \n",
    "\n",
    "TIME_TAKEN\n",
    "The MLP classifier is consistently expensive to train and returns the poorest of results. The XGBCLassifier is next in terms \n",
    "of training time but only takes a fraction of the MLPClassifier. Interestingly the XGBoost and RandomForest classifiers have \n",
    "similar performance metrics but significantly different training times. This is largely due to the parallelisable nature\n",
    "of constructing the RF tree ensemble, while the boosted XGB classifier is trained sequentially. \n",
    "\n",
    "'''"
   ]
  },
  {
   "cell_type": "markdown",
   "metadata": {},
   "source": [
    "### The best performing models by sampling_method as measured by .... "
   ]
  },
  {
   "cell_type": "code",
   "execution_count": 278,
   "metadata": {},
   "outputs": [
    {
     "name": "stdout",
     "output_type": "stream",
     "text": [
      "Getting results for ['balanced_accuracy', 'recall'] / ordered ascending? [False, False]\n"
     ]
    },
    {
     "data": {
      "text/html": [
       "<div>\n",
       "<style scoped>\n",
       "    .dataframe tbody tr th:only-of-type {\n",
       "        vertical-align: middle;\n",
       "    }\n",
       "\n",
       "    .dataframe tbody tr th {\n",
       "        vertical-align: top;\n",
       "    }\n",
       "\n",
       "    .dataframe thead th {\n",
       "        text-align: right;\n",
       "    }\n",
       "</style>\n",
       "<table border=\"1\" class=\"dataframe\">\n",
       "  <thead>\n",
       "    <tr style=\"text-align: right;\">\n",
       "      <th></th>\n",
       "      <th>classifier</th>\n",
       "      <th>sampling_method</th>\n",
       "      <th>precision</th>\n",
       "      <th>recall</th>\n",
       "      <th>train_time</th>\n",
       "      <th>aucroc</th>\n",
       "      <th>auprc</th>\n",
       "      <th>balanced_accuracy</th>\n",
       "      <th>model_churn_cost</th>\n",
       "    </tr>\n",
       "  </thead>\n",
       "  <tbody>\n",
       "    <tr>\n",
       "      <th>0</th>\n",
       "      <td>GaussianNB</td>\n",
       "      <td>None</td>\n",
       "      <td>0.46</td>\n",
       "      <td>0.53</td>\n",
       "      <td>4.79</td>\n",
       "      <td>0.82</td>\n",
       "      <td>0.54</td>\n",
       "      <td>0.73</td>\n",
       "      <td>8447500</td>\n",
       "    </tr>\n",
       "    <tr>\n",
       "      <th>0</th>\n",
       "      <td>XGBClassifier</td>\n",
       "      <td>ROS 3:1</td>\n",
       "      <td>0.55</td>\n",
       "      <td>0.60</td>\n",
       "      <td>100.30</td>\n",
       "      <td>0.88</td>\n",
       "      <td>0.63</td>\n",
       "      <td>0.77</td>\n",
       "      <td>7477200</td>\n",
       "    </tr>\n",
       "    <tr>\n",
       "      <th>0</th>\n",
       "      <td>XGBClassifier</td>\n",
       "      <td>ROS 2:1</td>\n",
       "      <td>0.48</td>\n",
       "      <td>0.65</td>\n",
       "      <td>114.12</td>\n",
       "      <td>0.88</td>\n",
       "      <td>0.63</td>\n",
       "      <td>0.79</td>\n",
       "      <td>7471300</td>\n",
       "    </tr>\n",
       "    <tr>\n",
       "      <th>0</th>\n",
       "      <td>XGBClassifier</td>\n",
       "      <td>ROS 3:2</td>\n",
       "      <td>0.41</td>\n",
       "      <td>0.71</td>\n",
       "      <td>129.31</td>\n",
       "      <td>0.88</td>\n",
       "      <td>0.62</td>\n",
       "      <td>0.80</td>\n",
       "      <td>7634000</td>\n",
       "    </tr>\n",
       "    <tr>\n",
       "      <th>0</th>\n",
       "      <td>XGBClassifier</td>\n",
       "      <td>SMOTE_NC</td>\n",
       "      <td>0.40</td>\n",
       "      <td>0.71</td>\n",
       "      <td>161.53</td>\n",
       "      <td>0.87</td>\n",
       "      <td>0.60</td>\n",
       "      <td>0.80</td>\n",
       "      <td>7752100</td>\n",
       "    </tr>\n",
       "    <tr>\n",
       "      <th>0</th>\n",
       "      <td>XGBClassifier</td>\n",
       "      <td>RUS 1:1</td>\n",
       "      <td>0.38</td>\n",
       "      <td>0.74</td>\n",
       "      <td>14.89</td>\n",
       "      <td>0.88</td>\n",
       "      <td>0.62</td>\n",
       "      <td>0.81</td>\n",
       "      <td>7794600</td>\n",
       "    </tr>\n",
       "    <tr>\n",
       "      <th>0</th>\n",
       "      <td>XGBClassifier</td>\n",
       "      <td>ROS 1:1</td>\n",
       "      <td>0.38</td>\n",
       "      <td>0.74</td>\n",
       "      <td>160.65</td>\n",
       "      <td>0.88</td>\n",
       "      <td>0.62</td>\n",
       "      <td>0.81</td>\n",
       "      <td>7752900</td>\n",
       "    </tr>\n",
       "  </tbody>\n",
       "</table>\n",
       "</div>"
      ],
      "text/plain": [
       "      classifier sampling_method  precision  recall  train_time  aucroc  \\\n",
       "0     GaussianNB            None       0.46    0.53        4.79    0.82   \n",
       "0  XGBClassifier         ROS 3:1       0.55    0.60      100.30    0.88   \n",
       "0  XGBClassifier         ROS 2:1       0.48    0.65      114.12    0.88   \n",
       "0  XGBClassifier         ROS 3:2       0.41    0.71      129.31    0.88   \n",
       "0  XGBClassifier        SMOTE_NC       0.40    0.71      161.53    0.87   \n",
       "0  XGBClassifier         RUS 1:1       0.38    0.74       14.89    0.88   \n",
       "0  XGBClassifier         ROS 1:1       0.38    0.74      160.65    0.88   \n",
       "\n",
       "   auprc  balanced_accuracy  model_churn_cost  \n",
       "0   0.54               0.73           8447500  \n",
       "0   0.63               0.77           7477200  \n",
       "0   0.63               0.79           7471300  \n",
       "0   0.62               0.80           7634000  \n",
       "0   0.60               0.80           7752100  \n",
       "0   0.62               0.81           7794600  \n",
       "0   0.62               0.81           7752900  "
      ]
     },
     "execution_count": 278,
     "metadata": {},
     "output_type": "execute_result"
    }
   ],
   "source": [
    "print(\"Getting results for {} / ordered ascending? {}\".format(measure_by, measure_by_sort))\n",
    "top_results = exp_metrics[(exp_metrics.recall > 0) & (exp_metrics.recall < 1)]\\\n",
    "                    .sort_values(measure_by, ascending=measure_by_sort).groupby('sampling_method').head(1)\n",
    "top_results = top_results[measurements]\n",
    "top_results.sort_values('recall')"
   ]
  },
  {
   "cell_type": "markdown",
   "metadata": {},
   "source": [
    "### Classifier train time distribution by sampling method"
   ]
  },
  {
   "cell_type": "code",
   "execution_count": 242,
   "metadata": {},
   "outputs": [
    {
     "data": {
      "text/plain": [
       "Text(0.5, 0, 'Sampling Method')"
      ]
     },
     "execution_count": 242,
     "metadata": {},
     "output_type": "execute_result"
    },
    {
     "data": {
      "image/png": "[encoded data removed]",
      "text/plain": [
       "<Figure size 720x576 with 1 Axes>"
      ]
     },
     "metadata": {
      "needs_background": "light"
     },
     "output_type": "display_data"
    }
   ],
   "source": [
    "fig, ax = plt.subplots(figsize=(10,8))\n",
    "plt.ylabel('Seconds')\n",
    "exp_metrics.boxplot(column='train_time', by='sampling_method', ax=ax)\n",
    "plt.title('Classifier Training Time Distribution\\n', size=17)\n",
    "plt.suptitle(' ')\n",
    "plt.xlabel('Sampling Method')"
   ]
  },
  {
   "cell_type": "code",
   "execution_count": null,
   "metadata": {},
   "outputs": [],
   "source": []
  },
  {
   "cell_type": "code",
   "execution_count": null,
   "metadata": {},
   "outputs": [],
   "source": [
    "'''\n",
    "The XGBoost classsifier performs well regardless of the sampling type, the 2:1 over-sampling ratio is optimal when \n",
    "assessed by churn cost however recall is better for the 1:1 under or over sampled approaches.  \n",
    "\n",
    "'''"
   ]
  },
  {
   "cell_type": "code",
   "execution_count": null,
   "metadata": {},
   "outputs": [],
   "source": []
  },
  {
   "cell_type": "markdown",
   "metadata": {},
   "source": [
    "### For this approach plot the best models by classifier"
   ]
  },
  {
   "cell_type": "code",
   "execution_count": 298,
   "metadata": {
    "scrolled": false
   },
   "outputs": [
    {
     "name": "stdout",
     "output_type": "stream",
     "text": [
      "Getting results for ['balanced_accuracy', 'recall'] / ordered ascending? [False, False]\n"
     ]
    },
    {
     "data": {
      "image/png": "[encoded data removed]",
      "text/plain": [
       "<Figure size 1152x576 with 2 Axes>"
      ]
     },
     "metadata": {
      "needs_background": "light"
     },
     "output_type": "display_data"
    }
   ],
   "source": [
    "print(\"Getting results for {} / ordered ascending? {}\".format(measure_by, measure_by_sort))\n",
    "plot_results = exp_metrics.sort_values(measure_by, ascending=measure_by_sort).groupby('classifier').head(1)\n",
    "plot_data = filter_top_model_results(plot_results, exp_results)\n",
    "plot_roc_prc(plot_data, 'Baseline')"
   ]
  },
  {
   "cell_type": "code",
   "execution_count": null,
   "metadata": {},
   "outputs": [],
   "source": []
  },
  {
   "cell_type": "code",
   "execution_count": 255,
   "metadata": {},
   "outputs": [
    {
     "data": {
      "text/plain": [
       "KruskalResult(statistic=23362.838566202063, pvalue=0.0)"
      ]
     },
     "execution_count": 255,
     "metadata": {},
     "output_type": "execute_result"
    }
   ],
   "source": [
    "from scipy import stats\n",
    "import scikit_posthocs as sp\n",
    "\n",
    "xgb = plot_data[0][-2]\n",
    "rf = plot_data[1][-2]\n",
    "dt = plot_data[2][-2]\n",
    "gnb = plot_data[3][-2]\n",
    "lr = plot_data[4][-2]\n",
    "mlp = plot_data[5][-2]\n",
    "\n",
    "data = [xgb, rf, dt, gnb, lr, mlp]\n",
    "\n",
    "stats.kruskal(*data)"
   ]
  },
  {
   "cell_type": "code",
   "execution_count": 252,
   "metadata": {},
   "outputs": [
    {
     "data": {
      "text/html": [
       "<div>\n",
       "<style scoped>\n",
       "    .dataframe tbody tr th:only-of-type {\n",
       "        vertical-align: middle;\n",
       "    }\n",
       "\n",
       "    .dataframe tbody tr th {\n",
       "        vertical-align: top;\n",
       "    }\n",
       "\n",
       "    .dataframe thead th {\n",
       "        text-align: right;\n",
       "    }\n",
       "</style>\n",
       "<table border=\"1\" class=\"dataframe\">\n",
       "  <thead>\n",
       "    <tr style=\"text-align: right;\">\n",
       "      <th></th>\n",
       "      <th>1</th>\n",
       "      <th>2</th>\n",
       "      <th>3</th>\n",
       "      <th>4</th>\n",
       "      <th>5</th>\n",
       "      <th>6</th>\n",
       "    </tr>\n",
       "  </thead>\n",
       "  <tbody>\n",
       "    <tr>\n",
       "      <th>1</th>\n",
       "      <td>-1.00</td>\n",
       "      <td>0.00</td>\n",
       "      <td>0.00</td>\n",
       "      <td>0.00</td>\n",
       "      <td>0.00</td>\n",
       "      <td>0.89</td>\n",
       "    </tr>\n",
       "    <tr>\n",
       "      <th>2</th>\n",
       "      <td>0.00</td>\n",
       "      <td>-1.00</td>\n",
       "      <td>0.00</td>\n",
       "      <td>0.00</td>\n",
       "      <td>0.00</td>\n",
       "      <td>0.39</td>\n",
       "    </tr>\n",
       "    <tr>\n",
       "      <th>3</th>\n",
       "      <td>0.00</td>\n",
       "      <td>0.00</td>\n",
       "      <td>-1.00</td>\n",
       "      <td>0.22</td>\n",
       "      <td>0.00</td>\n",
       "      <td>0.58</td>\n",
       "    </tr>\n",
       "    <tr>\n",
       "      <th>4</th>\n",
       "      <td>0.00</td>\n",
       "      <td>0.00</td>\n",
       "      <td>0.22</td>\n",
       "      <td>-1.00</td>\n",
       "      <td>0.00</td>\n",
       "      <td>0.65</td>\n",
       "    </tr>\n",
       "    <tr>\n",
       "      <th>5</th>\n",
       "      <td>0.00</td>\n",
       "      <td>0.00</td>\n",
       "      <td>0.00</td>\n",
       "      <td>0.00</td>\n",
       "      <td>-1.00</td>\n",
       "      <td>0.67</td>\n",
       "    </tr>\n",
       "    <tr>\n",
       "      <th>6</th>\n",
       "      <td>0.89</td>\n",
       "      <td>0.39</td>\n",
       "      <td>0.58</td>\n",
       "      <td>0.65</td>\n",
       "      <td>0.67</td>\n",
       "      <td>-1.00</td>\n",
       "    </tr>\n",
       "  </tbody>\n",
       "</table>\n",
       "</div>"
      ],
      "text/plain": [
       "      1     2     3     4     5     6\n",
       "1 -1.00  0.00  0.00  0.00  0.00  0.89\n",
       "2  0.00 -1.00  0.00  0.00  0.00  0.39\n",
       "3  0.00  0.00 -1.00  0.22  0.00  0.58\n",
       "4  0.00  0.00  0.22 -1.00  0.00  0.65\n",
       "5  0.00  0.00  0.00  0.00 -1.00  0.67\n",
       "6  0.89  0.39  0.58  0.65  0.67 -1.00"
      ]
     },
     "execution_count": 252,
     "metadata": {},
     "output_type": "execute_result"
    }
   ],
   "source": [
    "sp.posthoc_conover(data)"
   ]
  },
  {
   "cell_type": "code",
   "execution_count": null,
   "metadata": {},
   "outputs": [],
   "source": []
  },
  {
   "cell_type": "code",
   "execution_count": null,
   "metadata": {
    "scrolled": true
   },
   "outputs": [],
   "source": [
    "#all_metrics[all_metrics.recall < 1.0].sort_values(['recall'], ascending=[False])"
   ]
  },
  {
   "cell_type": "code",
   "execution_count": null,
   "metadata": {},
   "outputs": [],
   "source": [
    "#all_metrics.sort_values(['recall','precision'], ascending=[False, False])"
   ]
  },
  {
   "cell_type": "code",
   "execution_count": null,
   "metadata": {},
   "outputs": [],
   "source": [
    "print(top_results.to_latex(index=False)) # doctest: +NORMALIZE_WHITESPACE"
   ]
  },
  {
   "cell_type": "code",
   "execution_count": null,
   "metadata": {},
   "outputs": [],
   "source": []
  },
  {
   "cell_type": "code",
   "execution_count": null,
   "metadata": {},
   "outputs": [],
   "source": []
  },
  {
   "cell_type": "code",
   "execution_count": 44,
   "metadata": {},
   "outputs": [],
   "source": [
    "import scipy.stats as ss\n",
    "import statsmodels.api as sa\n",
    "import scikit_posthocs as sp\n",
    "import statsmodels.formula.api as sfa\n",
    "\n",
    "df = sa.datasets.get_rdataset('iris').data\n",
    "data = [df.loc[ids, 'Sepal.Width'].values for ids in df.groupby('Species').groups.values()]"
   ]
  },
  {
   "cell_type": "code",
   "execution_count": 46,
   "metadata": {},
   "outputs": [
    {
     "name": "stdout",
     "output_type": "stream",
     "text": [
      "63.571146104163795 1.5692820940316782e-14\n"
     ]
    }
   ],
   "source": [
    "H, p = ss.kruskal(*data)\n",
    "print(H, p)"
   ]
  },
  {
   "cell_type": "code",
   "execution_count": 47,
   "metadata": {},
   "outputs": [
    {
     "data": {
      "text/html": [
       "<div>\n",
       "<style scoped>\n",
       "    .dataframe tbody tr th:only-of-type {\n",
       "        vertical-align: middle;\n",
       "    }\n",
       "\n",
       "    .dataframe tbody tr th {\n",
       "        vertical-align: top;\n",
       "    }\n",
       "\n",
       "    .dataframe thead th {\n",
       "        text-align: right;\n",
       "    }\n",
       "</style>\n",
       "<table border=\"1\" class=\"dataframe\">\n",
       "  <thead>\n",
       "    <tr style=\"text-align: right;\">\n",
       "      <th></th>\n",
       "      <th>setosa</th>\n",
       "      <th>versicolor</th>\n",
       "      <th>virginica</th>\n",
       "    </tr>\n",
       "  </thead>\n",
       "  <tbody>\n",
       "    <tr>\n",
       "      <th>setosa</th>\n",
       "      <td>-1.00</td>\n",
       "      <td>0.00</td>\n",
       "      <td>0.00</td>\n",
       "    </tr>\n",
       "    <tr>\n",
       "      <th>versicolor</th>\n",
       "      <td>0.00</td>\n",
       "      <td>-1.00</td>\n",
       "      <td>0.00</td>\n",
       "    </tr>\n",
       "    <tr>\n",
       "      <th>virginica</th>\n",
       "      <td>0.00</td>\n",
       "      <td>0.00</td>\n",
       "      <td>-1.00</td>\n",
       "    </tr>\n",
       "  </tbody>\n",
       "</table>\n",
       "</div>"
      ],
      "text/plain": [
       "            setosa  versicolor  virginica\n",
       "setosa       -1.00        0.00       0.00\n",
       "versicolor    0.00       -1.00       0.00\n",
       "virginica     0.00        0.00      -1.00"
      ]
     },
     "execution_count": 47,
     "metadata": {},
     "output_type": "execute_result"
    }
   ],
   "source": [
    "sp.posthoc_conover(df, val_col='Sepal.Width', group_col='Species', p_adjust = 'holm')"
   ]
  },
  {
   "cell_type": "code",
   "execution_count": 55,
   "metadata": {},
   "outputs": [],
   "source": [
    "df.columns = ['Sepal_Length', 'Sepal_Width', 'Petal_Length', 'Petal_Width', 'Species']"
   ]
  },
  {
   "cell_type": "code",
   "execution_count": 56,
   "metadata": {},
   "outputs": [
    {
     "name": "stdout",
     "output_type": "stream",
     "text": [
      "               df  sum_sq  mean_sq     F  PR(>F)\n",
      "C(Species)   2.00   11.34     5.67 49.16    0.00\n",
      "Residual   147.00   16.96     0.12   nan     nan\n"
     ]
    }
   ],
   "source": [
    "lm = sfa.ols('Sepal_Width ~ C(Species)', data=df).fit()\n",
    "anova = sa.stats.anova_lm(lm)\n",
    "print(anova)"
   ]
  },
  {
   "cell_type": "code",
   "execution_count": 59,
   "metadata": {},
   "outputs": [
    {
     "data": {
      "text/html": [
       "<div>\n",
       "<style scoped>\n",
       "    .dataframe tbody tr th:only-of-type {\n",
       "        vertical-align: middle;\n",
       "    }\n",
       "\n",
       "    .dataframe tbody tr th {\n",
       "        vertical-align: top;\n",
       "    }\n",
       "\n",
       "    .dataframe thead th {\n",
       "        text-align: right;\n",
       "    }\n",
       "</style>\n",
       "<table border=\"1\" class=\"dataframe\">\n",
       "  <thead>\n",
       "    <tr style=\"text-align: right;\">\n",
       "      <th></th>\n",
       "      <th>setosa</th>\n",
       "      <th>versicolor</th>\n",
       "      <th>virginica</th>\n",
       "    </tr>\n",
       "  </thead>\n",
       "  <tbody>\n",
       "    <tr>\n",
       "      <th>setosa</th>\n",
       "      <td>-1.00</td>\n",
       "      <td>0.00</td>\n",
       "      <td>0.00</td>\n",
       "    </tr>\n",
       "    <tr>\n",
       "      <th>versicolor</th>\n",
       "      <td>0.00</td>\n",
       "      <td>-1.00</td>\n",
       "      <td>0.00</td>\n",
       "    </tr>\n",
       "    <tr>\n",
       "      <th>virginica</th>\n",
       "      <td>0.00</td>\n",
       "      <td>0.00</td>\n",
       "      <td>-1.00</td>\n",
       "    </tr>\n",
       "  </tbody>\n",
       "</table>\n",
       "</div>"
      ],
      "text/plain": [
       "            setosa  versicolor  virginica\n",
       "setosa       -1.00        0.00       0.00\n",
       "versicolor    0.00       -1.00       0.00\n",
       "virginica     0.00        0.00      -1.00"
      ]
     },
     "execution_count": 59,
     "metadata": {},
     "output_type": "execute_result"
    }
   ],
   "source": [
    "sp.posthoc_ttest(df, val_col='Sepal_Width', group_col='Species', p_adjust='holm')"
   ]
  }
 ],
 "metadata": {
  "kernelspec": {
   "display_name": "Python 3",
   "language": "python",
   "name": "python3"
  },
  "language_info": {
   "codemirror_mode": {
    "name": "ipython",
    "version": 3
   },
   "file_extension": ".py",
   "mimetype": "text/x-python",
   "name": "python",
   "nbconvert_exporter": "python",
   "pygments_lexer": "ipython3",
   "version": "3.7.3"
  }
 },
 "nbformat": 4,
 "nbformat_minor": 2
}
