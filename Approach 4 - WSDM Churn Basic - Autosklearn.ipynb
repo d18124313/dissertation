{
 "cells": [
  {
   "cell_type": "code",
   "execution_count": null,
   "metadata": {
    "init_cell": true
   },
   "outputs": [],
   "source": [
    "## @see https://www.kaggle.com/toorkp/churn-wsdm/data"
   ]
  },
  {
   "cell_type": "code",
   "execution_count": 1,
   "metadata": {
    "init_cell": true,
    "scrolled": true
   },
   "outputs": [],
   "source": [
    "%load_ext autoreload\n",
    "%autoreload"
   ]
  },
  {
   "cell_type": "code",
   "execution_count": 2,
   "metadata": {
    "init_cell": true
   },
   "outputs": [
    {
     "name": "stderr",
     "output_type": "stream",
     "text": [
      "/home/anaconda/envs/py373/lib/python3.7/site-packages/pyparsing.py:2927: FutureWarning: Possible set intersection at position 3\n",
      "  self.re = re.compile( self.reString )\n",
      "/home/anaconda/envs/py373/lib/python3.7/site-packages/sklearn/externals/joblib/__init__.py:15: DeprecationWarning: sklearn.externals.joblib is deprecated in 0.21 and will be removed in 0.23. Please import this functionality directly from joblib, which can be installed with: pip install joblib. If this warning is raised when loading pickled models, you may need to re-serialize those models with scikit-learn 0.21+.\n",
      "  warnings.warn(msg, category=DeprecationWarning)\n"
     ]
    }
   ],
   "source": [
    "import numpy as np\n",
    "import pandas as pd\n",
    "import time\n",
    "import gc; gc.enable()\n",
    "import time\n",
    "import sys\n",
    "\n",
    "from sklearn import model_selection\n",
    "from sklearn.model_selection import train_test_split\n",
    "from sklearn.metrics import accuracy_score, roc_curve, auc, confusion_matrix, f1_score, log_loss, confusion_matrix\n",
    "\n",
    "from collections import Counter\n",
    "from numpy.random import RandomState\n",
    "from imblearn.over_sampling import SMOTENC\n",
    "from imblearn.over_sampling import RandomOverSampler\n",
    "from imblearn.under_sampling import RandomUnderSampler\n",
    "\n",
    "pd.options.display.float_format = \"{:.2f}\".format\n",
    "np.set_printoptions(precision=4)\n",
    "\n",
    "import matplotlib.pyplot as plt\n",
    "%matplotlib inline\n",
    "\n",
    "sys.path.append('modules')\n",
    "\n",
    "from shared_functions import *\n",
    "import pickle\n",
    "from datetime import datetime"
   ]
  },
  {
   "cell_type": "code",
   "execution_count": 3,
   "metadata": {},
   "outputs": [
    {
     "name": "stdout",
     "output_type": "stream",
     "text": [
      "Train Shape: (600803, 13) (600803,)\n",
      "Train Shape: (257487, 13) (257487,)\n"
     ]
    },
    {
     "data": {
      "text/html": [
       "<div>\n",
       "<style scoped>\n",
       "    .dataframe tbody tr th:only-of-type {\n",
       "        vertical-align: middle;\n",
       "    }\n",
       "\n",
       "    .dataframe tbody tr th {\n",
       "        vertical-align: top;\n",
       "    }\n",
       "\n",
       "    .dataframe thead th {\n",
       "        text-align: right;\n",
       "    }\n",
       "</style>\n",
       "<table border=\"1\" class=\"dataframe\">\n",
       "  <thead>\n",
       "    <tr style=\"text-align: right;\">\n",
       "      <th></th>\n",
       "      <th>city</th>\n",
       "      <th>bd</th>\n",
       "      <th>registered_via</th>\n",
       "      <th>total_order</th>\n",
       "      <th>payment_method_id_mode</th>\n",
       "      <th>payment_method_id_count</th>\n",
       "      <th>payment_plan_days_mode</th>\n",
       "      <th>payment_plan_days_mean</th>\n",
       "      <th>plan_list_price_mean</th>\n",
       "      <th>plan_lifetime_value</th>\n",
       "      <th>is_auto_renew_mode</th>\n",
       "      <th>transaction_date_max</th>\n",
       "      <th>cancel_times</th>\n",
       "    </tr>\n",
       "  </thead>\n",
       "  <tbody>\n",
       "    <tr>\n",
       "      <th>703741</th>\n",
       "      <td>4</td>\n",
       "      <td>32</td>\n",
       "      <td>3</td>\n",
       "      <td>22</td>\n",
       "      <td>33</td>\n",
       "      <td>1</td>\n",
       "      <td>30</td>\n",
       "      <td>21.82</td>\n",
       "      <td>108.36</td>\n",
       "      <td>2384.00</td>\n",
       "      <td>True</td>\n",
       "      <td>20170228</td>\n",
       "      <td>0</td>\n",
       "    </tr>\n",
       "    <tr>\n",
       "      <th>228194</th>\n",
       "      <td>13</td>\n",
       "      <td>33</td>\n",
       "      <td>3</td>\n",
       "      <td>19</td>\n",
       "      <td>39</td>\n",
       "      <td>1</td>\n",
       "      <td>30</td>\n",
       "      <td>28.58</td>\n",
       "      <td>141.16</td>\n",
       "      <td>2682.00</td>\n",
       "      <td>True</td>\n",
       "      <td>20170131</td>\n",
       "      <td>0</td>\n",
       "    </tr>\n",
       "    <tr>\n",
       "      <th>735733</th>\n",
       "      <td>15</td>\n",
       "      <td>22</td>\n",
       "      <td>3</td>\n",
       "      <td>17</td>\n",
       "      <td>40</td>\n",
       "      <td>3</td>\n",
       "      <td>30</td>\n",
       "      <td>30.00</td>\n",
       "      <td>158.12</td>\n",
       "      <td>2688.00</td>\n",
       "      <td>True</td>\n",
       "      <td>20170210</td>\n",
       "      <td>4</td>\n",
       "    </tr>\n",
       "    <tr>\n",
       "      <th>774256</th>\n",
       "      <td>1</td>\n",
       "      <td>0</td>\n",
       "      <td>7</td>\n",
       "      <td>26</td>\n",
       "      <td>41</td>\n",
       "      <td>1</td>\n",
       "      <td>30</td>\n",
       "      <td>28.85</td>\n",
       "      <td>143.27</td>\n",
       "      <td>3725.00</td>\n",
       "      <td>True</td>\n",
       "      <td>20170205</td>\n",
       "      <td>0</td>\n",
       "    </tr>\n",
       "    <tr>\n",
       "      <th>282188</th>\n",
       "      <td>1</td>\n",
       "      <td>0</td>\n",
       "      <td>7</td>\n",
       "      <td>27</td>\n",
       "      <td>41</td>\n",
       "      <td>1</td>\n",
       "      <td>30</td>\n",
       "      <td>28.89</td>\n",
       "      <td>132.00</td>\n",
       "      <td>3564.00</td>\n",
       "      <td>True</td>\n",
       "      <td>20170216</td>\n",
       "      <td>1</td>\n",
       "    </tr>\n",
       "  </tbody>\n",
       "</table>\n",
       "</div>"
      ],
      "text/plain": [
       "       city  bd registered_via  total_order  payment_method_id_mode  \\\n",
       "703741    4  32              3           22                      33   \n",
       "228194   13  33              3           19                      39   \n",
       "735733   15  22              3           17                      40   \n",
       "774256    1   0              7           26                      41   \n",
       "282188    1   0              7           27                      41   \n",
       "\n",
       "        payment_method_id_count  payment_plan_days_mode  \\\n",
       "703741                        1                      30   \n",
       "228194                        1                      30   \n",
       "735733                        3                      30   \n",
       "774256                        1                      30   \n",
       "282188                        1                      30   \n",
       "\n",
       "        payment_plan_days_mean  plan_list_price_mean  plan_lifetime_value  \\\n",
       "703741                   21.82                108.36              2384.00   \n",
       "228194                   28.58                141.16              2682.00   \n",
       "735733                   30.00                158.12              2688.00   \n",
       "774256                   28.85                143.27              3725.00   \n",
       "282188                   28.89                132.00              3564.00   \n",
       "\n",
       "        is_auto_renew_mode  transaction_date_max  cancel_times  \n",
       "703741                True              20170228             0  \n",
       "228194                True              20170131             0  \n",
       "735733                True              20170210             4  \n",
       "774256                True              20170205             0  \n",
       "282188                True              20170216             1  "
      ]
     },
     "execution_count": 3,
     "metadata": {},
     "output_type": "execute_result"
    }
   ],
   "source": [
    "# Load the pre-split data\n",
    "\n",
    "store = pd.HDFStore('/home/dissertation/data/base_abt_split.h5')\n",
    "X_train, X_test, y_train, y_test = store['X_train'], store['X_test'], store['y_train'], store['y_test']\n",
    "store.close()\n",
    "\n",
    "# Drop msno from the dataset\n",
    "X_train.drop(['msno', 'registration_init_time', 'registration_init_time_dt'], inplace=True, axis=1)\n",
    "X_test.drop(['msno', 'registration_init_time', 'registration_init_time_dt'], inplace=True, axis=1)\n",
    "\n",
    "print(\"Train Shape:\", X_train.shape, y_train.shape)\n",
    "print(\"Train Shape:\", X_test.shape, y_test.shape)\n",
    "X_train.head()"
   ]
  },
  {
   "cell_type": "code",
   "execution_count": 4,
   "metadata": {},
   "outputs": [],
   "source": [
    "RANDOM_STATE = 42 \n",
    "CV_ITER = None\n",
    "SCORING_METRIC = autosklearn.metrics.recall\n",
    "BASE_NAME = \"askbasic_\" + str(CV_ITER) + \"cv_\" + str(SCORING_METRIC)\n",
    "N_JOBS = 6\n",
    "\n",
    "## Set the list of the categorical columns in the dataset\n",
    "cat_col = ['city', 'registered_via', 'payment_method_id_mode']\n",
    "\n",
    "df_cols = X_train.columns\n",
    "feat_types =  ['Categorical' if col in cat_col else 'Numerical' for col in df_cols]\n",
    "\n",
    "## Each entry in the list is a Tuple of\n",
    "##   [ModelName, Model, HyperParams, ScoringMetric]\n",
    " \n",
    "    \n",
    "    random_state=RANDOM_STATE \n",
    "    random_state=RANDOM_STATE\n",
    "    random_state=RANDOM_STATE\n",
    "    random_state=RANDOM_STATE\n",
    "    random_state=RANDOM_STATE\n",
    "    \n",
    "classifiers = [\n",
    "        ('ASKLEARN_.25_' + BASE_NAME, \n",
    "         autosklearn.classification.AutoSklearnClassifier(\n",
    "                time_left_for_this_task=int(3600*.25), \n",
    "                n_jobs=N_JOBS,\n",
    "                include_estimators=[\"random_forest\", \"decision_tree\", \"adaboost\", \"gaussian_nb\",\n",
    "                                    \"liblinear_svc\", \"xgradient_boosting\"], \n",
    "                exclude_estimators=None,\n",
    "                include_preprocessors=[\"no_preprocessing\", ], \n",
    "                exclude_preprocessors=None,\n",
    "                ml_memory_limit = 3072*4), {}, \n",
    "         SCORING_METRIC),\n",
    "        ('ASKLEARN_.5_' + BASE_NAME, \n",
    "         autosklearn.classification.AutoSklearnClassifier(\n",
    "                time_left_for_this_task=int(3600*.5), \n",
    "                n_jobs=N_JOBS,\n",
    "                include_estimators=[\"random_forest\", \"decision_tree\", \"adaboost\", \"gaussian_nb\",\n",
    "                                    \"liblinear_svc\", \"xgradient_boosting\"], \n",
    "                exclude_estimators=None,\n",
    "                include_preprocessors=[\"no_preprocessing\", ], \n",
    "                exclude_preprocessors=None,\n",
    "                ml_memory_limit = 3072*4), {}, \n",
    "         SCORING_METRIC),\n",
    "#         ('ASKLEARN_1_' + BASE_NAME, \n",
    "#          autosklearn.classification.AutoSklearnClassifier(\n",
    "#                 time_left_for_this_task=int(3600*1), \n",
    "#                 n_jobs=N_JOBS,\n",
    "#                 include_estimators=[\"random_forest\", \"decision_tree\", \"adaboost\", \"gaussian_nb\",\n",
    "#                                     \"liblinear_svc\", \"xgradient_boosting\"], \n",
    "#                 exclude_estimators=None,\n",
    "#                 include_preprocessors=[\"no_preprocessing\", ], \n",
    "#                 exclude_preprocessors=None,\n",
    "#                 ml_memory_limit = 3072*4), {}, \n",
    "#          SCORING_METRIC),\n",
    "#         ('ASKLEARN_2_' + BASE_NAME, \n",
    "#          autosklearn.classification.AutoSklearnClassifier(\n",
    "#                 time_left_for_this_task=int(3600*2), \n",
    "#                 n_jobs=N_JOBS,\n",
    "#                 include_estimators=[\"random_forest\", \"decision_tree\", \"adaboost\", \"gaussian_nb\",\n",
    "#                                     \"liblinear_svc\", \"xgradient_boosting\"], \n",
    "#                 exclude_estimators=None,\n",
    "#                 include_preprocessors=[\"no_preprocessing\", ], \n",
    "#                 exclude_preprocessors=None,\n",
    "#                 ml_memory_limit = 3072*4), {}, \n",
    "#          SCORING_METRIC),\n",
    "#         ('ASKLEARN_6_' + BASE_NAME, \n",
    "#          autosklearn.classification.AutoSklearnClassifier(\n",
    "#                 time_left_for_this_task=int(3600*6), \n",
    "#                 n_jobs=N_JOBS,\n",
    "#                 include_estimators=[\"random_forest\", \"decision_tree\", \"adaboost\", \"gaussian_nb\",\n",
    "#                                     \"liblinear_svc\", \"xgradient_boosting\"], \n",
    "#                 exclude_estimators=None,\n",
    "#                 include_preprocessors=[\"no_preprocessing\", ], \n",
    "#                 exclude_preprocessors=None,\n",
    "#                 ml_memory_limit = 3072*2), {}, \n",
    "#          SCORING_METRIC),\n",
    "#         ('ASKLEARN_12_' + BASE_NAME, \n",
    "#          autosklearn.classification.AutoSklearnClassifier(\n",
    "#                 time_left_for_this_task=int(3600*12), \n",
    "#                 n_jobs=N_JOBS,\n",
    "#                 include_estimators=[\"random_forest\", \"decision_tree\", \"adaboost\", \"gaussian_nb\",\n",
    "#                                     \"liblinear_svc\", \"xgradient_boosting\"], \n",
    "#                 exclude_estimators=None,\n",
    "#                 include_preprocessors=[\"no_preprocessing\", ], \n",
    "#                 exclude_preprocessors=None,\n",
    "#                 ml_memory_limit = 3072*2), {}, \n",
    "#          SCORING_METRIC)\n",
    "]"
   ]
  },
  {
   "cell_type": "code",
   "execution_count": 5,
   "metadata": {},
   "outputs": [],
   "source": [
    "all_metrics = pd.DataFrame()\n",
    "all_results = list()"
   ]
  },
  {
   "cell_type": "markdown",
   "metadata": {},
   "source": [
    "### Experiment 1.1 Baseline - Default Settings - No sampling"
   ]
  },
  {
   "cell_type": "code",
   "execution_count": 6,
   "metadata": {
    "scrolled": true
   },
   "outputs": [
    {
     "name": "stdout",
     "output_type": "stream",
     "text": [
      "Model Build Iteration 0\n",
      "PRE-SAMPLING: (600803, 13) (600803,) Counter({0: 544661, 1: 56142})\n",
      "POST-SAMPLING: (600803, 13) (600803,) Counter({0: 544661, 1: 56142})\n",
      "Set the train df types correctly based on the test set\n",
      "Applying normalisation to train and test sets\n",
      "Categorical columns in dataset ['city', 'registered_via', 'payment_method_id_mode']\n",
      "Categorical columns in dataset ['city', 'registered_via', 'payment_method_id_mode']\n",
      "X_train:  (600803, 68) (600803, 1)\n",
      "X_test:  (257487, 68) (257487, 1)\n"
     ]
    },
    {
     "data": {
      "image/png": "[encoded data removed]",
      "text/plain": [
       "<Figure size 432x288 with 2 Axes>"
      ]
     },
     "metadata": {
      "needs_background": "light"
     },
     "output_type": "display_data"
    },
    {
     "name": "stdout",
     "output_type": "stream",
     "text": [
      "Training ASKLEARN_.25_askbasic_Nonecv_recall classifier\n",
      "No params set, using Standard training\n"
     ]
    },
    {
     "name": "stderr",
     "output_type": "stream",
     "text": [
      "/home/anaconda/envs/py373/lib/python3.7/site-packages/autosklearn/evaluation/train_evaluator.py:197: RuntimeWarning: Mean of empty slice\n",
      "  Y_train_pred = np.nanmean(Y_train_pred_full, axis=0)\n",
      "/home/anaconda/envs/py373/lib/python3.7/site-packages/autosklearn/evaluation/train_evaluator.py:197: RuntimeWarning: Mean of empty slice\n",
      "  Y_train_pred = np.nanmean(Y_train_pred_full, axis=0)\n",
      "/home/anaconda/envs/py373/lib/python3.7/site-packages/autosklearn/evaluation/train_evaluator.py:197: RuntimeWarning: Mean of empty slice\n",
      "  Y_train_pred = np.nanmean(Y_train_pred_full, axis=0)\n",
      "/home/anaconda/envs/py373/lib/python3.7/site-packages/autosklearn/evaluation/train_evaluator.py:197: RuntimeWarning: Mean of empty slice\n",
      "  Y_train_pred = np.nanmean(Y_train_pred_full, axis=0)\n",
      "/home/anaconda/envs/py373/lib/python3.7/site-packages/autosklearn/evaluation/train_evaluator.py:197: RuntimeWarning: Mean of empty slice\n",
      "  Y_train_pred = np.nanmean(Y_train_pred_full, axis=0)\n"
     ]
    },
    {
     "name": "stdout",
     "output_type": "stream",
     "text": [
      "[WARNING] [2019-08-06 00:18:52,213:EnsembleBuilder(1791095845):0dd3e4e45aa5507e5d58e2d0731a3935] No models better than random - using Dummy Score!\n",
      "[WARNING] [2019-08-06 00:18:52,381:EnsembleBuilder(1791095845):0dd3e4e45aa5507e5d58e2d0731a3935] No models better than random - using Dummy Score!\n",
      "[WARNING] [2019-08-06 00:18:54,411:EnsembleBuilder(1791095845):0dd3e4e45aa5507e5d58e2d0731a3935] No models better than random - using Dummy Score!\n"
     ]
    },
    {
     "name": "stderr",
     "output_type": "stream",
     "text": [
      "/home/anaconda/envs/py373/lib/python3.7/site-packages/autosklearn/evaluation/train_evaluator.py:197: RuntimeWarning: Mean of empty slice\n",
      "  Y_train_pred = np.nanmean(Y_train_pred_full, axis=0)\n"
     ]
    },
    {
     "name": "stdout",
     "output_type": "stream",
     "text": [
      "[WARNING] [2019-08-06 00:18:56,496:EnsembleBuilder(1791095845):0dd3e4e45aa5507e5d58e2d0731a3935] No models better than random - using Dummy Score!\n",
      "[WARNING] [2019-08-06 00:18:58,505:EnsembleBuilder(1791095845):0dd3e4e45aa5507e5d58e2d0731a3935] No models better than random - using Dummy Score!\n",
      "[WARNING] [2019-08-06 00:19:00,513:EnsembleBuilder(1791095845):0dd3e4e45aa5507e5d58e2d0731a3935] No models better than random - using Dummy Score!\n",
      "[WARNING] [2019-08-06 00:19:02,525:EnsembleBuilder(1791095845):0dd3e4e45aa5507e5d58e2d0731a3935] No models better than random - using Dummy Score!\n",
      "[WARNING] [2019-08-06 00:19:04,552:EnsembleBuilder(1791095845):0dd3e4e45aa5507e5d58e2d0731a3935] No models better than random - using Dummy Score!\n"
     ]
    },
    {
     "name": "stderr",
     "output_type": "stream",
     "text": [
      "/home/anaconda/envs/py373/lib/python3.7/site-packages/autosklearn/evaluation/train_evaluator.py:197: RuntimeWarning: Mean of empty slice\n",
      "  Y_train_pred = np.nanmean(Y_train_pred_full, axis=0)\n"
     ]
    },
    {
     "name": "stdout",
     "output_type": "stream",
     "text": [
      "[WARNING] [2019-08-06 00:19:06,560:EnsembleBuilder(1791095845):0dd3e4e45aa5507e5d58e2d0731a3935] No models better than random - using Dummy Score!\n",
      "[WARNING] [2019-08-06 00:19:08,642:EnsembleBuilder(1791095845):0dd3e4e45aa5507e5d58e2d0731a3935] No models better than random - using Dummy Score!\n",
      "[WARNING] [2019-08-06 00:19:10,669:EnsembleBuilder(1791095845):0dd3e4e45aa5507e5d58e2d0731a3935] No models better than random - using Dummy Score!\n",
      "[WARNING] [2019-08-06 00:19:12,696:EnsembleBuilder(1791095845):0dd3e4e45aa5507e5d58e2d0731a3935] No models better than random - using Dummy Score!\n",
      "[WARNING] [2019-08-06 00:19:14,708:EnsembleBuilder(1791095845):0dd3e4e45aa5507e5d58e2d0731a3935] No models better than random - using Dummy Score!\n",
      "[WARNING] [2019-08-06 00:19:15,089:smac.intensification.intensification.Intensifier] Challenger was the same as the current incumbent; Skipping challenger\n",
      "[WARNING] [2019-08-06 00:19:15,089:smac.intensification.intensification.Intensifier] Challenger was the same as the current incumbent; Skipping challenger\n",
      "[WARNING] [2019-08-06 00:19:16,716:EnsembleBuilder(1791095845):0dd3e4e45aa5507e5d58e2d0731a3935] No models better than random - using Dummy Score!\n",
      "[WARNING] [2019-08-06 00:19:18,737:EnsembleBuilder(1791095845):0dd3e4e45aa5507e5d58e2d0731a3935] No models better than random - using Dummy Score!\n",
      "[WARNING] [2019-08-06 00:19:20,748:EnsembleBuilder(1791095845):0dd3e4e45aa5507e5d58e2d0731a3935] No models better than random - using Dummy Score!\n",
      "[WARNING] [2019-08-06 00:19:22,769:EnsembleBuilder(1791095845):0dd3e4e45aa5507e5d58e2d0731a3935] No models better than random - using Dummy Score!\n",
      "[WARNING] [2019-08-06 00:19:24,777:EnsembleBuilder(1791095845):0dd3e4e45aa5507e5d58e2d0731a3935] No models better than random - using Dummy Score!\n",
      "[WARNING] [2019-08-06 00:19:26,805:EnsembleBuilder(1791095845):0dd3e4e45aa5507e5d58e2d0731a3935] No models better than random - using Dummy Score!\n",
      "[WARNING] [2019-08-06 00:19:28,816:EnsembleBuilder(1791095845):0dd3e4e45aa5507e5d58e2d0731a3935] No models better than random - using Dummy Score!\n",
      "[WARNING] [2019-08-06 00:19:30,824:EnsembleBuilder(1791095845):0dd3e4e45aa5507e5d58e2d0731a3935] No models better than random - using Dummy Score!\n",
      "[WARNING] [2019-08-06 00:19:32,848:EnsembleBuilder(1791095845):0dd3e4e45aa5507e5d58e2d0731a3935] No models better than random - using Dummy Score!\n",
      "[WARNING] [2019-08-06 00:19:34,859:EnsembleBuilder(1791095845):0dd3e4e45aa5507e5d58e2d0731a3935] No models better than random - using Dummy Score!\n"
     ]
    },
    {
     "name": "stderr",
     "output_type": "stream",
     "text": [
      "/home/anaconda/envs/py373/lib/python3.7/site-packages/autosklearn/evaluation/train_evaluator.py:197: RuntimeWarning: Mean of empty slice\n",
      "  Y_train_pred = np.nanmean(Y_train_pred_full, axis=0)\n"
     ]
    },
    {
     "name": "stdout",
     "output_type": "stream",
     "text": [
      "[WARNING] [2019-08-06 00:19:36,912:EnsembleBuilder(1791095845):0dd3e4e45aa5507e5d58e2d0731a3935] No models better than random - using Dummy Score!\n",
      "[WARNING] [2019-08-06 00:19:38,933:EnsembleBuilder(1791095845):0dd3e4e45aa5507e5d58e2d0731a3935] No models better than random - using Dummy Score!\n",
      "[WARNING] [2019-08-06 00:19:40,971:EnsembleBuilder(1791095845):0dd3e4e45aa5507e5d58e2d0731a3935] No models better than random - using Dummy Score!\n",
      "[WARNING] [2019-08-06 00:19:42,980:EnsembleBuilder(1791095845):0dd3e4e45aa5507e5d58e2d0731a3935] No models better than random - using Dummy Score!\n",
      "[WARNING] [2019-08-06 00:19:45,008:EnsembleBuilder(1791095845):0dd3e4e45aa5507e5d58e2d0731a3935] No models better than random - using Dummy Score!\n",
      "[WARNING] [2019-08-06 00:19:47,024:EnsembleBuilder(1791095845):0dd3e4e45aa5507e5d58e2d0731a3935] No models better than random - using Dummy Score!\n",
      "[WARNING] [2019-08-06 00:19:49,047:EnsembleBuilder(1791095845):0dd3e4e45aa5507e5d58e2d0731a3935] No models better than random - using Dummy Score!\n",
      "[WARNING] [2019-08-06 00:19:51,069:EnsembleBuilder(1791095845):0dd3e4e45aa5507e5d58e2d0731a3935] No models better than random - using Dummy Score!\n",
      "[WARNING] [2019-08-06 00:19:53,076:EnsembleBuilder(1791095845):0dd3e4e45aa5507e5d58e2d0731a3935] No models better than random - using Dummy Score!\n",
      "[WARNING] [2019-08-06 00:19:55,083:EnsembleBuilder(1791095845):0dd3e4e45aa5507e5d58e2d0731a3935] No models better than random - using Dummy Score!\n",
      "[WARNING] [2019-08-06 00:19:57,089:EnsembleBuilder(1791095845):0dd3e4e45aa5507e5d58e2d0731a3935] No models better than random - using Dummy Score!\n",
      "[WARNING] [2019-08-06 00:19:59,117:EnsembleBuilder(1791095845):0dd3e4e45aa5507e5d58e2d0731a3935] No models better than random - using Dummy Score!\n",
      "[WARNING] [2019-08-06 00:20:01,124:EnsembleBuilder(1791095845):0dd3e4e45aa5507e5d58e2d0731a3935] No models better than random - using Dummy Score!\n",
      "[WARNING] [2019-08-06 00:20:03,133:EnsembleBuilder(1791095845):0dd3e4e45aa5507e5d58e2d0731a3935] No models better than random - using Dummy Score!\n",
      "[WARNING] [2019-08-06 00:20:05,160:EnsembleBuilder(1791095845):0dd3e4e45aa5507e5d58e2d0731a3935] No models better than random - using Dummy Score!\n",
      "[WARNING] [2019-08-06 00:20:07,168:EnsembleBuilder(1791095845):0dd3e4e45aa5507e5d58e2d0731a3935] No models better than random - using Dummy Score!\n",
      "[WARNING] [2019-08-06 00:20:09,177:EnsembleBuilder(1791095845):0dd3e4e45aa5507e5d58e2d0731a3935] No models better than random - using Dummy Score!\n",
      "[WARNING] [2019-08-06 00:20:11,185:EnsembleBuilder(1791095845):0dd3e4e45aa5507e5d58e2d0731a3935] No models better than random - using Dummy Score!\n",
      "[WARNING] [2019-08-06 00:20:13,196:EnsembleBuilder(1791095845):0dd3e4e45aa5507e5d58e2d0731a3935] No models better than random - using Dummy Score!\n",
      "[WARNING] [2019-08-06 00:20:15,220:EnsembleBuilder(1791095845):0dd3e4e45aa5507e5d58e2d0731a3935] No models better than random - using Dummy Score!\n",
      "[WARNING] [2019-08-06 00:20:17,245:EnsembleBuilder(1791095845):0dd3e4e45aa5507e5d58e2d0731a3935] No models better than random - using Dummy Score!\n",
      "[WARNING] [2019-08-06 00:20:19,272:EnsembleBuilder(1791095845):0dd3e4e45aa5507e5d58e2d0731a3935] No models better than random - using Dummy Score!\n",
      "[WARNING] [2019-08-06 00:20:21,297:EnsembleBuilder(1791095845):0dd3e4e45aa5507e5d58e2d0731a3935] No models better than random - using Dummy Score!\n",
      "[WARNING] [2019-08-06 00:20:23,313:EnsembleBuilder(1791095845):0dd3e4e45aa5507e5d58e2d0731a3935] No models better than random - using Dummy Score!\n",
      "[WARNING] [2019-08-06 00:20:25,329:EnsembleBuilder(1791095845):0dd3e4e45aa5507e5d58e2d0731a3935] No models better than random - using Dummy Score!\n",
      "[WARNING] [2019-08-06 00:20:27,356:EnsembleBuilder(1791095845):0dd3e4e45aa5507e5d58e2d0731a3935] No models better than random - using Dummy Score!\n",
      "[WARNING] [2019-08-06 00:20:29,367:EnsembleBuilder(1791095845):0dd3e4e45aa5507e5d58e2d0731a3935] No models better than random - using Dummy Score!\n",
      "[WARNING] [2019-08-06 00:20:31,393:EnsembleBuilder(1791095845):0dd3e4e45aa5507e5d58e2d0731a3935] No models better than random - using Dummy Score!\n",
      "[WARNING] [2019-08-06 00:20:33,399:EnsembleBuilder(1791095845):0dd3e4e45aa5507e5d58e2d0731a3935] No models better than random - using Dummy Score!\n",
      "[WARNING] [2019-08-06 00:20:35,407:EnsembleBuilder(1791095845):0dd3e4e45aa5507e5d58e2d0731a3935] No models better than random - using Dummy Score!\n",
      "[WARNING] [2019-08-06 00:20:37,427:EnsembleBuilder(1791095845):0dd3e4e45aa5507e5d58e2d0731a3935] No models better than random - using Dummy Score!\n",
      "[WARNING] [2019-08-06 00:20:39,453:EnsembleBuilder(1791095845):0dd3e4e45aa5507e5d58e2d0731a3935] No models better than random - using Dummy Score!\n",
      "[WARNING] [2019-08-06 00:20:41,480:EnsembleBuilder(1791095845):0dd3e4e45aa5507e5d58e2d0731a3935] No models better than random - using Dummy Score!\n",
      "[WARNING] [2019-08-06 00:20:43,505:EnsembleBuilder(1791095845):0dd3e4e45aa5507e5d58e2d0731a3935] No models better than random - using Dummy Score!\n",
      "[WARNING] [2019-08-06 00:20:45,512:EnsembleBuilder(1791095845):0dd3e4e45aa5507e5d58e2d0731a3935] No models better than random - using Dummy Score!\n",
      "[WARNING] [2019-08-06 00:20:47,520:EnsembleBuilder(1791095845):0dd3e4e45aa5507e5d58e2d0731a3935] No models better than random - using Dummy Score!\n",
      "[WARNING] [2019-08-06 00:20:49,537:EnsembleBuilder(1791095845):0dd3e4e45aa5507e5d58e2d0731a3935] No models better than random - using Dummy Score!\n",
      "[WARNING] [2019-08-06 00:20:51,556:EnsembleBuilder(1791095845):0dd3e4e45aa5507e5d58e2d0731a3935] No models better than random - using Dummy Score!\n",
      "[WARNING] [2019-08-06 00:20:53,563:EnsembleBuilder(1791095845):0dd3e4e45aa5507e5d58e2d0731a3935] No models better than random - using Dummy Score!\n",
      "[WARNING] [2019-08-06 00:20:55,571:EnsembleBuilder(1791095845):0dd3e4e45aa5507e5d58e2d0731a3935] No models better than random - using Dummy Score!\n",
      "[WARNING] [2019-08-06 00:20:57,580:EnsembleBuilder(1791095845):0dd3e4e45aa5507e5d58e2d0731a3935] No models better than random - using Dummy Score!\n",
      "[WARNING] [2019-08-06 00:20:59,605:EnsembleBuilder(1791095845):0dd3e4e45aa5507e5d58e2d0731a3935] No models better than random - using Dummy Score!\n",
      "[WARNING] [2019-08-06 00:21:01,612:EnsembleBuilder(1791095845):0dd3e4e45aa5507e5d58e2d0731a3935] No models better than random - using Dummy Score!\n",
      "[WARNING] [2019-08-06 00:21:03,636:EnsembleBuilder(1791095845):0dd3e4e45aa5507e5d58e2d0731a3935] No models better than random - using Dummy Score!\n"
     ]
    },
    {
     "name": "stderr",
     "output_type": "stream",
     "text": [
      "/home/anaconda/envs/py373/lib/python3.7/site-packages/autosklearn/evaluation/train_evaluator.py:197: RuntimeWarning: Mean of empty slice\n",
      "  Y_train_pred = np.nanmean(Y_train_pred_full, axis=0)\n",
      "/home/anaconda/envs/py373/lib/python3.7/site-packages/autosklearn/evaluation/train_evaluator.py:197: RuntimeWarning: Mean of empty slice\n",
      "  Y_train_pred = np.nanmean(Y_train_pred_full, axis=0)\n",
      "/home/anaconda/envs/py373/lib/python3.7/site-packages/autosklearn/evaluation/train_evaluator.py:197: RuntimeWarning: Mean of empty slice\n",
      "  Y_train_pred = np.nanmean(Y_train_pred_full, axis=0)\n",
      "/home/anaconda/envs/py373/lib/python3.7/site-packages/autosklearn/evaluation/train_evaluator.py:197: RuntimeWarning: Mean of empty slice\n",
      "  Y_train_pred = np.nanmean(Y_train_pred_full, axis=0)\n",
      "/home/anaconda/envs/py373/lib/python3.7/site-packages/autosklearn/evaluation/train_evaluator.py:197: RuntimeWarning: Mean of empty slice\n",
      "  Y_train_pred = np.nanmean(Y_train_pred_full, axis=0)\n",
      "/home/anaconda/envs/py373/lib/python3.7/site-packages/autosklearn/evaluation/train_evaluator.py:197: RuntimeWarning: Mean of empty slice\n",
      "  Y_train_pred = np.nanmean(Y_train_pred_full, axis=0)\n",
      "/home/anaconda/envs/py373/lib/python3.7/site-packages/autosklearn/evaluation/train_evaluator.py:197: RuntimeWarning: Mean of empty slice\n",
      "  Y_train_pred = np.nanmean(Y_train_pred_full, axis=0)\n",
      "/home/anaconda/envs/py373/lib/python3.7/site-packages/autosklearn/evaluation/train_evaluator.py:197: RuntimeWarning: Mean of empty slice\n",
      "  Y_train_pred = np.nanmean(Y_train_pred_full, axis=0)\n",
      "/home/anaconda/envs/py373/lib/python3.7/site-packages/autosklearn/evaluation/train_evaluator.py:197: RuntimeWarning: Mean of empty slice\n",
      "  Y_train_pred = np.nanmean(Y_train_pred_full, axis=0)\n",
      "/home/anaconda/envs/py373/lib/python3.7/site-packages/autosklearn/evaluation/train_evaluator.py:197: RuntimeWarning: Mean of empty slice\n",
      "  Y_train_pred = np.nanmean(Y_train_pred_full, axis=0)\n",
      "/home/anaconda/envs/py373/lib/python3.7/site-packages/autosklearn/evaluation/train_evaluator.py:197: RuntimeWarning: Mean of empty slice\n",
      "  Y_train_pred = np.nanmean(Y_train_pred_full, axis=0)\n",
      "/home/anaconda/envs/py373/lib/python3.7/site-packages/autosklearn/evaluation/train_evaluator.py:197: RuntimeWarning: Mean of empty slice\n",
      "  Y_train_pred = np.nanmean(Y_train_pred_full, axis=0)\n",
      "/home/anaconda/envs/py373/lib/python3.7/site-packages/autosklearn/evaluation/train_evaluator.py:197: RuntimeWarning: Mean of empty slice\n",
      "  Y_train_pred = np.nanmean(Y_train_pred_full, axis=0)\n",
      "/home/anaconda/envs/py373/lib/python3.7/site-packages/autosklearn/evaluation/train_evaluator.py:197: RuntimeWarning: Mean of empty slice\n",
      "  Y_train_pred = np.nanmean(Y_train_pred_full, axis=0)\n",
      "/home/anaconda/envs/py373/lib/python3.7/site-packages/autosklearn/evaluation/train_evaluator.py:197: RuntimeWarning: Mean of empty slice\n",
      "  Y_train_pred = np.nanmean(Y_train_pred_full, axis=0)\n",
      "/home/anaconda/envs/py373/lib/python3.7/site-packages/autosklearn/evaluation/train_evaluator.py:197: RuntimeWarning: Mean of empty slice\n",
      "  Y_train_pred = np.nanmean(Y_train_pred_full, axis=0)\n",
      "/home/anaconda/envs/py373/lib/python3.7/site-packages/autosklearn/evaluation/train_evaluator.py:197: RuntimeWarning: Mean of empty slice\n",
      "  Y_train_pred = np.nanmean(Y_train_pred_full, axis=0)\n",
      "/home/anaconda/envs/py373/lib/python3.7/site-packages/autosklearn/evaluation/train_evaluator.py:197: RuntimeWarning: Mean of empty slice\n",
      "  Y_train_pred = np.nanmean(Y_train_pred_full, axis=0)\n",
      "/home/anaconda/envs/py373/lib/python3.7/site-packages/autosklearn/evaluation/train_evaluator.py:197: RuntimeWarning: Mean of empty slice\n",
      "  Y_train_pred = np.nanmean(Y_train_pred_full, axis=0)\n",
      "/home/anaconda/envs/py373/lib/python3.7/site-packages/autosklearn/evaluation/train_evaluator.py:197: RuntimeWarning: Mean of empty slice\n",
      "  Y_train_pred = np.nanmean(Y_train_pred_full, axis=0)\n",
      "/home/anaconda/envs/py373/lib/python3.7/site-packages/autosklearn/evaluation/train_evaluator.py:197: RuntimeWarning: Mean of empty slice\n",
      "  Y_train_pred = np.nanmean(Y_train_pred_full, axis=0)\n",
      "/home/anaconda/envs/py373/lib/python3.7/site-packages/autosklearn/evaluation/train_evaluator.py:197: RuntimeWarning: Mean of empty slice\n",
      "  Y_train_pred = np.nanmean(Y_train_pred_full, axis=0)\n",
      "/home/anaconda/envs/py373/lib/python3.7/site-packages/autosklearn/evaluation/train_evaluator.py:197: RuntimeWarning: Mean of empty slice\n",
      "  Y_train_pred = np.nanmean(Y_train_pred_full, axis=0)\n",
      "/home/anaconda/envs/py373/lib/python3.7/site-packages/autosklearn/evaluation/train_evaluator.py:197: RuntimeWarning: Mean of empty slice\n",
      "  Y_train_pred = np.nanmean(Y_train_pred_full, axis=0)\n",
      "/home/anaconda/envs/py373/lib/python3.7/site-packages/autosklearn/evaluation/train_evaluator.py:197: RuntimeWarning: Mean of empty slice\n",
      "  Y_train_pred = np.nanmean(Y_train_pred_full, axis=0)\n",
      "/home/anaconda/envs/py373/lib/python3.7/site-packages/autosklearn/evaluation/train_evaluator.py:197: RuntimeWarning: Mean of empty slice\n",
      "  Y_train_pred = np.nanmean(Y_train_pred_full, axis=0)\n",
      "/home/anaconda/envs/py373/lib/python3.7/site-packages/autosklearn/evaluation/train_evaluator.py:197: RuntimeWarning: Mean of empty slice\n",
      "  Y_train_pred = np.nanmean(Y_train_pred_full, axis=0)\n"
     ]
    },
    {
     "name": "stdout",
     "output_type": "stream",
     "text": [
      "[WARNING] [2019-08-06 00:30:37,908:EnsembleBuilder(1791095845):0dd3e4e45aa5507e5d58e2d0731a3935] Memory Exception -- restart with less ensemle_nbest: 25\n"
     ]
    },
    {
     "name": "stderr",
     "output_type": "stream",
     "text": [
      "/home/anaconda/envs/py373/lib/python3.7/site-packages/autosklearn/evaluation/train_evaluator.py:197: RuntimeWarning: Mean of empty slice\n",
      "  Y_train_pred = np.nanmean(Y_train_pred_full, axis=0)\n",
      "/home/anaconda/envs/py373/lib/python3.7/site-packages/autosklearn/evaluation/train_evaluator.py:197: RuntimeWarning: Mean of empty slice\n",
      "  Y_train_pred = np.nanmean(Y_train_pred_full, axis=0)\n",
      "/home/anaconda/envs/py373/lib/python3.7/site-packages/autosklearn/evaluation/train_evaluator.py:197: RuntimeWarning: Mean of empty slice\n",
      "  Y_train_pred = np.nanmean(Y_train_pred_full, axis=0)\n",
      "/home/anaconda/envs/py373/lib/python3.7/site-packages/autosklearn/evaluation/train_evaluator.py:197: RuntimeWarning: Mean of empty slice\n",
      "  Y_train_pred = np.nanmean(Y_train_pred_full, axis=0)\n",
      "/home/anaconda/envs/py373/lib/python3.7/site-packages/autosklearn/evaluation/train_evaluator.py:197: RuntimeWarning: Mean of empty slice\n",
      "  Y_train_pred = np.nanmean(Y_train_pred_full, axis=0)\n",
      "/home/anaconda/envs/py373/lib/python3.7/site-packages/autosklearn/evaluation/train_evaluator.py:197: RuntimeWarning: Mean of empty slice\n",
      "  Y_train_pred = np.nanmean(Y_train_pred_full, axis=0)\n",
      "/home/anaconda/envs/py373/lib/python3.7/site-packages/autosklearn/evaluation/train_evaluator.py:197: RuntimeWarning: Mean of empty slice\n",
      "  Y_train_pred = np.nanmean(Y_train_pred_full, axis=0)\n",
      "/home/anaconda/envs/py373/lib/python3.7/site-packages/autosklearn/evaluation/train_evaluator.py:197: RuntimeWarning: Mean of empty slice\n",
      "  Y_train_pred = np.nanmean(Y_train_pred_full, axis=0)\n",
      "/home/anaconda/envs/py373/lib/python3.7/site-packages/autosklearn/evaluation/train_evaluator.py:197: RuntimeWarning: Mean of empty slice\n",
      "  Y_train_pred = np.nanmean(Y_train_pred_full, axis=0)\n"
     ]
    },
    {
     "name": "stdout",
     "output_type": "stream",
     "text": [
      "-1\n",
      "['/tmp/autosklearn_tmp_14972_5258/.auto-sklearn/ensembles/1791095845.0000000000.ensemble', '/tmp/autosklearn_tmp_14972_5258/.auto-sklearn/ensembles/1791095845.0000000001.ensemble', '/tmp/autosklearn_tmp_14972_5258/.auto-sklearn/ensembles/1791095845.0000000002.ensemble', '/tmp/autosklearn_tmp_14972_5258/.auto-sklearn/ensembles/1791095845.0000000003.ensemble', '/tmp/autosklearn_tmp_14972_5258/.auto-sklearn/ensembles/1791095845.0000000004.ensemble', '/tmp/autosklearn_tmp_14972_5258/.auto-sklearn/ensembles/1791095845.0000000005.ensemble', '/tmp/autosklearn_tmp_14972_5258/.auto-sklearn/ensembles/1791095845.0000000006.ensemble', '/tmp/autosklearn_tmp_14972_5258/.auto-sklearn/ensembles/1791095845.0000000007.ensemble', '/tmp/autosklearn_tmp_14972_5258/.auto-sklearn/ensembles/1791095845.0000000008.ensemble', '/tmp/autosklearn_tmp_14972_5258/.auto-sklearn/ensembles/1791095845.0000000009.ensemble', '/tmp/autosklearn_tmp_14972_5258/.auto-sklearn/ensembles/1791095845.0000000010.ensemble', '/tmp/autosklearn_tmp_14972_5258/.auto-sklearn/ensembles/1791095845.0000000011.ensemble', '/tmp/autosklearn_tmp_14972_5258/.auto-sklearn/ensembles/1791095845.0000000012.ensemble', '/tmp/autosklearn_tmp_14972_5258/.auto-sklearn/ensembles/1791095845.0000000013.ensemble']\n",
      "Generating test scores for ASKLEARN_.25_askbasic_Nonecv_recall classifier\n",
      "Training ASKLEARN_.5_askbasic_Nonecv_recall classifier\n",
      "No params set, using Standard training\n"
     ]
    },
    {
     "name": "stderr",
     "output_type": "stream",
     "text": [
      "/home/anaconda/envs/py373/lib/python3.7/site-packages/autosklearn/evaluation/train_evaluator.py:197: RuntimeWarning: Mean of empty slice\n",
      "  Y_train_pred = np.nanmean(Y_train_pred_full, axis=0)\n",
      "/home/anaconda/envs/py373/lib/python3.7/site-packages/autosklearn/evaluation/train_evaluator.py:197: RuntimeWarning: Mean of empty slice\n",
      "  Y_train_pred = np.nanmean(Y_train_pred_full, axis=0)\n",
      "/home/anaconda/envs/py373/lib/python3.7/site-packages/autosklearn/evaluation/train_evaluator.py:197: RuntimeWarning: Mean of empty slice\n",
      "  Y_train_pred = np.nanmean(Y_train_pred_full, axis=0)\n",
      "/home/anaconda/envs/py373/lib/python3.7/site-packages/autosklearn/evaluation/train_evaluator.py:197: RuntimeWarning: Mean of empty slice\n",
      "  Y_train_pred = np.nanmean(Y_train_pred_full, axis=0)\n",
      "/home/anaconda/envs/py373/lib/python3.7/site-packages/autosklearn/evaluation/train_evaluator.py:197: RuntimeWarning: Mean of empty slice\n",
      "  Y_train_pred = np.nanmean(Y_train_pred_full, axis=0)\n"
     ]
    },
    {
     "name": "stdout",
     "output_type": "stream",
     "text": [
      "[WARNING] [2019-08-06 00:34:56,544:EnsembleBuilder(1791095845):0dd3e4e45aa5507e5d58e2d0731a3935] No models better than random - using Dummy Score!\n",
      "[WARNING] [2019-08-06 00:34:56,715:EnsembleBuilder(1791095845):0dd3e4e45aa5507e5d58e2d0731a3935] No models better than random - using Dummy Score!\n"
     ]
    },
    {
     "name": "stderr",
     "output_type": "stream",
     "text": [
      "/home/anaconda/envs/py373/lib/python3.7/site-packages/autosklearn/evaluation/train_evaluator.py:197: RuntimeWarning: Mean of empty slice\n",
      "  Y_train_pred = np.nanmean(Y_train_pred_full, axis=0)\n"
     ]
    },
    {
     "name": "stdout",
     "output_type": "stream",
     "text": [
      "[WARNING] [2019-08-06 00:34:58,749:EnsembleBuilder(1791095845):0dd3e4e45aa5507e5d58e2d0731a3935] No models better than random - using Dummy Score!\n",
      "[WARNING] [2019-08-06 00:35:00,781:EnsembleBuilder(1791095845):0dd3e4e45aa5507e5d58e2d0731a3935] No models better than random - using Dummy Score!\n",
      "[WARNING] [2019-08-06 00:35:02,797:EnsembleBuilder(1791095845):0dd3e4e45aa5507e5d58e2d0731a3935] No models better than random - using Dummy Score!\n",
      "[WARNING] [2019-08-06 00:35:04,825:EnsembleBuilder(1791095845):0dd3e4e45aa5507e5d58e2d0731a3935] No models better than random - using Dummy Score!\n",
      "[WARNING] [2019-08-06 00:35:06,890:EnsembleBuilder(1791095845):0dd3e4e45aa5507e5d58e2d0731a3935] No models better than random - using Dummy Score!\n",
      "[WARNING] [2019-08-06 00:35:08,909:EnsembleBuilder(1791095845):0dd3e4e45aa5507e5d58e2d0731a3935] No models better than random - using Dummy Score!\n",
      "[WARNING] [2019-08-06 00:35:10,925:EnsembleBuilder(1791095845):0dd3e4e45aa5507e5d58e2d0731a3935] No models better than random - using Dummy Score!\n",
      "[WARNING] [2019-08-06 00:35:12,935:EnsembleBuilder(1791095845):0dd3e4e45aa5507e5d58e2d0731a3935] No models better than random - using Dummy Score!\n",
      "[WARNING] [2019-08-06 00:35:14,965:EnsembleBuilder(1791095845):0dd3e4e45aa5507e5d58e2d0731a3935] No models better than random - using Dummy Score!\n"
     ]
    },
    {
     "name": "stderr",
     "output_type": "stream",
     "text": [
      "/home/anaconda/envs/py373/lib/python3.7/site-packages/autosklearn/evaluation/train_evaluator.py:197: RuntimeWarning: Mean of empty slice\n",
      "  Y_train_pred = np.nanmean(Y_train_pred_full, axis=0)\n"
     ]
    },
    {
     "name": "stdout",
     "output_type": "stream",
     "text": [
      "[WARNING] [2019-08-06 00:35:17,059:EnsembleBuilder(1791095845):0dd3e4e45aa5507e5d58e2d0731a3935] No models better than random - using Dummy Score!\n",
      "[WARNING] [2019-08-06 00:35:18,943:smac.intensification.intensification.Intensifier] Challenger was the same as the current incumbent; Skipping challenger\n",
      "[WARNING] [2019-08-06 00:35:18,943:smac.intensification.intensification.Intensifier] Challenger was the same as the current incumbent; Skipping challenger\n",
      "[WARNING] [2019-08-06 00:35:19,084:EnsembleBuilder(1791095845):0dd3e4e45aa5507e5d58e2d0731a3935] No models better than random - using Dummy Score!\n",
      "[WARNING] [2019-08-06 00:35:21,100:EnsembleBuilder(1791095845):0dd3e4e45aa5507e5d58e2d0731a3935] No models better than random - using Dummy Score!\n",
      "[WARNING] [2019-08-06 00:35:23,129:EnsembleBuilder(1791095845):0dd3e4e45aa5507e5d58e2d0731a3935] No models better than random - using Dummy Score!\n",
      "[WARNING] [2019-08-06 00:35:25,144:EnsembleBuilder(1791095845):0dd3e4e45aa5507e5d58e2d0731a3935] No models better than random - using Dummy Score!\n",
      "[WARNING] [2019-08-06 00:35:27,247:EnsembleBuilder(1791095845):0dd3e4e45aa5507e5d58e2d0731a3935] No models better than random - using Dummy Score!\n"
     ]
    },
    {
     "name": "stderr",
     "output_type": "stream",
     "text": [
      "/home/anaconda/envs/py373/lib/python3.7/site-packages/autosklearn/evaluation/train_evaluator.py:197: RuntimeWarning: Mean of empty slice\n",
      "  Y_train_pred = np.nanmean(Y_train_pred_full, axis=0)\n"
     ]
    },
    {
     "name": "stdout",
     "output_type": "stream",
     "text": [
      "[WARNING] [2019-08-06 00:35:29,306:EnsembleBuilder(1791095845):0dd3e4e45aa5507e5d58e2d0731a3935] No models better than random - using Dummy Score!\n",
      "[WARNING] [2019-08-06 00:35:31,321:EnsembleBuilder(1791095845):0dd3e4e45aa5507e5d58e2d0731a3935] No models better than random - using Dummy Score!\n",
      "[WARNING] [2019-08-06 00:35:33,349:EnsembleBuilder(1791095845):0dd3e4e45aa5507e5d58e2d0731a3935] No models better than random - using Dummy Score!\n",
      "[WARNING] [2019-08-06 00:35:35,377:EnsembleBuilder(1791095845):0dd3e4e45aa5507e5d58e2d0731a3935] No models better than random - using Dummy Score!\n",
      "[WARNING] [2019-08-06 00:35:37,388:EnsembleBuilder(1791095845):0dd3e4e45aa5507e5d58e2d0731a3935] No models better than random - using Dummy Score!\n",
      "[WARNING] [2019-08-06 00:35:39,416:EnsembleBuilder(1791095845):0dd3e4e45aa5507e5d58e2d0731a3935] No models better than random - using Dummy Score!\n",
      "[WARNING] [2019-08-06 00:35:41,436:EnsembleBuilder(1791095845):0dd3e4e45aa5507e5d58e2d0731a3935] No models better than random - using Dummy Score!\n",
      "[WARNING] [2019-08-06 00:35:43,444:EnsembleBuilder(1791095845):0dd3e4e45aa5507e5d58e2d0731a3935] No models better than random - using Dummy Score!\n",
      "[WARNING] [2019-08-06 00:35:45,473:EnsembleBuilder(1791095845):0dd3e4e45aa5507e5d58e2d0731a3935] No models better than random - using Dummy Score!\n",
      "[WARNING] [2019-08-06 00:35:47,501:EnsembleBuilder(1791095845):0dd3e4e45aa5507e5d58e2d0731a3935] No models better than random - using Dummy Score!\n",
      "[WARNING] [2019-08-06 00:35:49,507:EnsembleBuilder(1791095845):0dd3e4e45aa5507e5d58e2d0731a3935] No models better than random - using Dummy Score!\n",
      "[WARNING] [2019-08-06 00:35:51,513:EnsembleBuilder(1791095845):0dd3e4e45aa5507e5d58e2d0731a3935] No models better than random - using Dummy Score!\n",
      "[WARNING] [2019-08-06 00:35:53,541:EnsembleBuilder(1791095845):0dd3e4e45aa5507e5d58e2d0731a3935] No models better than random - using Dummy Score!\n"
     ]
    },
    {
     "name": "stderr",
     "output_type": "stream",
     "text": [
      "/home/anaconda/envs/py373/lib/python3.7/site-packages/autosklearn/evaluation/train_evaluator.py:197: RuntimeWarning: Mean of empty slice\n",
      "  Y_train_pred = np.nanmean(Y_train_pred_full, axis=0)\n"
     ]
    },
    {
     "name": "stdout",
     "output_type": "stream",
     "text": [
      "[WARNING] [2019-08-06 00:35:55,745:EnsembleBuilder(1791095845):0dd3e4e45aa5507e5d58e2d0731a3935] No models better than random - using Dummy Score!\n",
      "[WARNING] [2019-08-06 00:35:57,761:EnsembleBuilder(1791095845):0dd3e4e45aa5507e5d58e2d0731a3935] No models better than random - using Dummy Score!\n",
      "[WARNING] [2019-08-06 00:35:59,795:EnsembleBuilder(1791095845):0dd3e4e45aa5507e5d58e2d0731a3935] No models better than random - using Dummy Score!\n",
      "[WARNING] [2019-08-06 00:36:01,800:EnsembleBuilder(1791095845):0dd3e4e45aa5507e5d58e2d0731a3935] No models better than random - using Dummy Score!\n",
      "[WARNING] [2019-08-06 00:36:03,823:EnsembleBuilder(1791095845):0dd3e4e45aa5507e5d58e2d0731a3935] No models better than random - using Dummy Score!\n",
      "[WARNING] [2019-08-06 00:36:05,848:EnsembleBuilder(1791095845):0dd3e4e45aa5507e5d58e2d0731a3935] No models better than random - using Dummy Score!\n",
      "[WARNING] [2019-08-06 00:36:07,868:EnsembleBuilder(1791095845):0dd3e4e45aa5507e5d58e2d0731a3935] No models better than random - using Dummy Score!\n",
      "[WARNING] [2019-08-06 00:36:09,896:EnsembleBuilder(1791095845):0dd3e4e45aa5507e5d58e2d0731a3935] No models better than random - using Dummy Score!\n",
      "[WARNING] [2019-08-06 00:36:11,912:EnsembleBuilder(1791095845):0dd3e4e45aa5507e5d58e2d0731a3935] No models better than random - using Dummy Score!\n",
      "[WARNING] [2019-08-06 00:36:13,921:EnsembleBuilder(1791095845):0dd3e4e45aa5507e5d58e2d0731a3935] No models better than random - using Dummy Score!\n",
      "[WARNING] [2019-08-06 00:36:15,929:EnsembleBuilder(1791095845):0dd3e4e45aa5507e5d58e2d0731a3935] No models better than random - using Dummy Score!\n",
      "[WARNING] [2019-08-06 00:36:17,956:EnsembleBuilder(1791095845):0dd3e4e45aa5507e5d58e2d0731a3935] No models better than random - using Dummy Score!\n",
      "[WARNING] [2019-08-06 00:36:19,975:EnsembleBuilder(1791095845):0dd3e4e45aa5507e5d58e2d0731a3935] No models better than random - using Dummy Score!\n",
      "[WARNING] [2019-08-06 00:36:21,985:EnsembleBuilder(1791095845):0dd3e4e45aa5507e5d58e2d0731a3935] No models better than random - using Dummy Score!\n",
      "[WARNING] [2019-08-06 00:36:24,004:EnsembleBuilder(1791095845):0dd3e4e45aa5507e5d58e2d0731a3935] No models better than random - using Dummy Score!\n",
      "[WARNING] [2019-08-06 00:36:26,033:EnsembleBuilder(1791095845):0dd3e4e45aa5507e5d58e2d0731a3935] No models better than random - using Dummy Score!\n",
      "[WARNING] [2019-08-06 00:36:28,057:EnsembleBuilder(1791095845):0dd3e4e45aa5507e5d58e2d0731a3935] No models better than random - using Dummy Score!\n",
      "[WARNING] [2019-08-06 00:36:30,065:EnsembleBuilder(1791095845):0dd3e4e45aa5507e5d58e2d0731a3935] No models better than random - using Dummy Score!\n",
      "[WARNING] [2019-08-06 00:36:32,143:EnsembleBuilder(1791095845):0dd3e4e45aa5507e5d58e2d0731a3935] No models better than random - using Dummy Score!\n",
      "[WARNING] [2019-08-06 00:36:34,148:EnsembleBuilder(1791095845):0dd3e4e45aa5507e5d58e2d0731a3935] No models better than random - using Dummy Score!\n",
      "[WARNING] [2019-08-06 00:36:36,177:EnsembleBuilder(1791095845):0dd3e4e45aa5507e5d58e2d0731a3935] No models better than random - using Dummy Score!\n",
      "[WARNING] [2019-08-06 00:36:38,205:EnsembleBuilder(1791095845):0dd3e4e45aa5507e5d58e2d0731a3935] No models better than random - using Dummy Score!\n",
      "[WARNING] [2019-08-06 00:36:40,213:EnsembleBuilder(1791095845):0dd3e4e45aa5507e5d58e2d0731a3935] No models better than random - using Dummy Score!\n",
      "[WARNING] [2019-08-06 00:36:42,241:EnsembleBuilder(1791095845):0dd3e4e45aa5507e5d58e2d0731a3935] No models better than random - using Dummy Score!\n",
      "[WARNING] [2019-08-06 00:36:44,269:EnsembleBuilder(1791095845):0dd3e4e45aa5507e5d58e2d0731a3935] No models better than random - using Dummy Score!\n",
      "[WARNING] [2019-08-06 00:36:46,293:EnsembleBuilder(1791095845):0dd3e4e45aa5507e5d58e2d0731a3935] No models better than random - using Dummy Score!\n",
      "[WARNING] [2019-08-06 00:36:48,328:EnsembleBuilder(1791095845):0dd3e4e45aa5507e5d58e2d0731a3935] No models better than random - using Dummy Score!\n",
      "[WARNING] [2019-08-06 00:36:50,352:EnsembleBuilder(1791095845):0dd3e4e45aa5507e5d58e2d0731a3935] No models better than random - using Dummy Score!\n",
      "[WARNING] [2019-08-06 00:36:52,372:EnsembleBuilder(1791095845):0dd3e4e45aa5507e5d58e2d0731a3935] No models better than random - using Dummy Score!\n",
      "[WARNING] [2019-08-06 00:36:54,392:EnsembleBuilder(1791095845):0dd3e4e45aa5507e5d58e2d0731a3935] No models better than random - using Dummy Score!\n",
      "[WARNING] [2019-08-06 00:36:56,417:EnsembleBuilder(1791095845):0dd3e4e45aa5507e5d58e2d0731a3935] No models better than random - using Dummy Score!\n",
      "[WARNING] [2019-08-06 00:36:58,425:EnsembleBuilder(1791095845):0dd3e4e45aa5507e5d58e2d0731a3935] No models better than random - using Dummy Score!\n",
      "[WARNING] [2019-08-06 00:37:00,445:EnsembleBuilder(1791095845):0dd3e4e45aa5507e5d58e2d0731a3935] No models better than random - using Dummy Score!\n",
      "[WARNING] [2019-08-06 00:37:02,451:EnsembleBuilder(1791095845):0dd3e4e45aa5507e5d58e2d0731a3935] No models better than random - using Dummy Score!\n",
      "[WARNING] [2019-08-06 00:37:04,457:EnsembleBuilder(1791095845):0dd3e4e45aa5507e5d58e2d0731a3935] No models better than random - using Dummy Score!\n",
      "[WARNING] [2019-08-06 00:37:06,465:EnsembleBuilder(1791095845):0dd3e4e45aa5507e5d58e2d0731a3935] No models better than random - using Dummy Score!\n",
      "[WARNING] [2019-08-06 00:37:08,480:EnsembleBuilder(1791095845):0dd3e4e45aa5507e5d58e2d0731a3935] No models better than random - using Dummy Score!\n"
     ]
    },
    {
     "name": "stderr",
     "output_type": "stream",
     "text": [
      "/home/anaconda/envs/py373/lib/python3.7/site-packages/autosklearn/evaluation/train_evaluator.py:197: RuntimeWarning: Mean of empty slice\n",
      "  Y_train_pred = np.nanmean(Y_train_pred_full, axis=0)\n",
      "/home/anaconda/envs/py373/lib/python3.7/site-packages/autosklearn/evaluation/train_evaluator.py:197: RuntimeWarning: Mean of empty slice\n",
      "  Y_train_pred = np.nanmean(Y_train_pred_full, axis=0)\n",
      "/home/anaconda/envs/py373/lib/python3.7/site-packages/autosklearn/evaluation/train_evaluator.py:197: RuntimeWarning: Mean of empty slice\n",
      "  Y_train_pred = np.nanmean(Y_train_pred_full, axis=0)\n",
      "/home/anaconda/envs/py373/lib/python3.7/site-packages/autosklearn/evaluation/train_evaluator.py:197: RuntimeWarning: Mean of empty slice\n",
      "  Y_train_pred = np.nanmean(Y_train_pred_full, axis=0)\n",
      "/home/anaconda/envs/py373/lib/python3.7/site-packages/autosklearn/evaluation/train_evaluator.py:197: RuntimeWarning: Mean of empty slice\n",
      "  Y_train_pred = np.nanmean(Y_train_pred_full, axis=0)\n",
      "/home/anaconda/envs/py373/lib/python3.7/site-packages/autosklearn/evaluation/train_evaluator.py:197: RuntimeWarning: Mean of empty slice\n",
      "  Y_train_pred = np.nanmean(Y_train_pred_full, axis=0)\n",
      "/home/anaconda/envs/py373/lib/python3.7/site-packages/autosklearn/evaluation/train_evaluator.py:197: RuntimeWarning: Mean of empty slice\n",
      "  Y_train_pred = np.nanmean(Y_train_pred_full, axis=0)\n",
      "/home/anaconda/envs/py373/lib/python3.7/site-packages/autosklearn/evaluation/train_evaluator.py:197: RuntimeWarning: Mean of empty slice\n",
      "  Y_train_pred = np.nanmean(Y_train_pred_full, axis=0)\n",
      "/home/anaconda/envs/py373/lib/python3.7/site-packages/autosklearn/evaluation/train_evaluator.py:197: RuntimeWarning: Mean of empty slice\n",
      "  Y_train_pred = np.nanmean(Y_train_pred_full, axis=0)\n",
      "/home/anaconda/envs/py373/lib/python3.7/site-packages/autosklearn/evaluation/train_evaluator.py:197: RuntimeWarning: Mean of empty slice\n",
      "  Y_train_pred = np.nanmean(Y_train_pred_full, axis=0)\n",
      "/home/anaconda/envs/py373/lib/python3.7/site-packages/autosklearn/evaluation/train_evaluator.py:197: RuntimeWarning: Mean of empty slice\n",
      "  Y_train_pred = np.nanmean(Y_train_pred_full, axis=0)\n",
      "/home/anaconda/envs/py373/lib/python3.7/site-packages/autosklearn/evaluation/train_evaluator.py:197: RuntimeWarning: Mean of empty slice\n",
      "  Y_train_pred = np.nanmean(Y_train_pred_full, axis=0)\n",
      "/home/anaconda/envs/py373/lib/python3.7/site-packages/autosklearn/evaluation/train_evaluator.py:197: RuntimeWarning: Mean of empty slice\n",
      "  Y_train_pred = np.nanmean(Y_train_pred_full, axis=0)\n",
      "/home/anaconda/envs/py373/lib/python3.7/site-packages/autosklearn/evaluation/train_evaluator.py:197: RuntimeWarning: Mean of empty slice\n",
      "  Y_train_pred = np.nanmean(Y_train_pred_full, axis=0)\n",
      "/home/anaconda/envs/py373/lib/python3.7/site-packages/autosklearn/evaluation/train_evaluator.py:197: RuntimeWarning: Mean of empty slice\n",
      "  Y_train_pred = np.nanmean(Y_train_pred_full, axis=0)\n",
      "/home/anaconda/envs/py373/lib/python3.7/site-packages/autosklearn/evaluation/train_evaluator.py:197: RuntimeWarning: Mean of empty slice\n",
      "  Y_train_pred = np.nanmean(Y_train_pred_full, axis=0)\n",
      "/home/anaconda/envs/py373/lib/python3.7/site-packages/autosklearn/evaluation/train_evaluator.py:197: RuntimeWarning: Mean of empty slice\n",
      "  Y_train_pred = np.nanmean(Y_train_pred_full, axis=0)\n",
      "/home/anaconda/envs/py373/lib/python3.7/site-packages/autosklearn/evaluation/train_evaluator.py:197: RuntimeWarning: Mean of empty slice\n",
      "  Y_train_pred = np.nanmean(Y_train_pred_full, axis=0)\n",
      "/home/anaconda/envs/py373/lib/python3.7/site-packages/autosklearn/evaluation/train_evaluator.py:197: RuntimeWarning: Mean of empty slice\n",
      "  Y_train_pred = np.nanmean(Y_train_pred_full, axis=0)\n",
      "/home/anaconda/envs/py373/lib/python3.7/site-packages/autosklearn/evaluation/train_evaluator.py:197: RuntimeWarning: Mean of empty slice\n",
      "  Y_train_pred = np.nanmean(Y_train_pred_full, axis=0)\n",
      "/home/anaconda/envs/py373/lib/python3.7/site-packages/autosklearn/evaluation/train_evaluator.py:197: RuntimeWarning: Mean of empty slice\n",
      "  Y_train_pred = np.nanmean(Y_train_pred_full, axis=0)\n",
      "/home/anaconda/envs/py373/lib/python3.7/site-packages/autosklearn/evaluation/train_evaluator.py:197: RuntimeWarning: Mean of empty slice\n",
      "  Y_train_pred = np.nanmean(Y_train_pred_full, axis=0)\n",
      "/home/anaconda/envs/py373/lib/python3.7/site-packages/autosklearn/evaluation/train_evaluator.py:197: RuntimeWarning: Mean of empty slice\n",
      "  Y_train_pred = np.nanmean(Y_train_pred_full, axis=0)\n",
      "/home/anaconda/envs/py373/lib/python3.7/site-packages/autosklearn/evaluation/train_evaluator.py:197: RuntimeWarning: Mean of empty slice\n",
      "  Y_train_pred = np.nanmean(Y_train_pred_full, axis=0)\n",
      "/home/anaconda/envs/py373/lib/python3.7/site-packages/autosklearn/evaluation/train_evaluator.py:197: RuntimeWarning: Mean of empty slice\n",
      "  Y_train_pred = np.nanmean(Y_train_pred_full, axis=0)\n",
      "/home/anaconda/envs/py373/lib/python3.7/site-packages/autosklearn/evaluation/train_evaluator.py:197: RuntimeWarning: Mean of empty slice\n",
      "  Y_train_pred = np.nanmean(Y_train_pred_full, axis=0)\n",
      "/home/anaconda/envs/py373/lib/python3.7/site-packages/autosklearn/evaluation/train_evaluator.py:197: RuntimeWarning: Mean of empty slice\n",
      "  Y_train_pred = np.nanmean(Y_train_pred_full, axis=0)\n",
      "/home/anaconda/envs/py373/lib/python3.7/site-packages/autosklearn/evaluation/train_evaluator.py:197: RuntimeWarning: Mean of empty slice\n",
      "  Y_train_pred = np.nanmean(Y_train_pred_full, axis=0)\n",
      "/home/anaconda/envs/py373/lib/python3.7/site-packages/autosklearn/evaluation/train_evaluator.py:197: RuntimeWarning: Mean of empty slice\n",
      "  Y_train_pred = np.nanmean(Y_train_pred_full, axis=0)\n",
      "/home/anaconda/envs/py373/lib/python3.7/site-packages/autosklearn/evaluation/train_evaluator.py:197: RuntimeWarning: Mean of empty slice\n",
      "  Y_train_pred = np.nanmean(Y_train_pred_full, axis=0)\n",
      "/home/anaconda/envs/py373/lib/python3.7/site-packages/autosklearn/evaluation/train_evaluator.py:197: RuntimeWarning: Mean of empty slice\n",
      "  Y_train_pred = np.nanmean(Y_train_pred_full, axis=0)\n",
      "/home/anaconda/envs/py373/lib/python3.7/site-packages/autosklearn/evaluation/train_evaluator.py:197: RuntimeWarning: Mean of empty slice\n",
      "  Y_train_pred = np.nanmean(Y_train_pred_full, axis=0)\n",
      "/home/anaconda/envs/py373/lib/python3.7/site-packages/autosklearn/evaluation/train_evaluator.py:197: RuntimeWarning: Mean of empty slice\n",
      "  Y_train_pred = np.nanmean(Y_train_pred_full, axis=0)\n"
     ]
    },
    {
     "name": "stdout",
     "output_type": "stream",
     "text": [
      "[WARNING] [2019-08-06 00:51:17,041:EnsembleBuilder(1791095845):0dd3e4e45aa5507e5d58e2d0731a3935] Memory Exception -- restart with less ensemle_nbest: 25\n"
     ]
    },
    {
     "name": "stderr",
     "output_type": "stream",
     "text": [
      "/home/anaconda/envs/py373/lib/python3.7/site-packages/autosklearn/evaluation/train_evaluator.py:197: RuntimeWarning: Mean of empty slice\n",
      "  Y_train_pred = np.nanmean(Y_train_pred_full, axis=0)\n",
      "/home/anaconda/envs/py373/lib/python3.7/site-packages/autosklearn/evaluation/train_evaluator.py:197: RuntimeWarning: Mean of empty slice\n",
      "  Y_train_pred = np.nanmean(Y_train_pred_full, axis=0)\n",
      "/home/anaconda/envs/py373/lib/python3.7/site-packages/autosklearn/evaluation/train_evaluator.py:197: RuntimeWarning: Mean of empty slice\n",
      "  Y_train_pred = np.nanmean(Y_train_pred_full, axis=0)\n",
      "/home/anaconda/envs/py373/lib/python3.7/site-packages/autosklearn/evaluation/train_evaluator.py:197: RuntimeWarning: Mean of empty slice\n",
      "  Y_train_pred = np.nanmean(Y_train_pred_full, axis=0)\n",
      "/home/anaconda/envs/py373/lib/python3.7/site-packages/autosklearn/evaluation/train_evaluator.py:197: RuntimeWarning: Mean of empty slice\n",
      "  Y_train_pred = np.nanmean(Y_train_pred_full, axis=0)\n",
      "/home/anaconda/envs/py373/lib/python3.7/site-packages/autosklearn/evaluation/train_evaluator.py:197: RuntimeWarning: Mean of empty slice\n",
      "  Y_train_pred = np.nanmean(Y_train_pred_full, axis=0)\n",
      "/home/anaconda/envs/py373/lib/python3.7/site-packages/autosklearn/evaluation/train_evaluator.py:197: RuntimeWarning: Mean of empty slice\n",
      "  Y_train_pred = np.nanmean(Y_train_pred_full, axis=0)\n",
      "/home/anaconda/envs/py373/lib/python3.7/site-packages/autosklearn/evaluation/train_evaluator.py:197: RuntimeWarning: Mean of empty slice\n",
      "  Y_train_pred = np.nanmean(Y_train_pred_full, axis=0)\n",
      "/home/anaconda/envs/py373/lib/python3.7/site-packages/autosklearn/evaluation/train_evaluator.py:197: RuntimeWarning: Mean of empty slice\n",
      "  Y_train_pred = np.nanmean(Y_train_pred_full, axis=0)\n",
      "/home/anaconda/envs/py373/lib/python3.7/site-packages/autosklearn/evaluation/train_evaluator.py:197: RuntimeWarning: Mean of empty slice\n",
      "  Y_train_pred = np.nanmean(Y_train_pred_full, axis=0)\n",
      "/home/anaconda/envs/py373/lib/python3.7/site-packages/autosklearn/evaluation/train_evaluator.py:197: RuntimeWarning: Mean of empty slice\n",
      "  Y_train_pred = np.nanmean(Y_train_pred_full, axis=0)\n",
      "/home/anaconda/envs/py373/lib/python3.7/site-packages/autosklearn/evaluation/train_evaluator.py:197: RuntimeWarning: Mean of empty slice\n",
      "  Y_train_pred = np.nanmean(Y_train_pred_full, axis=0)\n",
      "/home/anaconda/envs/py373/lib/python3.7/site-packages/autosklearn/evaluation/train_evaluator.py:197: RuntimeWarning: Mean of empty slice\n",
      "  Y_train_pred = np.nanmean(Y_train_pred_full, axis=0)\n",
      "/home/anaconda/envs/py373/lib/python3.7/site-packages/autosklearn/evaluation/train_evaluator.py:197: RuntimeWarning: Mean of empty slice\n",
      "  Y_train_pred = np.nanmean(Y_train_pred_full, axis=0)\n",
      "/home/anaconda/envs/py373/lib/python3.7/site-packages/autosklearn/evaluation/train_evaluator.py:197: RuntimeWarning: Mean of empty slice\n",
      "  Y_train_pred = np.nanmean(Y_train_pred_full, axis=0)\n",
      "/home/anaconda/envs/py373/lib/python3.7/site-packages/autosklearn/evaluation/train_evaluator.py:197: RuntimeWarning: Mean of empty slice\n",
      "  Y_train_pred = np.nanmean(Y_train_pred_full, axis=0)\n",
      "/home/anaconda/envs/py373/lib/python3.7/site-packages/autosklearn/evaluation/train_evaluator.py:197: RuntimeWarning: Mean of empty slice\n",
      "  Y_train_pred = np.nanmean(Y_train_pred_full, axis=0)\n",
      "/home/anaconda/envs/py373/lib/python3.7/site-packages/autosklearn/evaluation/train_evaluator.py:197: RuntimeWarning: Mean of empty slice\n",
      "  Y_train_pred = np.nanmean(Y_train_pred_full, axis=0)\n",
      "/home/anaconda/envs/py373/lib/python3.7/site-packages/autosklearn/evaluation/train_evaluator.py:197: RuntimeWarning: Mean of empty slice\n",
      "  Y_train_pred = np.nanmean(Y_train_pred_full, axis=0)\n",
      "/home/anaconda/envs/py373/lib/python3.7/site-packages/autosklearn/evaluation/train_evaluator.py:197: RuntimeWarning: Mean of empty slice\n",
      "  Y_train_pred = np.nanmean(Y_train_pred_full, axis=0)\n",
      "/home/anaconda/envs/py373/lib/python3.7/site-packages/autosklearn/evaluation/train_evaluator.py:197: RuntimeWarning: Mean of empty slice\n",
      "  Y_train_pred = np.nanmean(Y_train_pred_full, axis=0)\n",
      "/home/anaconda/envs/py373/lib/python3.7/site-packages/autosklearn/evaluation/train_evaluator.py:197: RuntimeWarning: Mean of empty slice\n",
      "  Y_train_pred = np.nanmean(Y_train_pred_full, axis=0)\n",
      "/home/anaconda/envs/py373/lib/python3.7/site-packages/autosklearn/evaluation/train_evaluator.py:197: RuntimeWarning: Mean of empty slice\n",
      "  Y_train_pred = np.nanmean(Y_train_pred_full, axis=0)\n",
      "/home/anaconda/envs/py373/lib/python3.7/site-packages/autosklearn/evaluation/train_evaluator.py:197: RuntimeWarning: Mean of empty slice\n",
      "  Y_train_pred = np.nanmean(Y_train_pred_full, axis=0)\n"
     ]
    },
    {
     "name": "stdout",
     "output_type": "stream",
     "text": [
      "-1\n",
      "['/tmp/autosklearn_tmp_14972_8892/.auto-sklearn/ensembles/1791095845.0000000000.ensemble', '/tmp/autosklearn_tmp_14972_8892/.auto-sklearn/ensembles/1791095845.0000000001.ensemble', '/tmp/autosklearn_tmp_14972_8892/.auto-sklearn/ensembles/1791095845.0000000002.ensemble', '/tmp/autosklearn_tmp_14972_8892/.auto-sklearn/ensembles/1791095845.0000000003.ensemble', '/tmp/autosklearn_tmp_14972_8892/.auto-sklearn/ensembles/1791095845.0000000004.ensemble', '/tmp/autosklearn_tmp_14972_8892/.auto-sklearn/ensembles/1791095845.0000000005.ensemble', '/tmp/autosklearn_tmp_14972_8892/.auto-sklearn/ensembles/1791095845.0000000006.ensemble', '/tmp/autosklearn_tmp_14972_8892/.auto-sklearn/ensembles/1791095845.0000000007.ensemble', '/tmp/autosklearn_tmp_14972_8892/.auto-sklearn/ensembles/1791095845.0000000008.ensemble', '/tmp/autosklearn_tmp_14972_8892/.auto-sklearn/ensembles/1791095845.0000000009.ensemble', '/tmp/autosklearn_tmp_14972_8892/.auto-sklearn/ensembles/1791095845.0000000010.ensemble', '/tmp/autosklearn_tmp_14972_8892/.auto-sklearn/ensembles/1791095845.0000000011.ensemble', '/tmp/autosklearn_tmp_14972_8892/.auto-sklearn/ensembles/1791095845.0000000012.ensemble', '/tmp/autosklearn_tmp_14972_8892/.auto-sklearn/ensembles/1791095845.0000000013.ensemble', '/tmp/autosklearn_tmp_14972_8892/.auto-sklearn/ensembles/1791095845.0000000014.ensemble', '/tmp/autosklearn_tmp_14972_8892/.auto-sklearn/ensembles/1791095845.0000000015.ensemble']\n",
      "Generating test scores for ASKLEARN_.5_askbasic_Nonecv_recall classifier\n"
     ]
    },
    {
     "data": {
      "image/png": "[encoded data removed]",
      "text/plain": [
       "<Figure size 1152x576 with 2 Axes>"
      ]
     },
     "metadata": {
      "needs_background": "light"
     },
     "output_type": "display_data"
    },
    {
     "name": "stdout",
     "output_type": "stream",
     "text": [
      "CPU times: user 5min 48s, sys: 33 s, total: 6min 21s\n",
      "Wall time: 47min 14s\n"
     ]
    }
   ],
   "source": [
    "%%time\n",
    "start = time.time()\n",
    "\n",
    "sampler = ('None', DummySampler())\n",
    "\n",
    "exp_metrics, model_results = perform_experiment(X_train, X_test, y_train, y_test, classifiers, sampler, 1, \\\n",
    "                                                cv_iter=CV_ITER, cat_col=cat_col)\n",
    "\n",
    "all_metrics = all_metrics.append(exp_metrics)\n",
    "all_results.append((sampler[0]+\"_\"+BASE_NAME, exp_metrics, model_results))\n",
    "\n",
    "log(\"basic, autosklearn, {0}, {1}\".format(sampler[0], time.time()-start), 'Basic_Autosklearn.log')"
   ]
  },
  {
   "cell_type": "code",
   "execution_count": 7,
   "metadata": {},
   "outputs": [
    {
     "data": {
      "text/html": [
       "<div>\n",
       "<style scoped>\n",
       "    .dataframe tbody tr th:only-of-type {\n",
       "        vertical-align: middle;\n",
       "    }\n",
       "\n",
       "    .dataframe tbody tr th {\n",
       "        vertical-align: top;\n",
       "    }\n",
       "\n",
       "    .dataframe thead th {\n",
       "        text-align: right;\n",
       "    }\n",
       "</style>\n",
       "<table border=\"1\" class=\"dataframe\">\n",
       "  <thead>\n",
       "    <tr style=\"text-align: right;\">\n",
       "      <th></th>\n",
       "      <th>label</th>\n",
       "      <th>classifier</th>\n",
       "      <th>sampling_method</th>\n",
       "      <th>tn</th>\n",
       "      <th>fn</th>\n",
       "      <th>tp</th>\n",
       "      <th>fp</th>\n",
       "      <th>accuracy</th>\n",
       "      <th>precision</th>\n",
       "      <th>recall</th>\n",
       "      <th>...</th>\n",
       "      <th>log_loss</th>\n",
       "      <th>train_time</th>\n",
       "      <th>cv_time</th>\n",
       "      <th>aucroc</th>\n",
       "      <th>auprc</th>\n",
       "      <th>balanced_accuracy</th>\n",
       "      <th>cv_score_mean</th>\n",
       "      <th>cv_score_std</th>\n",
       "      <th>model_churn_cost</th>\n",
       "      <th>sample</th>\n",
       "    </tr>\n",
       "  </thead>\n",
       "  <tbody>\n",
       "    <tr>\n",
       "      <th>0</th>\n",
       "      <td>ASKLEARN_.25_askbasic_Nonecv_recall</td>\n",
       "      <td>AutoSklearnClassifier</td>\n",
       "      <td>None</td>\n",
       "      <td>231403</td>\n",
       "      <td>14646</td>\n",
       "      <td>9415</td>\n",
       "      <td>2023</td>\n",
       "      <td>0.94</td>\n",
       "      <td>0.82</td>\n",
       "      <td>0.39</td>\n",
       "      <td>...</td>\n",
       "      <td>2.24</td>\n",
       "      <td>965.60</td>\n",
       "      <td>0.00</td>\n",
       "      <td>0.89</td>\n",
       "      <td>0.63</td>\n",
       "      <td>0.69</td>\n",
       "      <td>-1</td>\n",
       "      <td>-1</td>\n",
       "      <td>8466800</td>\n",
       "      <td>0</td>\n",
       "    </tr>\n",
       "    <tr>\n",
       "      <th>0</th>\n",
       "      <td>ASKLEARN_.5_askbasic_Nonecv_recall</td>\n",
       "      <td>AutoSklearnClassifier</td>\n",
       "      <td>None</td>\n",
       "      <td>231223</td>\n",
       "      <td>14417</td>\n",
       "      <td>9644</td>\n",
       "      <td>2203</td>\n",
       "      <td>0.94</td>\n",
       "      <td>0.81</td>\n",
       "      <td>0.40</td>\n",
       "      <td>...</td>\n",
       "      <td>2.23</td>\n",
       "      <td>1865.54</td>\n",
       "      <td>0.00</td>\n",
       "      <td>0.89</td>\n",
       "      <td>0.63</td>\n",
       "      <td>0.70</td>\n",
       "      <td>-1</td>\n",
       "      <td>-1</td>\n",
       "      <td>8393200</td>\n",
       "      <td>0</td>\n",
       "    </tr>\n",
       "  </tbody>\n",
       "</table>\n",
       "<p>2 rows × 22 columns</p>\n",
       "</div>"
      ],
      "text/plain": [
       "                                 label             classifier sampling_method  \\\n",
       "0  ASKLEARN_.25_askbasic_Nonecv_recall  AutoSklearnClassifier            None   \n",
       "0   ASKLEARN_.5_askbasic_Nonecv_recall  AutoSklearnClassifier            None   \n",
       "\n",
       "       tn     fn    tp    fp  accuracy  precision  recall  ...  log_loss  \\\n",
       "0  231403  14646  9415  2023      0.94       0.82    0.39  ...      2.24   \n",
       "0  231223  14417  9644  2203      0.94       0.81    0.40  ...      2.23   \n",
       "\n",
       "   train_time  cv_time  aucroc  auprc  balanced_accuracy  cv_score_mean  \\\n",
       "0      965.60     0.00    0.89   0.63               0.69             -1   \n",
       "0     1865.54     0.00    0.89   0.63               0.70             -1   \n",
       "\n",
       "   cv_score_std model_churn_cost sample  \n",
       "0            -1          8466800      0  \n",
       "0            -1          8393200      0  \n",
       "\n",
       "[2 rows x 22 columns]"
      ]
     },
     "execution_count": 7,
     "metadata": {},
     "output_type": "execute_result"
    }
   ],
   "source": [
    "all_metrics"
   ]
  },
  {
   "cell_type": "code",
   "execution_count": null,
   "metadata": {},
   "outputs": [],
   "source": [
    "all_metrics.sort_values('f1_score', ascending=False)"
   ]
  },
  {
   "cell_type": "markdown",
   "metadata": {},
   "source": [
    "### Experiment 1.2 Baseline - Default Settings - Oversampled training set 100%"
   ]
  },
  {
   "cell_type": "code",
   "execution_count": null,
   "metadata": {
    "scrolled": true
   },
   "outputs": [],
   "source": [
    "%%time\n",
    "start = time.time()\n",
    "\n",
    "sampler = ('ROS 1:1', RandomOverSampler(random_state=RANDOM_STATE))\n",
    "\n",
    "exp_metrics, model_results = perform_experiment(X_train, X_test, y_train, y_test, classifiers, sampler, 1, \\\n",
    "                                                cv_iter=CV_ITER, cat_col=cat_col)\n",
    "\n",
    "all_metrics = all_metrics.append(exp_metrics)\n",
    "all_results.append((sampler[0]+\"_\"+BASE_NAME, exp_metrics, model_results))\n",
    "\n",
    "log(\"basic, autosklearn, {0}, {1}\".format(sampler[0], time.time()-start), 'Basic_Autosklearn.log')"
   ]
  },
  {
   "cell_type": "code",
   "execution_count": null,
   "metadata": {},
   "outputs": [],
   "source": []
  },
  {
   "cell_type": "markdown",
   "metadata": {},
   "source": [
    "### Experiment 1.3 Baseline - Default Settings - Undersampled training set"
   ]
  },
  {
   "cell_type": "code",
   "execution_count": null,
   "metadata": {
    "scrolled": true
   },
   "outputs": [],
   "source": [
    "%%time\n",
    "start = time.time()\n",
    "\n",
    "sampler = ('RUS 1:1', RandomUnderSampler(random_state=RANDOM_STATE))\n",
    "\n",
    "exp_metrics, model_results = perform_experiment(X_train, X_test, y_train, y_test, classifiers, sampler, 1, \\\n",
    "                                                cv_iter=CV_ITER, cat_col=cat_col)\n",
    "\n",
    "all_metrics = all_metrics.append(exp_metrics)\n",
    "all_results.append((sampler[0]+\"_\"+BASE_NAME, exp_metrics, model_results))\n",
    "\n",
    "log(\"basic, autosklearn, {0}, {1}\".format(sampler[0], time.time()-start), 'Basic_Autosklearn.log')"
   ]
  },
  {
   "cell_type": "code",
   "execution_count": null,
   "metadata": {},
   "outputs": [],
   "source": [
    "all_results"
   ]
  },
  {
   "cell_type": "markdown",
   "metadata": {},
   "source": [
    "### Experiment 1.4 Baseline - Default Settings - Over sampling - 33% of majority size"
   ]
  },
  {
   "cell_type": "code",
   "execution_count": null,
   "metadata": {},
   "outputs": [],
   "source": [
    "%%time\n",
    "start = time.time()\n",
    "\n",
    "sampler = ('ROS 3:1', RandomOverSampler(random_state=RANDOM_STATE, sampling_strategy = 1/3))\n",
    "\n",
    "exp_metrics, model_results = perform_experiment(X_train, X_test, y_train, y_test, classifiers, sampler, 1, \\\n",
    "                                                cv_iter=CV_ITER, cat_col=cat_col)\n",
    "\n",
    "all_metrics = all_metrics.append(exp_metrics)\n",
    "all_results.append((sampler[0]+\"_\"+BASE_NAME, exp_metrics, model_results))\n",
    "\n",
    "log(\"basic, autosklearn, {0}, {1}\".format(sampler[0], time.time()-start), 'Basic_Autosklearn.log')"
   ]
  },
  {
   "cell_type": "code",
   "execution_count": null,
   "metadata": {},
   "outputs": [],
   "source": []
  },
  {
   "cell_type": "markdown",
   "metadata": {},
   "source": [
    "### Experiment 1.5 Baseline - Default Settings - Over sampling - 66% of majority size"
   ]
  },
  {
   "cell_type": "code",
   "execution_count": null,
   "metadata": {},
   "outputs": [],
   "source": [
    "%%time\n",
    "start = time.time()\n",
    "\n",
    "sampler = ('ROS 3:2', RandomOverSampler(random_state=RANDOM_STATE, sampling_strategy = 2/3))\n",
    "\n",
    "exp_metrics, model_results = perform_experiment(X_train, X_test, y_train, y_test, classifiers, sampler, 1, \\\n",
    "                                                cv_iter=CV_ITER, cat_col=cat_col)\n",
    "\n",
    "all_metrics = all_metrics.append(exp_metrics)\n",
    "all_results.append((sampler[0]+\"_\"+BASE_NAME, exp_metrics, model_results))\n",
    "\n",
    "log(\"basic, autosklearn, {0}, {1}\".format(sampler[0], time.time()-start), 'Basic_Autosklearn.log')"
   ]
  },
  {
   "cell_type": "code",
   "execution_count": null,
   "metadata": {},
   "outputs": [],
   "source": []
  },
  {
   "cell_type": "markdown",
   "metadata": {},
   "source": [
    "### Experiment 1.6 Baseline - Default Settings - Over sampling - 50% of majority size"
   ]
  },
  {
   "cell_type": "code",
   "execution_count": null,
   "metadata": {},
   "outputs": [],
   "source": [
    "%%time\n",
    "start = time.time()\n",
    "\n",
    "sampler = ('ROS 2:1', RandomOverSampler(random_state=RANDOM_STATE, sampling_strategy = 1/2))\n",
    "\n",
    "exp_metrics, model_results = perform_experiment(X_train, X_test, y_train, y_test, classifiers, sampler, 1, \\\n",
    "                                                cv_iter=CV_ITER, cat_col=cat_col)\n",
    "\n",
    "all_metrics = all_metrics.append(exp_metrics)\n",
    "all_results.append((sampler[0]+\"_\"+BASE_NAME, exp_metrics, model_results))\n",
    "\n",
    "log(\"basic, autosklearn, {0}, {1}\".format(sampler[0], time.time()-start), 'Basic_Autosklearn.log')"
   ]
  },
  {
   "cell_type": "code",
   "execution_count": null,
   "metadata": {},
   "outputs": [],
   "source": []
  },
  {
   "cell_type": "markdown",
   "metadata": {},
   "source": [
    "### Experiment 1.7 Baseline Default Settings SMOTE-NC"
   ]
  },
  {
   "cell_type": "code",
   "execution_count": null,
   "metadata": {},
   "outputs": [],
   "source": [
    "%%time\n",
    "start = time.time()\n",
    "\n",
    "sampler = ('SMOTE_NC', SMOTENC(random_state=RANDOM_STATE, categorical_features=[0,1,2,3,4,5,6,7,12,13], n_jobs=8))\n",
    "\n",
    "## Keep the following, essentially dropping the dt columns\n",
    "cols = ['is_churn', 'city', 'bd', 'registered_via', 'total_order',\n",
    "       'payment_method_id_mode', 'payment_method_id_count',\n",
    "       'payment_plan_days_mode', 'payment_plan_days_mean',\n",
    "       'plan_list_price_mean', 'plan_lifetime_value', 'actual_amount_mean',\n",
    "       'total_actual_amount', 'is_auto_renew_mode', 'cancel_times']\n",
    "\n",
    "exp_metrics, model_results = perform_experiment(X_train, X_test, y_train, y_test, classifiers, sampler, 1, \\\n",
    "                                                cv_iter=CV_ITER, cat_col=cat_col)\n",
    "\n",
    "all_metrics = all_metrics.append(exp_metrics)\n",
    "all_results.append((sampler[0]+\"_\"+BASE_NAME, exp_metrics, model_results))\n",
    "\n",
    "log(\"basic, autosklearn, {0}, {1}\".format(sampler[0], time.time()-start), 'Basic_Autosklearn.log')"
   ]
  },
  {
   "cell_type": "code",
   "execution_count": null,
   "metadata": {},
   "outputs": [],
   "source": []
  },
  {
   "cell_type": "code",
   "execution_count": null,
   "metadata": {},
   "outputs": [],
   "source": [
    "all_metrics.sort_values('aucroc', ascending=False).head(15)"
   ]
  },
  {
   "cell_type": "code",
   "execution_count": null,
   "metadata": {},
   "outputs": [],
   "source": []
  },
  {
   "cell_type": "code",
   "execution_count": null,
   "metadata": {},
   "outputs": [],
   "source": [
    "#store(all_results, 'Asklearn_Default_Undersample.pickle')\n",
    "\n",
    "# Write (overwrite) the file to store the experiment results\n",
    "with open('Asklearn_Default_Undersample.pickle', 'wb') as f:\n",
    "    # Pickle the 'data' dictionary using the highest protocol available.\n",
    "    print(\"Writing results to\", f.name)\n",
    "    pickle.dump(all_results, f, pickle.HIGHEST_PROTOCOL)"
   ]
  },
  {
   "cell_type": "code",
   "execution_count": null,
   "metadata": {},
   "outputs": [],
   "source": []
  },
  {
   "cell_type": "code",
   "execution_count": null,
   "metadata": {},
   "outputs": [],
   "source": [
    "## Just try an SVM \n",
    "from sklearn.svm import SVC\n",
    "from sklearn.svm import LinearSVC\n",
    "from sklearn.linear_model import SGDClassifier"
   ]
  },
  {
   "cell_type": "code",
   "execution_count": null,
   "metadata": {},
   "outputs": [],
   "source": [
    "%%time\n",
    "model_train_results = train_model(base_dataset, sampling_method = 'under', classifiers = [('SGDClassifier', SGDClassifier(loss='log'))])"
   ]
  },
  {
   "cell_type": "code",
   "execution_count": null,
   "metadata": {},
   "outputs": [],
   "source": []
  },
  {
   "cell_type": "code",
   "execution_count": null,
   "metadata": {},
   "outputs": [],
   "source": [
    "## Print the feature importance \n",
    "\n",
    "feature_index = np.flip(np.argsort(model.feature_importances_), axis=0)\n",
    "ordered_features = []\n",
    "column_names = X_test.columns\n",
    "\n",
    "for i in feature_index[0:10]:\n",
    "    print(np.round(model.feature_importances_[i], 3), ' --> ', column_names[i])\n",
    "    ordered_features.append(column_names[i])"
   ]
  },
  {
   "cell_type": "code",
   "execution_count": null,
   "metadata": {
    "code_folding": [],
    "scrolled": false
   },
   "outputs": [],
   "source": [
    "## Print the permutation importance \n",
    "\n",
    "import eli5\n",
    "from eli5.sklearn import PermutationImportance\n",
    "\n",
    "_, X_test, _, y_test = prepare_train_test_split(model_dataset, 0)\n",
    "\n",
    "perm = PermutationImportance(model, random_state=1).fit(X_test, y_test)\n",
    "\n",
    "eli5.show_weights(perm, feature_names = X_test.columns.tolist())"
   ]
  },
  {
   "cell_type": "code",
   "execution_count": null,
   "metadata": {},
   "outputs": [],
   "source": [
    "#model_name, model = model_train_results[1][2]\n",
    "\n",
    "for model_name, model in model_train_results[1]:\n",
    "    probs = model.predict_proba(X_test)[:, 1]\n",
    "    pr_data = plot_precision_recall(\n",
    "        y_test, probs, title='PR Curve for {0}'.format(model_name))"
   ]
  },
  {
   "cell_type": "code",
   "execution_count": null,
   "metadata": {},
   "outputs": [],
   "source": [
    "probs = model.predict_proba(X_test)[:, 1]\n",
    "pr_data = plot_precision_recall(\n",
    "    y_test, probs, title='PR Curve for {0}'.format(model_name))"
   ]
  },
  {
   "cell_type": "code",
   "execution_count": null,
   "metadata": {},
   "outputs": [],
   "source": [
    "pr_data = plot_roc(\n",
    "    y_test, probs, title='ROC Curve for {0}'.format(model_name))"
   ]
  },
  {
   "cell_type": "code",
   "execution_count": null,
   "metadata": {},
   "outputs": [],
   "source": [
    "print(plt.style.available)"
   ]
  },
  {
   "cell_type": "code",
   "execution_count": null,
   "metadata": {},
   "outputs": [],
   "source": []
  },
  {
   "cell_type": "code",
   "execution_count": null,
   "metadata": {},
   "outputs": [],
   "source": [
    "model_dataset.head()"
   ]
  },
  {
   "cell_type": "code",
   "execution_count": null,
   "metadata": {},
   "outputs": [],
   "source": []
  },
  {
   "cell_type": "code",
   "execution_count": null,
   "metadata": {},
   "outputs": [],
   "source": []
  },
  {
   "cell_type": "code",
   "execution_count": null,
   "metadata": {},
   "outputs": [],
   "source": [
    "print(\"Original Data distribution\")\n",
    "print(model_dataset['is_churn'].value_counts())"
   ]
  },
  {
   "cell_type": "code",
   "execution_count": null,
   "metadata": {},
   "outputs": [],
   "source": [
    "# Display new class counts\n",
    "print('Sci-Kit Learn : resample : Down Sampled data set')\n",
    "train_downsample = undersampled_dataset(model_dataset, 'is_churn')\n",
    "\n",
    "print(train_downsample['is_churn'].value_counts())\n",
    "print(\"Num records = \", train_downsample.shape[0])\n",
    "train_downsample.is_churn.value_counts().plot(kind='bar', title='Count (target)')"
   ]
  },
  {
   "cell_type": "code",
   "execution_count": null,
   "metadata": {},
   "outputs": [],
   "source": [
    "# Display new class counts\n",
    "print('Sci-Kit Learn : resample : Up Sampled data set')\n",
    "train_upsample = oversampled_dataset(model_dataset, 'is_churn')\n",
    "\n",
    "print(train_upsample['is_churn'].value_counts())\n",
    "print(\"Num records = \", train_upsample.shape[0])\n",
    "train_upsample.is_churn.value_counts().plot(kind='bar', title='Count (target)')"
   ]
  },
  {
   "cell_type": "code",
   "execution_count": null,
   "metadata": {},
   "outputs": [],
   "source": []
  },
  {
   "cell_type": "code",
   "execution_count": null,
   "metadata": {},
   "outputs": [],
   "source": []
  },
  {
   "cell_type": "code",
   "execution_count": null,
   "metadata": {},
   "outputs": [],
   "source": []
  },
  {
   "cell_type": "code",
   "execution_count": null,
   "metadata": {
    "scrolled": false
   },
   "outputs": [],
   "source": [
    "probs = model.predict_proba(X_test)[:, 1]\n",
    "pr_data = plot_precision_recall(\n",
    "    y_test, probs, title='Precision-Recall Curve for Random Forest')"
   ]
  },
  {
   "cell_type": "code",
   "execution_count": null,
   "metadata": {},
   "outputs": [],
   "source": [
    "precision_above = pr_data.loc[pr_data['precision'] >= 0.25].copy()\n",
    "precision_above.sort_values('recall', ascending=False, inplace=True)\n",
    "precision_above.head()"
   ]
  },
  {
   "cell_type": "code",
   "execution_count": null,
   "metadata": {},
   "outputs": [],
   "source": []
  },
  {
   "cell_type": "code",
   "execution_count": null,
   "metadata": {},
   "outputs": [],
   "source": []
  },
  {
   "cell_type": "code",
   "execution_count": null,
   "metadata": {},
   "outputs": [],
   "source": []
  },
  {
   "cell_type": "code",
   "execution_count": null,
   "metadata": {
    "scrolled": false
   },
   "outputs": [],
   "source": [
    "threshold_required = 0.5\n",
    "# Make predictions where probability is above threshold\n",
    "preds = np.zeros(len(y_test))\n",
    "preds[probs >= threshold_required] = 1\n",
    "\n",
    "# Make and plot confusion matrix\n",
    "cm = confusion_matrix(y_test, preds)\n",
    "plot_confusion_matrix(cm, classes=['No Churn', 'Churn'],\n",
    "                      title='Churn Confusion Matrix')"
   ]
  },
  {
   "cell_type": "code",
   "execution_count": null,
   "metadata": {},
   "outputs": [],
   "source": [
    "model_dataset.head()"
   ]
  },
  {
   "cell_type": "code",
   "execution_count": null,
   "metadata": {},
   "outputs": [],
   "source": [
    "fi = pd.DataFrame({'importance': model.feature_importances_}, index=model_dataset.iloc[:, 1:].columns).\\\n",
    "    sort_values('importance', ascending=False)\n",
    "fi.head(10)"
   ]
  },
  {
   "cell_type": "code",
   "execution_count": null,
   "metadata": {},
   "outputs": [],
   "source": []
  },
  {
   "cell_type": "code",
   "execution_count": null,
   "metadata": {},
   "outputs": [],
   "source": []
  },
  {
   "cell_type": "code",
   "execution_count": null,
   "metadata": {},
   "outputs": [],
   "source": []
  },
  {
   "cell_type": "code",
   "execution_count": null,
   "metadata": {},
   "outputs": [],
   "source": []
  },
  {
   "cell_type": "code",
   "execution_count": null,
   "metadata": {},
   "outputs": [],
   "source": []
  }
 ],
 "metadata": {
  "kernelspec": {
   "display_name": "Python 3",
   "language": "python",
   "name": "python3"
  },
  "language_info": {
   "codemirror_mode": {
    "name": "ipython",
    "version": 3
   },
   "file_extension": ".py",
   "mimetype": "text/x-python",
   "name": "python",
   "nbconvert_exporter": "python",
   "pygments_lexer": "ipython3",
   "version": "3.7.3"
  }
 },
 "nbformat": 4,
 "nbformat_minor": 2
}
