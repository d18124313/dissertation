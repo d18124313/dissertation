{
 "cells": [
  {
   "cell_type": "code",
   "execution_count": 1,
   "metadata": {},
   "outputs": [],
   "source": [
    "%load_ext autoreload\n",
    "%autoreload"
   ]
  },
  {
   "cell_type": "code",
   "execution_count": 2,
   "metadata": {},
   "outputs": [
    {
     "name": "stderr",
     "output_type": "stream",
     "text": [
      "/home/anaconda/envs/py373/lib/python3.7/site-packages/pyparsing.py:2927: FutureWarning: Possible set intersection at position 3\n",
      "  self.re = re.compile( self.reString )\n",
      "/home/anaconda/envs/py373/lib/python3.7/site-packages/sklearn/externals/joblib/__init__.py:15: DeprecationWarning: sklearn.externals.joblib is deprecated in 0.21 and will be removed in 0.23. Please import this functionality directly from joblib, which can be installed with: pip install joblib. If this warning is raised when loading pickled models, you may need to re-serialize those models with scikit-learn 0.21+.\n",
      "  warnings.warn(msg, category=DeprecationWarning)\n"
     ]
    }
   ],
   "source": [
    "import numpy as np\n",
    "import pandas as pd\n",
    "import time\n",
    "import gc; gc.enable()\n",
    "import time\n",
    "import sys\n",
    "\n",
    "pd.options.display.float_format = \"{:.3f}\".format\n",
    "np.set_printoptions(precision=4)\n",
    "\n",
    "import matplotlib.pyplot as plt\n",
    "%matplotlib inline\n",
    "\n",
    "sys.path.append('modules')\n",
    "\n",
    "from shared_functions import *\n",
    "\n",
    "import pickle\n",
    "from datetime import datetime"
   ]
  },
  {
   "cell_type": "code",
   "execution_count": 3,
   "metadata": {},
   "outputs": [],
   "source": [
    "# from IPython.core.interactiveshell import InteractiveShell\n",
    "# InteractiveShell.ast_node_interactivity = \"all\""
   ]
  },
  {
   "cell_type": "code",
   "execution_count": 4,
   "metadata": {},
   "outputs": [],
   "source": [
    "def load_results(file_name):\n",
    "    data = None\n",
    "    with open(file_name, 'rb') as f:\n",
    "        # The protocol version used is detected automatically, so we do not\n",
    "        # have to specify it.\n",
    "        data = pickle.load(f)\n",
    "    return data\n",
    "\n",
    "def filter_top_model_results(top_models, all_model_results):\n",
    "    plot_data = list()\n",
    "    for idx, row in top_models.iterrows():\n",
    "        #print(\"row.label: \" + row.label + ',' + row.classifier + ',' + row.sampling_method)\n",
    "        for res in all_model_results:       \n",
    "            for alg_results in res:\n",
    "                if alg_results[0] == row.label and alg_results[1] == row.classifier and alg_results[2] == row.sampling_method:\n",
    "                    #print(alg_results)\n",
    "                    label, model_name, sampling_method, _, tpr, fpr, roc_auc, precision, recall, prc_auc = alg_results\n",
    "\n",
    "                    plot_data.append((\"{} :: {}\".format(model_name, sampling_method), tpr, fpr, roc_auc, precision, recall, prc_auc))\n",
    "    return plot_data\n",
    "\n",
    "def rebuild_results(res):\n",
    "    ## Gather all the metrics\n",
    "    temp_metrics = pd.DataFrame()\n",
    "    temp_results = list()\n",
    "    for i in range(0, len(res)):\n",
    "        temp_metrics = pd.concat([temp_metrics, res[i][1]])\n",
    "        temp_results.append(res[i][2]) \n",
    "    \n",
    "    return temp_metrics, temp_results"
   ]
  },
  {
   "cell_type": "code",
   "execution_count": 5,
   "metadata": {},
   "outputs": [],
   "source": [
    "measurements = ['classifier', 'sampling_method', \\\n",
    "                #'fp', 'fn',\\\n",
    "                'balanced_accuracy', 'recall', 'precision', \\\n",
    "                 #'f1_score',\\\n",
    "                'train_time', 'aucroc', 'auprc',\\\n",
    "                'model_churn_cost']\n",
    "\n",
    "measurements_alias = ['classifier', 'sampling', \\\n",
    "                      'bal_acc', 'recall', 'precision',\\\n",
    "                      # 'f1',\\\n",
    "                      'train_time', 'auroc', 'auprc',\\\n",
    "                      'churn_cost']"
   ]
  },
  {
   "cell_type": "code",
   "execution_count": null,
   "metadata": {},
   "outputs": [],
   "source": []
  },
  {
   "cell_type": "markdown",
   "metadata": {},
   "source": [
    "## Summarise performance of the approaches"
   ]
  },
  {
   "cell_type": "code",
   "execution_count": 6,
   "metadata": {},
   "outputs": [],
   "source": [
    "## First Experiment:\n",
    "## Approach 1.1 - Churn BasicData + Default Hyper\n",
    "\n",
    "#exp1_1 = load_results('/home/dissertation/code/RESULTS_FINAL/Basic_DefaultHyper_2019-08-12.pickle')\n",
    "\n",
    "#exp2_1 = load_results('/home/dissertation/code/RESULTS_FINAL/Manual_GridSearch_2019-08-10.pickle')\n",
    "\n",
    "#exp2_2 = load_results('/home/dissertation/code/RESULTS_FINAL/Manual_RdmSearch_2019-08-10.pickle')\n",
    "\n",
    "#exp3_1 = load_results('/home/dissertation/code/RESULTS_FINAL/DFS_Default_2019-08-10.pickle')\n",
    "exp3_2 = load_results('/home/dissertation/code/RESULTS_FINAL/DFS_RdmSearch_2019-08-18.pickle')\n",
    "\n",
    "exp_metrics, exp_results = rebuild_results(exp3_2)"
   ]
  },
  {
   "cell_type": "code",
   "execution_count": 7,
   "metadata": {},
   "outputs": [],
   "source": [
    "#exp_metrics[['classifier', 'sampling_method','accuracy']].groupby(['sampling_method']).count()"
   ]
  },
  {
   "cell_type": "code",
   "execution_count": 8,
   "metadata": {},
   "outputs": [
    {
     "data": {
      "text/html": [
       "<div>\n",
       "<style scoped>\n",
       "    .dataframe tbody tr th:only-of-type {\n",
       "        vertical-align: middle;\n",
       "    }\n",
       "\n",
       "    .dataframe tbody tr th {\n",
       "        vertical-align: top;\n",
       "    }\n",
       "\n",
       "    .dataframe thead th {\n",
       "        text-align: right;\n",
       "    }\n",
       "</style>\n",
       "<table border=\"1\" class=\"dataframe\">\n",
       "  <thead>\n",
       "    <tr style=\"text-align: right;\">\n",
       "      <th></th>\n",
       "      <th>label</th>\n",
       "      <th>classifier</th>\n",
       "      <th>sampling_method</th>\n",
       "      <th>tn</th>\n",
       "      <th>fn</th>\n",
       "      <th>tp</th>\n",
       "      <th>fp</th>\n",
       "      <th>accuracy</th>\n",
       "      <th>precision</th>\n",
       "      <th>recall</th>\n",
       "      <th>...</th>\n",
       "      <th>log_loss</th>\n",
       "      <th>train_time</th>\n",
       "      <th>cv_time</th>\n",
       "      <th>aucroc</th>\n",
       "      <th>auprc</th>\n",
       "      <th>balanced_accuracy</th>\n",
       "      <th>cv_score_mean</th>\n",
       "      <th>cv_score_std</th>\n",
       "      <th>model_churn_cost</th>\n",
       "      <th>sample</th>\n",
       "    </tr>\n",
       "  </thead>\n",
       "  <tbody>\n",
       "    <tr>\n",
       "      <th>0</th>\n",
       "      <td>NB_dfsrandom_5cv_recall</td>\n",
       "      <td>GaussianNB</td>\n",
       "      <td>None</td>\n",
       "      <td>231265</td>\n",
       "      <td>21233</td>\n",
       "      <td>2828</td>\n",
       "      <td>2161</td>\n",
       "      <td>0.909</td>\n",
       "      <td>0.567</td>\n",
       "      <td>0.118</td>\n",
       "      <td>...</td>\n",
       "      <td>3.138</td>\n",
       "      <td>14.934</td>\n",
       "      <td>7.550</td>\n",
       "      <td>0.784</td>\n",
       "      <td>0.334</td>\n",
       "      <td>0.554</td>\n",
       "      <td>0.116</td>\n",
       "      <td>0.008</td>\n",
       "      <td>11115400</td>\n",
       "      <td>0</td>\n",
       "    </tr>\n",
       "    <tr>\n",
       "      <th>0</th>\n",
       "      <td>DT_dfsrandom_5cv_recall</td>\n",
       "      <td>DecisionTreeClassifier</td>\n",
       "      <td>None</td>\n",
       "      <td>217043</td>\n",
       "      <td>4754</td>\n",
       "      <td>19307</td>\n",
       "      <td>16383</td>\n",
       "      <td>0.918</td>\n",
       "      <td>0.541</td>\n",
       "      <td>0.802</td>\n",
       "      <td>...</td>\n",
       "      <td>2.835</td>\n",
       "      <td>8235.681</td>\n",
       "      <td>90.171</td>\n",
       "      <td>0.938</td>\n",
       "      <td>0.759</td>\n",
       "      <td>0.866</td>\n",
       "      <td>0.844</td>\n",
       "      <td>0.013</td>\n",
       "      <td>5946000</td>\n",
       "      <td>0</td>\n",
       "    </tr>\n",
       "    <tr>\n",
       "      <th>0</th>\n",
       "      <td>RF_dfsrandom_5cv_recall</td>\n",
       "      <td>RandomForestClassifier</td>\n",
       "      <td>None</td>\n",
       "      <td>220910</td>\n",
       "      <td>5273</td>\n",
       "      <td>18788</td>\n",
       "      <td>12516</td>\n",
       "      <td>0.931</td>\n",
       "      <td>0.600</td>\n",
       "      <td>0.781</td>\n",
       "      <td>...</td>\n",
       "      <td>2.386</td>\n",
       "      <td>5257.688</td>\n",
       "      <td>123.369</td>\n",
       "      <td>0.951</td>\n",
       "      <td>0.763</td>\n",
       "      <td>0.864</td>\n",
       "      <td>0.860</td>\n",
       "      <td>0.013</td>\n",
       "      <td>5766900</td>\n",
       "      <td>0</td>\n",
       "    </tr>\n",
       "    <tr>\n",
       "      <th>0</th>\n",
       "      <td>LR_dfsrandom_5cv_recall</td>\n",
       "      <td>LogisticRegression</td>\n",
       "      <td>None</td>\n",
       "      <td>166357</td>\n",
       "      <td>6564</td>\n",
       "      <td>17497</td>\n",
       "      <td>67069</td>\n",
       "      <td>0.714</td>\n",
       "      <td>0.207</td>\n",
       "      <td>0.727</td>\n",
       "      <td>...</td>\n",
       "      <td>9.877</td>\n",
       "      <td>1460.023</td>\n",
       "      <td>15.982</td>\n",
       "      <td>0.803</td>\n",
       "      <td>0.442</td>\n",
       "      <td>0.720</td>\n",
       "      <td>0.694</td>\n",
       "      <td>0.057</td>\n",
       "      <td>11738600</td>\n",
       "      <td>0</td>\n",
       "    </tr>\n",
       "    <tr>\n",
       "      <th>0</th>\n",
       "      <td>MLP_dfsrandom_5cv_recall</td>\n",
       "      <td>MLPClassifier</td>\n",
       "      <td>None</td>\n",
       "      <td>233426</td>\n",
       "      <td>24061</td>\n",
       "      <td>0</td>\n",
       "      <td>0</td>\n",
       "      <td>0.907</td>\n",
       "      <td>0.000</td>\n",
       "      <td>0.000</td>\n",
       "      <td>...</td>\n",
       "      <td>3.227</td>\n",
       "      <td>12284.885</td>\n",
       "      <td>493.092</td>\n",
       "      <td>0.703</td>\n",
       "      <td>0.268</td>\n",
       "      <td>0.500</td>\n",
       "      <td>0.001</td>\n",
       "      <td>0.002</td>\n",
       "      <td>12030500</td>\n",
       "      <td>0</td>\n",
       "    </tr>\n",
       "  </tbody>\n",
       "</table>\n",
       "<p>5 rows × 22 columns</p>\n",
       "</div>"
      ],
      "text/plain": [
       "                      label              classifier sampling_method      tn  \\\n",
       "0   NB_dfsrandom_5cv_recall              GaussianNB            None  231265   \n",
       "0   DT_dfsrandom_5cv_recall  DecisionTreeClassifier            None  217043   \n",
       "0   RF_dfsrandom_5cv_recall  RandomForestClassifier            None  220910   \n",
       "0   LR_dfsrandom_5cv_recall      LogisticRegression            None  166357   \n",
       "0  MLP_dfsrandom_5cv_recall           MLPClassifier            None  233426   \n",
       "\n",
       "      fn     tp     fp  accuracy  precision  recall  ...  log_loss  \\\n",
       "0  21233   2828   2161     0.909      0.567   0.118  ...     3.138   \n",
       "0   4754  19307  16383     0.918      0.541   0.802  ...     2.835   \n",
       "0   5273  18788  12516     0.931      0.600   0.781  ...     2.386   \n",
       "0   6564  17497  67069     0.714      0.207   0.727  ...     9.877   \n",
       "0  24061      0      0     0.907      0.000   0.000  ...     3.227   \n",
       "\n",
       "   train_time  cv_time  aucroc  auprc  balanced_accuracy  cv_score_mean  \\\n",
       "0      14.934    7.550   0.784  0.334              0.554          0.116   \n",
       "0    8235.681   90.171   0.938  0.759              0.866          0.844   \n",
       "0    5257.688  123.369   0.951  0.763              0.864          0.860   \n",
       "0    1460.023   15.982   0.803  0.442              0.720          0.694   \n",
       "0   12284.885  493.092   0.703  0.268              0.500          0.001   \n",
       "\n",
       "   cv_score_std  model_churn_cost  sample  \n",
       "0         0.008          11115400       0  \n",
       "0         0.013           5946000       0  \n",
       "0         0.013           5766900       0  \n",
       "0         0.057          11738600       0  \n",
       "0         0.002          12030500       0  \n",
       "\n",
       "[5 rows x 22 columns]"
      ]
     },
     "execution_count": 8,
     "metadata": {},
     "output_type": "execute_result"
    }
   ],
   "source": [
    "exp_metrics.head()"
   ]
  },
  {
   "cell_type": "code",
   "execution_count": 9,
   "metadata": {},
   "outputs": [],
   "source": [
    "# Convert train_time\n",
    "exp_metrics['train_time'] = (exp_metrics['train_time']/60)\n",
    "exp_metrics['cv_time'] = (exp_metrics['cv_time']/60)\n",
    "\n",
    "# Convert model_churn_cost to EUR from TWD\n",
    "exp_metrics['model_churn_cost'] = np.round(exp_metrics['model_churn_cost'] * 0.029).astype(int)"
   ]
  },
  {
   "cell_type": "code",
   "execution_count": 10,
   "metadata": {},
   "outputs": [],
   "source": [
    "measure_by = ['balanced_accuracy', 'recall', 'model_churn_cost']\n",
    "measure_by_sort = [False, False, True]\n",
    "\n",
    "# measure_by = ['balanced_accuracy']\n",
    "# measure_by_sort = [False]\n",
    "\n",
    "# measure_by = ['model_churn_cost']\n",
    "# measure_by_sort = [True]\n",
    "\n",
    "# measure_by = ['f1_score']\n",
    "# measure_by_sort = [False]"
   ]
  },
  {
   "cell_type": "markdown",
   "metadata": {},
   "source": [
    "### The best/worst 5 performing models as measured by .... "
   ]
  },
  {
   "cell_type": "code",
   "execution_count": 16,
   "metadata": {
    "scrolled": false
   },
   "outputs": [
    {
     "name": "stdout",
     "output_type": "stream",
     "text": [
      "Getting best results for ['balanced_accuracy', 'recall', 'model_churn_cost'] / ordered ascending? [False, False, True]\n",
      "Getting worst results for ['balanced_accuracy', 'recall', 'model_churn_cost'] / ordered ascending? [True, True, False]\n"
     ]
    },
    {
     "data": {
      "text/html": [
       "<div>\n",
       "<style scoped>\n",
       "    .dataframe tbody tr th:only-of-type {\n",
       "        vertical-align: middle;\n",
       "    }\n",
       "\n",
       "    .dataframe tbody tr th {\n",
       "        vertical-align: top;\n",
       "    }\n",
       "\n",
       "    .dataframe thead th {\n",
       "        text-align: right;\n",
       "    }\n",
       "</style>\n",
       "<table border=\"1\" class=\"dataframe\">\n",
       "  <thead>\n",
       "    <tr style=\"text-align: right;\">\n",
       "      <th></th>\n",
       "      <th>classifier</th>\n",
       "      <th>sampling</th>\n",
       "      <th>bal_acc</th>\n",
       "      <th>recall</th>\n",
       "      <th>precision</th>\n",
       "      <th>train_time</th>\n",
       "      <th>auroc</th>\n",
       "      <th>auprc</th>\n",
       "      <th>churn_cost</th>\n",
       "    </tr>\n",
       "  </thead>\n",
       "  <tbody>\n",
       "    <tr>\n",
       "      <th>0</th>\n",
       "      <td>RandomForest</td>\n",
       "      <td>RUS 1:1</td>\n",
       "      <td>0.871</td>\n",
       "      <td>0.815</td>\n",
       "      <td>0.534</td>\n",
       "      <td>9.356</td>\n",
       "      <td>0.951</td>\n",
       "      <td>0.752</td>\n",
       "      <td>170955</td>\n",
       "    </tr>\n",
       "    <tr>\n",
       "      <th>0</th>\n",
       "      <td>DecisionTree</td>\n",
       "      <td>None</td>\n",
       "      <td>0.866</td>\n",
       "      <td>0.802</td>\n",
       "      <td>0.541</td>\n",
       "      <td>137.261</td>\n",
       "      <td>0.938</td>\n",
       "      <td>0.759</td>\n",
       "      <td>172434</td>\n",
       "    </tr>\n",
       "    <tr>\n",
       "      <th>0</th>\n",
       "      <td>DecisionTree</td>\n",
       "      <td>SMOTE_NC</td>\n",
       "      <td>0.866</td>\n",
       "      <td>0.802</td>\n",
       "      <td>0.541</td>\n",
       "      <td>149.266</td>\n",
       "      <td>0.938</td>\n",
       "      <td>0.759</td>\n",
       "      <td>172434</td>\n",
       "    </tr>\n",
       "    <tr>\n",
       "      <th>0</th>\n",
       "      <td>RandomForest</td>\n",
       "      <td>SMOTE_NC</td>\n",
       "      <td>0.865</td>\n",
       "      <td>0.782</td>\n",
       "      <td>0.611</td>\n",
       "      <td>100.875</td>\n",
       "      <td>0.952</td>\n",
       "      <td>0.765</td>\n",
       "      <td>165329</td>\n",
       "    </tr>\n",
       "    <tr>\n",
       "      <th>0</th>\n",
       "      <td>RandomForest</td>\n",
       "      <td>None</td>\n",
       "      <td>0.864</td>\n",
       "      <td>0.781</td>\n",
       "      <td>0.600</td>\n",
       "      <td>87.628</td>\n",
       "      <td>0.951</td>\n",
       "      <td>0.763</td>\n",
       "      <td>167240</td>\n",
       "    </tr>\n",
       "    <tr>\n",
       "      <th>0</th>\n",
       "      <td>DecisionTree</td>\n",
       "      <td>RUS 1:1</td>\n",
       "      <td>0.862</td>\n",
       "      <td>0.812</td>\n",
       "      <td>0.489</td>\n",
       "      <td>5.415</td>\n",
       "      <td>0.935</td>\n",
       "      <td>0.731</td>\n",
       "      <td>181470</td>\n",
       "    </tr>\n",
       "    <tr>\n",
       "      <th>0</th>\n",
       "      <td>RandomForest</td>\n",
       "      <td>SMOTE_NC</td>\n",
       "      <td>0.859</td>\n",
       "      <td>0.760</td>\n",
       "      <td>0.655</td>\n",
       "      <td>191.676</td>\n",
       "      <td>0.953</td>\n",
       "      <td>0.776</td>\n",
       "      <td>164746</td>\n",
       "    </tr>\n",
       "    <tr>\n",
       "      <th>0</th>\n",
       "      <td>RandomForest</td>\n",
       "      <td>ROS 2:1</td>\n",
       "      <td>0.857</td>\n",
       "      <td>0.755</td>\n",
       "      <td>0.657</td>\n",
       "      <td>134.936</td>\n",
       "      <td>0.953</td>\n",
       "      <td>0.773</td>\n",
       "      <td>165677</td>\n",
       "    </tr>\n",
       "    <tr>\n",
       "      <th>0</th>\n",
       "      <td>RandomForest</td>\n",
       "      <td>ROS 1:1</td>\n",
       "      <td>0.848</td>\n",
       "      <td>0.728</td>\n",
       "      <td>0.694</td>\n",
       "      <td>191.905</td>\n",
       "      <td>0.952</td>\n",
       "      <td>0.774</td>\n",
       "      <td>168009</td>\n",
       "    </tr>\n",
       "    <tr>\n",
       "      <th>0</th>\n",
       "      <td>RandomForest</td>\n",
       "      <td>ROS 3:1</td>\n",
       "      <td>0.842</td>\n",
       "      <td>0.717</td>\n",
       "      <td>0.696</td>\n",
       "      <td>114.542</td>\n",
       "      <td>0.952</td>\n",
       "      <td>0.771</td>\n",
       "      <td>170639</td>\n",
       "    </tr>\n",
       "    <tr>\n",
       "      <th>0</th>\n",
       "      <td>XGB</td>\n",
       "      <td>ROS 1:1</td>\n",
       "      <td>0.836</td>\n",
       "      <td>0.767</td>\n",
       "      <td>0.454</td>\n",
       "      <td>245.309</td>\n",
       "      <td>0.857</td>\n",
       "      <td>0.672</td>\n",
       "      <td>199059</td>\n",
       "    </tr>\n",
       "    <tr>\n",
       "      <th>0</th>\n",
       "      <td>XGB</td>\n",
       "      <td>SMOTE_NC</td>\n",
       "      <td>0.836</td>\n",
       "      <td>0.767</td>\n",
       "      <td>0.454</td>\n",
       "      <td>259.222</td>\n",
       "      <td>0.856</td>\n",
       "      <td>0.670</td>\n",
       "      <td>199059</td>\n",
       "    </tr>\n",
       "    <tr>\n",
       "      <th>0</th>\n",
       "      <td>XGB</td>\n",
       "      <td>SMOTE_NC</td>\n",
       "      <td>0.836</td>\n",
       "      <td>0.767</td>\n",
       "      <td>0.454</td>\n",
       "      <td>215.516</td>\n",
       "      <td>0.857</td>\n",
       "      <td>0.672</td>\n",
       "      <td>199059</td>\n",
       "    </tr>\n",
       "    <tr>\n",
       "      <th>0</th>\n",
       "      <td>XGB</td>\n",
       "      <td>RUS 1:1</td>\n",
       "      <td>0.836</td>\n",
       "      <td>0.767</td>\n",
       "      <td>0.454</td>\n",
       "      <td>15.247</td>\n",
       "      <td>0.856</td>\n",
       "      <td>0.670</td>\n",
       "      <td>199105</td>\n",
       "    </tr>\n",
       "    <tr>\n",
       "      <th>0</th>\n",
       "      <td>RandomForest</td>\n",
       "      <td>SMOTE_NC</td>\n",
       "      <td>0.831</td>\n",
       "      <td>0.691</td>\n",
       "      <td>0.720</td>\n",
       "      <td>182.974</td>\n",
       "      <td>0.951</td>\n",
       "      <td>0.772</td>\n",
       "      <td>174844</td>\n",
       "    </tr>\n",
       "    <tr>\n",
       "      <th>0</th>\n",
       "      <td>MLP</td>\n",
       "      <td>None</td>\n",
       "      <td>0.500</td>\n",
       "      <td>0.000</td>\n",
       "      <td>0.000</td>\n",
       "      <td>204.748</td>\n",
       "      <td>0.703</td>\n",
       "      <td>0.268</td>\n",
       "      <td>348884</td>\n",
       "    </tr>\n",
       "    <tr>\n",
       "      <th>0</th>\n",
       "      <td>MLP</td>\n",
       "      <td>SMOTE_NC</td>\n",
       "      <td>0.500</td>\n",
       "      <td>0.000</td>\n",
       "      <td>0.000</td>\n",
       "      <td>167.640</td>\n",
       "      <td>0.703</td>\n",
       "      <td>0.268</td>\n",
       "      <td>348884</td>\n",
       "    </tr>\n",
       "    <tr>\n",
       "      <th>0</th>\n",
       "      <td>MLP</td>\n",
       "      <td>ROS 1:1</td>\n",
       "      <td>0.500</td>\n",
       "      <td>1.000</td>\n",
       "      <td>0.093</td>\n",
       "      <td>641.952</td>\n",
       "      <td>0.500</td>\n",
       "      <td>0.547</td>\n",
       "      <td>746712</td>\n",
       "    </tr>\n",
       "    <tr>\n",
       "      <th>0</th>\n",
       "      <td>MLP</td>\n",
       "      <td>SMOTE_NC</td>\n",
       "      <td>0.500</td>\n",
       "      <td>1.000</td>\n",
       "      <td>0.093</td>\n",
       "      <td>767.794</td>\n",
       "      <td>0.500</td>\n",
       "      <td>0.547</td>\n",
       "      <td>746712</td>\n",
       "    </tr>\n",
       "    <tr>\n",
       "      <th>0</th>\n",
       "      <td>MLP</td>\n",
       "      <td>SMOTE_NC</td>\n",
       "      <td>0.500</td>\n",
       "      <td>1.000</td>\n",
       "      <td>0.093</td>\n",
       "      <td>639.037</td>\n",
       "      <td>0.500</td>\n",
       "      <td>0.547</td>\n",
       "      <td>746712</td>\n",
       "    </tr>\n",
       "  </tbody>\n",
       "</table>\n",
       "</div>"
      ],
      "text/plain": [
       "     classifier  sampling  bal_acc  recall  precision  train_time  auroc  \\\n",
       "0  RandomForest   RUS 1:1    0.871   0.815      0.534       9.356  0.951   \n",
       "0  DecisionTree      None    0.866   0.802      0.541     137.261  0.938   \n",
       "0  DecisionTree  SMOTE_NC    0.866   0.802      0.541     149.266  0.938   \n",
       "0  RandomForest  SMOTE_NC    0.865   0.782      0.611     100.875  0.952   \n",
       "0  RandomForest      None    0.864   0.781      0.600      87.628  0.951   \n",
       "0  DecisionTree   RUS 1:1    0.862   0.812      0.489       5.415  0.935   \n",
       "0  RandomForest  SMOTE_NC    0.859   0.760      0.655     191.676  0.953   \n",
       "0  RandomForest   ROS 2:1    0.857   0.755      0.657     134.936  0.953   \n",
       "0  RandomForest   ROS 1:1    0.848   0.728      0.694     191.905  0.952   \n",
       "0  RandomForest   ROS 3:1    0.842   0.717      0.696     114.542  0.952   \n",
       "0           XGB   ROS 1:1    0.836   0.767      0.454     245.309  0.857   \n",
       "0           XGB  SMOTE_NC    0.836   0.767      0.454     259.222  0.856   \n",
       "0           XGB  SMOTE_NC    0.836   0.767      0.454     215.516  0.857   \n",
       "0           XGB   RUS 1:1    0.836   0.767      0.454      15.247  0.856   \n",
       "0  RandomForest  SMOTE_NC    0.831   0.691      0.720     182.974  0.951   \n",
       "0           MLP      None    0.500   0.000      0.000     204.748  0.703   \n",
       "0           MLP  SMOTE_NC    0.500   0.000      0.000     167.640  0.703   \n",
       "0           MLP   ROS 1:1    0.500   1.000      0.093     641.952  0.500   \n",
       "0           MLP  SMOTE_NC    0.500   1.000      0.093     767.794  0.500   \n",
       "0           MLP  SMOTE_NC    0.500   1.000      0.093     639.037  0.500   \n",
       "\n",
       "   auprc  churn_cost  \n",
       "0  0.752      170955  \n",
       "0  0.759      172434  \n",
       "0  0.759      172434  \n",
       "0  0.765      165329  \n",
       "0  0.763      167240  \n",
       "0  0.731      181470  \n",
       "0  0.776      164746  \n",
       "0  0.773      165677  \n",
       "0  0.774      168009  \n",
       "0  0.771      170639  \n",
       "0  0.672      199059  \n",
       "0  0.670      199059  \n",
       "0  0.672      199059  \n",
       "0  0.670      199105  \n",
       "0  0.772      174844  \n",
       "0  0.268      348884  \n",
       "0  0.268      348884  \n",
       "0  0.547      746712  \n",
       "0  0.547      746712  \n",
       "0  0.547      746712  "
      ]
     },
     "execution_count": 16,
     "metadata": {},
     "output_type": "execute_result"
    }
   ],
   "source": [
    "print(\"Getting best results for {} / ordered ascending? {}\".format(measure_by, measure_by_sort))\n",
    "\n",
    "top_results = exp_metrics.sort_values(measure_by, ascending=measure_by_sort)\n",
    "top_results = top_results[measurements].head(15)\n",
    "top_results['classifier'] = top_results['classifier'].apply(lambda v: str(v).replace('Classifier', ''))\n",
    "\n",
    "### The lowest 5 performing models by approach as measured by .... \n",
    "print(\"Getting worst results for {} / ordered ascending? {}\".format(measure_by, [not f for f in measure_by_sort]))\n",
    "worst_results = exp_metrics\\\n",
    "                .sort_values(measure_by, ascending=[not f for f in measure_by_sort])\n",
    "worst_results = worst_results[measurements].head(5)\n",
    "worst_results['classifier'] = worst_results['classifier'].apply(lambda v: str(v).replace('Classifier', ''))\n",
    "\n",
    "temp = pd.concat([top_results, worst_results])\n",
    "temp.columns = measurements_alias\n",
    "temp\n",
    "\n",
    "#print(temp.to_latex(index=False))"
   ]
  },
  {
   "cell_type": "code",
   "execution_count": null,
   "metadata": {},
   "outputs": [],
   "source": [
    "# exp_metrics[['label','classifier','sampling_method','accuracy','precision','recall','tp','tn','fp','fn']]"
   ]
  },
  {
   "cell_type": "markdown",
   "metadata": {},
   "source": [
    "### Summary performance statistics of classifiers over all sampling techniques"
   ]
  },
  {
   "cell_type": "code",
   "execution_count": null,
   "metadata": {},
   "outputs": [],
   "source": [
    "## Excludes LR and MLP as those produce bad classifiers\n",
    "\n",
    "stats_summary = {'best':max,\n",
    "                 'median':'median', \n",
    "                 'iqr':lambda x: np.percentile(x, 75, interpolation='higher') - np.percentile(x, 25, interpolation='lower'),\n",
    "                 #'range':lambda x: max(x) - min(x)\n",
    "                }\n",
    "#[~exp_metrics.recall.isin([0.0, 1.0])]\n",
    "summary = \\\n",
    "    exp_metrics\\\n",
    "            .groupby(['classifier'])\\\n",
    "            .agg({\n",
    "                 'balanced_accuracy':stats_summary,\n",
    "                 'recall':stats_summary,\n",
    "                 'precision':stats_summary,\n",
    "                 'model_churn_cost':{'best':min},\n",
    "                 #'aucroc':stats_summary,\n",
    "                 #'auprc':stats_summary,\n",
    "                 'train_time':'median',\n",
    "                 })\\\n",
    "            .reset_index()\\\n",
    "            .sort_values(('balanced_accuracy', 'best'), ascending=False)\n",
    "summary\n",
    "#print(summary.to_latex(index=False))"
   ]
  },
  {
   "cell_type": "markdown",
   "metadata": {},
   "source": [
    "### The best performing sampling methods by classifier as measured by .... "
   ]
  },
  {
   "cell_type": "code",
   "execution_count": null,
   "metadata": {},
   "outputs": [],
   "source": [
    "print(\"Getting results for {} / ordered ascending? {}\".format(measure_by, measure_by_sort))\n",
    "\n",
    "top_results = exp_metrics.sort_values(measure_by, ascending=measure_by_sort).groupby('classifier').head(1)\n",
    "top_results = top_results[measurements]\n",
    "top_results['classifier'] = top_results['classifier'].apply(lambda v: str(v).replace('Classifier', ''))\n",
    "top_results"
   ]
  },
  {
   "cell_type": "markdown",
   "metadata": {},
   "source": [
    "### The best performing models by sampling method as measured by .... "
   ]
  },
  {
   "cell_type": "code",
   "execution_count": null,
   "metadata": {},
   "outputs": [],
   "source": [
    "print(\"Getting results for {} / ordered ascending? {}\".format(measure_by, measure_by_sort))\n",
    "top_results = exp_metrics[(exp_metrics.recall > 0) & (exp_metrics.recall < 1)]\\\n",
    "                    .sort_values(measure_by, ascending=measure_by_sort).groupby('sampling_method').head(1)\n",
    "top_results = top_results[measurements]\n",
    "top_results.sort_values('balanced_accuracy', ascending=False)"
   ]
  },
  {
   "cell_type": "markdown",
   "metadata": {},
   "source": [
    "### Classifier train time distribution by sampling method"
   ]
  },
  {
   "cell_type": "code",
   "execution_count": null,
   "metadata": {},
   "outputs": [],
   "source": [
    "fig, ax = plt.subplots(figsize=(10,8))\n",
    "plt.ylabel('Seconds')\n",
    "exp_metrics.boxplot(column='train_time', by='sampling_method', ax=ax)\n",
    "plt.title('Classifier Training Time Distribution\\n', size=17)\n",
    "plt.suptitle(' ')\n",
    "plt.xlabel('Sampling Method')"
   ]
  },
  {
   "cell_type": "markdown",
   "metadata": {},
   "source": [
    "### For this approach plot the best models by classifier"
   ]
  },
  {
   "cell_type": "code",
   "execution_count": 12,
   "metadata": {
    "scrolled": false
   },
   "outputs": [
    {
     "name": "stdout",
     "output_type": "stream",
     "text": [
      "Getting best results by classifier based on ['balanced_accuracy', 'recall', 'model_churn_cost'] / ordered ascending? [False, False, True]\n"
     ]
    },
    {
     "data": {
      "image/png": "[encoded data removed]",
      "text/plain": [
       "<Figure size 1152x576 with 2 Axes>"
      ]
     },
     "metadata": {},
     "output_type": "display_data"
    }
   ],
   "source": [
    "print(\"Getting best results by classifier based on {} / ordered ascending? {}\".format(measure_by, measure_by_sort))\n",
    "plot_results = exp_metrics.sort_values(measure_by, ascending=measure_by_sort).groupby('classifier').head(1)\n",
    "plot_data = filter_top_model_results(plot_results, exp_results)\n",
    "plot_roc_prc(plot_data, ' ')"
   ]
  },
  {
   "cell_type": "code",
   "execution_count": null,
   "metadata": {},
   "outputs": [],
   "source": []
  },
  {
   "cell_type": "markdown",
   "metadata": {},
   "source": [
    "### Choosing the best model and appending to overall .... "
   ]
  },
  {
   "cell_type": "code",
   "execution_count": null,
   "metadata": {},
   "outputs": [],
   "source": [
    "exp1_1 = load_results('/home/dissertation/code/RESULTS_FINAL/Basic_DefaultHyper_2019-08-12.pickle')\n",
    "exp_metrics, exp_results = rebuild_results(exp1_1)\n",
    "manualgrid = load_results('Manual_GridSearch_2019-08-05.pickle')\n",
    "\n",
    "manualrdm = load_results('Manual_RdmSearch_2019-08-05.pickle')"
   ]
  },
  {
   "cell_type": "code",
   "execution_count": null,
   "metadata": {},
   "outputs": [],
   "source": [
    "top_models = pd.DataFrame()"
   ]
  },
  {
   "cell_type": "code",
   "execution_count": null,
   "metadata": {},
   "outputs": [],
   "source": [
    "top_models = top_models.append(exp_metrics.sort_values(measure_by, ascending=measure_by_sort).head(1))"
   ]
  },
  {
   "cell_type": "code",
   "execution_count": null,
   "metadata": {},
   "outputs": [],
   "source": [
    "#filter_top_model_results(exp_metrics.sort_values(measure_by, ascending=measure_by_sort).head(1), exp_results)"
   ]
  },
  {
   "cell_type": "code",
   "execution_count": null,
   "metadata": {},
   "outputs": [],
   "source": []
  },
  {
   "cell_type": "code",
   "execution_count": null,
   "metadata": {},
   "outputs": [],
   "source": []
  },
  {
   "cell_type": "code",
   "execution_count": null,
   "metadata": {},
   "outputs": [],
   "source": [
    "from scipy import stats\n",
    "import scikit_posthocs as sp\n",
    "\n",
    "xgb = plot_data[0][-2]\n",
    "rf = plot_data[1][-2]\n",
    "dt = plot_data[2][-2]\n",
    "gnb = plot_data[3][-2]\n",
    "lr = plot_data[4][-2]\n",
    "mlp = plot_data[5][-2]\n",
    "\n",
    "data = [xgb, rf, dt, gnb, lr, mlp]\n",
    "\n",
    "stats.kruskal(*data)"
   ]
  },
  {
   "cell_type": "code",
   "execution_count": null,
   "metadata": {},
   "outputs": [],
   "source": [
    "sp.posthoc_conover(data)"
   ]
  },
  {
   "cell_type": "code",
   "execution_count": null,
   "metadata": {},
   "outputs": [],
   "source": []
  },
  {
   "cell_type": "code",
   "execution_count": null,
   "metadata": {
    "scrolled": true
   },
   "outputs": [],
   "source": [
    "#all_metrics[all_metrics.recall < 1.0].sort_values(['recall'], ascending=[False])"
   ]
  },
  {
   "cell_type": "code",
   "execution_count": null,
   "metadata": {},
   "outputs": [],
   "source": [
    "#all_metrics.sort_values(['recall','precision'], ascending=[False, False])"
   ]
  },
  {
   "cell_type": "code",
   "execution_count": null,
   "metadata": {},
   "outputs": [],
   "source": [
    "print(top_results.to_latex(index=False)) # doctest: +NORMALIZE_WHITESPACE"
   ]
  },
  {
   "cell_type": "code",
   "execution_count": null,
   "metadata": {},
   "outputs": [],
   "source": []
  },
  {
   "cell_type": "code",
   "execution_count": null,
   "metadata": {},
   "outputs": [],
   "source": []
  },
  {
   "cell_type": "code",
   "execution_count": null,
   "metadata": {},
   "outputs": [],
   "source": [
    "import scipy.stats as ss\n",
    "import statsmodels.api as sa\n",
    "import scikit_posthocs as sp\n",
    "import statsmodels.formula.api as sfa\n",
    "\n",
    "df = sa.datasets.get_rdataset('iris').data\n",
    "data = [df.loc[ids, 'Sepal.Width'].values for ids in df.groupby('Species').groups.values()]"
   ]
  },
  {
   "cell_type": "code",
   "execution_count": null,
   "metadata": {},
   "outputs": [],
   "source": [
    "H, p = ss.kruskal(*data)\n",
    "print(H, p)"
   ]
  },
  {
   "cell_type": "code",
   "execution_count": null,
   "metadata": {},
   "outputs": [],
   "source": [
    "sp.posthoc_conover(df, val_col='Sepal.Width', group_col='Species', p_adjust = 'holm')"
   ]
  },
  {
   "cell_type": "code",
   "execution_count": null,
   "metadata": {},
   "outputs": [],
   "source": [
    "df.columns = ['Sepal_Length', 'Sepal_Width', 'Petal_Length', 'Petal_Width', 'Species']"
   ]
  },
  {
   "cell_type": "code",
   "execution_count": null,
   "metadata": {},
   "outputs": [],
   "source": [
    "lm = sfa.ols('Sepal_Width ~ C(Species)', data=df).fit()\n",
    "anova = sa.stats.anova_lm(lm)\n",
    "print(anova)"
   ]
  },
  {
   "cell_type": "code",
   "execution_count": null,
   "metadata": {},
   "outputs": [],
   "source": [
    "sp.posthoc_ttest(df, val_col='Sepal_Width', group_col='Species', p_adjust='holm')"
   ]
  }
 ],
 "metadata": {
  "kernelspec": {
   "display_name": "Python 3",
   "language": "python",
   "name": "python3"
  },
  "language_info": {
   "codemirror_mode": {
    "name": "ipython",
    "version": 3
   },
   "file_extension": ".py",
   "mimetype": "text/x-python",
   "name": "python",
   "nbconvert_exporter": "python",
   "pygments_lexer": "ipython3",
   "version": "3.7.3"
  }
 },
 "nbformat": 4,
 "nbformat_minor": 2
}
