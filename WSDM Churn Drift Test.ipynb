{
 "cells": [
  {
   "cell_type": "code",
   "execution_count": 1,
   "metadata": {},
   "outputs": [],
   "source": [
    "## @see https://www.kaggle.com/toorkp/churn-wsdm/data"
   ]
  },
  {
   "cell_type": "code",
   "execution_count": 1,
   "metadata": {},
   "outputs": [],
   "source": [
    "import numpy as np\n",
    "import pandas as pd\n",
    "import lightgbm as lgb\n",
    "import time\n",
    "import gc; gc.enable()\n",
    "import time\n",
    "\n",
    "from sklearn import model_selection\n",
    "from sklearn.metrics import accuracy_score, log_loss\n",
    "from sklearn.neighbors import KNeighborsClassifier\n",
    "from sklearn.tree import DecisionTreeClassifier\n",
    "from sklearn.ensemble import RandomForestClassifier\n",
    "from sklearn.linear_model import LogisticRegression\n",
    "from sklearn.naive_bayes import GaussianNB\n",
    "from sklearn.model_selection import train_test_split\n",
    "from sklearn.metrics import roc_curve, auc\n",
    "from sklearn.metrics import confusion_matrix\n",
    "from sklearn.metrics import f1_score\n",
    "from sklearn.metrics import log_loss\n",
    "\n",
    "pd.options.display.float_format = \"{:.2f}\".format\n",
    "np.set_printoptions(precision=4)\n",
    "\n",
    "import matplotlib.pyplot as plt\n",
    "get_ipython().magic('matplotlib inline')\n",
    "\n",
    "def OHE(df, col = ['city','registered_via']):\n",
    "   \n",
    "    print('Categorical columns in dataset',col)\n",
    "    \n",
    "    c2,c3 = [],{}\n",
    "    for c in col:\n",
    "        if df[c].nunique()>2 :\n",
    "            c2.append(c)\n",
    "            c3[c] = 'ohe_'+c\n",
    "    \n",
    "    df = pd.get_dummies(df,columns=c2,drop_first=True,prefix=c3)\n",
    "    print(df.shape)\n",
    "    return df"
   ]
  },
  {
   "cell_type": "code",
   "execution_count": 2,
   "metadata": {
    "scrolled": true
   },
   "outputs": [
    {
     "name": "stdout",
     "output_type": "stream",
     "text": [
      "Categorical columns in dataset ['city', 'registered_via']\n",
      "(992931, 35)\n",
      "(992931, 33)\n"
     ]
    },
    {
     "data": {
      "text/html": [
       "<div>\n",
       "<style scoped>\n",
       "    .dataframe tbody tr th:only-of-type {\n",
       "        vertical-align: middle;\n",
       "    }\n",
       "\n",
       "    .dataframe tbody tr th {\n",
       "        vertical-align: top;\n",
       "    }\n",
       "\n",
       "    .dataframe thead th {\n",
       "        text-align: right;\n",
       "    }\n",
       "</style>\n",
       "<table border=\"1\" class=\"dataframe\">\n",
       "  <thead>\n",
       "    <tr style=\"text-align: right;\">\n",
       "      <th></th>\n",
       "      <th>is_churn</th>\n",
       "      <th>bd</th>\n",
       "      <th>registration_init_time</th>\n",
       "      <th>is_cancel_sum</th>\n",
       "      <th>plan_list_price</th>\n",
       "      <th>msno_count</th>\n",
       "      <th>actual_amount_paid_sum</th>\n",
       "      <th>actual_amount_paid_mean</th>\n",
       "      <th>registration_init_time_dt</th>\n",
       "      <th>ohe_city_3.0</th>\n",
       "      <th>...</th>\n",
       "      <th>ohe_city_17.0</th>\n",
       "      <th>ohe_city_18.0</th>\n",
       "      <th>ohe_city_19.0</th>\n",
       "      <th>ohe_city_20.0</th>\n",
       "      <th>ohe_city_21.0</th>\n",
       "      <th>ohe_city_22.0</th>\n",
       "      <th>ohe_registered_via_4.0</th>\n",
       "      <th>ohe_registered_via_7.0</th>\n",
       "      <th>ohe_registered_via_9.0</th>\n",
       "      <th>ohe_registered_via_13.0</th>\n",
       "    </tr>\n",
       "  </thead>\n",
       "  <tbody>\n",
       "    <tr>\n",
       "      <th>0</th>\n",
       "      <td>True</td>\n",
       "      <td>36.00</td>\n",
       "      <td>20050406.00</td>\n",
       "      <td>0.00</td>\n",
       "      <td>149.00</td>\n",
       "      <td>2</td>\n",
       "      <td>149.00</td>\n",
       "      <td>74.50</td>\n",
       "      <td>2005-04-06</td>\n",
       "      <td>0</td>\n",
       "      <td>...</td>\n",
       "      <td>0</td>\n",
       "      <td>1</td>\n",
       "      <td>0</td>\n",
       "      <td>0</td>\n",
       "      <td>0</td>\n",
       "      <td>0</td>\n",
       "      <td>0</td>\n",
       "      <td>0</td>\n",
       "      <td>1</td>\n",
       "      <td>0</td>\n",
       "    </tr>\n",
       "    <tr>\n",
       "      <th>1</th>\n",
       "      <td>True</td>\n",
       "      <td>38.00</td>\n",
       "      <td>20050407.00</td>\n",
       "      <td>2.00</td>\n",
       "      <td>3309.00</td>\n",
       "      <td>23</td>\n",
       "      <td>3458.00</td>\n",
       "      <td>150.35</td>\n",
       "      <td>2005-04-07</td>\n",
       "      <td>0</td>\n",
       "      <td>...</td>\n",
       "      <td>0</td>\n",
       "      <td>0</td>\n",
       "      <td>0</td>\n",
       "      <td>0</td>\n",
       "      <td>0</td>\n",
       "      <td>0</td>\n",
       "      <td>0</td>\n",
       "      <td>0</td>\n",
       "      <td>1</td>\n",
       "      <td>0</td>\n",
       "    </tr>\n",
       "    <tr>\n",
       "      <th>2</th>\n",
       "      <td>True</td>\n",
       "      <td>27.00</td>\n",
       "      <td>20051016.00</td>\n",
       "      <td>1.00</td>\n",
       "      <td>1492.00</td>\n",
       "      <td>10</td>\n",
       "      <td>1492.00</td>\n",
       "      <td>149.20</td>\n",
       "      <td>2005-10-16</td>\n",
       "      <td>0</td>\n",
       "      <td>...</td>\n",
       "      <td>0</td>\n",
       "      <td>0</td>\n",
       "      <td>0</td>\n",
       "      <td>0</td>\n",
       "      <td>0</td>\n",
       "      <td>0</td>\n",
       "      <td>0</td>\n",
       "      <td>0</td>\n",
       "      <td>1</td>\n",
       "      <td>0</td>\n",
       "    </tr>\n",
       "    <tr>\n",
       "      <th>3</th>\n",
       "      <td>True</td>\n",
       "      <td>23.00</td>\n",
       "      <td>20051102.00</td>\n",
       "      <td>0.00</td>\n",
       "      <td>252.00</td>\n",
       "      <td>2</td>\n",
       "      <td>252.00</td>\n",
       "      <td>126.00</td>\n",
       "      <td>2005-11-02</td>\n",
       "      <td>0</td>\n",
       "      <td>...</td>\n",
       "      <td>0</td>\n",
       "      <td>0</td>\n",
       "      <td>0</td>\n",
       "      <td>0</td>\n",
       "      <td>0</td>\n",
       "      <td>0</td>\n",
       "      <td>0</td>\n",
       "      <td>0</td>\n",
       "      <td>1</td>\n",
       "      <td>0</td>\n",
       "    </tr>\n",
       "    <tr>\n",
       "      <th>4</th>\n",
       "      <td>True</td>\n",
       "      <td>27.00</td>\n",
       "      <td>20051228.00</td>\n",
       "      <td>0.00</td>\n",
       "      <td>1272.00</td>\n",
       "      <td>8</td>\n",
       "      <td>1272.00</td>\n",
       "      <td>159.00</td>\n",
       "      <td>2005-12-28</td>\n",
       "      <td>1</td>\n",
       "      <td>...</td>\n",
       "      <td>0</td>\n",
       "      <td>0</td>\n",
       "      <td>0</td>\n",
       "      <td>0</td>\n",
       "      <td>0</td>\n",
       "      <td>0</td>\n",
       "      <td>0</td>\n",
       "      <td>0</td>\n",
       "      <td>1</td>\n",
       "      <td>0</td>\n",
       "    </tr>\n",
       "  </tbody>\n",
       "</table>\n",
       "<p>5 rows × 33 columns</p>\n",
       "</div>"
      ],
      "text/plain": [
       "   is_churn    bd  registration_init_time  is_cancel_sum  plan_list_price  \\\n",
       "0      True 36.00             20050406.00           0.00           149.00   \n",
       "1      True 38.00             20050407.00           2.00          3309.00   \n",
       "2      True 27.00             20051016.00           1.00          1492.00   \n",
       "3      True 23.00             20051102.00           0.00           252.00   \n",
       "4      True 27.00             20051228.00           0.00          1272.00   \n",
       "\n",
       "   msno_count  actual_amount_paid_sum  actual_amount_paid_mean  \\\n",
       "0           2                  149.00                    74.50   \n",
       "1          23                 3458.00                   150.35   \n",
       "2          10                 1492.00                   149.20   \n",
       "3           2                  252.00                   126.00   \n",
       "4           8                 1272.00                   159.00   \n",
       "\n",
       "  registration_init_time_dt  ohe_city_3.0           ...             \\\n",
       "0                2005-04-06             0           ...              \n",
       "1                2005-04-07             0           ...              \n",
       "2                2005-10-16             0           ...              \n",
       "3                2005-11-02             0           ...              \n",
       "4                2005-12-28             1           ...              \n",
       "\n",
       "   ohe_city_17.0  ohe_city_18.0  ohe_city_19.0  ohe_city_20.0  ohe_city_21.0  \\\n",
       "0              0              1              0              0              0   \n",
       "1              0              0              0              0              0   \n",
       "2              0              0              0              0              0   \n",
       "3              0              0              0              0              0   \n",
       "4              0              0              0              0              0   \n",
       "\n",
       "   ohe_city_22.0  ohe_registered_via_4.0  ohe_registered_via_7.0  \\\n",
       "0              0                       0                       0   \n",
       "1              0                       0                       0   \n",
       "2              0                       0                       0   \n",
       "3              0                       0                       0   \n",
       "4              0                       0                       0   \n",
       "\n",
       "   ohe_registered_via_9.0  ohe_registered_via_13.0  \n",
       "0                       1                        0  \n",
       "1                       1                        0  \n",
       "2                       1                        0  \n",
       "3                       1                        0  \n",
       "4                       1                        0  \n",
       "\n",
       "[5 rows x 33 columns]"
      ]
     },
     "execution_count": 2,
     "metadata": {},
     "output_type": "execute_result"
    }
   ],
   "source": [
    "# train_input = load_train_dataset()\n",
    "# train_input.to_hdf('C:/Work/kaggle/wsdm-churn/train_input.h5', key='train_input', mode='w', format='table')\n",
    "train_input = pd.read_hdf('C:/Work/kaggle/wsdm-churn/train_input.h5', 'train_input')\n",
    "#train_input['registration_init_time_dt'] = train_input.registration_init_time.astype(int)\n",
    "train_input['registration_init_time_dt'] = pd.to_datetime(train_input['registration_init_time'], \n",
    "                                                          format='%Y%m%d', errors='ignore')\n",
    "\n",
    "train_input = OHE(train_input)\n",
    "train_input = train_input.drop(labels =['gender','msno'], axis=1)\n",
    "train_input.head()\n",
    "\n",
    "print(train_input.shape)\n",
    "\n",
    "train_input.head()"
   ]
  },
  {
   "cell_type": "code",
   "execution_count": 3,
   "metadata": {
    "scrolled": false
   },
   "outputs": [
    {
     "data": {
      "text/plain": [
       "(877161, 33)"
      ]
     },
     "execution_count": 3,
     "metadata": {},
     "output_type": "execute_result"
    }
   ],
   "source": [
    "base_dataset = train_input.dropna()\n",
    "base_dataset.shape"
   ]
  },
  {
   "cell_type": "code",
   "execution_count": 4,
   "metadata": {},
   "outputs": [
    {
     "data": {
      "text/plain": [
       "Timestamp('2004-03-26 00:00:00')"
      ]
     },
     "execution_count": 4,
     "metadata": {},
     "output_type": "execute_result"
    }
   ],
   "source": [
    "train_input.registration_init_time_dt.min()"
   ]
  },
  {
   "cell_type": "code",
   "execution_count": 5,
   "metadata": {},
   "outputs": [
    {
     "data": {
      "text/plain": [
       "Timestamp('2017-03-30 00:00:00')"
      ]
     },
     "execution_count": 5,
     "metadata": {},
     "output_type": "execute_result"
    }
   ],
   "source": [
    "train_input.registration_init_time_dt.max()"
   ]
  },
  {
   "cell_type": "markdown",
   "metadata": {},
   "source": [
    "### Experiment 1. Basic Baseline\n",
    "#### Build a model on the entire dataset "
   ]
  },
  {
   "cell_type": "code",
   "execution_count": 10,
   "metadata": {},
   "outputs": [],
   "source": [
    "classifiers = [\n",
    "   ('KNN', KNeighborsClassifier(3)),\n",
    "   ('NB', GaussianNB()),\n",
    "   ('DT', DecisionTreeClassifier()),\n",
    "   ('RF', RandomForestClassifier()),\n",
    "   ('LR', LogisticRegression())]"
   ]
  },
  {
   "cell_type": "code",
   "execution_count": 11,
   "metadata": {},
   "outputs": [
    {
     "name": "stdout",
     "output_type": "stream",
     "text": [
      "Building RF classifier\n"
     ]
    },
    {
     "data": {
      "text/html": [
       "<div>\n",
       "<style scoped>\n",
       "    .dataframe tbody tr th:only-of-type {\n",
       "        vertical-align: middle;\n",
       "    }\n",
       "\n",
       "    .dataframe tbody tr th {\n",
       "        vertical-align: top;\n",
       "    }\n",
       "\n",
       "    .dataframe thead th {\n",
       "        text-align: right;\n",
       "    }\n",
       "</style>\n",
       "<table border=\"1\" class=\"dataframe\">\n",
       "  <thead>\n",
       "    <tr style=\"text-align: right;\">\n",
       "      <th></th>\n",
       "      <th>classifier</th>\n",
       "      <th>accuracy</th>\n",
       "      <th>f1_score</th>\n",
       "      <th>log_loss</th>\n",
       "      <th>dataset_fraction</th>\n",
       "      <th>time_taken</th>\n",
       "    </tr>\n",
       "  </thead>\n",
       "  <tbody>\n",
       "    <tr>\n",
       "      <th>0</th>\n",
       "      <td>RandomForestClassifier</td>\n",
       "      <td>0.94</td>\n",
       "      <td>0.42</td>\n",
       "      <td>2.13</td>\n",
       "      <td>100</td>\n",
       "      <td>17.59</td>\n",
       "    </tr>\n",
       "  </tbody>\n",
       "</table>\n",
       "</div>"
      ],
      "text/plain": [
       "               classifier  accuracy  f1_score  log_loss dataset_fraction  \\\n",
       "0  RandomForestClassifier      0.94      0.42      2.13              100   \n",
       "\n",
       "   time_taken  \n",
       "0       17.59  "
      ]
     },
     "execution_count": 11,
     "metadata": {},
     "output_type": "execute_result"
    }
   ],
   "source": [
    "model_dataset = base_dataset.drop(columns=['registration_init_time', 'registration_init_time_dt'], axis=1)\n",
    "model_train_results = train_model(model_dataset, )\n",
    "\n",
    "(model_name, model, stats) = model_train_results[0]\n",
    "stats"
   ]
  },
  {
   "cell_type": "code",
   "execution_count": 12,
   "metadata": {},
   "outputs": [
    {
     "name": "stdout",
     "output_type": "stream",
     "text": [
      "Feature ranking:\n",
      "bd. feature 0 (0.190641)\n",
      "is_cancel_sum. feature 2 (0.177202)\n",
      "plan_list_price. feature 4 (0.159350)\n",
      "msno_count. feature 5 (0.137224)\n",
      "actual_amount_paid_sum. feature 3 (0.118190)\n",
      "actual_amount_paid_mean. feature 1 (0.071037)\n",
      "ohe_city_3.0. feature 27 (0.023343)\n",
      "ohe_city_4.0. feature 28 (0.015760)\n",
      "ohe_city_5.0. feature 16 (0.010124)\n",
      "ohe_city_6.0. feature 7 (0.010005)\n",
      "ohe_city_7.0. feature 8 (0.009715)\n",
      "ohe_city_8.0. feature 26 (0.009330)\n",
      "ohe_city_9.0. feature 25 (0.009151)\n",
      "ohe_city_10.0. feature 18 (0.008974)\n",
      "ohe_city_11.0. feature 9 (0.005948)\n",
      "ohe_city_12.0. feature 17 (0.005836)\n",
      "ohe_city_13.0. feature 15 (0.005316)\n",
      "ohe_city_14.0. feature 14 (0.004095)\n",
      "ohe_city_15.0. feature 12 (0.003886)\n",
      "ohe_city_16.0. feature 11 (0.003590)\n",
      "ohe_city_17.0. feature 13 (0.003541)\n",
      "ohe_city_18.0. feature 21 (0.003469)\n",
      "ohe_city_19.0. feature 29 (0.002947)\n",
      "ohe_city_20.0. feature 24 (0.002914)\n",
      "ohe_city_21.0. feature 20 (0.002878)\n",
      "ohe_city_22.0. feature 6 (0.002766)\n",
      "ohe_registered_via_4.0. feature 10 (0.001507)\n",
      "ohe_registered_via_7.0. feature 19 (0.000691)\n",
      "ohe_registered_via_9.0. feature 23 (0.000497)\n",
      "ohe_registered_via_13.0. feature 22 (0.000073)\n"
     ]
    }
   ],
   "source": [
    "importances = model.feature_importances_\n",
    "indices = np.argsort(importances)[::-1]\n",
    "train_cols = model_dataset.iloc[:, 1:].columns \n",
    "\n",
    "# Print the feature ranking\n",
    "print(\"Feature ranking:\")\n",
    "\n",
    "for f in range(len(train_cols)):\n",
    "    print(\"%s. feature %d (%f)\" % (str(train_cols[f]), indices[f], importances[indices[f]]))"
   ]
  },
  {
   "cell_type": "code",
   "execution_count": 91,
   "metadata": {},
   "outputs": [],
   "source": [
    "#test_input = load_test_dataset()\n",
    "#test_input.to_hdf('C:/Work/kaggle/wsdm-churn/test_input.h5', key='test_input', mode='w', format='table')"
   ]
  },
  {
   "cell_type": "code",
   "execution_count": 13,
   "metadata": {
    "scrolled": true
   },
   "outputs": [
    {
     "name": "stdout",
     "output_type": "stream",
     "text": [
      "Categorical columns in dataset ['city', 'registered_via']\n",
      "(825368, 31)\n"
     ]
    },
    {
     "data": {
      "text/html": [
       "<div>\n",
       "<style scoped>\n",
       "    .dataframe tbody tr th:only-of-type {\n",
       "        vertical-align: middle;\n",
       "    }\n",
       "\n",
       "    .dataframe tbody tr th {\n",
       "        vertical-align: top;\n",
       "    }\n",
       "\n",
       "    .dataframe thead th {\n",
       "        text-align: right;\n",
       "    }\n",
       "</style>\n",
       "<table border=\"1\" class=\"dataframe\">\n",
       "  <thead>\n",
       "    <tr style=\"text-align: right;\">\n",
       "      <th></th>\n",
       "      <th>is_churn</th>\n",
       "      <th>bd</th>\n",
       "      <th>mean_payment_each_transaction</th>\n",
       "      <th>total_actual_payment</th>\n",
       "      <th>plan_net_worth</th>\n",
       "      <th>cancel_times</th>\n",
       "      <th>total_order</th>\n",
       "      <th>ohe_city_3.0</th>\n",
       "      <th>ohe_city_4.0</th>\n",
       "      <th>ohe_city_5.0</th>\n",
       "      <th>...</th>\n",
       "      <th>ohe_city_17.0</th>\n",
       "      <th>ohe_city_18.0</th>\n",
       "      <th>ohe_city_19.0</th>\n",
       "      <th>ohe_city_20.0</th>\n",
       "      <th>ohe_city_21.0</th>\n",
       "      <th>ohe_city_22.0</th>\n",
       "      <th>ohe_registered_via_4.0</th>\n",
       "      <th>ohe_registered_via_7.0</th>\n",
       "      <th>ohe_registered_via_9.0</th>\n",
       "      <th>ohe_registered_via_13.0</th>\n",
       "    </tr>\n",
       "  </thead>\n",
       "  <tbody>\n",
       "    <tr>\n",
       "      <th>1</th>\n",
       "      <td>1</td>\n",
       "      <td>20.00</td>\n",
       "      <td>180.00</td>\n",
       "      <td>180.00</td>\n",
       "      <td>180.00</td>\n",
       "      <td>0</td>\n",
       "      <td>1</td>\n",
       "      <td>0</td>\n",
       "      <td>0</td>\n",
       "      <td>0</td>\n",
       "      <td>...</td>\n",
       "      <td>0</td>\n",
       "      <td>0</td>\n",
       "      <td>0</td>\n",
       "      <td>0</td>\n",
       "      <td>0</td>\n",
       "      <td>0</td>\n",
       "      <td>0</td>\n",
       "      <td>0</td>\n",
       "      <td>0</td>\n",
       "      <td>0</td>\n",
       "    </tr>\n",
       "    <tr>\n",
       "      <th>2</th>\n",
       "      <td>1</td>\n",
       "      <td>18.00</td>\n",
       "      <td>22.00</td>\n",
       "      <td>44.00</td>\n",
       "      <td>44.00</td>\n",
       "      <td>0</td>\n",
       "      <td>2</td>\n",
       "      <td>0</td>\n",
       "      <td>0</td>\n",
       "      <td>0</td>\n",
       "      <td>...</td>\n",
       "      <td>0</td>\n",
       "      <td>0</td>\n",
       "      <td>0</td>\n",
       "      <td>0</td>\n",
       "      <td>0</td>\n",
       "      <td>0</td>\n",
       "      <td>0</td>\n",
       "      <td>0</td>\n",
       "      <td>0</td>\n",
       "      <td>0</td>\n",
       "    </tr>\n",
       "    <tr>\n",
       "      <th>3</th>\n",
       "      <td>1</td>\n",
       "      <td>0.00</td>\n",
       "      <td>149.00</td>\n",
       "      <td>1490.00</td>\n",
       "      <td>1490.00</td>\n",
       "      <td>0</td>\n",
       "      <td>10</td>\n",
       "      <td>0</td>\n",
       "      <td>0</td>\n",
       "      <td>0</td>\n",
       "      <td>...</td>\n",
       "      <td>0</td>\n",
       "      <td>0</td>\n",
       "      <td>0</td>\n",
       "      <td>0</td>\n",
       "      <td>0</td>\n",
       "      <td>0</td>\n",
       "      <td>0</td>\n",
       "      <td>1</td>\n",
       "      <td>0</td>\n",
       "      <td>0</td>\n",
       "    </tr>\n",
       "    <tr>\n",
       "      <th>4</th>\n",
       "      <td>1</td>\n",
       "      <td>35.00</td>\n",
       "      <td>99.00</td>\n",
       "      <td>792.00</td>\n",
       "      <td>792.00</td>\n",
       "      <td>1</td>\n",
       "      <td>8</td>\n",
       "      <td>0</td>\n",
       "      <td>0</td>\n",
       "      <td>0</td>\n",
       "      <td>...</td>\n",
       "      <td>0</td>\n",
       "      <td>0</td>\n",
       "      <td>0</td>\n",
       "      <td>0</td>\n",
       "      <td>0</td>\n",
       "      <td>0</td>\n",
       "      <td>0</td>\n",
       "      <td>1</td>\n",
       "      <td>0</td>\n",
       "      <td>0</td>\n",
       "    </tr>\n",
       "    <tr>\n",
       "      <th>5</th>\n",
       "      <td>1</td>\n",
       "      <td>0.00</td>\n",
       "      <td>149.00</td>\n",
       "      <td>149.00</td>\n",
       "      <td>149.00</td>\n",
       "      <td>1</td>\n",
       "      <td>1</td>\n",
       "      <td>0</td>\n",
       "      <td>0</td>\n",
       "      <td>0</td>\n",
       "      <td>...</td>\n",
       "      <td>0</td>\n",
       "      <td>0</td>\n",
       "      <td>0</td>\n",
       "      <td>0</td>\n",
       "      <td>0</td>\n",
       "      <td>1</td>\n",
       "      <td>0</td>\n",
       "      <td>0</td>\n",
       "      <td>0</td>\n",
       "      <td>0</td>\n",
       "    </tr>\n",
       "  </tbody>\n",
       "</table>\n",
       "<p>5 rows × 31 columns</p>\n",
       "</div>"
      ],
      "text/plain": [
       "   is_churn    bd  mean_payment_each_transaction  total_actual_payment  \\\n",
       "1         1 20.00                         180.00                180.00   \n",
       "2         1 18.00                          22.00                 44.00   \n",
       "3         1  0.00                         149.00               1490.00   \n",
       "4         1 35.00                          99.00                792.00   \n",
       "5         1  0.00                         149.00                149.00   \n",
       "\n",
       "   plan_net_worth  cancel_times  total_order  ohe_city_3.0  ohe_city_4.0  \\\n",
       "1          180.00             0            1             0             0   \n",
       "2           44.00             0            2             0             0   \n",
       "3         1490.00             0           10             0             0   \n",
       "4          792.00             1            8             0             0   \n",
       "5          149.00             1            1             0             0   \n",
       "\n",
       "   ohe_city_5.0           ...             ohe_city_17.0  ohe_city_18.0  \\\n",
       "1             0           ...                         0              0   \n",
       "2             0           ...                         0              0   \n",
       "3             0           ...                         0              0   \n",
       "4             0           ...                         0              0   \n",
       "5             0           ...                         0              0   \n",
       "\n",
       "   ohe_city_19.0  ohe_city_20.0  ohe_city_21.0  ohe_city_22.0  \\\n",
       "1              0              0              0              0   \n",
       "2              0              0              0              0   \n",
       "3              0              0              0              0   \n",
       "4              0              0              0              0   \n",
       "5              0              0              0              1   \n",
       "\n",
       "   ohe_registered_via_4.0  ohe_registered_via_7.0  ohe_registered_via_9.0  \\\n",
       "1                       0                       0                       0   \n",
       "2                       0                       0                       0   \n",
       "3                       0                       1                       0   \n",
       "4                       0                       1                       0   \n",
       "5                       0                       0                       0   \n",
       "\n",
       "   ohe_registered_via_13.0  \n",
       "1                        0  \n",
       "2                        0  \n",
       "3                        0  \n",
       "4                        0  \n",
       "5                        0  \n",
       "\n",
       "[5 rows x 31 columns]"
      ]
     },
     "execution_count": 13,
     "metadata": {},
     "output_type": "execute_result"
    }
   ],
   "source": [
    "test_input = pd.read_hdf('C:/Work/kaggle/wsdm-churn/test_input.h5', 'test_input')\n",
    "test_input = test_input.drop(columns=['registration_init_time', 'gender','msno'], axis=1)\n",
    "test_input = test_input.dropna()\n",
    "test_input = OHE(test_input)\n",
    "test_input.head()"
   ]
  },
  {
   "cell_type": "code",
   "execution_count": 14,
   "metadata": {},
   "outputs": [
    {
     "name": "stdout",
     "output_type": "stream",
     "text": [
      "RandomForestClassifier Accuracy=0.17198389082203333; F1 Score=0.10787694926493815; Log Loss=28.59931325778128\n"
     ]
    }
   ],
   "source": [
    "X_test = test_input.iloc[:, 1:].dropna()\n",
    "y_test = test_input.iloc[:, 0].dropna()\n",
    "\n",
    "name = model.__class__.__name__\n",
    "\n",
    "test_predictions = model.predict(X_test)\n",
    "\n",
    "acc = accuracy_score(y_test, test_predictions)\n",
    "f1 = f1_score(y_test, test_predictions)\n",
    "lg_loss = log_loss(y_test, test_predictions)\n",
    "\n",
    "print(\"{0} Accuracy={1}; F1 Score={2}; Log Loss={3}\".format(name, acc, f1, lg_loss))"
   ]
  },
  {
   "cell_type": "code",
   "execution_count": null,
   "metadata": {},
   "outputs": [],
   "source": []
  },
  {
   "cell_type": "markdown",
   "metadata": {},
   "source": [
    "### Experiment 2. Drift Basic Baseline\n",
    "#### Build a model on the entire dataset "
   ]
  },
  {
   "cell_type": "code",
   "execution_count": 28,
   "metadata": {},
   "outputs": [],
   "source": [
    "'''\n",
    "\n",
    "for each 9 month training window, \n",
    "    train a model on that dataset\n",
    "    evaluate the model on the next 6 months individually per month\n",
    "\n",
    "    Slide time period forward by 1 month until at end \n",
    "\n",
    "'''"
   ]
  },
  {
   "cell_type": "code",
   "execution_count": 13,
   "metadata": {
    "scrolled": true
   },
   "outputs": [
    {
     "name": "stdout",
     "output_type": "stream",
     "text": [
      "13957 records for date 2006-03-01 00:00:00 - 2006-12-01 00:00:00\n",
      "Training model ... \n",
      "Building RF classifier\n",
      "Test window 0 : 1380 records for dates 2006-12-01 00:00:00 --> 2007-01-01 00:00:00\n"
     ]
    },
    {
     "name": "stderr",
     "output_type": "stream",
     "text": [
      "C:\\Users\\steph\\Anaconda3\\envs\\py35\\lib\\site-packages\\ipykernel_launcher.py:35: SettingWithCopyWarning: \n",
      "A value is trying to be set on a copy of a slice from a DataFrame\n",
      "\n",
      "See the caveats in the documentation: http://pandas.pydata.org/pandas-docs/stable/indexing.html#indexing-view-versus-copy\n"
     ]
    },
    {
     "name": "stdout",
     "output_type": "stream",
     "text": [
      "0.9782608695652174 0.7794117647058822 0.750846441617321\n",
      "Test window 1 : 1435 records for dates 2007-01-01 00:00:00 --> 2007-02-01 00:00:00\n",
      "0.9672473867595819 0.6618705035971223 1.131242986010332\n",
      "Test window 2 : 2416 records for dates 2007-02-01 00:00:00 --> 2007-03-01 00:00:00\n",
      "0.9755794701986755 0.7149758454106281 0.8434601826412192\n",
      "Test window 3 : 2546 records for dates 2007-03-01 00:00:00 --> 2007-04-01 00:00:00\n",
      "0.9658287509819324 0.6692015209125475 1.1802400382956386\n",
      "Test window 4 : 3017 records for dates 2007-04-01 00:00:00 --> 2007-05-01 00:00:00\n",
      "0.9668544912164402 0.6732026143790849 1.1448127372287427\n",
      "Test window 5 : 2270 records for dates 2007-05-01 00:00:00 --> 2007-06-01 00:00:00\n",
      "0.9718061674008811 0.6559139784946236 0.9737843545577171\n"
     ]
    }
   ],
   "source": [
    "start = base_dataset.registration_init_time_dt.min()\n",
    "# Get date at start of month\n",
    "start = pd.Timestamp(start.year, start.month, 1)\n",
    "max_date = base_dataset.registration_init_time_dt.max()\n",
    "\n",
    "while start + pd.DateOffset(months=24) < max_date:\n",
    "    \n",
    "    roll_start_date = start + pd.DateOffset(months=24)\n",
    "    roll_end_date = roll_start_date + pd.DateOffset(months=9)\n",
    "    \n",
    "    train_data_window = base_dataset[(base_dataset.registration_init_time_dt >= roll_start_date) & \\\n",
    "                                    (base_dataset.registration_init_time_dt < roll_end_date)]    \n",
    "    \n",
    "    print(\"{0} records for date {1} - {2}\".format(len(train_data_window), roll_start_date, roll_end_date))\n",
    "    \n",
    "    print(\"Training model ... \")\n",
    "    \n",
    "    model_train_results = train_model(base_dataset.drop(columns=['registration_init_time', 'registration_init_time_dt'], \n",
    "                                                        axis=1))\n",
    "    \n",
    "    (model_name, model, stats) = model_train_results[0]\n",
    "    \n",
    "    i = 0\n",
    "    test_window_start = roll_end_date\n",
    "    \n",
    "    while i < 6:\n",
    "        test_window_end = test_window_start + pd.DateOffset(months=1)\n",
    "        \n",
    "        test_data_window = base_dataset[(base_dataset.registration_init_time_dt >= test_window_start) & \\\n",
    "                                        (base_dataset.registration_init_time_dt < test_window_end)]\n",
    "\n",
    "        print(\"Test window {0} : {1} records for dates {2} --> {3}\".format(i, len(test_data_window), test_window_start, test_window_end))        \n",
    "\n",
    "        # Generate the train and test datasets for this..  \n",
    "        test_data_window.drop(columns=['registration_init_time', 'registration_init_time_dt'], \n",
    "                              axis=1, \n",
    "                              inplace=True)\n",
    "        X_test = test_data_window.iloc[:, 1:]\n",
    "        y_test = test_data_window.iloc[:, 0]\n",
    "\n",
    "        train_predictions = model.predict(X_test)  \n",
    "        \n",
    "        acc = accuracy_score(y_test, train_predictions)\n",
    "        f1 = f1_score(y_test, train_predictions)\n",
    "        l_loss = log_loss(y_test, train_predictions)\n",
    "        \n",
    "        print(acc, f1, l_loss)\n",
    "        \n",
    "        test_window_start += pd.DateOffset(months=1)\n",
    "        i += 1\n",
    "    \n",
    "    start = start + pd.DateOffset(months=1)\n",
    "    \n",
    "    break"
   ]
  },
  {
   "cell_type": "code",
   "execution_count": null,
   "metadata": {},
   "outputs": [],
   "source": []
  },
  {
   "cell_type": "code",
   "execution_count": null,
   "metadata": {},
   "outputs": [],
   "source": []
  },
  {
   "cell_type": "code",
   "execution_count": 15,
   "metadata": {},
   "outputs": [
    {
     "data": {
      "text/html": [
       "<div>\n",
       "<style scoped>\n",
       "    .dataframe tbody tr th:only-of-type {\n",
       "        vertical-align: middle;\n",
       "    }\n",
       "\n",
       "    .dataframe tbody tr th {\n",
       "        vertical-align: top;\n",
       "    }\n",
       "\n",
       "    .dataframe thead th {\n",
       "        text-align: right;\n",
       "    }\n",
       "</style>\n",
       "<table border=\"1\" class=\"dataframe\">\n",
       "  <thead>\n",
       "    <tr style=\"text-align: right;\">\n",
       "      <th></th>\n",
       "      <th>msno</th>\n",
       "      <th>is_churn</th>\n",
       "      <th>city</th>\n",
       "      <th>bd</th>\n",
       "      <th>gender</th>\n",
       "      <th>registered_via</th>\n",
       "      <th>registration_init_time</th>\n",
       "      <th>mean_payment_each_transaction</th>\n",
       "      <th>total_actual_payment</th>\n",
       "      <th>plan_net_worth</th>\n",
       "      <th>cancel_times</th>\n",
       "      <th>total_order</th>\n",
       "    </tr>\n",
       "  </thead>\n",
       "  <tbody>\n",
       "    <tr>\n",
       "      <th>0</th>\n",
       "      <td>ugx0CjOMzazClkFzU2xasmDZaoIqOUAZPsH1q0teWCg=</td>\n",
       "      <td>1</td>\n",
       "      <td>5.00</td>\n",
       "      <td>28.00</td>\n",
       "      <td>male</td>\n",
       "      <td>3.00</td>\n",
       "      <td>20131223.00</td>\n",
       "      <td>nan</td>\n",
       "      <td>0.00</td>\n",
       "      <td>0.00</td>\n",
       "      <td>0</td>\n",
       "      <td>1</td>\n",
       "    </tr>\n",
       "    <tr>\n",
       "      <th>1</th>\n",
       "      <td>f/NmvEzHfhINFEYZTR05prUdr+E+3+oewvweYz9cCQE=</td>\n",
       "      <td>1</td>\n",
       "      <td>13.00</td>\n",
       "      <td>20.00</td>\n",
       "      <td>male</td>\n",
       "      <td>3.00</td>\n",
       "      <td>20131223.00</td>\n",
       "      <td>180.00</td>\n",
       "      <td>180.00</td>\n",
       "      <td>180.00</td>\n",
       "      <td>0</td>\n",
       "      <td>1</td>\n",
       "    </tr>\n",
       "    <tr>\n",
       "      <th>2</th>\n",
       "      <td>zLo9f73nGGT1p21ltZC3ChiRnAVvgibMyazbCxvWPcg=</td>\n",
       "      <td>1</td>\n",
       "      <td>13.00</td>\n",
       "      <td>18.00</td>\n",
       "      <td>male</td>\n",
       "      <td>3.00</td>\n",
       "      <td>20131227.00</td>\n",
       "      <td>22.00</td>\n",
       "      <td>44.00</td>\n",
       "      <td>44.00</td>\n",
       "      <td>0</td>\n",
       "      <td>2</td>\n",
       "    </tr>\n",
       "    <tr>\n",
       "      <th>3</th>\n",
       "      <td>8iF/+8HY8lJKFrTc7iR9ZYGCG2Ecrogbc2Vy5YhsfhQ=</td>\n",
       "      <td>1</td>\n",
       "      <td>1.00</td>\n",
       "      <td>0.00</td>\n",
       "      <td>NaN</td>\n",
       "      <td>7.00</td>\n",
       "      <td>20140109.00</td>\n",
       "      <td>149.00</td>\n",
       "      <td>1490.00</td>\n",
       "      <td>1490.00</td>\n",
       "      <td>0</td>\n",
       "      <td>10</td>\n",
       "    </tr>\n",
       "    <tr>\n",
       "      <th>4</th>\n",
       "      <td>K6fja4+jmoZ5xG6BypqX80Uw/XKpMgrEMdG2edFOxnA=</td>\n",
       "      <td>1</td>\n",
       "      <td>13.00</td>\n",
       "      <td>35.00</td>\n",
       "      <td>female</td>\n",
       "      <td>7.00</td>\n",
       "      <td>20140125.00</td>\n",
       "      <td>99.00</td>\n",
       "      <td>792.00</td>\n",
       "      <td>792.00</td>\n",
       "      <td>1</td>\n",
       "      <td>8</td>\n",
       "    </tr>\n",
       "  </tbody>\n",
       "</table>\n",
       "</div>"
      ],
      "text/plain": [
       "                                           msno  is_churn  city    bd  gender  \\\n",
       "0  ugx0CjOMzazClkFzU2xasmDZaoIqOUAZPsH1q0teWCg=         1  5.00 28.00    male   \n",
       "1  f/NmvEzHfhINFEYZTR05prUdr+E+3+oewvweYz9cCQE=         1 13.00 20.00    male   \n",
       "2  zLo9f73nGGT1p21ltZC3ChiRnAVvgibMyazbCxvWPcg=         1 13.00 18.00    male   \n",
       "3  8iF/+8HY8lJKFrTc7iR9ZYGCG2Ecrogbc2Vy5YhsfhQ=         1  1.00  0.00     NaN   \n",
       "4  K6fja4+jmoZ5xG6BypqX80Uw/XKpMgrEMdG2edFOxnA=         1 13.00 35.00  female   \n",
       "\n",
       "   registered_via  registration_init_time  mean_payment_each_transaction  \\\n",
       "0            3.00             20131223.00                            nan   \n",
       "1            3.00             20131223.00                         180.00   \n",
       "2            3.00             20131227.00                          22.00   \n",
       "3            7.00             20140109.00                         149.00   \n",
       "4            7.00             20140125.00                          99.00   \n",
       "\n",
       "   total_actual_payment  plan_net_worth  cancel_times  total_order  \n",
       "0                  0.00            0.00             0            1  \n",
       "1                180.00          180.00             0            1  \n",
       "2                 44.00           44.00             0            2  \n",
       "3               1490.00         1490.00             0           10  \n",
       "4                792.00          792.00             1            8  "
      ]
     },
     "execution_count": 15,
     "metadata": {},
     "output_type": "execute_result"
    }
   ],
   "source": [
    "#test_input = load_train_dataset()\n",
    "#test_input.to_hdf('C:/Work/kaggle/wsdm-churn/test_input.h5', key='test_input', mode='w', format='table')\n",
    "\n",
    "test_input = pd.read_hdf('C:/Work/kaggle/wsdm-churn/test_input.h5', 'test_input')\n",
    "test_input.head()"
   ]
  },
  {
   "cell_type": "code",
   "execution_count": 16,
   "metadata": {},
   "outputs": [
    {
     "data": {
      "text/plain": [
       "(970960, 12)"
      ]
     },
     "execution_count": 16,
     "metadata": {},
     "output_type": "execute_result"
    }
   ],
   "source": [
    "test_input.shape"
   ]
  },
  {
   "cell_type": "code",
   "execution_count": 14,
   "metadata": {},
   "outputs": [
    {
     "ename": "NameError",
     "evalue": "name 'sample' is not defined",
     "output_type": "error",
     "traceback": [
      "\u001b[1;31m---------------------------------------------------------------------------\u001b[0m",
      "\u001b[1;31mNameError\u001b[0m                                 Traceback (most recent call last)",
      "\u001b[1;32m<timed exec>\u001b[0m in \u001b[0;36m<module>\u001b[1;34m()\u001b[0m\n",
      "\u001b[1;31mNameError\u001b[0m: name 'sample' is not defined"
     ]
    }
   ],
   "source": [
    "%%time\n",
    "\n",
    "X_test = sample.iloc[:, 1:].dropna()\n",
    "y_test = sample.iloc[:, 0].dropna()\n",
    "\n",
    "name = model.__class__.__name__\n",
    "\n",
    "train_predictions = model.predict(X_test)\n",
    "\n",
    "acc = accuracy_score(y_test, train_predictions)\n",
    "f1 = f1_score(y_test, train_predictions)\n",
    "lg_loss = log_loss(y_test, train_predictions)\n",
    "\n",
    "print(\"{0} Accuracy={1}; F1 Score={2}; Log Loss={3}\".format(name, acc, f1, lg_loss))"
   ]
  },
  {
   "cell_type": "code",
   "execution_count": null,
   "metadata": {},
   "outputs": [],
   "source": []
  },
  {
   "cell_type": "code",
   "execution_count": 14,
   "metadata": {},
   "outputs": [],
   "source": [
    "train_input = pd.read_csv('C:/Work/kaggle/wsdm-churn/train.csv', \n",
    "                          dtype={'is_churn' : bool, 'msno' : str})"
   ]
  },
  {
   "cell_type": "code",
   "execution_count": 15,
   "metadata": {},
   "outputs": [],
   "source": [
    "test_input = pd.read_csv('C:/Work/kaggle/wsdm-churn/train_v2.csv',\n",
    "                         dtype = {'is_churn' : bool, 'msno' : str})"
   ]
  },
  {
   "cell_type": "code",
   "execution_count": 18,
   "metadata": {},
   "outputs": [
    {
     "data": {
      "text/plain": [
       "992931"
      ]
     },
     "execution_count": 18,
     "metadata": {},
     "output_type": "execute_result"
    }
   ],
   "source": [
    "len(train_input)"
   ]
  },
  {
   "cell_type": "code",
   "execution_count": 19,
   "metadata": {},
   "outputs": [
    {
     "data": {
      "text/plain": [
       "970960"
      ]
     },
     "execution_count": 19,
     "metadata": {},
     "output_type": "execute_result"
    }
   ],
   "source": [
    "len(test_input)"
   ]
  },
  {
   "cell_type": "code",
   "execution_count": null,
   "metadata": {},
   "outputs": [],
   "source": []
  },
  {
   "cell_type": "code",
   "execution_count": 9,
   "metadata": {},
   "outputs": [],
   "source": [
    "def load_train_dataset():\n",
    "    ## First the dataset indicating whether the customer churned or not.\n",
    "    train_input   = pd.read_csv('C:/Work/kaggle/wsdm-churn/train.csv', \n",
    "                                dtype={'is_churn' : bool, 'msno' : str})\n",
    "\n",
    "    ## Some basic data about the member \n",
    "    members_input = pd.read_csv('C:/Work/kaggle/wsdm-churn/members_v3.csv',\n",
    "                                dtype={'registered_via' : np.uint8,\n",
    "                                       'gender' : 'category'})\n",
    "\n",
    "    train_input = pd.merge(left = train_input, right = members_input, how = 'left', on=['msno'])\n",
    "\n",
    "    del members_input\n",
    "\n",
    "    ## Next load in the transactions data\n",
    "    transactions_input = pd.read_csv('C:/Work/kaggle/wsdm-churn/transactions.csv',\n",
    "                                     dtype = {'payment_method' : 'category',\n",
    "                                              'payment_plan_days' : np.uint8,\n",
    "                                              'plan_list_price' : np.uint8,\n",
    "                                              'actual_amount_paid': np.uint8,\n",
    "                                              'is_auto_renew' : np.bool,\n",
    "                                              'is_cancel' : np.bool})\n",
    "\n",
    "    transactions_input = pd.merge(left = train_input, right = transactions_input, how='left', on='msno')\n",
    "    grouped  = transactions_input.copy().groupby('msno')\n",
    "\n",
    "\n",
    "    shuffle = grouped.agg({'msno' :{'msno_count': 'count'},\n",
    "                           'plan_list_price' :{'plan_list_price':'sum'},\n",
    "                           'actual_amount_paid' : {'actual_amount_paid_mean' : 'mean',\n",
    "                                                   'actual_amount_paid_sum' : 'sum'},\n",
    "                           'is_cancel' : {'is_cancel_sum': 'sum'}})\n",
    "    \n",
    "    shuffle.columns = shuffle.columns.droplevel(0)\n",
    "\n",
    "    shuffle.reset_index(inplace=True)\n",
    "\n",
    "    train_input = pd.merge(left = train_input,right = shuffle,how='left',on='msno')\n",
    "\n",
    "    del transactions_input,shuffle\n",
    "\n",
    "    return train_input\n"
   ]
  },
  {
   "cell_type": "code",
   "execution_count": 8,
   "metadata": {},
   "outputs": [],
   "source": [
    "def load_test_dataset():\n",
    "    test_input = pd.read_csv('C:/Work/kaggle/wsdm-churn/train_v2.csv',dtype = {'msno' : str})\n",
    "    members_input = pd.read_csv('C:/Work/kaggle/wsdm-churn/members_v3.csv',dtype={'registered_via' : np.uint8,\n",
    "                                                          'gender' : 'category'})\n",
    "\n",
    "    test_input = pd.merge(left=test_input,right=members_input,how='left',on=['msno'])\n",
    "\n",
    "    del members_input\n",
    "\n",
    "    transactions_input = pd.read_csv('C:/Work/kaggle/wsdm-churn/transactions_v2.csv',\n",
    "                                     dtype = {'payment_method' : 'category',\n",
    "                                              'payment_plan_days' : np.uint8,\n",
    "                                              'plan_list_price' : np.uint8,\n",
    "                                              'actual_amount_paid': np.uint8,\n",
    "                                              'is_auto_renew' : np.bool,\n",
    "                                              'is_cancel' : np.bool})\n",
    "\n",
    "    transactions_input = pd.merge(left = test_input, \n",
    "                                  right = transactions_input, \n",
    "                                  how='left', \n",
    "                                  on='msno')\n",
    "\n",
    "    grouped  = transactions_input.copy().groupby('msno')\n",
    "\n",
    "    shuffle = grouped.agg({'msno' : {'total_order' : 'count'},\n",
    "                           'plan_list_price' : {'plan_net_worth' : 'sum'},\n",
    "                           'actual_amount_paid' : {'mean_payment_each_transaction' : 'mean',\n",
    "                                                   'total_actual_payment' : 'sum'},\n",
    "                           'is_cancel' : {'cancel_times' : lambda x : sum(x==1)}})\n",
    "\n",
    "    shuffle.columns = shuffle.columns.droplevel(0)\n",
    "    shuffle.reset_index(inplace=True)\n",
    "    test_input = pd.merge(left = test_input,right = shuffle,how='left',on='msno')\n",
    "    del transactions_input\n",
    "\n",
    "    return test_input"
   ]
  },
  {
   "cell_type": "code",
   "execution_count": 7,
   "metadata": {},
   "outputs": [],
   "source": [
    "def train_model(df, classifiers = [('RF', RandomForestClassifier())]):\n",
    "    \n",
    "    target_index = 0\n",
    "    results = []\n",
    "    metric_cols = [\"classifier\", \"accuracy\", \"f1_score\", \"log_loss\", \"dataset_fraction\", \"time_taken\"]\n",
    "    metrics = pd.DataFrame(columns=metric_cols)\n",
    "\n",
    "    ## Generate the train and test datasets for this..  \n",
    "    X_train, X_test, y_train, y_test = train_test_split(df.iloc[:, target_index+1:], \\\n",
    "                                                        df.iloc[:, target_index], \\\n",
    "                                                        random_state = 42,\n",
    "                                                        stratify = df.iloc[:, target_index])\n",
    "    \n",
    "    for name, model in classifiers:\n",
    "        print('Building {0} classifier'.format(name))\n",
    "        start = time.time()\n",
    "        \n",
    "        model.fit(X_train, y_train)\n",
    "        train_predictions = model.predict(X_test)\n",
    "        \n",
    "        finish = time.time()\n",
    "\n",
    "        metric_entry = pd.DataFrame([[model.__class__.__name__, \n",
    "                                      accuracy_score(y_test, train_predictions),\n",
    "                                      f1_score(y_test, train_predictions), \n",
    "                                      log_loss(y_test, train_predictions),\n",
    "                                      100, \n",
    "                                      finish-start]], \n",
    "                                    columns=metric_cols)\n",
    "        metrics = metrics.append(metric_entry)\n",
    "\n",
    "        y_predict_prob = model.predict_proba(X_test)[:,1]\n",
    "        fpr, tpr, thresholds = roc_curve(y_test, y_predict_prob)\n",
    "        roc_auc = auc(fpr, tpr)\n",
    "        \n",
    "        results.append((model.__class__.__name__, model, metrics))\n",
    "        \n",
    "    return results"
   ]
  },
  {
   "cell_type": "code",
   "execution_count": null,
   "metadata": {},
   "outputs": [],
   "source": []
  },
  {
   "cell_type": "code",
   "execution_count": null,
   "metadata": {},
   "outputs": [],
   "source": []
  },
  {
   "cell_type": "code",
   "execution_count": 15,
   "metadata": {},
   "outputs": [],
   "source": [
    "train_input   = pd.read_csv('C:/Work/kaggle/wsdm-churn/train.csv', \n",
    "                            dtype={'is_churn' : bool, 'msno' : str})"
   ]
  },
  {
   "cell_type": "code",
   "execution_count": 21,
   "metadata": {},
   "outputs": [
    {
     "data": {
      "text/html": [
       "<div>\n",
       "<style scoped>\n",
       "    .dataframe tbody tr th:only-of-type {\n",
       "        vertical-align: middle;\n",
       "    }\n",
       "\n",
       "    .dataframe tbody tr th {\n",
       "        vertical-align: top;\n",
       "    }\n",
       "\n",
       "    .dataframe thead th {\n",
       "        text-align: right;\n",
       "    }\n",
       "</style>\n",
       "<table border=\"1\" class=\"dataframe\">\n",
       "  <thead>\n",
       "    <tr style=\"text-align: right;\">\n",
       "      <th></th>\n",
       "      <th>msno</th>\n",
       "      <th>is_churn</th>\n",
       "    </tr>\n",
       "  </thead>\n",
       "  <tbody>\n",
       "    <tr>\n",
       "      <th>0</th>\n",
       "      <td>waLDQMmcOu2jLDaV1ddDkgCrB/jl6sD66Xzs0Vqax1Y=</td>\n",
       "      <td>True</td>\n",
       "    </tr>\n",
       "    <tr>\n",
       "      <th>1</th>\n",
       "      <td>QA7uiXy8vIbUSPOkCf9RwQ3FsT8jVq2OxDr8zqa7bRQ=</td>\n",
       "      <td>True</td>\n",
       "    </tr>\n",
       "    <tr>\n",
       "      <th>2</th>\n",
       "      <td>fGwBva6hikQmTJzrbz/2Ezjm5Cth5jZUNvXigKK2AFA=</td>\n",
       "      <td>True</td>\n",
       "    </tr>\n",
       "    <tr>\n",
       "      <th>3</th>\n",
       "      <td>mT5V8rEpa+8wuqi6x0DoVd3H5icMKkE9Prt49UlmK+4=</td>\n",
       "      <td>True</td>\n",
       "    </tr>\n",
       "    <tr>\n",
       "      <th>4</th>\n",
       "      <td>XaPhtGLk/5UvvOYHcONTwsnH97P4eGECeq+BARGItRw=</td>\n",
       "      <td>True</td>\n",
       "    </tr>\n",
       "  </tbody>\n",
       "</table>\n",
       "</div>"
      ],
      "text/plain": [
       "                                           msno  is_churn\n",
       "0  waLDQMmcOu2jLDaV1ddDkgCrB/jl6sD66Xzs0Vqax1Y=      True\n",
       "1  QA7uiXy8vIbUSPOkCf9RwQ3FsT8jVq2OxDr8zqa7bRQ=      True\n",
       "2  fGwBva6hikQmTJzrbz/2Ezjm5Cth5jZUNvXigKK2AFA=      True\n",
       "3  mT5V8rEpa+8wuqi6x0DoVd3H5icMKkE9Prt49UlmK+4=      True\n",
       "4  XaPhtGLk/5UvvOYHcONTwsnH97P4eGECeq+BARGItRw=      True"
      ]
     },
     "execution_count": 21,
     "metadata": {},
     "output_type": "execute_result"
    }
   ],
   "source": [
    "train_input.head()"
   ]
  },
  {
   "cell_type": "code",
   "execution_count": 16,
   "metadata": {},
   "outputs": [],
   "source": [
    "train_input_v2   = pd.read_csv('C:/Work/kaggle/wsdm-churn/train_v2.csv', \n",
    "                            dtype={'is_churn' : bool, 'msno' : str})"
   ]
  },
  {
   "cell_type": "code",
   "execution_count": 20,
   "metadata": {},
   "outputs": [
    {
     "data": {
      "text/plain": [
       "False    929460\n",
       "True      63471\n",
       "Name: is_churn, dtype: int64"
      ]
     },
     "execution_count": 20,
     "metadata": {},
     "output_type": "execute_result"
    }
   ],
   "source": [
    "train_input.is_churn.value_counts()"
   ]
  },
  {
   "cell_type": "code",
   "execution_count": null,
   "metadata": {},
   "outputs": [],
   "source": []
  },
  {
   "cell_type": "code",
   "execution_count": 19,
   "metadata": {},
   "outputs": [
    {
     "data": {
      "text/plain": [
       "False    883630\n",
       "True      87330\n",
       "Name: is_churn, dtype: int64"
      ]
     },
     "execution_count": 19,
     "metadata": {},
     "output_type": "execute_result"
    }
   ],
   "source": [
    "train_input_v2.is_churn.value_counts()"
   ]
  },
  {
   "cell_type": "code",
   "execution_count": 25,
   "metadata": {},
   "outputs": [],
   "source": [
    "temp = pd.concat([train_input, train_input_v2])"
   ]
  },
  {
   "cell_type": "code",
   "execution_count": 23,
   "metadata": {},
   "outputs": [],
   "source": [
    "temp = pd.merge(train_input, train_input_v2, on=['msno'])"
   ]
  },
  {
   "cell_type": "code",
   "execution_count": 27,
   "metadata": {},
   "outputs": [
    {
     "data": {
      "text/plain": [
       "1128180"
      ]
     },
     "execution_count": 27,
     "metadata": {},
     "output_type": "execute_result"
    }
   ],
   "source": [
    "len(temp.drop_duplicates())"
   ]
  }
 ],
 "metadata": {
  "kernelspec": {
   "display_name": "Python 3",
   "language": "python",
   "name": "python3"
  },
  "language_info": {
   "codemirror_mode": {
    "name": "ipython",
    "version": 3
   },
   "file_extension": ".py",
   "mimetype": "text/x-python",
   "name": "python",
   "nbconvert_exporter": "python",
   "pygments_lexer": "ipython3",
   "version": "3.5.4"
  }
 },
 "nbformat": 4,
 "nbformat_minor": 2
}
