{
 "cells": [
  {
   "cell_type": "code",
   "execution_count": 388,
   "metadata": {},
   "outputs": [
    {
     "name": "stdout",
     "output_type": "stream",
     "text": [
      "The autoreload extension is already loaded. To reload it, use:\n",
      "  %reload_ext autoreload\n"
     ]
    }
   ],
   "source": [
    "%load_ext autoreload\n",
    "%autoreload"
   ]
  },
  {
   "cell_type": "code",
   "execution_count": 389,
   "metadata": {},
   "outputs": [],
   "source": [
    "import numpy as np\n",
    "import pandas as pd\n",
    "import time\n",
    "import gc; gc.enable()\n",
    "import time\n",
    "import sys\n",
    "\n",
    "pd.options.display.float_format = \"{:.2f}\".format\n",
    "np.set_printoptions(precision=4)\n",
    "\n",
    "import matplotlib.pyplot as plt\n",
    "%matplotlib inline\n",
    "\n",
    "sys.path.append('modules')\n",
    "\n",
    "from shared_functions import *\n",
    "\n",
    "import pickle\n",
    "from datetime import datetime"
   ]
  },
  {
   "cell_type": "code",
   "execution_count": 393,
   "metadata": {},
   "outputs": [],
   "source": [
    "def load_results(file_name):\n",
    "    data = None\n",
    "    with open(file_name, 'rb') as f:\n",
    "        # The protocol version used is detected automatically, so we do not\n",
    "        # have to specify it.\n",
    "        data = pickle.load(f)\n",
    "    return data\n",
    "\n",
    "def filter_top_model_results(top_models, all_model_results):\n",
    "    plot_data = list()\n",
    "    for idx, row in top_models.iterrows():\n",
    "        #print(\"row.label: \" + row.label + ',' + row.classifier + ',' + row.sampling_method)\n",
    "        for res in all_model_results:       \n",
    "            for alg_results in res:\n",
    "                if alg_results[0] == row.label and alg_results[1] == row.classifier and alg_results[2] == row.sampling_method:\n",
    "                    #print(alg_results)\n",
    "                    label, model_name, sampling_method, _, tpr, fpr, roc_auc, precision, recall, prc_auc = alg_results\n",
    "\n",
    "                    plot_data.append((\"{} :: {}\".format(model_name, sampling_method), tpr, fpr, roc_auc, precision, recall, prc_auc))\n",
    "    return plot_data\n",
    "\n",
    "def rebuild_results(res):\n",
    "    ## Gather all the metrics\n",
    "    temp_metrics = pd.DataFrame()\n",
    "    temp_results = list()\n",
    "    for i in range(0, len(res)):\n",
    "        temp_metrics = pd.concat([temp_metrics, res[i][1]])\n",
    "        temp_results.append(res[i][2]) \n",
    "    \n",
    "    return temp_metrics, temp_results"
   ]
  },
  {
   "cell_type": "code",
   "execution_count": null,
   "metadata": {},
   "outputs": [],
   "source": [
    "asklearn = load_results('Asklearn_Default_Undersample.pickle')"
   ]
  },
  {
   "cell_type": "code",
   "execution_count": null,
   "metadata": {},
   "outputs": [],
   "source": [
    "manualrdm = load_results('Manual_RdmSearch_2019-08-05.pickle')"
   ]
  },
  {
   "cell_type": "code",
   "execution_count": null,
   "metadata": {},
   "outputs": [],
   "source": [
    "manualgrid = load_results('Manual_GridSearch_2019-08-05.pickle')"
   ]
  },
  {
   "cell_type": "code",
   "execution_count": null,
   "metadata": {},
   "outputs": [],
   "source": [
    "Manual_GridSearch_2019-08-10.pickle\n",
    "Manual_RdmSearch_2019-08-10.pickle\n",
    "\n",
    "DFS_Default_2019-08-10.pickle"
   ]
  },
  {
   "cell_type": "code",
   "execution_count": 295,
   "metadata": {},
   "outputs": [],
   "source": [
    "measurements = ['classifier', 'sampling_method', \\\n",
    "                #'fp', 'fn',\\\n",
    "                'balanced_accuracy', 'recall', 'precision', \\\n",
    "                 #'f1_score',\\\n",
    "                'train_time', 'aucroc', 'auprc',\\\n",
    "                'model_churn_cost']\n",
    "\n",
    "measurements_alias = ['classifier', 'sampling', \\\n",
    "                      'bal_acc', 'recall', 'precision',\\\n",
    "                      # 'f1',\\\n",
    "                      'train_time', 'auroc', 'auprc',\\\n",
    "                      'churn_cost']"
   ]
  },
  {
   "cell_type": "code",
   "execution_count": null,
   "metadata": {},
   "outputs": [],
   "source": []
  },
  {
   "cell_type": "markdown",
   "metadata": {},
   "source": [
    "## Approach 1.1 - Churn BasicData + Default Hyper"
   ]
  },
  {
   "cell_type": "code",
   "execution_count": 359,
   "metadata": {},
   "outputs": [],
   "source": [
    "## First Experiment:\n",
    "## Approach 1.1 - Churn BasicData + Default Hyper\n",
    "exp1_1 = load_results('/home/dissertation/code/RESULTS_FINAL/Basic_DefaultHyper_2019-08-12.pickle')\n",
    "exp_metrics, exp_results = rebuild_results(exp1_1)\n",
    "\n",
    "#exp_metrics = exp_metrics[(exp_metrics.recall > 0) & (exp_metrics.recall < 1)]"
   ]
  },
  {
   "cell_type": "code",
   "execution_count": 164,
   "metadata": {},
   "outputs": [],
   "source": [
    "#exp_metrics[['classifier', 'sampling_method','accuracy']].groupby(['sampling_method']).count()"
   ]
  },
  {
   "cell_type": "code",
   "execution_count": 402,
   "metadata": {},
   "outputs": [],
   "source": [
    "measure_by = ['balanced_accuracy', 'recall', 'model_churn_cost']\n",
    "measure_by_sort = [False, False, True]\n",
    "\n",
    "# measure_by = ['balanced_accuracy']\n",
    "# measure_by_sort = [False]\n",
    "\n",
    "# measure_by = ['model_churn_cost']\n",
    "# measure_by_sort = [True]\n",
    "\n",
    "# measure_by = ['f1_score']\n",
    "# measure_by_sort = [False]"
   ]
  },
  {
   "cell_type": "markdown",
   "metadata": {},
   "source": [
    "### The best 5 performing models by approach as measured by .... "
   ]
  },
  {
   "cell_type": "code",
   "execution_count": 405,
   "metadata": {
    "scrolled": true
   },
   "outputs": [
    {
     "name": "stdout",
     "output_type": "stream",
     "text": [
      "Getting results for ['balanced_accuracy', 'recall', 'model_churn_cost'] / ordered ascending? [False, False, True]\n"
     ]
    },
    {
     "data": {
      "text/html": [
       "<div>\n",
       "<style scoped>\n",
       "    .dataframe tbody tr th:only-of-type {\n",
       "        vertical-align: middle;\n",
       "    }\n",
       "\n",
       "    .dataframe tbody tr th {\n",
       "        vertical-align: top;\n",
       "    }\n",
       "\n",
       "    .dataframe thead th {\n",
       "        text-align: right;\n",
       "    }\n",
       "</style>\n",
       "<table border=\"1\" class=\"dataframe\">\n",
       "  <thead>\n",
       "    <tr style=\"text-align: right;\">\n",
       "      <th></th>\n",
       "      <th>classifier</th>\n",
       "      <th>sampling_method</th>\n",
       "      <th>balanced_accuracy</th>\n",
       "      <th>recall</th>\n",
       "      <th>precision</th>\n",
       "      <th>train_time</th>\n",
       "      <th>aucroc</th>\n",
       "      <th>auprc</th>\n",
       "      <th>model_churn_cost</th>\n",
       "    </tr>\n",
       "  </thead>\n",
       "  <tbody>\n",
       "    <tr>\n",
       "      <th>0</th>\n",
       "      <td>XGB</td>\n",
       "      <td>ROS 1:1</td>\n",
       "      <td>0.81</td>\n",
       "      <td>0.74</td>\n",
       "      <td>0.38</td>\n",
       "      <td>160.65</td>\n",
       "      <td>0.88</td>\n",
       "      <td>0.62</td>\n",
       "      <td>7752900</td>\n",
       "    </tr>\n",
       "    <tr>\n",
       "      <th>0</th>\n",
       "      <td>XGB</td>\n",
       "      <td>RUS 1:1</td>\n",
       "      <td>0.81</td>\n",
       "      <td>0.74</td>\n",
       "      <td>0.38</td>\n",
       "      <td>14.89</td>\n",
       "      <td>0.88</td>\n",
       "      <td>0.62</td>\n",
       "      <td>7794600</td>\n",
       "    </tr>\n",
       "    <tr>\n",
       "      <th>0</th>\n",
       "      <td>XGB</td>\n",
       "      <td>ROS 3:2</td>\n",
       "      <td>0.80</td>\n",
       "      <td>0.71</td>\n",
       "      <td>0.41</td>\n",
       "      <td>129.31</td>\n",
       "      <td>0.88</td>\n",
       "      <td>0.62</td>\n",
       "      <td>7634000</td>\n",
       "    </tr>\n",
       "    <tr>\n",
       "      <th>0</th>\n",
       "      <td>XGB</td>\n",
       "      <td>SMOTE_NC</td>\n",
       "      <td>0.80</td>\n",
       "      <td>0.71</td>\n",
       "      <td>0.40</td>\n",
       "      <td>161.53</td>\n",
       "      <td>0.87</td>\n",
       "      <td>0.60</td>\n",
       "      <td>7752100</td>\n",
       "    </tr>\n",
       "    <tr>\n",
       "      <th>0</th>\n",
       "      <td>RandomForest</td>\n",
       "      <td>RUS 1:1</td>\n",
       "      <td>0.80</td>\n",
       "      <td>0.76</td>\n",
       "      <td>0.32</td>\n",
       "      <td>2.92</td>\n",
       "      <td>0.87</td>\n",
       "      <td>0.55</td>\n",
       "      <td>8656700</td>\n",
       "    </tr>\n",
       "  </tbody>\n",
       "</table>\n",
       "</div>"
      ],
      "text/plain": [
       "     classifier sampling_method  balanced_accuracy  recall  precision  \\\n",
       "0           XGB         ROS 1:1               0.81    0.74       0.38   \n",
       "0           XGB         RUS 1:1               0.81    0.74       0.38   \n",
       "0           XGB         ROS 3:2               0.80    0.71       0.41   \n",
       "0           XGB        SMOTE_NC               0.80    0.71       0.40   \n",
       "0  RandomForest         RUS 1:1               0.80    0.76       0.32   \n",
       "\n",
       "   train_time  aucroc  auprc  model_churn_cost  \n",
       "0      160.65    0.88   0.62           7752900  \n",
       "0       14.89    0.88   0.62           7794600  \n",
       "0      129.31    0.88   0.62           7634000  \n",
       "0      161.53    0.87   0.60           7752100  \n",
       "0        2.92    0.87   0.55           8656700  "
      ]
     },
     "execution_count": 405,
     "metadata": {},
     "output_type": "execute_result"
    }
   ],
   "source": [
    "print(\"Getting results for {} / ordered ascending? {}\".format(measure_by, measure_by_sort))\n",
    "top_results = exp_metrics\\\n",
    "                .sort_values(measure_by, ascending=measure_by_sort)\n",
    "top_results = top_results[measurements]\n",
    "top_results['classifier'] = top_results['classifier'].apply(lambda v: str(v).replace('Classifier', ''))\n",
    "\n",
    "top_results.head(5)"
   ]
  },
  {
   "cell_type": "code",
   "execution_count": 407,
   "metadata": {},
   "outputs": [
    {
     "name": "stdout",
     "output_type": "stream",
     "text": [
      "Getting results for ['balanced_accuracy', 'recall', 'model_churn_cost'] / ordered ascending? [True, True, False]\n"
     ]
    },
    {
     "data": {
      "text/html": [
       "<div>\n",
       "<style scoped>\n",
       "    .dataframe tbody tr th:only-of-type {\n",
       "        vertical-align: middle;\n",
       "    }\n",
       "\n",
       "    .dataframe tbody tr th {\n",
       "        vertical-align: top;\n",
       "    }\n",
       "\n",
       "    .dataframe thead th {\n",
       "        text-align: right;\n",
       "    }\n",
       "</style>\n",
       "<table border=\"1\" class=\"dataframe\">\n",
       "  <thead>\n",
       "    <tr style=\"text-align: right;\">\n",
       "      <th></th>\n",
       "      <th>classifier</th>\n",
       "      <th>sampling_method</th>\n",
       "      <th>balanced_accuracy</th>\n",
       "      <th>recall</th>\n",
       "      <th>precision</th>\n",
       "      <th>train_time</th>\n",
       "      <th>aucroc</th>\n",
       "      <th>auprc</th>\n",
       "      <th>model_churn_cost</th>\n",
       "    </tr>\n",
       "  </thead>\n",
       "  <tbody>\n",
       "    <tr>\n",
       "      <th>0</th>\n",
       "      <td>LogisticRegression</td>\n",
       "      <td>None</td>\n",
       "      <td>0.50</td>\n",
       "      <td>0.00</td>\n",
       "      <td>0.00</td>\n",
       "      <td>4.71</td>\n",
       "      <td>0.72</td>\n",
       "      <td>0.45</td>\n",
       "      <td>12030500</td>\n",
       "    </tr>\n",
       "    <tr>\n",
       "      <th>0</th>\n",
       "      <td>MLP</td>\n",
       "      <td>None</td>\n",
       "      <td>0.50</td>\n",
       "      <td>0.00</td>\n",
       "      <td>0.00</td>\n",
       "      <td>620.33</td>\n",
       "      <td>0.50</td>\n",
       "      <td>0.55</td>\n",
       "      <td>12030500</td>\n",
       "    </tr>\n",
       "    <tr>\n",
       "      <th>0</th>\n",
       "      <td>MLP</td>\n",
       "      <td>RUS 1:1</td>\n",
       "      <td>0.50</td>\n",
       "      <td>0.00</td>\n",
       "      <td>0.00</td>\n",
       "      <td>381.71</td>\n",
       "      <td>0.50</td>\n",
       "      <td>0.55</td>\n",
       "      <td>12030500</td>\n",
       "    </tr>\n",
       "    <tr>\n",
       "      <th>0</th>\n",
       "      <td>LogisticRegression</td>\n",
       "      <td>ROS 3:1</td>\n",
       "      <td>0.50</td>\n",
       "      <td>0.00</td>\n",
       "      <td>0.00</td>\n",
       "      <td>5.03</td>\n",
       "      <td>0.72</td>\n",
       "      <td>0.45</td>\n",
       "      <td>12030500</td>\n",
       "    </tr>\n",
       "    <tr>\n",
       "      <th>0</th>\n",
       "      <td>MLP</td>\n",
       "      <td>ROS 3:1</td>\n",
       "      <td>0.50</td>\n",
       "      <td>0.00</td>\n",
       "      <td>0.00</td>\n",
       "      <td>1422.61</td>\n",
       "      <td>0.50</td>\n",
       "      <td>0.55</td>\n",
       "      <td>12030500</td>\n",
       "    </tr>\n",
       "  </tbody>\n",
       "</table>\n",
       "</div>"
      ],
      "text/plain": [
       "           classifier sampling_method  balanced_accuracy  recall  precision  \\\n",
       "0  LogisticRegression            None               0.50    0.00       0.00   \n",
       "0                 MLP            None               0.50    0.00       0.00   \n",
       "0                 MLP         RUS 1:1               0.50    0.00       0.00   \n",
       "0  LogisticRegression         ROS 3:1               0.50    0.00       0.00   \n",
       "0                 MLP         ROS 3:1               0.50    0.00       0.00   \n",
       "\n",
       "   train_time  aucroc  auprc  model_churn_cost  \n",
       "0        4.71    0.72   0.45          12030500  \n",
       "0      620.33    0.50   0.55          12030500  \n",
       "0      381.71    0.50   0.55          12030500  \n",
       "0        5.03    0.72   0.45          12030500  \n",
       "0     1422.61    0.50   0.55          12030500  "
      ]
     },
     "execution_count": 407,
     "metadata": {},
     "output_type": "execute_result"
    }
   ],
   "source": [
    "### The lowest 5 performing models by approach as measured by .... \n",
    "print(\"Getting results for {} / ordered ascending? {}\".format(measure_by, [not f for f in measure_by_sort]))\n",
    "top_results = exp_metrics\\\n",
    "                .sort_values(measure_by, ascending=[not f for f in measure_by_sort])\n",
    "top_results = top_results[measurements]\n",
    "top_results['classifier'] = top_results['classifier'].apply(lambda v: str(v).replace('Classifier', ''))\n",
    "top_results.head(5)"
   ]
  },
  {
   "cell_type": "code",
   "execution_count": 409,
   "metadata": {},
   "outputs": [
    {
     "name": "stdout",
     "output_type": "stream",
     "text": [
      "\\begin{tabular}{llrrrrrrr}\n",
      "\\toprule\n",
      "         classifier & sampling &  bal\\_acc &  recall &  precision &  train\\_time &  auroc &  auprc &  churn\\_cost \\\\\n",
      "\\midrule\n",
      " LogisticRegression &     None &     0.50 &    0.00 &       0.00 &        4.71 &   0.72 &   0.45 &    12030500 \\\\\n",
      "                MLP &     None &     0.50 &    0.00 &       0.00 &      620.33 &   0.50 &   0.55 &    12030500 \\\\\n",
      "                MLP &  RUS 1:1 &     0.50 &    0.00 &       0.00 &      381.71 &   0.50 &   0.55 &    12030500 \\\\\n",
      " LogisticRegression &  ROS 3:1 &     0.50 &    0.00 &       0.00 &        5.03 &   0.72 &   0.45 &    12030500 \\\\\n",
      "                MLP &  ROS 3:1 &     0.50 &    0.00 &       0.00 &     1422.61 &   0.50 &   0.55 &    12030500 \\\\\n",
      "\\bottomrule\n",
      "\\end{tabular}\n",
      "\n"
     ]
    }
   ],
   "source": [
    "temp = top_results.head(5)\n",
    "temp.columns = measurements_alias\n",
    "print(temp.to_latex(index=False))"
   ]
  },
  {
   "cell_type": "markdown",
   "metadata": {},
   "source": [
    "### Summary performance statistics of classifiers over all sampling techniques"
   ]
  },
  {
   "cell_type": "code",
   "execution_count": 413,
   "metadata": {},
   "outputs": [
    {
     "name": "stderr",
     "output_type": "stream",
     "text": [
      "/home/anaconda/envs/py373/lib/python3.7/site-packages/pandas/core/groupby/generic.py:1315: FutureWarning: using a dict with renaming is deprecated and will be removed in a future version\n",
      "  return super(DataFrameGroupBy, self).aggregate(arg, *args, **kwargs)\n"
     ]
    },
    {
     "data": {
      "text/html": [
       "<div>\n",
       "<style scoped>\n",
       "    .dataframe tbody tr th:only-of-type {\n",
       "        vertical-align: middle;\n",
       "    }\n",
       "\n",
       "    .dataframe tbody tr th {\n",
       "        vertical-align: top;\n",
       "    }\n",
       "\n",
       "    .dataframe thead tr th {\n",
       "        text-align: left;\n",
       "    }\n",
       "</style>\n",
       "<table border=\"1\" class=\"dataframe\">\n",
       "  <thead>\n",
       "    <tr>\n",
       "      <th></th>\n",
       "      <th>sampling_method</th>\n",
       "      <th colspan=\"3\" halign=\"left\">balanced_accuracy</th>\n",
       "      <th colspan=\"3\" halign=\"left\">recall</th>\n",
       "      <th colspan=\"3\" halign=\"left\">precision</th>\n",
       "      <th>model_churn_cost</th>\n",
       "    </tr>\n",
       "    <tr>\n",
       "      <th></th>\n",
       "      <th></th>\n",
       "      <th>best</th>\n",
       "      <th>median</th>\n",
       "      <th>iqr</th>\n",
       "      <th>best</th>\n",
       "      <th>median</th>\n",
       "      <th>iqr</th>\n",
       "      <th>best</th>\n",
       "      <th>median</th>\n",
       "      <th>iqr</th>\n",
       "      <th>best</th>\n",
       "    </tr>\n",
       "  </thead>\n",
       "  <tbody>\n",
       "    <tr>\n",
       "      <th>1</th>\n",
       "      <td>ROS 1:1</td>\n",
       "      <td>0.81</td>\n",
       "      <td>0.74</td>\n",
       "      <td>0.04</td>\n",
       "      <td>0.74</td>\n",
       "      <td>0.55</td>\n",
       "      <td>0.07</td>\n",
       "      <td>0.44</td>\n",
       "      <td>0.39</td>\n",
       "      <td>0.03</td>\n",
       "      <td>7752900</td>\n",
       "    </tr>\n",
       "    <tr>\n",
       "      <th>5</th>\n",
       "      <td>RUS 1:1</td>\n",
       "      <td>0.81</td>\n",
       "      <td>0.77</td>\n",
       "      <td>0.04</td>\n",
       "      <td>0.76</td>\n",
       "      <td>0.74</td>\n",
       "      <td>0.13</td>\n",
       "      <td>0.42</td>\n",
       "      <td>0.32</td>\n",
       "      <td>0.10</td>\n",
       "      <td>7794600</td>\n",
       "    </tr>\n",
       "    <tr>\n",
       "      <th>4</th>\n",
       "      <td>ROS 3:2</td>\n",
       "      <td>0.80</td>\n",
       "      <td>0.74</td>\n",
       "      <td>0.04</td>\n",
       "      <td>0.71</td>\n",
       "      <td>0.52</td>\n",
       "      <td>0.10</td>\n",
       "      <td>0.51</td>\n",
       "      <td>0.42</td>\n",
       "      <td>0.03</td>\n",
       "      <td>7634000</td>\n",
       "    </tr>\n",
       "    <tr>\n",
       "      <th>6</th>\n",
       "      <td>SMOTE_NC</td>\n",
       "      <td>0.80</td>\n",
       "      <td>0.74</td>\n",
       "      <td>0.04</td>\n",
       "      <td>0.71</td>\n",
       "      <td>0.56</td>\n",
       "      <td>0.08</td>\n",
       "      <td>0.42</td>\n",
       "      <td>0.38</td>\n",
       "      <td>0.03</td>\n",
       "      <td>7752100</td>\n",
       "    </tr>\n",
       "    <tr>\n",
       "      <th>2</th>\n",
       "      <td>ROS 2:1</td>\n",
       "      <td>0.79</td>\n",
       "      <td>0.75</td>\n",
       "      <td>0.07</td>\n",
       "      <td>0.65</td>\n",
       "      <td>0.56</td>\n",
       "      <td>0.15</td>\n",
       "      <td>0.54</td>\n",
       "      <td>0.47</td>\n",
       "      <td>0.11</td>\n",
       "      <td>7471300</td>\n",
       "    </tr>\n",
       "    <tr>\n",
       "      <th>3</th>\n",
       "      <td>ROS 3:1</td>\n",
       "      <td>0.77</td>\n",
       "      <td>0.74</td>\n",
       "      <td>0.05</td>\n",
       "      <td>0.60</td>\n",
       "      <td>0.54</td>\n",
       "      <td>0.10</td>\n",
       "      <td>0.57</td>\n",
       "      <td>0.51</td>\n",
       "      <td>0.13</td>\n",
       "      <td>7477200</td>\n",
       "    </tr>\n",
       "    <tr>\n",
       "      <th>0</th>\n",
       "      <td>None</td>\n",
       "      <td>0.73</td>\n",
       "      <td>0.70</td>\n",
       "      <td>0.05</td>\n",
       "      <td>0.53</td>\n",
       "      <td>0.44</td>\n",
       "      <td>0.15</td>\n",
       "      <td>0.83</td>\n",
       "      <td>0.60</td>\n",
       "      <td>0.37</td>\n",
       "      <td>8404900</td>\n",
       "    </tr>\n",
       "  </tbody>\n",
       "</table>\n",
       "</div>"
      ],
      "text/plain": [
       "  sampling_method balanced_accuracy             recall             precision  \\\n",
       "                               best median  iqr   best median  iqr      best   \n",
       "1         ROS 1:1              0.81   0.74 0.04   0.74   0.55 0.07      0.44   \n",
       "5         RUS 1:1              0.81   0.77 0.04   0.76   0.74 0.13      0.42   \n",
       "4         ROS 3:2              0.80   0.74 0.04   0.71   0.52 0.10      0.51   \n",
       "6        SMOTE_NC              0.80   0.74 0.04   0.71   0.56 0.08      0.42   \n",
       "2         ROS 2:1              0.79   0.75 0.07   0.65   0.56 0.15      0.54   \n",
       "3         ROS 3:1              0.77   0.74 0.05   0.60   0.54 0.10      0.57   \n",
       "0            None              0.73   0.70 0.05   0.53   0.44 0.15      0.83   \n",
       "\n",
       "              model_churn_cost  \n",
       "  median  iqr             best  \n",
       "1   0.39 0.03          7752900  \n",
       "5   0.32 0.10          7794600  \n",
       "4   0.42 0.03          7634000  \n",
       "6   0.38 0.03          7752100  \n",
       "2   0.47 0.11          7471300  \n",
       "3   0.51 0.13          7477200  \n",
       "0   0.60 0.37          8404900  "
      ]
     },
     "execution_count": 413,
     "metadata": {},
     "output_type": "execute_result"
    }
   ],
   "source": [
    "## Excludes LR and MLP as those produce bad classifiers\n",
    "\n",
    "stats_summary = {'best':max,\n",
    "                 'median':'median', \n",
    "                 'iqr':lambda x: np.percentile(x, 75, interpolation='higher') - np.percentile(x, 25, interpolation='lower'),\n",
    "                # 'range':lambda x: max(x) - min(x)\n",
    "                }\n",
    "\n",
    "exp_metrics[~exp_metrics.recall.isin([0.0, 1.0])]\\\n",
    "        .groupby(['sampling_method'])\\\n",
    "        .agg({\n",
    "             'balanced_accuracy':stats_summary,\n",
    "             'recall':stats_summary,\n",
    "             'precision':stats_summary,\n",
    "             'model_churn_cost':{'best':min},\n",
    "             #'aucroc':stats_summary,\n",
    "             #'auprc':stats_summary,\n",
    "             #'train_time':stats_summary,\n",
    "             })\\\n",
    "        .reset_index()\\\n",
    "        .sort_values(('balanced_accuracy', 'best'), ascending=False)\\\n",
    "       # .to_latex(index=False)"
   ]
  },
  {
   "cell_type": "code",
   "execution_count": 414,
   "metadata": {},
   "outputs": [],
   "source": [
    "#print('\\\\begin{tabular}{lrrrrrrrrrr}\\n\\\\toprule\\n         classifier & \\\\multicolumn{3}{l}{recall} & \\\\multicolumn{3}{l}{balanced\\\\_accuracy} & \\\\multicolumn{3}{l}{precision} & model\\\\_churn\\\\_cost \\\\\\\\\\n                    &   best & median &  iqr &              best & median &  iqr &      best & median &  iqr &             best \\\\\\\\\\n\\\\midrule\\n                XGB &   0.74 &   0.71 & 0.14 &              0.81 &   0.80 & 0.04 &      0.83 &   0.41 & 0.16 &          7471300 \\\\\\\\\\n       RandomForest &   0.76 &   0.52 & 0.05 &              0.80 &   0.74 & 0.01 &      0.69 &   0.51 & 0.14 &          8141100 \\\\\\\\\\n         GaussianNB &   0.64 &   0.60 & 0.03 &              0.77 &   0.76 & 0.01 &      0.46 &   0.42 & 0.02 &          8216700 \\\\\\\\\\n       DecisionTree &   0.74 &   0.51 & 0.06 &              0.77 &   0.72 & 0.01 &      0.52 &   0.45 & 0.11 &          8574600 \\\\\\\\\\n LogisticRegression &   0.55 &   0.37 & 0.55 &              0.68 &   0.61 & 0.18 &      0.23 &   0.20 & 0.23 &         11122700 \\\\\\\\\\n                MLP &   1.00 &   0.00 & 1.00 &              0.50 &   0.50 & 0.00 &      0.09 &   0.00 & 0.09 &         12030500 \\\\\\\\\\n\\\\bottomrule\\n\\\\end{tabular}\\n')"
   ]
  },
  {
   "cell_type": "markdown",
   "metadata": {},
   "source": [
    "### The best performing sampling methods by classifier as measured by .... "
   ]
  },
  {
   "cell_type": "code",
   "execution_count": 416,
   "metadata": {},
   "outputs": [
    {
     "name": "stdout",
     "output_type": "stream",
     "text": [
      "Getting results for ['balanced_accuracy', 'recall', 'model_churn_cost'] / ordered ascending? [False, False, True]\n"
     ]
    },
    {
     "data": {
      "text/html": [
       "<div>\n",
       "<style scoped>\n",
       "    .dataframe tbody tr th:only-of-type {\n",
       "        vertical-align: middle;\n",
       "    }\n",
       "\n",
       "    .dataframe tbody tr th {\n",
       "        vertical-align: top;\n",
       "    }\n",
       "\n",
       "    .dataframe thead th {\n",
       "        text-align: right;\n",
       "    }\n",
       "</style>\n",
       "<table border=\"1\" class=\"dataframe\">\n",
       "  <thead>\n",
       "    <tr style=\"text-align: right;\">\n",
       "      <th></th>\n",
       "      <th>classifier</th>\n",
       "      <th>sampling_method</th>\n",
       "      <th>balanced_accuracy</th>\n",
       "      <th>recall</th>\n",
       "      <th>precision</th>\n",
       "      <th>train_time</th>\n",
       "      <th>aucroc</th>\n",
       "      <th>auprc</th>\n",
       "      <th>model_churn_cost</th>\n",
       "    </tr>\n",
       "  </thead>\n",
       "  <tbody>\n",
       "    <tr>\n",
       "      <th>0</th>\n",
       "      <td>XGB</td>\n",
       "      <td>ROS 1:1</td>\n",
       "      <td>0.81</td>\n",
       "      <td>0.74</td>\n",
       "      <td>0.38</td>\n",
       "      <td>160.65</td>\n",
       "      <td>0.88</td>\n",
       "      <td>0.62</td>\n",
       "      <td>7752900</td>\n",
       "    </tr>\n",
       "    <tr>\n",
       "      <th>0</th>\n",
       "      <td>RandomForest</td>\n",
       "      <td>RUS 1:1</td>\n",
       "      <td>0.80</td>\n",
       "      <td>0.76</td>\n",
       "      <td>0.32</td>\n",
       "      <td>2.92</td>\n",
       "      <td>0.87</td>\n",
       "      <td>0.55</td>\n",
       "      <td>8656700</td>\n",
       "    </tr>\n",
       "    <tr>\n",
       "      <th>0</th>\n",
       "      <td>DecisionTree</td>\n",
       "      <td>RUS 1:1</td>\n",
       "      <td>0.77</td>\n",
       "      <td>0.74</td>\n",
       "      <td>0.28</td>\n",
       "      <td>2.56</td>\n",
       "      <td>0.76</td>\n",
       "      <td>0.49</td>\n",
       "      <td>9502600</td>\n",
       "    </tr>\n",
       "    <tr>\n",
       "      <th>0</th>\n",
       "      <td>GaussianNB</td>\n",
       "      <td>SMOTE_NC</td>\n",
       "      <td>0.77</td>\n",
       "      <td>0.64</td>\n",
       "      <td>0.38</td>\n",
       "      <td>6.52</td>\n",
       "      <td>0.81</td>\n",
       "      <td>0.55</td>\n",
       "      <td>8412300</td>\n",
       "    </tr>\n",
       "    <tr>\n",
       "      <th>0</th>\n",
       "      <td>LogisticRegression</td>\n",
       "      <td>RUS 1:1</td>\n",
       "      <td>0.68</td>\n",
       "      <td>0.55</td>\n",
       "      <td>0.23</td>\n",
       "      <td>2.23</td>\n",
       "      <td>0.74</td>\n",
       "      <td>0.38</td>\n",
       "      <td>11122700</td>\n",
       "    </tr>\n",
       "    <tr>\n",
       "      <th>0</th>\n",
       "      <td>MLP</td>\n",
       "      <td>ROS 1:1</td>\n",
       "      <td>0.50</td>\n",
       "      <td>1.00</td>\n",
       "      <td>0.09</td>\n",
       "      <td>1555.64</td>\n",
       "      <td>0.50</td>\n",
       "      <td>0.55</td>\n",
       "      <td>25748700</td>\n",
       "    </tr>\n",
       "  </tbody>\n",
       "</table>\n",
       "</div>"
      ],
      "text/plain": [
       "           classifier sampling_method  balanced_accuracy  recall  precision  \\\n",
       "0                 XGB         ROS 1:1               0.81    0.74       0.38   \n",
       "0        RandomForest         RUS 1:1               0.80    0.76       0.32   \n",
       "0        DecisionTree         RUS 1:1               0.77    0.74       0.28   \n",
       "0          GaussianNB        SMOTE_NC               0.77    0.64       0.38   \n",
       "0  LogisticRegression         RUS 1:1               0.68    0.55       0.23   \n",
       "0                 MLP         ROS 1:1               0.50    1.00       0.09   \n",
       "\n",
       "   train_time  aucroc  auprc  model_churn_cost  \n",
       "0      160.65    0.88   0.62           7752900  \n",
       "0        2.92    0.87   0.55           8656700  \n",
       "0        2.56    0.76   0.49           9502600  \n",
       "0        6.52    0.81   0.55           8412300  \n",
       "0        2.23    0.74   0.38          11122700  \n",
       "0     1555.64    0.50   0.55          25748700  "
      ]
     },
     "execution_count": 416,
     "metadata": {},
     "output_type": "execute_result"
    }
   ],
   "source": [
    "print(\"Getting results for {} / ordered ascending? {}\".format(measure_by, measure_by_sort))\n",
    "top_results = exp_metrics.sort_values(measure_by, ascending=measure_by_sort).groupby('classifier').head(1)\n",
    "top_results = top_results[measurements]\n",
    "top_results['classifier'] = top_results['classifier'].apply(lambda v: str(v).replace('Classifier', ''))\n",
    "top_results"
   ]
  },
  {
   "cell_type": "markdown",
   "metadata": {},
   "source": [
    "### The best performing models by sampling method as measured by .... "
   ]
  },
  {
   "cell_type": "code",
   "execution_count": 419,
   "metadata": {},
   "outputs": [
    {
     "name": "stdout",
     "output_type": "stream",
     "text": [
      "Getting results for ['balanced_accuracy', 'recall', 'model_churn_cost'] / ordered ascending? [False, False, True]\n"
     ]
    },
    {
     "data": {
      "text/html": [
       "<div>\n",
       "<style scoped>\n",
       "    .dataframe tbody tr th:only-of-type {\n",
       "        vertical-align: middle;\n",
       "    }\n",
       "\n",
       "    .dataframe tbody tr th {\n",
       "        vertical-align: top;\n",
       "    }\n",
       "\n",
       "    .dataframe thead th {\n",
       "        text-align: right;\n",
       "    }\n",
       "</style>\n",
       "<table border=\"1\" class=\"dataframe\">\n",
       "  <thead>\n",
       "    <tr style=\"text-align: right;\">\n",
       "      <th></th>\n",
       "      <th>classifier</th>\n",
       "      <th>sampling_method</th>\n",
       "      <th>balanced_accuracy</th>\n",
       "      <th>recall</th>\n",
       "      <th>precision</th>\n",
       "      <th>train_time</th>\n",
       "      <th>aucroc</th>\n",
       "      <th>auprc</th>\n",
       "      <th>model_churn_cost</th>\n",
       "    </tr>\n",
       "  </thead>\n",
       "  <tbody>\n",
       "    <tr>\n",
       "      <th>0</th>\n",
       "      <td>XGBClassifier</td>\n",
       "      <td>ROS 1:1</td>\n",
       "      <td>0.81</td>\n",
       "      <td>0.74</td>\n",
       "      <td>0.38</td>\n",
       "      <td>160.65</td>\n",
       "      <td>0.88</td>\n",
       "      <td>0.62</td>\n",
       "      <td>7752900</td>\n",
       "    </tr>\n",
       "    <tr>\n",
       "      <th>0</th>\n",
       "      <td>XGBClassifier</td>\n",
       "      <td>RUS 1:1</td>\n",
       "      <td>0.81</td>\n",
       "      <td>0.74</td>\n",
       "      <td>0.38</td>\n",
       "      <td>14.89</td>\n",
       "      <td>0.88</td>\n",
       "      <td>0.62</td>\n",
       "      <td>7794600</td>\n",
       "    </tr>\n",
       "    <tr>\n",
       "      <th>0</th>\n",
       "      <td>XGBClassifier</td>\n",
       "      <td>ROS 3:2</td>\n",
       "      <td>0.80</td>\n",
       "      <td>0.71</td>\n",
       "      <td>0.41</td>\n",
       "      <td>129.31</td>\n",
       "      <td>0.88</td>\n",
       "      <td>0.62</td>\n",
       "      <td>7634000</td>\n",
       "    </tr>\n",
       "    <tr>\n",
       "      <th>0</th>\n",
       "      <td>XGBClassifier</td>\n",
       "      <td>SMOTE_NC</td>\n",
       "      <td>0.80</td>\n",
       "      <td>0.71</td>\n",
       "      <td>0.40</td>\n",
       "      <td>161.53</td>\n",
       "      <td>0.87</td>\n",
       "      <td>0.60</td>\n",
       "      <td>7752100</td>\n",
       "    </tr>\n",
       "    <tr>\n",
       "      <th>0</th>\n",
       "      <td>XGBClassifier</td>\n",
       "      <td>ROS 2:1</td>\n",
       "      <td>0.79</td>\n",
       "      <td>0.65</td>\n",
       "      <td>0.48</td>\n",
       "      <td>114.12</td>\n",
       "      <td>0.88</td>\n",
       "      <td>0.63</td>\n",
       "      <td>7471300</td>\n",
       "    </tr>\n",
       "    <tr>\n",
       "      <th>0</th>\n",
       "      <td>XGBClassifier</td>\n",
       "      <td>ROS 3:1</td>\n",
       "      <td>0.77</td>\n",
       "      <td>0.60</td>\n",
       "      <td>0.55</td>\n",
       "      <td>100.30</td>\n",
       "      <td>0.88</td>\n",
       "      <td>0.63</td>\n",
       "      <td>7477200</td>\n",
       "    </tr>\n",
       "    <tr>\n",
       "      <th>0</th>\n",
       "      <td>GaussianNB</td>\n",
       "      <td>None</td>\n",
       "      <td>0.73</td>\n",
       "      <td>0.53</td>\n",
       "      <td>0.46</td>\n",
       "      <td>4.79</td>\n",
       "      <td>0.82</td>\n",
       "      <td>0.54</td>\n",
       "      <td>8447500</td>\n",
       "    </tr>\n",
       "  </tbody>\n",
       "</table>\n",
       "</div>"
      ],
      "text/plain": [
       "      classifier sampling_method  balanced_accuracy  recall  precision  \\\n",
       "0  XGBClassifier         ROS 1:1               0.81    0.74       0.38   \n",
       "0  XGBClassifier         RUS 1:1               0.81    0.74       0.38   \n",
       "0  XGBClassifier         ROS 3:2               0.80    0.71       0.41   \n",
       "0  XGBClassifier        SMOTE_NC               0.80    0.71       0.40   \n",
       "0  XGBClassifier         ROS 2:1               0.79    0.65       0.48   \n",
       "0  XGBClassifier         ROS 3:1               0.77    0.60       0.55   \n",
       "0     GaussianNB            None               0.73    0.53       0.46   \n",
       "\n",
       "   train_time  aucroc  auprc  model_churn_cost  \n",
       "0      160.65    0.88   0.62           7752900  \n",
       "0       14.89    0.88   0.62           7794600  \n",
       "0      129.31    0.88   0.62           7634000  \n",
       "0      161.53    0.87   0.60           7752100  \n",
       "0      114.12    0.88   0.63           7471300  \n",
       "0      100.30    0.88   0.63           7477200  \n",
       "0        4.79    0.82   0.54           8447500  "
      ]
     },
     "execution_count": 419,
     "metadata": {},
     "output_type": "execute_result"
    }
   ],
   "source": [
    "print(\"Getting results for {} / ordered ascending? {}\".format(measure_by, measure_by_sort))\n",
    "top_results = exp_metrics[(exp_metrics.recall > 0) & (exp_metrics.recall < 1)]\\\n",
    "                    .sort_values(measure_by, ascending=measure_by_sort).groupby('sampling_method').head(1)\n",
    "top_results = top_results[measurements]\n",
    "top_results.sort_values('balanced_accuracy', ascending=False)"
   ]
  },
  {
   "cell_type": "markdown",
   "metadata": {},
   "source": [
    "### Classifier train time distribution by sampling method"
   ]
  },
  {
   "cell_type": "code",
   "execution_count": 420,
   "metadata": {},
   "outputs": [
    {
     "data": {
      "text/plain": [
       "Text(0.5, 0, 'Sampling Method')"
      ]
     },
     "execution_count": 420,
     "metadata": {},
     "output_type": "execute_result"
    },
    {
     "data": {
      "image/png": "[encoded data removed]",
      "text/plain": [
       "<Figure size 720x576 with 1 Axes>"
      ]
     },
     "metadata": {
      "needs_background": "light"
     },
     "output_type": "display_data"
    }
   ],
   "source": [
    "fig, ax = plt.subplots(figsize=(10,8))\n",
    "plt.ylabel('Seconds')\n",
    "exp_metrics.boxplot(column='train_time', by='sampling_method', ax=ax)\n",
    "plt.title('Classifier Training Time Distribution\\n', size=17)\n",
    "plt.suptitle(' ')\n",
    "plt.xlabel('Sampling Method')"
   ]
  },
  {
   "cell_type": "markdown",
   "metadata": {},
   "source": [
    "### For this approach plot the best models by classifier"
   ]
  },
  {
   "cell_type": "code",
   "execution_count": 421,
   "metadata": {
    "scrolled": false
   },
   "outputs": [
    {
     "name": "stdout",
     "output_type": "stream",
     "text": [
      "Getting results for ['balanced_accuracy', 'recall', 'model_churn_cost'] / ordered ascending? [False, False, True]\n"
     ]
    },
    {
     "data": {
      "image/png": "[encoded data removed]",
      "text/plain": [
       "<Figure size 1152x576 with 2 Axes>"
      ]
     },
     "metadata": {
      "needs_background": "light"
     },
     "output_type": "display_data"
    }
   ],
   "source": [
    "print(\"Getting results for {} / ordered ascending? {}\".format(measure_by, measure_by_sort))\n",
    "plot_results = exp_metrics.sort_values(measure_by, ascending=measure_by_sort).groupby('classifier').head(1)\n",
    "plot_data = filter_top_model_results(plot_results, exp_results)\n",
    "plot_roc_prc(plot_data, 'Baseline')"
   ]
  },
  {
   "cell_type": "code",
   "execution_count": null,
   "metadata": {},
   "outputs": [],
   "source": []
  },
  {
   "cell_type": "code",
   "execution_count": null,
   "metadata": {},
   "outputs": [],
   "source": []
  },
  {
   "cell_type": "code",
   "execution_count": 255,
   "metadata": {},
   "outputs": [
    {
     "data": {
      "text/plain": [
       "KruskalResult(statistic=23362.838566202063, pvalue=0.0)"
      ]
     },
     "execution_count": 255,
     "metadata": {},
     "output_type": "execute_result"
    }
   ],
   "source": [
    "from scipy import stats\n",
    "import scikit_posthocs as sp\n",
    "\n",
    "xgb = plot_data[0][-2]\n",
    "rf = plot_data[1][-2]\n",
    "dt = plot_data[2][-2]\n",
    "gnb = plot_data[3][-2]\n",
    "lr = plot_data[4][-2]\n",
    "mlp = plot_data[5][-2]\n",
    "\n",
    "data = [xgb, rf, dt, gnb, lr, mlp]\n",
    "\n",
    "stats.kruskal(*data)"
   ]
  },
  {
   "cell_type": "code",
   "execution_count": 252,
   "metadata": {},
   "outputs": [
    {
     "data": {
      "text/html": [
       "<div>\n",
       "<style scoped>\n",
       "    .dataframe tbody tr th:only-of-type {\n",
       "        vertical-align: middle;\n",
       "    }\n",
       "\n",
       "    .dataframe tbody tr th {\n",
       "        vertical-align: top;\n",
       "    }\n",
       "\n",
       "    .dataframe thead th {\n",
       "        text-align: right;\n",
       "    }\n",
       "</style>\n",
       "<table border=\"1\" class=\"dataframe\">\n",
       "  <thead>\n",
       "    <tr style=\"text-align: right;\">\n",
       "      <th></th>\n",
       "      <th>1</th>\n",
       "      <th>2</th>\n",
       "      <th>3</th>\n",
       "      <th>4</th>\n",
       "      <th>5</th>\n",
       "      <th>6</th>\n",
       "    </tr>\n",
       "  </thead>\n",
       "  <tbody>\n",
       "    <tr>\n",
       "      <th>1</th>\n",
       "      <td>-1.00</td>\n",
       "      <td>0.00</td>\n",
       "      <td>0.00</td>\n",
       "      <td>0.00</td>\n",
       "      <td>0.00</td>\n",
       "      <td>0.89</td>\n",
       "    </tr>\n",
       "    <tr>\n",
       "      <th>2</th>\n",
       "      <td>0.00</td>\n",
       "      <td>-1.00</td>\n",
       "      <td>0.00</td>\n",
       "      <td>0.00</td>\n",
       "      <td>0.00</td>\n",
       "      <td>0.39</td>\n",
       "    </tr>\n",
       "    <tr>\n",
       "      <th>3</th>\n",
       "      <td>0.00</td>\n",
       "      <td>0.00</td>\n",
       "      <td>-1.00</td>\n",
       "      <td>0.22</td>\n",
       "      <td>0.00</td>\n",
       "      <td>0.58</td>\n",
       "    </tr>\n",
       "    <tr>\n",
       "      <th>4</th>\n",
       "      <td>0.00</td>\n",
       "      <td>0.00</td>\n",
       "      <td>0.22</td>\n",
       "      <td>-1.00</td>\n",
       "      <td>0.00</td>\n",
       "      <td>0.65</td>\n",
       "    </tr>\n",
       "    <tr>\n",
       "      <th>5</th>\n",
       "      <td>0.00</td>\n",
       "      <td>0.00</td>\n",
       "      <td>0.00</td>\n",
       "      <td>0.00</td>\n",
       "      <td>-1.00</td>\n",
       "      <td>0.67</td>\n",
       "    </tr>\n",
       "    <tr>\n",
       "      <th>6</th>\n",
       "      <td>0.89</td>\n",
       "      <td>0.39</td>\n",
       "      <td>0.58</td>\n",
       "      <td>0.65</td>\n",
       "      <td>0.67</td>\n",
       "      <td>-1.00</td>\n",
       "    </tr>\n",
       "  </tbody>\n",
       "</table>\n",
       "</div>"
      ],
      "text/plain": [
       "      1     2     3     4     5     6\n",
       "1 -1.00  0.00  0.00  0.00  0.00  0.89\n",
       "2  0.00 -1.00  0.00  0.00  0.00  0.39\n",
       "3  0.00  0.00 -1.00  0.22  0.00  0.58\n",
       "4  0.00  0.00  0.22 -1.00  0.00  0.65\n",
       "5  0.00  0.00  0.00  0.00 -1.00  0.67\n",
       "6  0.89  0.39  0.58  0.65  0.67 -1.00"
      ]
     },
     "execution_count": 252,
     "metadata": {},
     "output_type": "execute_result"
    }
   ],
   "source": [
    "sp.posthoc_conover(data)"
   ]
  },
  {
   "cell_type": "code",
   "execution_count": null,
   "metadata": {},
   "outputs": [],
   "source": []
  },
  {
   "cell_type": "code",
   "execution_count": null,
   "metadata": {
    "scrolled": true
   },
   "outputs": [],
   "source": [
    "#all_metrics[all_metrics.recall < 1.0].sort_values(['recall'], ascending=[False])"
   ]
  },
  {
   "cell_type": "code",
   "execution_count": null,
   "metadata": {},
   "outputs": [],
   "source": [
    "#all_metrics.sort_values(['recall','precision'], ascending=[False, False])"
   ]
  },
  {
   "cell_type": "code",
   "execution_count": null,
   "metadata": {},
   "outputs": [],
   "source": [
    "print(top_results.to_latex(index=False)) # doctest: +NORMALIZE_WHITESPACE"
   ]
  },
  {
   "cell_type": "code",
   "execution_count": null,
   "metadata": {},
   "outputs": [],
   "source": []
  },
  {
   "cell_type": "code",
   "execution_count": null,
   "metadata": {},
   "outputs": [],
   "source": []
  },
  {
   "cell_type": "code",
   "execution_count": 44,
   "metadata": {},
   "outputs": [],
   "source": [
    "import scipy.stats as ss\n",
    "import statsmodels.api as sa\n",
    "import scikit_posthocs as sp\n",
    "import statsmodels.formula.api as sfa\n",
    "\n",
    "df = sa.datasets.get_rdataset('iris').data\n",
    "data = [df.loc[ids, 'Sepal.Width'].values for ids in df.groupby('Species').groups.values()]"
   ]
  },
  {
   "cell_type": "code",
   "execution_count": 46,
   "metadata": {},
   "outputs": [
    {
     "name": "stdout",
     "output_type": "stream",
     "text": [
      "63.571146104163795 1.5692820940316782e-14\n"
     ]
    }
   ],
   "source": [
    "H, p = ss.kruskal(*data)\n",
    "print(H, p)"
   ]
  },
  {
   "cell_type": "code",
   "execution_count": 47,
   "metadata": {},
   "outputs": [
    {
     "data": {
      "text/html": [
       "<div>\n",
       "<style scoped>\n",
       "    .dataframe tbody tr th:only-of-type {\n",
       "        vertical-align: middle;\n",
       "    }\n",
       "\n",
       "    .dataframe tbody tr th {\n",
       "        vertical-align: top;\n",
       "    }\n",
       "\n",
       "    .dataframe thead th {\n",
       "        text-align: right;\n",
       "    }\n",
       "</style>\n",
       "<table border=\"1\" class=\"dataframe\">\n",
       "  <thead>\n",
       "    <tr style=\"text-align: right;\">\n",
       "      <th></th>\n",
       "      <th>setosa</th>\n",
       "      <th>versicolor</th>\n",
       "      <th>virginica</th>\n",
       "    </tr>\n",
       "  </thead>\n",
       "  <tbody>\n",
       "    <tr>\n",
       "      <th>setosa</th>\n",
       "      <td>-1.00</td>\n",
       "      <td>0.00</td>\n",
       "      <td>0.00</td>\n",
       "    </tr>\n",
       "    <tr>\n",
       "      <th>versicolor</th>\n",
       "      <td>0.00</td>\n",
       "      <td>-1.00</td>\n",
       "      <td>0.00</td>\n",
       "    </tr>\n",
       "    <tr>\n",
       "      <th>virginica</th>\n",
       "      <td>0.00</td>\n",
       "      <td>0.00</td>\n",
       "      <td>-1.00</td>\n",
       "    </tr>\n",
       "  </tbody>\n",
       "</table>\n",
       "</div>"
      ],
      "text/plain": [
       "            setosa  versicolor  virginica\n",
       "setosa       -1.00        0.00       0.00\n",
       "versicolor    0.00       -1.00       0.00\n",
       "virginica     0.00        0.00      -1.00"
      ]
     },
     "execution_count": 47,
     "metadata": {},
     "output_type": "execute_result"
    }
   ],
   "source": [
    "sp.posthoc_conover(df, val_col='Sepal.Width', group_col='Species', p_adjust = 'holm')"
   ]
  },
  {
   "cell_type": "code",
   "execution_count": 55,
   "metadata": {},
   "outputs": [],
   "source": [
    "df.columns = ['Sepal_Length', 'Sepal_Width', 'Petal_Length', 'Petal_Width', 'Species']"
   ]
  },
  {
   "cell_type": "code",
   "execution_count": 56,
   "metadata": {},
   "outputs": [
    {
     "name": "stdout",
     "output_type": "stream",
     "text": [
      "               df  sum_sq  mean_sq     F  PR(>F)\n",
      "C(Species)   2.00   11.34     5.67 49.16    0.00\n",
      "Residual   147.00   16.96     0.12   nan     nan\n"
     ]
    }
   ],
   "source": [
    "lm = sfa.ols('Sepal_Width ~ C(Species)', data=df).fit()\n",
    "anova = sa.stats.anova_lm(lm)\n",
    "print(anova)"
   ]
  },
  {
   "cell_type": "code",
   "execution_count": 59,
   "metadata": {},
   "outputs": [
    {
     "data": {
      "text/html": [
       "<div>\n",
       "<style scoped>\n",
       "    .dataframe tbody tr th:only-of-type {\n",
       "        vertical-align: middle;\n",
       "    }\n",
       "\n",
       "    .dataframe tbody tr th {\n",
       "        vertical-align: top;\n",
       "    }\n",
       "\n",
       "    .dataframe thead th {\n",
       "        text-align: right;\n",
       "    }\n",
       "</style>\n",
       "<table border=\"1\" class=\"dataframe\">\n",
       "  <thead>\n",
       "    <tr style=\"text-align: right;\">\n",
       "      <th></th>\n",
       "      <th>setosa</th>\n",
       "      <th>versicolor</th>\n",
       "      <th>virginica</th>\n",
       "    </tr>\n",
       "  </thead>\n",
       "  <tbody>\n",
       "    <tr>\n",
       "      <th>setosa</th>\n",
       "      <td>-1.00</td>\n",
       "      <td>0.00</td>\n",
       "      <td>0.00</td>\n",
       "    </tr>\n",
       "    <tr>\n",
       "      <th>versicolor</th>\n",
       "      <td>0.00</td>\n",
       "      <td>-1.00</td>\n",
       "      <td>0.00</td>\n",
       "    </tr>\n",
       "    <tr>\n",
       "      <th>virginica</th>\n",
       "      <td>0.00</td>\n",
       "      <td>0.00</td>\n",
       "      <td>-1.00</td>\n",
       "    </tr>\n",
       "  </tbody>\n",
       "</table>\n",
       "</div>"
      ],
      "text/plain": [
       "            setosa  versicolor  virginica\n",
       "setosa       -1.00        0.00       0.00\n",
       "versicolor    0.00       -1.00       0.00\n",
       "virginica     0.00        0.00      -1.00"
      ]
     },
     "execution_count": 59,
     "metadata": {},
     "output_type": "execute_result"
    }
   ],
   "source": [
    "sp.posthoc_ttest(df, val_col='Sepal_Width', group_col='Species', p_adjust='holm')"
   ]
  }
 ],
 "metadata": {
  "kernelspec": {
   "display_name": "Python 3",
   "language": "python",
   "name": "python3"
  },
  "language_info": {
   "codemirror_mode": {
    "name": "ipython",
    "version": 3
   },
   "file_extension": ".py",
   "mimetype": "text/x-python",
   "name": "python",
   "nbconvert_exporter": "python",
   "pygments_lexer": "ipython3",
   "version": "3.7.3"
  }
 },
 "nbformat": 4,
 "nbformat_minor": 2
}
