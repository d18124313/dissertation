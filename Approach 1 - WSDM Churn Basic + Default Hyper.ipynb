{
 "cells": [
  {
   "cell_type": "code",
   "execution_count": null,
   "metadata": {
    "init_cell": true
   },
   "outputs": [],
   "source": [
    "## @see https://www.kaggle.com/toorkp/churn-wsdm/data"
   ]
  },
  {
   "cell_type": "code",
   "execution_count": 1,
   "metadata": {
    "init_cell": true,
    "scrolled": false
   },
   "outputs": [],
   "source": [
    "%load_ext autoreload\n",
    "%autoreload"
   ]
  },
  {
   "cell_type": "code",
   "execution_count": 5,
   "metadata": {},
   "outputs": [
    {
     "data": {
      "text/plain": [
       "'test'"
      ]
     },
     "execution_count": 5,
     "metadata": {},
     "output_type": "execute_result"
    }
   ],
   "source": [
    "\"test\""
   ]
  },
  {
   "cell_type": "code",
   "execution_count": 2,
   "metadata": {
    "init_cell": true
   },
   "outputs": [
    {
     "name": "stderr",
     "output_type": "stream",
     "text": [
      "/home/anaconda/envs/py373/lib/python3.7/site-packages/pyparsing.py:2927: FutureWarning: Possible set intersection at position 3\n",
      "  self.re = re.compile( self.reString )\n",
      "/home/anaconda/envs/py373/lib/python3.7/site-packages/sklearn/externals/joblib/__init__.py:15: DeprecationWarning: sklearn.externals.joblib is deprecated in 0.21 and will be removed in 0.23. Please import this functionality directly from joblib, which can be installed with: pip install joblib. If this warning is raised when loading pickled models, you may need to re-serialize those models with scikit-learn 0.21+.\n",
      "  warnings.warn(msg, category=DeprecationWarning)\n"
     ]
    }
   ],
   "source": [
    "import numpy as np\n",
    "import pandas as pd\n",
    "import time\n",
    "import gc; gc.enable()\n",
    "import time\n",
    "import sys\n",
    "\n",
    "from sklearn import model_selection\n",
    "from sklearn.neighbors import KNeighborsClassifier\n",
    "from sklearn.tree import DecisionTreeClassifier\n",
    "from sklearn.ensemble import RandomForestClassifier, AdaBoostClassifier\n",
    "from sklearn.linear_model import LogisticRegression\n",
    "from sklearn.naive_bayes import GaussianNB\n",
    "from sklearn.neural_network import MLPClassifier\n",
    "import xgboost as xgb\n",
    "\n",
    "from collections import Counter\n",
    "from numpy.random import RandomState\n",
    "from imblearn.over_sampling import SMOTENC\n",
    "from imblearn.over_sampling import RandomOverSampler\n",
    "from imblearn.under_sampling import RandomUnderSampler\n",
    "\n",
    "pd.options.display.float_format = \"{:.2f}\".format\n",
    "np.set_printoptions(precision=4)\n",
    "\n",
    "import matplotlib.pyplot as plt\n",
    "%matplotlib inline\n",
    "\n",
    "sys.path.append('modules')\n",
    "\n",
    "from shared_functions import *\n",
    "\n",
    "import pickle\n",
    "from datetime import datetime"
   ]
  },
  {
   "cell_type": "code",
   "execution_count": 3,
   "metadata": {},
   "outputs": [
    {
     "name": "stdout",
     "output_type": "stream",
     "text": [
      "Train Shape: (600803, 16) (600803,)\n",
      "Train Shape: (257487, 16) (257487,)\n"
     ]
    },
    {
     "data": {
      "text/html": [
       "<div>\n",
       "<style scoped>\n",
       "    .dataframe tbody tr th:only-of-type {\n",
       "        vertical-align: middle;\n",
       "    }\n",
       "\n",
       "    .dataframe tbody tr th {\n",
       "        vertical-align: top;\n",
       "    }\n",
       "\n",
       "    .dataframe thead th {\n",
       "        text-align: right;\n",
       "    }\n",
       "</style>\n",
       "<table border=\"1\" class=\"dataframe\">\n",
       "  <thead>\n",
       "    <tr style=\"text-align: right;\">\n",
       "      <th></th>\n",
       "      <th>msno</th>\n",
       "      <th>city</th>\n",
       "      <th>bd</th>\n",
       "      <th>registered_via</th>\n",
       "      <th>registration_init_time</th>\n",
       "      <th>registration_init_time_dt</th>\n",
       "      <th>total_order</th>\n",
       "      <th>payment_method_id_mode</th>\n",
       "      <th>payment_method_id_count</th>\n",
       "      <th>payment_plan_days_mode</th>\n",
       "      <th>payment_plan_days_mean</th>\n",
       "      <th>plan_list_price_mean</th>\n",
       "      <th>plan_lifetime_value</th>\n",
       "      <th>is_auto_renew_mode</th>\n",
       "      <th>transaction_date_max</th>\n",
       "      <th>cancel_times</th>\n",
       "    </tr>\n",
       "  </thead>\n",
       "  <tbody>\n",
       "    <tr>\n",
       "      <th>703741</th>\n",
       "      <td>k5508nHWp+WmOeQTuChB4ETVmbhFmA+7E0qgK1uXKEg=</td>\n",
       "      <td>4</td>\n",
       "      <td>32</td>\n",
       "      <td>3</td>\n",
       "      <td>20130407</td>\n",
       "      <td>2013-04-07</td>\n",
       "      <td>22</td>\n",
       "      <td>33</td>\n",
       "      <td>1</td>\n",
       "      <td>30</td>\n",
       "      <td>21.82</td>\n",
       "      <td>108.36</td>\n",
       "      <td>2384.00</td>\n",
       "      <td>True</td>\n",
       "      <td>20170228</td>\n",
       "      <td>0</td>\n",
       "    </tr>\n",
       "    <tr>\n",
       "      <th>228194</th>\n",
       "      <td>WiRqDxpeBqgkDSqd3kRG/VgZbbDUh7yjxHquuY+iVbY=</td>\n",
       "      <td>13</td>\n",
       "      <td>33</td>\n",
       "      <td>3</td>\n",
       "      <td>20131125</td>\n",
       "      <td>2013-11-25</td>\n",
       "      <td>19</td>\n",
       "      <td>39</td>\n",
       "      <td>1</td>\n",
       "      <td>30</td>\n",
       "      <td>28.58</td>\n",
       "      <td>141.16</td>\n",
       "      <td>2682.00</td>\n",
       "      <td>True</td>\n",
       "      <td>20170131</td>\n",
       "      <td>0</td>\n",
       "    </tr>\n",
       "    <tr>\n",
       "      <th>735733</th>\n",
       "      <td>YVVOQPk0x2NeB3WqLgc9Sp1R8rIbaWDAnXAZFOf7rlY=</td>\n",
       "      <td>15</td>\n",
       "      <td>22</td>\n",
       "      <td>3</td>\n",
       "      <td>20150705</td>\n",
       "      <td>2015-07-05</td>\n",
       "      <td>17</td>\n",
       "      <td>40</td>\n",
       "      <td>3</td>\n",
       "      <td>30</td>\n",
       "      <td>30.00</td>\n",
       "      <td>158.12</td>\n",
       "      <td>2688.00</td>\n",
       "      <td>True</td>\n",
       "      <td>20170210</td>\n",
       "      <td>4</td>\n",
       "    </tr>\n",
       "    <tr>\n",
       "      <th>774256</th>\n",
       "      <td>pm07iNhaXPZ3On4cr4xyL4qOETYWikeemBOHZKhvzYI=</td>\n",
       "      <td>1</td>\n",
       "      <td>0</td>\n",
       "      <td>7</td>\n",
       "      <td>20140806</td>\n",
       "      <td>2014-08-06</td>\n",
       "      <td>26</td>\n",
       "      <td>41</td>\n",
       "      <td>1</td>\n",
       "      <td>30</td>\n",
       "      <td>28.85</td>\n",
       "      <td>143.27</td>\n",
       "      <td>3725.00</td>\n",
       "      <td>True</td>\n",
       "      <td>20170205</td>\n",
       "      <td>0</td>\n",
       "    </tr>\n",
       "    <tr>\n",
       "      <th>282188</th>\n",
       "      <td>MboyMUzNIj6LN+wDrZai6uLE3XQ0ReA79JSMNZfkLgk=</td>\n",
       "      <td>1</td>\n",
       "      <td>0</td>\n",
       "      <td>7</td>\n",
       "      <td>20121026</td>\n",
       "      <td>2012-10-26</td>\n",
       "      <td>27</td>\n",
       "      <td>41</td>\n",
       "      <td>1</td>\n",
       "      <td>30</td>\n",
       "      <td>28.89</td>\n",
       "      <td>132.00</td>\n",
       "      <td>3564.00</td>\n",
       "      <td>True</td>\n",
       "      <td>20170216</td>\n",
       "      <td>1</td>\n",
       "    </tr>\n",
       "  </tbody>\n",
       "</table>\n",
       "</div>"
      ],
      "text/plain": [
       "                                                msno city  bd registered_via  \\\n",
       "703741  k5508nHWp+WmOeQTuChB4ETVmbhFmA+7E0qgK1uXKEg=    4  32              3   \n",
       "228194  WiRqDxpeBqgkDSqd3kRG/VgZbbDUh7yjxHquuY+iVbY=   13  33              3   \n",
       "735733  YVVOQPk0x2NeB3WqLgc9Sp1R8rIbaWDAnXAZFOf7rlY=   15  22              3   \n",
       "774256  pm07iNhaXPZ3On4cr4xyL4qOETYWikeemBOHZKhvzYI=    1   0              7   \n",
       "282188  MboyMUzNIj6LN+wDrZai6uLE3XQ0ReA79JSMNZfkLgk=    1   0              7   \n",
       "\n",
       "        registration_init_time registration_init_time_dt  total_order  \\\n",
       "703741                20130407                2013-04-07           22   \n",
       "228194                20131125                2013-11-25           19   \n",
       "735733                20150705                2015-07-05           17   \n",
       "774256                20140806                2014-08-06           26   \n",
       "282188                20121026                2012-10-26           27   \n",
       "\n",
       "        payment_method_id_mode  payment_method_id_count  \\\n",
       "703741                      33                        1   \n",
       "228194                      39                        1   \n",
       "735733                      40                        3   \n",
       "774256                      41                        1   \n",
       "282188                      41                        1   \n",
       "\n",
       "        payment_plan_days_mode  payment_plan_days_mean  plan_list_price_mean  \\\n",
       "703741                      30                   21.82                108.36   \n",
       "228194                      30                   28.58                141.16   \n",
       "735733                      30                   30.00                158.12   \n",
       "774256                      30                   28.85                143.27   \n",
       "282188                      30                   28.89                132.00   \n",
       "\n",
       "        plan_lifetime_value  is_auto_renew_mode  transaction_date_max  \\\n",
       "703741              2384.00                True              20170228   \n",
       "228194              2682.00                True              20170131   \n",
       "735733              2688.00                True              20170210   \n",
       "774256              3725.00                True              20170205   \n",
       "282188              3564.00                True              20170216   \n",
       "\n",
       "        cancel_times  \n",
       "703741             0  \n",
       "228194             0  \n",
       "735733             4  \n",
       "774256             0  \n",
       "282188             1  "
      ]
     },
     "execution_count": 3,
     "metadata": {},
     "output_type": "execute_result"
    }
   ],
   "source": [
    "# Load the pre-split data\n",
    "\n",
    "store = pd.HDFStore('/home/dissertation/data/base_abt_split.h5')\n",
    "X_train, X_test, y_train, y_test = store['X_train'], store['X_test'], store['y_train'], store['y_test']\n",
    "store.close()\n",
    "\n",
    "print(\"Train Shape:\", X_train.shape, y_train.shape)\n",
    "print(\"Train Shape:\", X_test.shape, y_test.shape)\n",
    "X_train.head()"
   ]
  },
  {
   "cell_type": "code",
   "execution_count": null,
   "metadata": {},
   "outputs": [],
   "source": []
  },
  {
   "cell_type": "code",
   "execution_count": 4,
   "metadata": {},
   "outputs": [],
   "source": [
    "## Set the list of the categorical columns in the dataset\n",
    "cat_col = ['city', 'registered_via', 'payment_method_id_mode']\n",
    "\n",
    "# Drop msno from the dataset\n",
    "X_train.drop(['msno'], inplace=True, axis=1)\n",
    "X_test.drop(['msno'], inplace=True, axis=1)"
   ]
  },
  {
   "cell_type": "code",
   "execution_count": 5,
   "metadata": {},
   "outputs": [],
   "source": [
    "RANDOM_STATE = 42 \n",
    "CV_ITER = 5\n",
    "SCORING_METRIC = 'recall'\n",
    "\n",
    "BASE_NAME = \"basic_\" + str(CV_ITER) + \"cv_\" + SCORING_METRIC\n",
    "\n",
    "## Each entry in the list is a Tuple of\n",
    "##   [ModelName, Model, HyperParams, ScoringMetric]\n",
    "classifiers = [\n",
    "    ('NB_' + BASE_NAME, GaussianNB(), {}, SCORING_METRIC),\n",
    "    ('DT_' + BASE_NAME, DecisionTreeClassifier(), {}, SCORING_METRIC),\n",
    "    ('RF_' + BASE_NAME, RandomForestClassifier(n_jobs =-1), {}, SCORING_METRIC),\n",
    "    ('LR_' + BASE_NAME, LogisticRegression(solver = 'liblinear'), {}, SCORING_METRIC),\n",
    "    ('AB_' + BASE_NAME, AdaBoostClassifier(), {}, SCORING_METRIC),\n",
    "    ('MLP_' + BASE_NAME, MLPClassifier(), {}, SCORING_METRIC),\n",
    "    ('XGB_' + BASE_NAME, xgb.XGBClassifier(objective=\"binary:logistic\"), {}, SCORING_METRIC) \n",
    "]"
   ]
  },
  {
   "cell_type": "code",
   "execution_count": 6,
   "metadata": {},
   "outputs": [],
   "source": [
    "all_metrics = pd.DataFrame()\n",
    "all_results = list()"
   ]
  },
  {
   "cell_type": "code",
   "execution_count": null,
   "metadata": {},
   "outputs": [],
   "source": []
  },
  {
   "cell_type": "markdown",
   "metadata": {},
   "source": [
    "### Experiment 1.x Baseline - Default Settings - No sampling - 10 iterations to test score variance"
   ]
  },
  {
   "cell_type": "code",
   "execution_count": null,
   "metadata": {},
   "outputs": [],
   "source": [
    "# %%time\n",
    "\n",
    "# N_ITERATIONS = 10\n",
    "# RANDOM_STATE = None\n",
    "\n",
    "# sampler = ('None', DummySampler())\n",
    "\n",
    "# exp_metrics, model_results = perform_experiment(X_train, X_test, y_train, y_test, classifiers, sampler, N_ITERATIONS, \\\n",
    "#                                                 cv_iter=CV_ITER, cat_col=cat_col)\n"
   ]
  },
  {
   "cell_type": "markdown",
   "metadata": {},
   "source": [
    "### Is it possible to test RandomSampling and the effect of random_state ?????"
   ]
  },
  {
   "cell_type": "code",
   "execution_count": null,
   "metadata": {},
   "outputs": [],
   "source": [
    "# %%time\n",
    "\n",
    "# N_ITERATIONS = 10\n",
    "# RANDOM_STATE = None\n",
    "\n",
    "# sampler = ('None', RandomOverSampler(random_state=None))\n",
    "\n",
    "# exp_metrics, model_results = perform_experiment(X_train, X_test, y_train, y_test, classifiers, sampler, N_ITERATIONS, \\\n",
    "#                                                 cv_iter=CV_ITER, cat_col=cat_col)\n"
   ]
  },
  {
   "cell_type": "code",
   "execution_count": null,
   "metadata": {},
   "outputs": [],
   "source": [
    "#  Over 10 iterations we have 0 difference in accuracy, precision, recall, f1_score, aucroc, aucprc\n",
    "#    Small difference in balanced accuracy of 0.01. \n",
    "#    A 5-fold CV recall score on the test set shows a mean of 0.45 with SD of 0.01.\n",
    "#    Churn cost changes minimally (M: 8680470.0, SD: 6398.132540046353, Pct Cost of 1 SD: 0.07%))\n",
    "    \n",
    "#    np.mean(exp_metrics.model_churn_cost.values),  np.std(exp_metrics.model_churn_cost.values)\n",
    "#    100 * (np.std(exp_metrics.model_churn_cost.values) / np.mean(exp_metrics.model_churn_cost.values))    \n",
    "\n",
    "#exp_metrics"
   ]
  },
  {
   "cell_type": "code",
   "execution_count": null,
   "metadata": {},
   "outputs": [],
   "source": []
  },
  {
   "cell_type": "markdown",
   "metadata": {},
   "source": [
    "### Experiment 1.1 Baseline - Default Settings - No sampling"
   ]
  },
  {
   "cell_type": "code",
   "execution_count": null,
   "metadata": {
    "scrolled": false
   },
   "outputs": [
    {
     "name": "stdout",
     "output_type": "stream",
     "text": [
      "Model Build Iteration 0\n",
      "PRE-SAMPLING: (600803, 15) (600803,) Counter({0: 544661, 1: 56142})\n",
      "POST-SAMPLING: (600803, 15) (600803,) Counter({0: 544661, 1: 56142})\n",
      "Set the train df types correctly based on the test set\n",
      "Applying normalisation to train and test sets\n",
      "Categorical columns in dataset ['city', 'registered_via', 'payment_method_id_mode']\n",
      "Categorical columns in dataset ['city', 'registered_via', 'payment_method_id_mode']\n",
      "X_train:  (600803, 70) (600803, 1)\n",
      "X_test:  (257487, 70) (257487, 1)\n"
     ]
    },
    {
     "data": {
      "image/png": "[encoded data removed]",
      "text/plain": [
       "<Figure size 432x288 with 2 Axes>"
      ]
     },
     "metadata": {
      "needs_background": "light"
     },
     "output_type": "display_data"
    },
    {
     "name": "stdout",
     "output_type": "stream",
     "text": [
      "Training NB_basic_5cv_recall classifier\n",
      "No params set, using Standard training\n",
      "Generating test scores for NB_basic_5cv_recall classifier\n",
      "Performing 5-fold CV on test set using recall metric\n",
      "Training DT_basic_5cv_recall classifier\n",
      "No params set, using Standard training\n",
      "Generating test scores for DT_basic_5cv_recall classifier\n",
      "Performing 5-fold CV on test set using recall metric\n",
      "Training RF_basic_5cv_recall classifier\n",
      "No params set, using Standard training\n"
     ]
    },
    {
     "name": "stderr",
     "output_type": "stream",
     "text": [
      "/home/anaconda/envs/py373/lib/python3.7/site-packages/sklearn/ensemble/forest.py:245: FutureWarning: The default value of n_estimators will change from 10 in version 0.20 to 100 in 0.22.\n",
      "  \"10 in version 0.20 to 100 in 0.22.\", FutureWarning)\n"
     ]
    },
    {
     "name": "stdout",
     "output_type": "stream",
     "text": [
      "Generating test scores for RF_basic_5cv_recall classifier\n",
      "Performing 5-fold CV on test set using recall metric\n",
      "Training LR_basic_5cv_recall classifier\n",
      "No params set, using Standard training\n",
      "Generating test scores for LR_basic_5cv_recall classifier\n",
      "Performing 5-fold CV on test set using recall metric\n"
     ]
    },
    {
     "name": "stderr",
     "output_type": "stream",
     "text": [
      "/home/anaconda/envs/py373/lib/python3.7/site-packages/sklearn/metrics/classification.py:1437: UndefinedMetricWarning: Precision is ill-defined and being set to 0.0 due to no predicted samples.\n",
      "  'precision', 'predicted', average, warn_for)\n",
      "/home/anaconda/envs/py373/lib/python3.7/site-packages/sklearn/metrics/classification.py:1437: UndefinedMetricWarning: F-score is ill-defined and being set to 0.0 due to no predicted samples.\n",
      "  'precision', 'predicted', average, warn_for)\n"
     ]
    },
    {
     "name": "stdout",
     "output_type": "stream",
     "text": [
      "Training AB_basic_5cv_recall classifier\n",
      "No params set, using Standard training\n",
      "Generating test scores for AB_basic_5cv_recall classifier\n",
      "Performing 5-fold CV on test set using recall metric\n",
      "Training MLP_basic_5cv_recall classifier\n",
      "No params set, using Standard training\n",
      "Generating test scores for MLP_basic_5cv_recall classifier\n",
      "Performing 5-fold CV on test set using recall metric\n"
     ]
    }
   ],
   "source": [
    "%%time\n",
    "\n",
    "sampler = ('None', DummySampler())\n",
    "\n",
    "exp_metrics, model_results = perform_experiment(X_train, X_test, y_train, y_test, classifiers, sampler, 1, \\\n",
    "                                                cv_iter=CV_ITER, cat_col=cat_col)\n",
    "\n",
    "all_metrics = all_metrics.append(exp_metrics)\n",
    "all_results.append((sampler[0]+\"_\"+BASE_NAME, exp_metrics, model_results))"
   ]
  },
  {
   "cell_type": "code",
   "execution_count": null,
   "metadata": {},
   "outputs": [],
   "source": []
  },
  {
   "cell_type": "markdown",
   "metadata": {},
   "source": [
    "### Experiment 1.2 Baseline - Default Settings - Oversampled training set 100%"
   ]
  },
  {
   "cell_type": "code",
   "execution_count": null,
   "metadata": {},
   "outputs": [],
   "source": [
    "%%time\n",
    "\n",
    "sampler = ('ROS 1:1', RandomOverSampler(random_state=RANDOM_STATE))\n",
    "\n",
    "exp_metrics, model_results = perform_experiment(X_train, X_test, y_train, y_test, classifiers, sampler, 1, \n",
    "                                 cv_iter=CV_ITER, cat_col=cat_col)\n",
    "\n",
    "all_metrics = all_metrics.append(exp_metrics)\n",
    "all_results.append((sampler[0]+\"_\"+BASE_NAME, exp_metrics, model_results))"
   ]
  },
  {
   "cell_type": "code",
   "execution_count": null,
   "metadata": {},
   "outputs": [],
   "source": []
  },
  {
   "cell_type": "markdown",
   "metadata": {},
   "source": [
    "### Experiment 1.3 Baseline - Default Settings - Undersampled training set"
   ]
  },
  {
   "cell_type": "code",
   "execution_count": null,
   "metadata": {},
   "outputs": [],
   "source": [
    "%%time\n",
    "\n",
    "sampler = ('RUS 1:1', RandomUnderSampler(random_state=RANDOM_STATE))\n",
    "\n",
    "exp_metrics, model_results = perform_experiment(X_train, X_test, y_train, y_test, classifiers, sampler, 1, \n",
    "                                 cv_iter=CV_ITER, cat_col=cat_col)\n",
    "\n",
    "all_metrics = all_metrics.append(exp_metrics)\n",
    "all_results.append((sampler[0]+\"_\"+BASE_NAME, exp_metrics, model_results))"
   ]
  },
  {
   "cell_type": "code",
   "execution_count": null,
   "metadata": {},
   "outputs": [],
   "source": []
  },
  {
   "cell_type": "markdown",
   "metadata": {},
   "source": [
    "### Experiment 1.4 Baseline - Default Settings - Over sampling - 33% of majority size"
   ]
  },
  {
   "cell_type": "code",
   "execution_count": null,
   "metadata": {},
   "outputs": [],
   "source": [
    "%%time\n",
    "\n",
    "sampler = ('ROS 3:1', RandomOverSampler(random_state=RANDOM_STATE, sampling_strategy = 1/3))\n",
    "\n",
    "exp_metrics, model_results = perform_experiment(X_train, X_test, y_train, y_test, classifiers, sampler, 1, \n",
    "                                 cv_iter=CV_ITER, cat_col=cat_col)\n",
    "\n",
    "all_metrics = all_metrics.append(exp_metrics)\n",
    "all_results.append((sampler[0]+\"_\"+BASE_NAME, exp_metrics, model_results))"
   ]
  },
  {
   "cell_type": "code",
   "execution_count": null,
   "metadata": {},
   "outputs": [],
   "source": []
  },
  {
   "cell_type": "markdown",
   "metadata": {},
   "source": [
    "### Experiment 1.5 Baseline - Default Settings - Over sampling - 66% of majority size"
   ]
  },
  {
   "cell_type": "code",
   "execution_count": null,
   "metadata": {},
   "outputs": [],
   "source": [
    "%%time\n",
    "\n",
    "sampler = ('ROS 3:2', RandomOverSampler(random_state=RANDOM_STATE, sampling_strategy = 2/3))\n",
    "\n",
    "exp_metrics, model_results = perform_experiment(X_train, X_test, y_train, y_test, classifiers, sampler, 1, \n",
    "                                 cv_iter=CV_ITER, cat_col=cat_col)\n",
    "\n",
    "all_metrics = all_metrics.append(exp_metrics)\n",
    "all_results.append((sampler[0]+\"_\"+BASE_NAME, exp_metrics, model_results))"
   ]
  },
  {
   "cell_type": "code",
   "execution_count": null,
   "metadata": {},
   "outputs": [],
   "source": []
  },
  {
   "cell_type": "markdown",
   "metadata": {},
   "source": [
    "### Experiment 1.6 Baseline - Default Settings - Over sampling - 50% of majority size"
   ]
  },
  {
   "cell_type": "code",
   "execution_count": null,
   "metadata": {},
   "outputs": [],
   "source": [
    "%%time\n",
    "\n",
    "sampler = ('ROS 2:1', RandomOverSampler(random_state=RANDOM_STATE, sampling_strategy = 1/2))\n",
    "\n",
    "exp_metrics, model_results = perform_experiment(X_train, X_test, y_train, y_test, classifiers, sampler, 1, \n",
    "                                 cv_iter=CV_ITER, cat_col=cat_col)\n",
    "\n",
    "all_metrics = all_metrics.append(exp_metrics)\n",
    "all_results.append((sampler[0]+\"_\"+BASE_NAME, exp_metrics, model_results))"
   ]
  },
  {
   "cell_type": "code",
   "execution_count": null,
   "metadata": {},
   "outputs": [],
   "source": []
  },
  {
   "cell_type": "markdown",
   "metadata": {},
   "source": [
    "### Experiment 1.7 Baseline Default Settings SMOTE-NC"
   ]
  },
  {
   "cell_type": "code",
   "execution_count": null,
   "metadata": {},
   "outputs": [],
   "source": [
    "%%time\n",
    "\n",
    "sampler = ('SMOTE_NC', SMOTENC(random_state=RANDOM_STATE, categorical_features=[0,1,2,3,4,5,6,7,12,13], n_jobs=8))\n",
    "\n",
    "## Keep the following, essentially dropping the dt columns\n",
    "cols = ['is_churn', 'city', 'bd', 'registered_via', 'total_order',\n",
    "       'payment_method_id_mode', 'payment_method_id_count',\n",
    "       'payment_plan_days_mode', 'payment_plan_days_mean',\n",
    "       'plan_list_price_mean', 'plan_lifetime_value', 'actual_amount_mean',\n",
    "       'total_actual_amount', 'is_auto_renew_mode', 'cancel_times']\n",
    "\n",
    "exp_metrics, model_results = perform_experiment(X_train, X_test, y_train, y_test, classifiers, sampler, 1, \n",
    "                                 cv_iter=CV_ITER, cat_col=cat_col)\n",
    "\n",
    "all_metrics = all_metrics.append(exp_metrics)\n",
    "all_results.append((sampler[0]+\"_\"+BASE_NAME, exp_metrics, model_results))"
   ]
  },
  {
   "cell_type": "code",
   "execution_count": null,
   "metadata": {},
   "outputs": [],
   "source": []
  },
  {
   "cell_type": "markdown",
   "metadata": {},
   "source": [
    "### Persist results to disk"
   ]
  },
  {
   "cell_type": "code",
   "execution_count": 22,
   "metadata": {},
   "outputs": [
    {
     "name": "stdout",
     "output_type": "stream",
     "text": [
      "Writing results to Basic_DefaultHyper_2019-08-02.pickle\n"
     ]
    }
   ],
   "source": [
    "store(all_results, 'Basic_DefaultHyper_{0}.pickle'.format(datetime.today().strftime('%Y-%m-%d')))"
   ]
  },
  {
   "cell_type": "code",
   "execution_count": 20,
   "metadata": {},
   "outputs": [],
   "source": []
  },
  {
   "cell_type": "code",
   "execution_count": null,
   "metadata": {},
   "outputs": [],
   "source": []
  },
  {
   "cell_type": "code",
   "execution_count": 23,
   "metadata": {},
   "outputs": [],
   "source": [
    "# with open('EXP1_2019-07-31.pickle', 'rb') as f:\n",
    "#     # The protocol version used is detected automatically, so we do not\n",
    "#     # have to specify it.\n",
    "#     data = pickle.load(f)\n",
    "    \n",
    "# data[0][1][1][2]"
   ]
  },
  {
   "cell_type": "code",
   "execution_count": null,
   "metadata": {},
   "outputs": [],
   "source": []
  },
  {
   "cell_type": "markdown",
   "metadata": {},
   "source": [
    "### Sort the results and get the best sampling config per classifier "
   ]
  },
  {
   "cell_type": "code",
   "execution_count": 24,
   "metadata": {},
   "outputs": [
    {
     "data": {
      "text/html": [
       "<div>\n",
       "<style scoped>\n",
       "    .dataframe tbody tr th:only-of-type {\n",
       "        vertical-align: middle;\n",
       "    }\n",
       "\n",
       "    .dataframe tbody tr th {\n",
       "        vertical-align: top;\n",
       "    }\n",
       "\n",
       "    .dataframe thead th {\n",
       "        text-align: right;\n",
       "    }\n",
       "</style>\n",
       "<table border=\"1\" class=\"dataframe\">\n",
       "  <thead>\n",
       "    <tr style=\"text-align: right;\">\n",
       "      <th></th>\n",
       "      <th>label</th>\n",
       "      <th>classifier</th>\n",
       "      <th>sampling_method</th>\n",
       "      <th>tn</th>\n",
       "      <th>fn</th>\n",
       "      <th>tp</th>\n",
       "      <th>fp</th>\n",
       "      <th>accuracy</th>\n",
       "      <th>precision</th>\n",
       "      <th>recall</th>\n",
       "      <th>...</th>\n",
       "      <th>log_loss</th>\n",
       "      <th>train_time</th>\n",
       "      <th>cv_time</th>\n",
       "      <th>aucroc</th>\n",
       "      <th>auprc</th>\n",
       "      <th>balanced_accuracy</th>\n",
       "      <th>cv_score_mean</th>\n",
       "      <th>cv_score_std</th>\n",
       "      <th>model_churn_cost</th>\n",
       "      <th>sample</th>\n",
       "    </tr>\n",
       "  </thead>\n",
       "  <tbody>\n",
       "    <tr>\n",
       "      <th>0</th>\n",
       "      <td>XGB_basic_5cv_recall</td>\n",
       "      <td>XGBClassifier</td>\n",
       "      <td>ROS 1:1</td>\n",
       "      <td>204794</td>\n",
       "      <td>6209</td>\n",
       "      <td>17852</td>\n",
       "      <td>28632</td>\n",
       "      <td>0.86</td>\n",
       "      <td>0.38</td>\n",
       "      <td>0.74</td>\n",
       "      <td>...</td>\n",
       "      <td>4.67</td>\n",
       "      <td>161.54</td>\n",
       "      <td>41.28</td>\n",
       "      <td>0.88</td>\n",
       "      <td>0.62</td>\n",
       "      <td>0.81</td>\n",
       "      <td>0.39</td>\n",
       "      <td>0.01</td>\n",
       "      <td>7752900</td>\n",
       "      <td>0</td>\n",
       "    </tr>\n",
       "    <tr>\n",
       "      <th>0</th>\n",
       "      <td>AB_basic_5cv_recall</td>\n",
       "      <td>AdaBoostClassifier</td>\n",
       "      <td>RUS 1:1</td>\n",
       "      <td>202536</td>\n",
       "      <td>6130</td>\n",
       "      <td>17931</td>\n",
       "      <td>30890</td>\n",
       "      <td>0.86</td>\n",
       "      <td>0.37</td>\n",
       "      <td>0.75</td>\n",
       "      <td>...</td>\n",
       "      <td>4.97</td>\n",
       "      <td>49.89</td>\n",
       "      <td>55.57</td>\n",
       "      <td>0.87</td>\n",
       "      <td>0.57</td>\n",
       "      <td>0.81</td>\n",
       "      <td>0.36</td>\n",
       "      <td>0.01</td>\n",
       "      <td>7947100</td>\n",
       "      <td>0</td>\n",
       "    </tr>\n",
       "    <tr>\n",
       "      <th>0</th>\n",
       "      <td>RF_basic_5cv_recall</td>\n",
       "      <td>RandomForestClassifier</td>\n",
       "      <td>RUS 1:1</td>\n",
       "      <td>193777</td>\n",
       "      <td>5735</td>\n",
       "      <td>18326</td>\n",
       "      <td>39649</td>\n",
       "      <td>0.82</td>\n",
       "      <td>0.32</td>\n",
       "      <td>0.76</td>\n",
       "      <td>...</td>\n",
       "      <td>6.09</td>\n",
       "      <td>2.98</td>\n",
       "      <td>7.12</td>\n",
       "      <td>0.87</td>\n",
       "      <td>0.56</td>\n",
       "      <td>0.80</td>\n",
       "      <td>0.42</td>\n",
       "      <td>0.01</td>\n",
       "      <td>8665000</td>\n",
       "      <td>0</td>\n",
       "    </tr>\n",
       "    <tr>\n",
       "      <th>0</th>\n",
       "      <td>DT_basic_5cv_recall</td>\n",
       "      <td>DecisionTreeClassifier</td>\n",
       "      <td>RUS 1:1</td>\n",
       "      <td>187496</td>\n",
       "      <td>6274</td>\n",
       "      <td>17787</td>\n",
       "      <td>45930</td>\n",
       "      <td>0.80</td>\n",
       "      <td>0.28</td>\n",
       "      <td>0.74</td>\n",
       "      <td>...</td>\n",
       "      <td>7.00</td>\n",
       "      <td>2.60</td>\n",
       "      <td>5.05</td>\n",
       "      <td>0.76</td>\n",
       "      <td>0.49</td>\n",
       "      <td>0.77</td>\n",
       "      <td>0.45</td>\n",
       "      <td>0.01</td>\n",
       "      <td>9508700</td>\n",
       "      <td>0</td>\n",
       "    </tr>\n",
       "    <tr>\n",
       "      <th>0</th>\n",
       "      <td>NB_basic_5cv_recall</td>\n",
       "      <td>GaussianNB</td>\n",
       "      <td>SMOTE_NC</td>\n",
       "      <td>208184</td>\n",
       "      <td>8705</td>\n",
       "      <td>15356</td>\n",
       "      <td>25242</td>\n",
       "      <td>0.87</td>\n",
       "      <td>0.38</td>\n",
       "      <td>0.64</td>\n",
       "      <td>...</td>\n",
       "      <td>4.55</td>\n",
       "      <td>6.03</td>\n",
       "      <td>3.19</td>\n",
       "      <td>0.81</td>\n",
       "      <td>0.55</td>\n",
       "      <td>0.77</td>\n",
       "      <td>0.53</td>\n",
       "      <td>0.00</td>\n",
       "      <td>8412300</td>\n",
       "      <td>0</td>\n",
       "    </tr>\n",
       "    <tr>\n",
       "      <th>0</th>\n",
       "      <td>LR_basic_5cv_recall</td>\n",
       "      <td>LogisticRegression</td>\n",
       "      <td>RUS 1:1</td>\n",
       "      <td>189348</td>\n",
       "      <td>10772</td>\n",
       "      <td>13289</td>\n",
       "      <td>44078</td>\n",
       "      <td>0.79</td>\n",
       "      <td>0.23</td>\n",
       "      <td>0.55</td>\n",
       "      <td>...</td>\n",
       "      <td>7.36</td>\n",
       "      <td>2.26</td>\n",
       "      <td>2.85</td>\n",
       "      <td>0.74</td>\n",
       "      <td>0.38</td>\n",
       "      <td>0.68</td>\n",
       "      <td>-1.00</td>\n",
       "      <td>-1.00</td>\n",
       "      <td>11122700</td>\n",
       "      <td>0</td>\n",
       "    </tr>\n",
       "    <tr>\n",
       "      <th>0</th>\n",
       "      <td>MLP_basic_5cv_recall</td>\n",
       "      <td>MLPClassifier</td>\n",
       "      <td>SMOTE_NC</td>\n",
       "      <td>233426</td>\n",
       "      <td>24061</td>\n",
       "      <td>0</td>\n",
       "      <td>0</td>\n",
       "      <td>0.91</td>\n",
       "      <td>0.00</td>\n",
       "      <td>0.00</td>\n",
       "      <td>...</td>\n",
       "      <td>3.23</td>\n",
       "      <td>1569.94</td>\n",
       "      <td>764.33</td>\n",
       "      <td>0.50</td>\n",
       "      <td>0.55</td>\n",
       "      <td>0.50</td>\n",
       "      <td>-1.00</td>\n",
       "      <td>-1.00</td>\n",
       "      <td>12030500</td>\n",
       "      <td>0</td>\n",
       "    </tr>\n",
       "  </tbody>\n",
       "</table>\n",
       "<p>7 rows × 22 columns</p>\n",
       "</div>"
      ],
      "text/plain": [
       "                  label              classifier sampling_method      tn  \\\n",
       "0  XGB_basic_5cv_recall           XGBClassifier         ROS 1:1  204794   \n",
       "0   AB_basic_5cv_recall      AdaBoostClassifier         RUS 1:1  202536   \n",
       "0   RF_basic_5cv_recall  RandomForestClassifier         RUS 1:1  193777   \n",
       "0   DT_basic_5cv_recall  DecisionTreeClassifier         RUS 1:1  187496   \n",
       "0   NB_basic_5cv_recall              GaussianNB        SMOTE_NC  208184   \n",
       "0   LR_basic_5cv_recall      LogisticRegression         RUS 1:1  189348   \n",
       "0  MLP_basic_5cv_recall           MLPClassifier        SMOTE_NC  233426   \n",
       "\n",
       "      fn     tp     fp  accuracy  precision  recall  ...  log_loss  \\\n",
       "0   6209  17852  28632      0.86       0.38    0.74  ...      4.67   \n",
       "0   6130  17931  30890      0.86       0.37    0.75  ...      4.97   \n",
       "0   5735  18326  39649      0.82       0.32    0.76  ...      6.09   \n",
       "0   6274  17787  45930      0.80       0.28    0.74  ...      7.00   \n",
       "0   8705  15356  25242      0.87       0.38    0.64  ...      4.55   \n",
       "0  10772  13289  44078      0.79       0.23    0.55  ...      7.36   \n",
       "0  24061      0      0      0.91       0.00    0.00  ...      3.23   \n",
       "\n",
       "   train_time  cv_time  aucroc  auprc  balanced_accuracy  cv_score_mean  \\\n",
       "0      161.54    41.28    0.88   0.62               0.81           0.39   \n",
       "0       49.89    55.57    0.87   0.57               0.81           0.36   \n",
       "0        2.98     7.12    0.87   0.56               0.80           0.42   \n",
       "0        2.60     5.05    0.76   0.49               0.77           0.45   \n",
       "0        6.03     3.19    0.81   0.55               0.77           0.53   \n",
       "0        2.26     2.85    0.74   0.38               0.68          -1.00   \n",
       "0     1569.94   764.33    0.50   0.55               0.50          -1.00   \n",
       "\n",
       "   cv_score_std  model_churn_cost  sample  \n",
       "0          0.01           7752900       0  \n",
       "0          0.01           7947100       0  \n",
       "0          0.01           8665000       0  \n",
       "0          0.01           9508700       0  \n",
       "0          0.00           8412300       0  \n",
       "0         -1.00          11122700       0  \n",
       "0         -1.00          12030500       0  \n",
       "\n",
       "[7 rows x 22 columns]"
      ]
     },
     "execution_count": 24,
     "metadata": {},
     "output_type": "execute_result"
    }
   ],
   "source": [
    "top_results = all_metrics.sort_values(['balanced_accuracy'], ascending=[False]).groupby('classifier').head(1)\n",
    "top_results"
   ]
  },
  {
   "cell_type": "markdown",
   "metadata": {},
   "source": [
    "### Graph the results base on the list of best classifiers above"
   ]
  },
  {
   "cell_type": "code",
   "execution_count": 25,
   "metadata": {},
   "outputs": [
    {
     "data": {
      "image/png": "[encoded data removed]",
      "text/plain": [
       "<Figure size 1152x576 with 2 Axes>"
      ]
     },
     "metadata": {
      "needs_background": "light"
     },
     "output_type": "display_data"
    }
   ],
   "source": [
    "temp = filter_top_model_results(top_results, all_results)\n",
    "plot_roc_prc(temp)"
   ]
  },
  {
   "cell_type": "code",
   "execution_count": null,
   "metadata": {},
   "outputs": [],
   "source": []
  },
  {
   "cell_type": "markdown",
   "metadata": {},
   "source": [
    "### How long did each of these actually take ..."
   ]
  },
  {
   "cell_type": "code",
   "execution_count": null,
   "metadata": {},
   "outputs": [],
   "source": [
    "all_metrics.sort_values(['auprc', 'recall'], ascending=[False, False]).head(15)"
   ]
  },
  {
   "cell_type": "code",
   "execution_count": null,
   "metadata": {},
   "outputs": [],
   "source": []
  },
  {
   "cell_type": "code",
   "execution_count": null,
   "metadata": {},
   "outputs": [],
   "source": [
    "ordered_features"
   ]
  },
  {
   "cell_type": "code",
   "execution_count": null,
   "metadata": {},
   "outputs": [],
   "source": []
  },
  {
   "cell_type": "code",
   "execution_count": null,
   "metadata": {
    "code_folding": [],
    "scrolled": false
   },
   "outputs": [],
   "source": [
    "## Print the permutation importance \n",
    "\n",
    "import eli5\n",
    "from eli5.sklearn import PermutationImportance\n",
    "\n",
    "_, X_test, _, y_test = prepare_train_test_split(model_dataset, 0)\n",
    "\n",
    "perm = PermutationImportance(model, random_state=1).fit(X_test, y_test)\n",
    "\n",
    "eli5.show_weights(perm, feature_names = X_test.columns.tolist())"
   ]
  },
  {
   "cell_type": "code",
   "execution_count": null,
   "metadata": {},
   "outputs": [],
   "source": [
    "#model_name, model = model_train_results[1][2]\n",
    "\n",
    "for model_name, model in model_train_results[1]:\n",
    "    probs = model.predict_proba(X_test)[:, 1]\n",
    "    pr_data = plot_precision_recall(\n",
    "        y_test, probs, title='PR Curve for {0}'.format(model_name))"
   ]
  },
  {
   "cell_type": "code",
   "execution_count": null,
   "metadata": {},
   "outputs": [],
   "source": [
    "probs = model.predict_proba(X_test)[:, 1]\n",
    "pr_data = plot_precision_recall(\n",
    "    y_test, probs, title='PR Curve for {0}'.format(model_name))"
   ]
  },
  {
   "cell_type": "code",
   "execution_count": null,
   "metadata": {},
   "outputs": [],
   "source": [
    "pr_data = plot_roc(\n",
    "    y_test, probs, title='ROC Curve for {0}'.format(model_name))"
   ]
  },
  {
   "cell_type": "code",
   "execution_count": null,
   "metadata": {},
   "outputs": [],
   "source": [
    "print(plt.style.available)"
   ]
  },
  {
   "cell_type": "code",
   "execution_count": null,
   "metadata": {},
   "outputs": [],
   "source": []
  },
  {
   "cell_type": "code",
   "execution_count": null,
   "metadata": {},
   "outputs": [],
   "source": [
    "model_dataset.head()"
   ]
  },
  {
   "cell_type": "code",
   "execution_count": null,
   "metadata": {},
   "outputs": [],
   "source": []
  },
  {
   "cell_type": "code",
   "execution_count": null,
   "metadata": {},
   "outputs": [],
   "source": []
  },
  {
   "cell_type": "code",
   "execution_count": null,
   "metadata": {},
   "outputs": [],
   "source": [
    "print(\"Original Data distribution\")\n",
    "print(model_dataset['is_churn'].value_counts())"
   ]
  },
  {
   "cell_type": "code",
   "execution_count": null,
   "metadata": {},
   "outputs": [],
   "source": [
    "# Display new class counts\n",
    "print('Sci-Kit Learn : resample : Down Sampled data set')\n",
    "train_downsample = undersampled_dataset(model_dataset, 'is_churn')\n",
    "\n",
    "print(train_downsample['is_churn'].value_counts())\n",
    "print(\"Num records = \", train_downsample.shape[0])\n",
    "train_downsample.is_churn.value_counts().plot(kind='bar', title='Count (target)')"
   ]
  },
  {
   "cell_type": "code",
   "execution_count": null,
   "metadata": {},
   "outputs": [],
   "source": [
    "# Display new class counts\n",
    "print('Sci-Kit Learn : resample : Up Sampled data set')\n",
    "train_upsample = oversampled_dataset(model_dataset, 'is_churn')\n",
    "\n",
    "print(train_upsample['is_churn'].value_counts())\n",
    "print(\"Num records = \", train_upsample.shape[0])\n",
    "train_upsample.is_churn.value_counts().plot(kind='bar', title='Count (target)')"
   ]
  },
  {
   "cell_type": "code",
   "execution_count": null,
   "metadata": {},
   "outputs": [],
   "source": []
  },
  {
   "cell_type": "code",
   "execution_count": null,
   "metadata": {},
   "outputs": [],
   "source": []
  },
  {
   "cell_type": "code",
   "execution_count": null,
   "metadata": {},
   "outputs": [],
   "source": []
  },
  {
   "cell_type": "code",
   "execution_count": null,
   "metadata": {
    "scrolled": false
   },
   "outputs": [],
   "source": [
    "probs = model.predict_proba(X_test)[:, 1]\n",
    "pr_data = plot_precision_recall(\n",
    "    y_test, probs, title='Precision-Recall Curve for Random Forest')"
   ]
  },
  {
   "cell_type": "code",
   "execution_count": null,
   "metadata": {},
   "outputs": [],
   "source": [
    "precision_above = pr_data.loc[pr_data['precision'] >= 0.25].copy()\n",
    "precision_above.sort_values('recall', ascending=False, inplace=True)\n",
    "precision_above.head()"
   ]
  },
  {
   "cell_type": "code",
   "execution_count": null,
   "metadata": {},
   "outputs": [],
   "source": []
  },
  {
   "cell_type": "code",
   "execution_count": null,
   "metadata": {},
   "outputs": [],
   "source": []
  },
  {
   "cell_type": "code",
   "execution_count": null,
   "metadata": {},
   "outputs": [],
   "source": []
  },
  {
   "cell_type": "code",
   "execution_count": null,
   "metadata": {
    "scrolled": false
   },
   "outputs": [],
   "source": [
    "threshold_required = 0.5\n",
    "# Make predictions where probability is above threshold\n",
    "preds = np.zeros(len(y_test))\n",
    "preds[probs >= threshold_required] = 1\n",
    "\n",
    "# Make and plot confusion matrix\n",
    "cm = confusion_matrix(y_test, preds)\n",
    "plot_confusion_matrix(cm, classes=['No Churn', 'Churn'],\n",
    "                      title='Churn Confusion Matrix')"
   ]
  },
  {
   "cell_type": "code",
   "execution_count": null,
   "metadata": {},
   "outputs": [],
   "source": [
    "model_dataset.head()"
   ]
  },
  {
   "cell_type": "code",
   "execution_count": null,
   "metadata": {},
   "outputs": [],
   "source": [
    "fi = pd.DataFrame({'importance': model.feature_importances_}, index=model_dataset.iloc[:, 1:].columns).\\\n",
    "    sort_values('importance', ascending=False)\n",
    "fi.head(10)"
   ]
  },
  {
   "cell_type": "code",
   "execution_count": null,
   "metadata": {},
   "outputs": [],
   "source": []
  },
  {
   "cell_type": "code",
   "execution_count": null,
   "metadata": {},
   "outputs": [],
   "source": []
  },
  {
   "cell_type": "code",
   "execution_count": null,
   "metadata": {},
   "outputs": [],
   "source": []
  },
  {
   "cell_type": "code",
   "execution_count": null,
   "metadata": {},
   "outputs": [],
   "source": []
  },
  {
   "cell_type": "code",
   "execution_count": null,
   "metadata": {},
   "outputs": [],
   "source": []
  }
 ],
 "metadata": {
  "kernelspec": {
   "display_name": "Python 3",
   "language": "python",
   "name": "python3"
  },
  "language_info": {
   "codemirror_mode": {
    "name": "ipython",
    "version": 3
   },
   "file_extension": ".py",
   "mimetype": "text/x-python",
   "name": "python",
   "nbconvert_exporter": "python",
   "pygments_lexer": "ipython3",
   "version": "3.7.3"
  }
 },
 "nbformat": 4,
 "nbformat_minor": 2
}
