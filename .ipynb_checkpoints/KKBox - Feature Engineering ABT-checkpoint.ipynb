{
 "cells": [
  {
   "cell_type": "code",
   "execution_count": 2,
   "metadata": {},
   "outputs": [],
   "source": [
    "%load_ext autoreload\n",
    "%autoreload\n",
    "\n",
    "import pandas as pd\n",
    "import numpy as np\n",
    "\n",
    "pd.options.display.float_format = \"{:.2f}\".format\n",
    "np.set_printoptions(precision=4)\n",
    "\n",
    "import matplotlib.pyplot as plt\n",
    "%matplotlib inline"
   ]
  },
  {
   "cell_type": "markdown",
   "metadata": {},
   "source": [
    "### TRAIN\n",
    "        the train set, containing the user ids and whether they have churned.\n",
    "        Churn is defined as whether the user did not continue the subscription within 30 days of expiration. \n",
    "        is_churn = 1 means churn,\n",
    "        is_churn = 0 means renewal."
   ]
  },
  {
   "cell_type": "code",
   "execution_count": 3,
   "metadata": {
    "scrolled": true
   },
   "outputs": [
    {
     "data": {
      "text/html": [
       "<div>\n",
       "<style scoped>\n",
       "    .dataframe tbody tr th:only-of-type {\n",
       "        vertical-align: middle;\n",
       "    }\n",
       "\n",
       "    .dataframe tbody tr th {\n",
       "        vertical-align: top;\n",
       "    }\n",
       "\n",
       "    .dataframe thead th {\n",
       "        text-align: right;\n",
       "    }\n",
       "</style>\n",
       "<table border=\"1\" class=\"dataframe\">\n",
       "  <thead>\n",
       "    <tr style=\"text-align: right;\">\n",
       "      <th></th>\n",
       "      <th>msno</th>\n",
       "      <th>is_churn</th>\n",
       "    </tr>\n",
       "  </thead>\n",
       "  <tbody>\n",
       "    <tr>\n",
       "      <th>0</th>\n",
       "      <td>ugx0CjOMzazClkFzU2xasmDZaoIqOUAZPsH1q0teWCg=</td>\n",
       "      <td>1</td>\n",
       "    </tr>\n",
       "    <tr>\n",
       "      <th>1</th>\n",
       "      <td>f/NmvEzHfhINFEYZTR05prUdr+E+3+oewvweYz9cCQE=</td>\n",
       "      <td>1</td>\n",
       "    </tr>\n",
       "    <tr>\n",
       "      <th>2</th>\n",
       "      <td>zLo9f73nGGT1p21ltZC3ChiRnAVvgibMyazbCxvWPcg=</td>\n",
       "      <td>1</td>\n",
       "    </tr>\n",
       "    <tr>\n",
       "      <th>3</th>\n",
       "      <td>8iF/+8HY8lJKFrTc7iR9ZYGCG2Ecrogbc2Vy5YhsfhQ=</td>\n",
       "      <td>1</td>\n",
       "    </tr>\n",
       "    <tr>\n",
       "      <th>4</th>\n",
       "      <td>K6fja4+jmoZ5xG6BypqX80Uw/XKpMgrEMdG2edFOxnA=</td>\n",
       "      <td>1</td>\n",
       "    </tr>\n",
       "  </tbody>\n",
       "</table>\n",
       "</div>"
      ],
      "text/plain": [
       "                                           msno  is_churn\n",
       "0  ugx0CjOMzazClkFzU2xasmDZaoIqOUAZPsH1q0teWCg=         1\n",
       "1  f/NmvEzHfhINFEYZTR05prUdr+E+3+oewvweYz9cCQE=         1\n",
       "2  zLo9f73nGGT1p21ltZC3ChiRnAVvgibMyazbCxvWPcg=         1\n",
       "3  8iF/+8HY8lJKFrTc7iR9ZYGCG2Ecrogbc2Vy5YhsfhQ=         1\n",
       "4  K6fja4+jmoZ5xG6BypqX80Uw/XKpMgrEMdG2edFOxnA=         1"
      ]
     },
     "execution_count": 3,
     "metadata": {},
     "output_type": "execute_result"
    }
   ],
   "source": [
    "train_input = pd.read_csv('/home/dissertation/data/train_v2.csv', \n",
    "                          dtype = {'msno' : 'category'})\n",
    "train_input.head()"
   ]
  },
  {
   "cell_type": "code",
   "execution_count": 4,
   "metadata": {},
   "outputs": [
    {
     "name": "stdout",
     "output_type": "stream",
     "text": [
      "The percentage of churners is: 0.0899\n"
     ]
    },
    {
     "data": {
      "text/plain": [
       "0    883630\n",
       "1     87330\n",
       "Name: is_churn, dtype: int64"
      ]
     },
     "execution_count": 4,
     "metadata": {},
     "output_type": "execute_result"
    }
   ],
   "source": [
    "## The percentage of churners is?\n",
    "print(\"The percentage of churners is: {0:.4f}\".format(np.mean(train_input.is_churn)))\n",
    "train_input.is_churn.value_counts()"
   ]
  },
  {
   "cell_type": "code",
   "execution_count": 5,
   "metadata": {
    "scrolled": true
   },
   "outputs": [
    {
     "name": "stdout",
     "output_type": "stream",
     "text": [
      " 0    883630\n",
      "1     87330\n",
      "Name: is_churn, dtype: int64\n"
     ]
    },
    {
     "data": {
      "image/png": "[encoded data removed]",
      "text/plain": [
       "<Figure size 432x288 with 1 Axes>"
      ]
     },
     "metadata": {
      "needs_background": "light"
     },
     "output_type": "display_data"
    }
   ],
   "source": [
    "train_input.is_churn.value_counts(dropna=False, normalize=True).plot(kind='bar', title='Train Set - Normalised Count % (target)')\n",
    "print(\"\",train_input.is_churn.value_counts())"
   ]
  },
  {
   "cell_type": "markdown",
   "metadata": {},
   "source": [
    "So we have churn records for 970960 members"
   ]
  },
  {
   "cell_type": "markdown",
   "metadata": {},
   "source": [
    "### MEMBERS"
   ]
  },
  {
   "cell_type": "code",
   "execution_count": 6,
   "metadata": {},
   "outputs": [],
   "source": [
    "members_input = pd.read_csv('/home/dissertation/data/members_v3.csv',\n",
    "                            dtype={'registered_via' : np.uint8,\n",
    "                                   'gender' : str,\n",
    "                                   'city' : 'category',\n",
    "                                   'registered_via' : 'category'})"
   ]
  },
  {
   "cell_type": "code",
   "execution_count": 7,
   "metadata": {},
   "outputs": [],
   "source": [
    "members_input['registration_init_time_dt'] = pd.to_datetime(members_input['registration_init_time'], \n",
    "                                                            format='%Y%m%d', errors='ignore')"
   ]
  },
  {
   "cell_type": "code",
   "execution_count": null,
   "metadata": {
    "scrolled": true
   },
   "outputs": [],
   "source": [
    "members_input.head()"
   ]
  },
  {
   "cell_type": "markdown",
   "metadata": {},
   "source": [
    "#### Adding a membership_months feature"
   ]
  },
  {
   "cell_type": "code",
   "execution_count": 8,
   "metadata": {},
   "outputs": [
    {
     "ename": "IndentationError",
     "evalue": "unexpected indent (<ipython-input-8-7b3a905688a5>, line 5)",
     "output_type": "error",
     "traceback": [
      "\u001b[0;36m  File \u001b[0;32m\"<ipython-input-8-7b3a905688a5>\"\u001b[0;36m, line \u001b[0;32m5\u001b[0m\n\u001b[0;31m    (np.timedelta64(1,, 'M'))\u001b[0m\n\u001b[0m    ^\u001b[0m\n\u001b[0;31mIndentationError\u001b[0m\u001b[0;31m:\u001b[0m unexpected indent\n"
     ]
    }
   ],
   "source": [
    "## Adding in a member for time period\n",
    "## Max transation date will be used as end period. That date is: 2017-02-28\n",
    "\n",
    "members_input['membership_months'] = (pd.datetime(2017,2, 28) - members_input['registration_init_time_dt']) \n",
    "                                                    / np.timedelta64(1, 'M')\n",
    "members_input['membership_months'] = members_input['membership_months'].astype(int)"
   ]
  },
  {
   "cell_type": "markdown",
   "metadata": {},
   "source": [
    "#### Mapping all missing gender to 'unknown' category"
   ]
  },
  {
   "cell_type": "code",
   "execution_count": 9,
   "metadata": {},
   "outputs": [
    {
     "data": {
      "text/plain": [
       "<matplotlib.axes._subplots.AxesSubplot at 0x7fee6415cac8>"
      ]
     },
     "execution_count": 9,
     "metadata": {},
     "output_type": "execute_result"
    },
    {
     "data": {
      "image/png": "[encoded data removed]",
      "text/plain": [
       "<Figure size 432x288 with 1 Axes>"
      ]
     },
     "metadata": {
      "needs_background": "light"
     },
     "output_type": "display_data"
    }
   ],
   "source": [
    "members_input['gender'] = members_input['gender'].fillna(value='unknown')\n",
    "members_input.gender.value_counts(normalize=True).plot(kind='bar')"
   ]
  },
  {
   "cell_type": "markdown",
   "metadata": {},
   "source": [
    "#### Map outliers in BD"
   ]
  },
  {
   "cell_type": "code",
   "execution_count": 10,
   "metadata": {},
   "outputs": [
    {
     "data": {
      "text/plain": [
       "{'whiskers': [<matplotlib.lines.Line2D at 0x7fee8d2f9320>,\n",
       "  <matplotlib.lines.Line2D at 0x7fee8d2f95c0>],\n",
       " 'caps': [<matplotlib.lines.Line2D at 0x7fee8d2f94a8>,\n",
       "  <matplotlib.lines.Line2D at 0x7fee696ff668>],\n",
       " 'boxes': [<matplotlib.lines.Line2D at 0x7fee8d2f9f60>],\n",
       " 'medians': [<matplotlib.lines.Line2D at 0x7fee696fff28>],\n",
       " 'fliers': [<matplotlib.lines.Line2D at 0x7fee696ff208>],\n",
       " 'means': []}"
      ]
     },
     "execution_count": 10,
     "metadata": {},
     "output_type": "execute_result"
    },
    {
     "data": {
      "image/png": "[encoded data removed]",
      "text/plain": [
       "<Figure size 432x288 with 1 Axes>"
      ]
     },
     "metadata": {
      "needs_background": "light"
     },
     "output_type": "display_data"
    }
   ],
   "source": [
    "fig1, ax1 = plt.subplots()\n",
    "ax1.set_title('Box Plot of Age')\n",
    "ax1.boxplot(members_input[((members_input.bd > 0) & (members_input.bd < 80))]['bd'])"
   ]
  },
  {
   "cell_type": "code",
   "execution_count": 12,
   "metadata": {},
   "outputs": [],
   "source": [
    "members_input['age_cat'] = members_input['bd']\n",
    "members_input.loc[~members_input.age_cat.between(1,80), 'age_cat'] = 0\n",
    "members_input['age_cat'] = members_input['age_cat'].astype(str)"
   ]
  },
  {
   "cell_type": "code",
   "execution_count": 13,
   "metadata": {},
   "outputs": [
    {
     "data": {
      "text/plain": [
       "<matplotlib.axes._subplots.AxesSubplot at 0x7fee2f0f0b00>"
      ]
     },
     "execution_count": 13,
     "metadata": {},
     "output_type": "execute_result"
    },
    {
     "data": {
      "image/png": "[encoded data removed]",
      "text/plain": [
       "<Figure size 432x288 with 1 Axes>"
      ]
     },
     "metadata": {
      "needs_background": "light"
     },
     "output_type": "display_data"
    }
   ],
   "source": [
    "members_input.age_cat.value_counts(normalize=True).plot(kind='bar')"
   ]
  },
  {
   "cell_type": "code",
   "execution_count": 14,
   "metadata": {
    "scrolled": false
   },
   "outputs": [
    {
     "data": {
      "text/html": [
       "<div>\n",
       "<style scoped>\n",
       "    .dataframe tbody tr th:only-of-type {\n",
       "        vertical-align: middle;\n",
       "    }\n",
       "\n",
       "    .dataframe tbody tr th {\n",
       "        vertical-align: top;\n",
       "    }\n",
       "\n",
       "    .dataframe thead th {\n",
       "        text-align: right;\n",
       "    }\n",
       "</style>\n",
       "<table border=\"1\" class=\"dataframe\">\n",
       "  <thead>\n",
       "    <tr style=\"text-align: right;\">\n",
       "      <th></th>\n",
       "      <th>msno</th>\n",
       "      <th>city</th>\n",
       "      <th>bd</th>\n",
       "      <th>gender</th>\n",
       "      <th>registered_via</th>\n",
       "      <th>registration_init_time</th>\n",
       "      <th>registration_init_time_dt</th>\n",
       "      <th>age_cat</th>\n",
       "    </tr>\n",
       "  </thead>\n",
       "  <tbody>\n",
       "    <tr>\n",
       "      <th>count</th>\n",
       "      <td>6769473</td>\n",
       "      <td>6769473</td>\n",
       "      <td>6769473.00</td>\n",
       "      <td>6769473</td>\n",
       "      <td>6769473</td>\n",
       "      <td>6769473.00</td>\n",
       "      <td>6769473</td>\n",
       "      <td>6769473</td>\n",
       "    </tr>\n",
       "    <tr>\n",
       "      <th>unique</th>\n",
       "      <td>6769473</td>\n",
       "      <td>21</td>\n",
       "      <td>nan</td>\n",
       "      <td>3</td>\n",
       "      <td>18</td>\n",
       "      <td>nan</td>\n",
       "      <td>4782</td>\n",
       "      <td>81</td>\n",
       "    </tr>\n",
       "    <tr>\n",
       "      <th>top</th>\n",
       "      <td>GpZOo/1tmZN9JRPtaP/KMuNXNElTzPf/1f1kzupcFIk=</td>\n",
       "      <td>1</td>\n",
       "      <td>nan</td>\n",
       "      <td>unknown</td>\n",
       "      <td>4</td>\n",
       "      <td>nan</td>\n",
       "      <td>2015-10-09 00:00:00</td>\n",
       "      <td>0</td>\n",
       "    </tr>\n",
       "    <tr>\n",
       "      <th>freq</th>\n",
       "      <td>1</td>\n",
       "      <td>4804326</td>\n",
       "      <td>nan</td>\n",
       "      <td>4429505</td>\n",
       "      <td>2793213</td>\n",
       "      <td>nan</td>\n",
       "      <td>12413</td>\n",
       "      <td>4549659</td>\n",
       "    </tr>\n",
       "    <tr>\n",
       "      <th>first</th>\n",
       "      <td>NaN</td>\n",
       "      <td>NaN</td>\n",
       "      <td>nan</td>\n",
       "      <td>NaN</td>\n",
       "      <td>NaN</td>\n",
       "      <td>nan</td>\n",
       "      <td>2004-03-26 00:00:00</td>\n",
       "      <td>NaN</td>\n",
       "    </tr>\n",
       "    <tr>\n",
       "      <th>last</th>\n",
       "      <td>NaN</td>\n",
       "      <td>NaN</td>\n",
       "      <td>nan</td>\n",
       "      <td>NaN</td>\n",
       "      <td>NaN</td>\n",
       "      <td>nan</td>\n",
       "      <td>2017-04-29 00:00:00</td>\n",
       "      <td>NaN</td>\n",
       "    </tr>\n",
       "    <tr>\n",
       "      <th>mean</th>\n",
       "      <td>NaN</td>\n",
       "      <td>NaN</td>\n",
       "      <td>9.80</td>\n",
       "      <td>NaN</td>\n",
       "      <td>NaN</td>\n",
       "      <td>20145175.91</td>\n",
       "      <td>NaN</td>\n",
       "      <td>NaN</td>\n",
       "    </tr>\n",
       "    <tr>\n",
       "      <th>std</th>\n",
       "      <td>NaN</td>\n",
       "      <td>NaN</td>\n",
       "      <td>17.93</td>\n",
       "      <td>NaN</td>\n",
       "      <td>NaN</td>\n",
       "      <td>23186.01</td>\n",
       "      <td>NaN</td>\n",
       "      <td>NaN</td>\n",
       "    </tr>\n",
       "    <tr>\n",
       "      <th>min</th>\n",
       "      <td>NaN</td>\n",
       "      <td>NaN</td>\n",
       "      <td>-7168.00</td>\n",
       "      <td>NaN</td>\n",
       "      <td>NaN</td>\n",
       "      <td>20040326.00</td>\n",
       "      <td>NaN</td>\n",
       "      <td>NaN</td>\n",
       "    </tr>\n",
       "    <tr>\n",
       "      <th>25%</th>\n",
       "      <td>NaN</td>\n",
       "      <td>NaN</td>\n",
       "      <td>0.00</td>\n",
       "      <td>NaN</td>\n",
       "      <td>NaN</td>\n",
       "      <td>20140422.00</td>\n",
       "      <td>NaN</td>\n",
       "      <td>NaN</td>\n",
       "    </tr>\n",
       "    <tr>\n",
       "      <th>50%</th>\n",
       "      <td>NaN</td>\n",
       "      <td>NaN</td>\n",
       "      <td>0.00</td>\n",
       "      <td>NaN</td>\n",
       "      <td>NaN</td>\n",
       "      <td>20151010.00</td>\n",
       "      <td>NaN</td>\n",
       "      <td>NaN</td>\n",
       "    </tr>\n",
       "    <tr>\n",
       "      <th>75%</th>\n",
       "      <td>NaN</td>\n",
       "      <td>NaN</td>\n",
       "      <td>21.00</td>\n",
       "      <td>NaN</td>\n",
       "      <td>NaN</td>\n",
       "      <td>20160604.00</td>\n",
       "      <td>NaN</td>\n",
       "      <td>NaN</td>\n",
       "    </tr>\n",
       "    <tr>\n",
       "      <th>max</th>\n",
       "      <td>NaN</td>\n",
       "      <td>NaN</td>\n",
       "      <td>2016.00</td>\n",
       "      <td>NaN</td>\n",
       "      <td>NaN</td>\n",
       "      <td>20170429.00</td>\n",
       "      <td>NaN</td>\n",
       "      <td>NaN</td>\n",
       "    </tr>\n",
       "  </tbody>\n",
       "</table>\n",
       "</div>"
      ],
      "text/plain": [
       "                                                msno     city         bd  \\\n",
       "count                                        6769473  6769473 6769473.00   \n",
       "unique                                       6769473       21        nan   \n",
       "top     GpZOo/1tmZN9JRPtaP/KMuNXNElTzPf/1f1kzupcFIk=        1        nan   \n",
       "freq                                               1  4804326        nan   \n",
       "first                                            NaN      NaN        nan   \n",
       "last                                             NaN      NaN        nan   \n",
       "mean                                             NaN      NaN       9.80   \n",
       "std                                              NaN      NaN      17.93   \n",
       "min                                              NaN      NaN   -7168.00   \n",
       "25%                                              NaN      NaN       0.00   \n",
       "50%                                              NaN      NaN       0.00   \n",
       "75%                                              NaN      NaN      21.00   \n",
       "max                                              NaN      NaN    2016.00   \n",
       "\n",
       "         gender registered_via  registration_init_time  \\\n",
       "count   6769473        6769473              6769473.00   \n",
       "unique        3             18                     nan   \n",
       "top     unknown              4                     nan   \n",
       "freq    4429505        2793213                     nan   \n",
       "first       NaN            NaN                     nan   \n",
       "last        NaN            NaN                     nan   \n",
       "mean        NaN            NaN             20145175.91   \n",
       "std         NaN            NaN                23186.01   \n",
       "min         NaN            NaN             20040326.00   \n",
       "25%         NaN            NaN             20140422.00   \n",
       "50%         NaN            NaN             20151010.00   \n",
       "75%         NaN            NaN             20160604.00   \n",
       "max         NaN            NaN             20170429.00   \n",
       "\n",
       "       registration_init_time_dt  age_cat  \n",
       "count                    6769473  6769473  \n",
       "unique                      4782       81  \n",
       "top          2015-10-09 00:00:00        0  \n",
       "freq                       12413  4549659  \n",
       "first        2004-03-26 00:00:00      NaN  \n",
       "last         2017-04-29 00:00:00      NaN  \n",
       "mean                         NaN      NaN  \n",
       "std                          NaN      NaN  \n",
       "min                          NaN      NaN  \n",
       "25%                          NaN      NaN  \n",
       "50%                          NaN      NaN  \n",
       "75%                          NaN      NaN  \n",
       "max                          NaN      NaN  "
      ]
     },
     "execution_count": 14,
     "metadata": {},
     "output_type": "execute_result"
    }
   ],
   "source": [
    "members_input.describe(include='all')"
   ]
  },
  {
   "cell_type": "markdown",
   "metadata": {},
   "source": [
    "    bd/age_cat is an issue. \n",
    "    gender is also an issue.\n",
    "\n",
    "    It may be better to drop them or remove the poor instances."
   ]
  },
  {
   "cell_type": "code",
   "execution_count": null,
   "metadata": {},
   "outputs": [],
   "source": []
  },
  {
   "cell_type": "markdown",
   "metadata": {},
   "source": [
    "#### Categorical Features"
   ]
  },
  {
   "cell_type": "code",
   "execution_count": 15,
   "metadata": {},
   "outputs": [
    {
     "data": {
      "image/png": "[encoded data removed]",
      "text/plain": [
       "<Figure size 432x288 with 1 Axes>"
      ]
     },
     "metadata": {
      "needs_background": "light"
     },
     "output_type": "display_data"
    },
    {
     "data": {
      "image/png": "[encoded data removed]",
      "text/plain": [
       "<Figure size 432x288 with 1 Axes>"
      ]
     },
     "metadata": {
      "needs_background": "light"
     },
     "output_type": "display_data"
    },
    {
     "data": {
      "image/png": "[encoded data removed]",
      "text/plain": [
       "<Figure size 432x288 with 1 Axes>"
      ]
     },
     "metadata": {
      "needs_background": "light"
     },
     "output_type": "display_data"
    }
   ],
   "source": [
    "for idx, col in enumerate(['city','gender','registered_via']):\n",
    "    plt.figure()\n",
    "    members_input[col].value_counts(dropna=False, normalize=True).plot(kind='bar', title='Train Set - Normalized Count % ({0})'.format(col))"
   ]
  },
  {
   "cell_type": "markdown",
   "metadata": {},
   "source": [
    "#### Notes:\n",
    "    msno: 6769473 members in total in the system.\n",
    "    city [1] is by far the most active city in terms of memberships (~ 70%)\n",
    "    A large portion (>60%) of gender information is missing\n",
    "    There are 4 main popular approaches to registering, [4, 3, 9, 7]. The rest are minimal"
   ]
  },
  {
   "cell_type": "code",
   "execution_count": null,
   "metadata": {},
   "outputs": [],
   "source": []
  },
  {
   "cell_type": "markdown",
   "metadata": {},
   "source": [
    "#### TRANSACTIONS"
   ]
  },
  {
   "cell_type": "code",
   "execution_count": null,
   "metadata": {},
   "outputs": [],
   "source": [
    "## Next load in the transactions data\n",
    "transactions_input = pd.read_csv('/home/dissertation/data/transactions.csv',\n",
    "                                 dtype = {'payment_method' : 'category',\n",
    "                                          'payment_plan_days' : np.uint8,\n",
    "                                          'plan_list_price' : np.uint8,\n",
    "                                          'actual_amount_paid': np.uint8,\n",
    "                                          'is_auto_renew' : np.bool,\n",
    "                                          'is_cancel' : np.bool})\n",
    "transactions_input.head()"
   ]
  },
  {
   "cell_type": "code",
   "execution_count": null,
   "metadata": {},
   "outputs": [],
   "source": [
    "transactions_input.plan_list_price.value_counts().plot(kind='bar')"
   ]
  },
  {
   "cell_type": "code",
   "execution_count": null,
   "metadata": {},
   "outputs": [],
   "source": [
    "transactions_input.describe(include='all')"
   ]
  },
  {
   "cell_type": "code",
   "execution_count": null,
   "metadata": {},
   "outputs": [],
   "source": [
    "plt.hist(transactions_input.actual_amount_paid, bins=50)"
   ]
  },
  {
   "cell_type": "code",
   "execution_count": null,
   "metadata": {},
   "outputs": [],
   "source": [
    "for idx, col in enumerate(['payment_method_id','payment_plan_days','is_auto_renew','is_cancel']):\n",
    "    plt.figure()\n",
    "    transactions_input[col].value_counts(dropna=False, normalize=True).plot(kind='bar', title='Train Set - Normalized Count % ({0})'.format(col))"
   ]
  },
  {
   "cell_type": "markdown",
   "metadata": {},
   "source": [
    "#### Notes:\n",
    "    payment_method_id 41 accounts for >50% of all payment types\n",
    "    most transactions are for 30 day plans\n",
    "    >85% of customers opt to auto_renew \n",
    "    >90% have not cancelled their subscription\n",
    "    149.00 is the most common payment plan"
   ]
  },
  {
   "cell_type": "markdown",
   "metadata": {},
   "source": [
    "### Merging train_input and members"
   ]
  },
  {
   "cell_type": "code",
   "execution_count": null,
   "metadata": {},
   "outputs": [],
   "source": [
    "merged_input = pd.merge(left=train_input, right=members_input, how='inner', on=['msno'])\n",
    "merged_input.head()"
   ]
  },
  {
   "cell_type": "code",
   "execution_count": null,
   "metadata": {},
   "outputs": [],
   "source": [
    "merged_input.describe(include='all')"
   ]
  },
  {
   "cell_type": "code",
   "execution_count": null,
   "metadata": {
    "scrolled": false
   },
   "outputs": [],
   "source": [
    "merged_input['gender'] = merged_input['gender'].astype(str)\n",
    "pd.crosstab(merged_input['gender'].fillna('missing'), \n",
    "            merged_input['is_churn'].fillna('missing')).plot(kind='bar')\n",
    "pd.crosstab(merged_input['gender'].fillna('missing'), \n",
    "            merged_input['is_churn'].fillna('missing'), normalize=True)"
   ]
  },
  {
   "cell_type": "code",
   "execution_count": null,
   "metadata": {},
   "outputs": [],
   "source": []
  },
  {
   "cell_type": "code",
   "execution_count": null,
   "metadata": {},
   "outputs": [],
   "source": []
  },
  {
   "cell_type": "markdown",
   "metadata": {},
   "source": [
    "### Merging Transactions with those members involved in the churn study"
   ]
  },
  {
   "cell_type": "code",
   "execution_count": null,
   "metadata": {
    "scrolled": true
   },
   "outputs": [],
   "source": [
    "transactions_merged = pd.merge(left = merged_input[['msno']], \n",
    "                               right = transactions_input, \n",
    "                               how='inner', \n",
    "                               on='msno')\n",
    "transactions_merged.head()"
   ]
  },
  {
   "cell_type": "code",
   "execution_count": null,
   "metadata": {},
   "outputs": [],
   "source": [
    "transactions_merged[transactions_merged.msno == 'ugx0CjOMzazClkFzU2xasmDZaoIqOUAZPsH1q0teWCg=']"
   ]
  },
  {
   "cell_type": "code",
   "execution_count": null,
   "metadata": {},
   "outputs": [],
   "source": [
    "%%time\n",
    "#[transactions_merged.msno == 'ugx0CjOMzazClkFzU2xasmDZaoIqOUAZPsH1q0teWCg=']\\\n",
    "\n",
    "transactions_merged[transactions_merged.msno == 'ugx0CjOMzazClkFzU2xasmDZaoIqOUAZPsH1q0teWCg=']\\\n",
    "        .groupby('msno')\\\n",
    "        .agg({'msno' : {'total_order' : 'count'},\n",
    "                        'payment_method_id' : {'payment_method_id_mode' : lambda x: x.mode()[0],\n",
    "                                               'payment_method_id_count' : lambda x: len(np.unique(x))},\n",
    "                        'payment_plan_days' : {'payment_plan_days_mode' : lambda x: x[x>0].mode()[0],\n",
    "                                               'payment_plan_days_mean' : 'mean'},\n",
    "                        'plan_list_price' : {'plan_list_price_mean' : 'mean',\n",
    "                                             'plan_lifetime_value' : 'sum'},\n",
    "                        'actual_amount_paid' : {'actual_amount_mean' : 'mean',\n",
    "                                                'total_actual_amount' : 'sum'},\n",
    "                        'is_auto_renew' : {'is_auto_renew_mode' : lambda x : x.mode()[0]},\n",
    "                        'transaction_date' : {'transaction_date_min' : lambda x: x.min(),\n",
    "                                              'transaction_date_max' : lambda x: x.max()},\n",
    "                        'is_cancel' : {'cancel_times' : lambda x : sum(x==1)}\n",
    "            })"
   ]
  },
  {
   "cell_type": "code",
   "execution_count": null,
   "metadata": {},
   "outputs": [],
   "source": [
    "transactions_summary = \\\n",
    "    transactions_merged\\\n",
    "            .groupby('msno')\\\n",
    "            .agg({'msno' : {'total_order' : 'count'},\n",
    "                            'payment_method_id' : {'payment_method_id_mode' : lambda x: x.mode()[0] if len(x) > 1 else x,\n",
    "                                                   'payment_method_id_count' : lambda x: len(np.unique(x))},\n",
    "                            'payment_plan_days' : {'payment_plan_days_mode' : lambda x: x.mode()[0] if len(x) > 1 else x\n",
    "                                                   ,\n",
    "                                                   'payment_plan_days_mean' : 'mean'},\n",
    "                            'plan_list_price' : {'plan_list_price_mean' : 'mean',\n",
    "                                                 'plan_lifetime_value' : 'sum'},\n",
    "                            'actual_amount_paid' : {'actual_amount_mean' : 'mean',\n",
    "                                                    'total_actual_amount' : 'sum'},\n",
    "                            'is_auto_renew' : {'is_auto_renew_mode' : lambda x : x.mode()[0] if len(x) > 1 else x},\n",
    "                            'transaction_date' : {'transaction_date_min' : lambda x: x.min(),\n",
    "                                                  'transaction_date_max' : lambda x: x.max()},\n",
    "                            'is_cancel' : {'cancel_times' : lambda x : sum(x==1)}\n",
    "                })\n",
    "        \n",
    "transactions_summary.columns = transactions_summary.columns.droplevel(0)\n",
    "transactions_summary.reset_index(inplace=True)"
   ]
  },
  {
   "cell_type": "code",
   "execution_count": null,
   "metadata": {},
   "outputs": [],
   "source": [
    "transactions_summary['transaction_date_min'] = pd.to_datetime(transactions_summary['transaction_date_min'], \n",
    "                                                              format='%Y%m%d', errors='ignore')\n",
    "transactions_summary['transaction_date_max'] = pd.to_datetime(transactions_summary['transaction_date_max'], \n",
    "                                                              format='%Y%m%d', errors='ignore')\n",
    "transactions_summary['transaction_date_delta'] =  (transactions_summary.transaction_date_max - transactions_summary.transaction_date_min) / pd.offsets.Day(1)\n",
    "#transaction.drop(['transaction_date_min', 'transaction_date_max'], axis=1, inplace=True)\n"
   ]
  },
  {
   "cell_type": "code",
   "execution_count": null,
   "metadata": {},
   "outputs": [],
   "source": [
    "transactions_summary = transactions_summary[~transactions_summary.is_auto_renew_mode.isnull()]\n",
    "len(transactions_summary)"
   ]
  },
  {
   "cell_type": "code",
   "execution_count": null,
   "metadata": {},
   "outputs": [],
   "source": [
    "transactions_summary.head()"
   ]
  },
  {
   "cell_type": "code",
   "execution_count": null,
   "metadata": {},
   "outputs": [],
   "source": []
  },
  {
   "cell_type": "code",
   "execution_count": null,
   "metadata": {
    "scrolled": true
   },
   "outputs": [],
   "source": [
    "transactions_summary.to_hdf('/home/dissertation/data/transactions_summary.h5', key='transactions_summary', mode='w')"
   ]
  },
  {
   "cell_type": "code",
   "execution_count": null,
   "metadata": {},
   "outputs": [],
   "source": [
    "transactions_summary = pd.read_hdf('/home/dissertation/data/transactions_summary.h5', 'transactions_summary')"
   ]
  },
  {
   "cell_type": "code",
   "execution_count": null,
   "metadata": {},
   "outputs": [],
   "source": []
  },
  {
   "cell_type": "code",
   "execution_count": null,
   "metadata": {
    "scrolled": true
   },
   "outputs": [],
   "source": [
    "data_prepared = pd.merge(left = merged_input, \n",
    "                         right = transactions_summary,\n",
    "                         how='inner',\n",
    "                         on='msno')\n",
    "print(len(data_prepared))\n",
    "transactions_summary.is_auto_renew_mode = transactions_summary.is_auto_renew_mode.astype(bool)\n",
    "data_prepared.head()"
   ]
  },
  {
   "cell_type": "code",
   "execution_count": null,
   "metadata": {},
   "outputs": [],
   "source": []
  },
  {
   "cell_type": "code",
   "execution_count": null,
   "metadata": {},
   "outputs": [],
   "source": [
    "pd.crosstab(data_prepared['is_auto_renew_mode'].fillna('missing'), \n",
    "            data_prepared['is_churn'].fillna('missing')).plot(kind='bar')\n",
    "pd.crosstab(data_prepared['is_auto_renew_mode'].fillna('missing'), \n",
    "            data_prepared['is_churn'].fillna('missing'), normalize=True)"
   ]
  },
  {
   "cell_type": "code",
   "execution_count": null,
   "metadata": {},
   "outputs": [],
   "source": [
    "data_prepared.columns"
   ]
  },
  {
   "cell_type": "code",
   "execution_count": null,
   "metadata": {},
   "outputs": [],
   "source": [
    "import seaborn as sns\n",
    "\n",
    "# calculate the correlation matrix using spearman as some of the distributions are not normal.\n",
    "df_corr = data_prepared[[\n",
    "                     'membership_months', 'age_cat', 'payment_method_id_count',\\\n",
    "                     'payment_plan_days_mean', 'plan_list_price_mean', 'plan_lifetime_value',\\\n",
    "                     'actual_amount_mean', 'total_actual_amount',\\\n",
    "                     'cancel_times',\\\n",
    "                     'transaction_date_delta']]\\\n",
    "                .corr('spearman')\n",
    "\n",
    "fig, ax = plt.subplots(figsize=(10,10)) \n",
    "sns.heatmap(df_corr, xticklabels=df_corr.columns, yticklabels=df_corr.columns, annot=True)"
   ]
  },
  {
   "cell_type": "code",
   "execution_count": null,
   "metadata": {},
   "outputs": [],
   "source": []
  },
  {
   "cell_type": "markdown",
   "metadata": {},
   "source": [
    "## Write out the modified dataset to the HDF5 store"
   ]
  },
  {
   "cell_type": "code",
   "execution_count": null,
   "metadata": {},
   "outputs": [],
   "source": [
    "data_prepared.to_hdf('/home/dissertation/data/data_feat_eng_v1.h5', key='data_prepared', mode='w', format=\"table\")"
   ]
  },
  {
   "cell_type": "code",
   "execution_count": null,
   "metadata": {},
   "outputs": [],
   "source": []
  },
  {
   "cell_type": "code",
   "execution_count": null,
   "metadata": {},
   "outputs": [],
   "source": []
  },
  {
   "cell_type": "markdown",
   "metadata": {},
   "source": [
    "## Construct the basic dataset"
   ]
  },
  {
   "cell_type": "code",
   "execution_count": null,
   "metadata": {},
   "outputs": [],
   "source": [
    "def load_v2_dataset():\n",
    "    train_input = pd.read_csv('/home/dissertation/data/train_v2.csv',dtype = {'msno' : str})\n",
    "    members_input = pd.read_csv('/home/dissertation/data/members_v3.csv',dtype={'registered_via' : np.uint8,\n",
    "                                                          'gender' : 'category'})\n",
    "\n",
    "    train_input = pd.merge(left=train_input, right=members_input, how='left', on=['msno'])\n",
    "\n",
    "    del members_input\n",
    "\n",
    "    transactions_input = pd.read_csv('/home/dissertation/data/transactions.csv',\n",
    "                                     dtype = {'payment_method' : 'category',\n",
    "                                              'payment_plan_days' : np.uint8,\n",
    "                                              'plan_list_price' : np.uint8,\n",
    "                                              'actual_amount_paid': np.uint8,\n",
    "                                              'is_auto_renew' : np.bool,\n",
    "                                              'is_cancel' : np.bool})\n",
    "\n",
    "    transactions_input = pd.merge(left = train_input, \n",
    "                                  right = transactions_input, \n",
    "                                  how='left', \n",
    "                                  on='msno')\n",
    "\n",
    "    grouped  = transactions_input.copy().groupby('msno')\n",
    "\n",
    "    shuffle = grouped.agg({'msno' : {'total_order' : 'count'},\n",
    "                           'plan_list_price' : {'plan_net_worth' : 'sum'},\n",
    "                           'actual_amount_paid' : {'mean_payment_each_transaction' : 'mean',\n",
    "                                                   'total_actual_payment' : 'sum'},\n",
    "                           'is_cancel' : {'cancel_times' : lambda x : sum(x==1)}})\n",
    "\n",
    "    shuffle.columns = shuffle.columns.droplevel(0)\n",
    "    shuffle.reset_index(inplace=True)\n",
    "    \n",
    "    train_input = pd.merge(left = train_input,right = shuffle,how='left',on='msno')\n",
    "    \n",
    "    del transactions_input\n",
    "\n",
    "    return train_input"
   ]
  },
  {
   "cell_type": "code",
   "execution_count": null,
   "metadata": {},
   "outputs": [],
   "source": [
    "new_data = load_v2_dataset()"
   ]
  },
  {
   "cell_type": "code",
   "execution_count": null,
   "metadata": {},
   "outputs": [],
   "source": [
    "new_data.head()"
   ]
  },
  {
   "cell_type": "code",
   "execution_count": null,
   "metadata": {},
   "outputs": [],
   "source": [
    "len(new_data)"
   ]
  },
  {
   "cell_type": "code",
   "execution_count": null,
   "metadata": {},
   "outputs": [],
   "source": [
    "new_data[new_data.msno == 'ugx0CjOMzazClkFzU2xasmDZaoIqOUAZPsH1q0teWCg=']"
   ]
  },
  {
   "cell_type": "code",
   "execution_count": null,
   "metadata": {},
   "outputs": [],
   "source": [
    "new_data['registration_init_time_dt'] = pd.to_datetime(new_data['registration_init_time'], \n",
    "                                                           format='%Y%m%d', errors='ignore')"
   ]
  },
  {
   "cell_type": "code",
   "execution_count": null,
   "metadata": {},
   "outputs": [],
   "source": [
    "new_data.to_hdf('/home/dissertation/data/train_v3.h5', key='train_v3', mode='w', format=\"table\")"
   ]
  },
  {
   "cell_type": "code",
   "execution_count": null,
   "metadata": {},
   "outputs": [],
   "source": []
  }
 ],
 "metadata": {
  "kernelspec": {
   "display_name": "Python 3",
   "language": "python",
   "name": "python3"
  },
  "language_info": {
   "codemirror_mode": {
    "name": "ipython",
    "version": 3
   },
   "file_extension": ".py",
   "mimetype": "text/x-python",
   "name": "python",
   "nbconvert_exporter": "python",
   "pygments_lexer": "ipython3",
   "version": "3.7.3"
  }
 },
 "nbformat": 4,
 "nbformat_minor": 2
}
