{
 "cells": [
  {
   "cell_type": "code",
   "execution_count": 73,
   "metadata": {},
   "outputs": [
    {
     "name": "stdout",
     "output_type": "stream",
     "text": [
      "The autoreload extension is already loaded. To reload it, use:\n",
      "  %reload_ext autoreload\n"
     ]
    }
   ],
   "source": [
    "%load_ext autoreload\n",
    "%autoreload\n",
    "\n",
    "import pandas as pd\n",
    "import numpy as np\n",
    "\n",
    "pd.options.display.float_format = \"{:.2f}\".format\n",
    "np.set_printoptions(precision=4)\n",
    "\n",
    "from sklearn.model_selection import train_test_split\n",
    "\n",
    "import matplotlib.pyplot as plt\n",
    "%matplotlib inline"
   ]
  },
  {
   "cell_type": "markdown",
   "metadata": {},
   "source": [
    "### TRAIN\n",
    "        the train set, containing the user ids and whether they have churned.\n",
    "        Churn is defined as whether the user did not continue the subscription within 30 days of expiration. \n",
    "        is_churn = 1 means churn,\n",
    "        is_churn = 0 means renewal."
   ]
  },
  {
   "cell_type": "code",
   "execution_count": 2,
   "metadata": {
    "scrolled": true
   },
   "outputs": [
    {
     "data": {
      "text/html": [
       "<div>\n",
       "<style scoped>\n",
       "    .dataframe tbody tr th:only-of-type {\n",
       "        vertical-align: middle;\n",
       "    }\n",
       "\n",
       "    .dataframe tbody tr th {\n",
       "        vertical-align: top;\n",
       "    }\n",
       "\n",
       "    .dataframe thead th {\n",
       "        text-align: right;\n",
       "    }\n",
       "</style>\n",
       "<table border=\"1\" class=\"dataframe\">\n",
       "  <thead>\n",
       "    <tr style=\"text-align: right;\">\n",
       "      <th></th>\n",
       "      <th>msno</th>\n",
       "      <th>is_churn</th>\n",
       "    </tr>\n",
       "  </thead>\n",
       "  <tbody>\n",
       "    <tr>\n",
       "      <th>0</th>\n",
       "      <td>ugx0CjOMzazClkFzU2xasmDZaoIqOUAZPsH1q0teWCg=</td>\n",
       "      <td>1</td>\n",
       "    </tr>\n",
       "    <tr>\n",
       "      <th>1</th>\n",
       "      <td>f/NmvEzHfhINFEYZTR05prUdr+E+3+oewvweYz9cCQE=</td>\n",
       "      <td>1</td>\n",
       "    </tr>\n",
       "    <tr>\n",
       "      <th>2</th>\n",
       "      <td>zLo9f73nGGT1p21ltZC3ChiRnAVvgibMyazbCxvWPcg=</td>\n",
       "      <td>1</td>\n",
       "    </tr>\n",
       "    <tr>\n",
       "      <th>3</th>\n",
       "      <td>8iF/+8HY8lJKFrTc7iR9ZYGCG2Ecrogbc2Vy5YhsfhQ=</td>\n",
       "      <td>1</td>\n",
       "    </tr>\n",
       "    <tr>\n",
       "      <th>4</th>\n",
       "      <td>K6fja4+jmoZ5xG6BypqX80Uw/XKpMgrEMdG2edFOxnA=</td>\n",
       "      <td>1</td>\n",
       "    </tr>\n",
       "  </tbody>\n",
       "</table>\n",
       "</div>"
      ],
      "text/plain": [
       "                                           msno  is_churn\n",
       "0  ugx0CjOMzazClkFzU2xasmDZaoIqOUAZPsH1q0teWCg=         1\n",
       "1  f/NmvEzHfhINFEYZTR05prUdr+E+3+oewvweYz9cCQE=         1\n",
       "2  zLo9f73nGGT1p21ltZC3ChiRnAVvgibMyazbCxvWPcg=         1\n",
       "3  8iF/+8HY8lJKFrTc7iR9ZYGCG2Ecrogbc2Vy5YhsfhQ=         1\n",
       "4  K6fja4+jmoZ5xG6BypqX80Uw/XKpMgrEMdG2edFOxnA=         1"
      ]
     },
     "execution_count": 2,
     "metadata": {},
     "output_type": "execute_result"
    }
   ],
   "source": [
    "train_input = pd.read_csv('/home/dissertation/data/train_v2.csv', \n",
    "                          dtype = {'msno' : 'category'})\n",
    "train_input.head()"
   ]
  },
  {
   "cell_type": "code",
   "execution_count": 3,
   "metadata": {},
   "outputs": [
    {
     "name": "stdout",
     "output_type": "stream",
     "text": [
      "The percentage of churners is: 0.0899\n"
     ]
    },
    {
     "data": {
      "text/plain": [
       "0    883630\n",
       "1     87330\n",
       "Name: is_churn, dtype: int64"
      ]
     },
     "execution_count": 3,
     "metadata": {},
     "output_type": "execute_result"
    }
   ],
   "source": [
    "## The percentage of churners is?\n",
    "print(\"The percentage of churners is: {0:.4f}\".format(np.mean(train_input.is_churn)))\n",
    "train_input.is_churn.value_counts()"
   ]
  },
  {
   "cell_type": "code",
   "execution_count": 4,
   "metadata": {
    "scrolled": true
   },
   "outputs": [
    {
     "name": "stdout",
     "output_type": "stream",
     "text": [
      " 0    883630\n",
      "1     87330\n",
      "Name: is_churn, dtype: int64\n"
     ]
    },
    {
     "data": {
      "image/png": "[encoded data removed]",
      "text/plain": [
       "<Figure size 432x288 with 1 Axes>"
      ]
     },
     "metadata": {
      "needs_background": "light"
     },
     "output_type": "display_data"
    }
   ],
   "source": [
    "train_input.is_churn.value_counts(dropna=False, normalize=True).plot(kind='bar', title='Train Set - Normalised Count % (target)')\n",
    "print(\"\",train_input.is_churn.value_counts())"
   ]
  },
  {
   "cell_type": "markdown",
   "metadata": {},
   "source": [
    "So we have churn records for 970960 members"
   ]
  },
  {
   "cell_type": "markdown",
   "metadata": {},
   "source": [
    "### MEMBERS"
   ]
  },
  {
   "cell_type": "code",
   "execution_count": 29,
   "metadata": {},
   "outputs": [],
   "source": [
    "members_input = pd.read_csv('/home/dissertation/data/members_v3.csv', parse_dates=[5],\n",
    "                            dtype={'registered_via' : np.uint8,\n",
    "                                   'gender' : str,\n",
    "                                   'city' : str,\n",
    "                                   'registered_via' : str})"
   ]
  },
  {
   "cell_type": "code",
   "execution_count": 30,
   "metadata": {},
   "outputs": [
    {
     "data": {
      "text/html": [
       "<div>\n",
       "<style scoped>\n",
       "    .dataframe tbody tr th:only-of-type {\n",
       "        vertical-align: middle;\n",
       "    }\n",
       "\n",
       "    .dataframe tbody tr th {\n",
       "        vertical-align: top;\n",
       "    }\n",
       "\n",
       "    .dataframe thead th {\n",
       "        text-align: right;\n",
       "    }\n",
       "</style>\n",
       "<table border=\"1\" class=\"dataframe\">\n",
       "  <thead>\n",
       "    <tr style=\"text-align: right;\">\n",
       "      <th></th>\n",
       "      <th>msno</th>\n",
       "      <th>city</th>\n",
       "      <th>bd</th>\n",
       "      <th>gender</th>\n",
       "      <th>registered_via</th>\n",
       "      <th>registration_init_time</th>\n",
       "    </tr>\n",
       "  </thead>\n",
       "  <tbody>\n",
       "    <tr>\n",
       "      <th>0</th>\n",
       "      <td>ugx0CjOMzazClkFzU2xasmDZaoIqOUAZPsH1q0teWCg=</td>\n",
       "      <td>5</td>\n",
       "      <td>28</td>\n",
       "      <td>male</td>\n",
       "      <td>3</td>\n",
       "      <td>2013-12-23</td>\n",
       "    </tr>\n",
       "    <tr>\n",
       "      <th>1</th>\n",
       "      <td>f/NmvEzHfhINFEYZTR05prUdr+E+3+oewvweYz9cCQE=</td>\n",
       "      <td>13</td>\n",
       "      <td>20</td>\n",
       "      <td>male</td>\n",
       "      <td>3</td>\n",
       "      <td>2013-12-23</td>\n",
       "    </tr>\n",
       "    <tr>\n",
       "      <th>2</th>\n",
       "      <td>zLo9f73nGGT1p21ltZC3ChiRnAVvgibMyazbCxvWPcg=</td>\n",
       "      <td>13</td>\n",
       "      <td>18</td>\n",
       "      <td>male</td>\n",
       "      <td>3</td>\n",
       "      <td>2013-12-27</td>\n",
       "    </tr>\n",
       "    <tr>\n",
       "      <th>3</th>\n",
       "      <td>8iF/+8HY8lJKFrTc7iR9ZYGCG2Ecrogbc2Vy5YhsfhQ=</td>\n",
       "      <td>1</td>\n",
       "      <td>0</td>\n",
       "      <td>NaN</td>\n",
       "      <td>7</td>\n",
       "      <td>2014-01-09</td>\n",
       "    </tr>\n",
       "    <tr>\n",
       "      <th>4</th>\n",
       "      <td>K6fja4+jmoZ5xG6BypqX80Uw/XKpMgrEMdG2edFOxnA=</td>\n",
       "      <td>13</td>\n",
       "      <td>35</td>\n",
       "      <td>female</td>\n",
       "      <td>7</td>\n",
       "      <td>2014-01-25</td>\n",
       "    </tr>\n",
       "  </tbody>\n",
       "</table>\n",
       "</div>"
      ],
      "text/plain": [
       "                                           msno city  bd  gender  \\\n",
       "0  ugx0CjOMzazClkFzU2xasmDZaoIqOUAZPsH1q0teWCg=    5  28    male   \n",
       "1  f/NmvEzHfhINFEYZTR05prUdr+E+3+oewvweYz9cCQE=   13  20    male   \n",
       "2  zLo9f73nGGT1p21ltZC3ChiRnAVvgibMyazbCxvWPcg=   13  18    male   \n",
       "3  8iF/+8HY8lJKFrTc7iR9ZYGCG2Ecrogbc2Vy5YhsfhQ=    1   0     NaN   \n",
       "4  K6fja4+jmoZ5xG6BypqX80Uw/XKpMgrEMdG2edFOxnA=   13  35  female   \n",
       "\n",
       "  registered_via registration_init_time  \n",
       "0              3             2013-12-23  \n",
       "1              3             2013-12-23  \n",
       "2              3             2013-12-27  \n",
       "3              7             2014-01-09  \n",
       "4              7             2014-01-25  "
      ]
     },
     "execution_count": 30,
     "metadata": {},
     "output_type": "execute_result"
    }
   ],
   "source": [
    "## Reduce members down to those which exist in the dataset\n",
    "members_input = pd.merge(left=train_input['msno'], right=members_input, how='inner', on=['msno'])\n",
    "members_input.head()"
   ]
  },
  {
   "cell_type": "code",
   "execution_count": 31,
   "metadata": {},
   "outputs": [
    {
     "data": {
      "text/html": [
       "<div>\n",
       "<style scoped>\n",
       "    .dataframe tbody tr th:only-of-type {\n",
       "        vertical-align: middle;\n",
       "    }\n",
       "\n",
       "    .dataframe tbody tr th {\n",
       "        vertical-align: top;\n",
       "    }\n",
       "\n",
       "    .dataframe thead th {\n",
       "        text-align: right;\n",
       "    }\n",
       "</style>\n",
       "<table border=\"1\" class=\"dataframe\">\n",
       "  <thead>\n",
       "    <tr style=\"text-align: right;\">\n",
       "      <th></th>\n",
       "      <th>msno</th>\n",
       "      <th>city</th>\n",
       "      <th>bd</th>\n",
       "      <th>gender</th>\n",
       "      <th>registered_via</th>\n",
       "      <th>registration_init_time</th>\n",
       "    </tr>\n",
       "  </thead>\n",
       "  <tbody>\n",
       "    <tr>\n",
       "      <th>0</th>\n",
       "      <td>ugx0CjOMzazClkFzU2xasmDZaoIqOUAZPsH1q0teWCg=</td>\n",
       "      <td>5</td>\n",
       "      <td>28</td>\n",
       "      <td>male</td>\n",
       "      <td>3</td>\n",
       "      <td>2013-12-23</td>\n",
       "    </tr>\n",
       "    <tr>\n",
       "      <th>1</th>\n",
       "      <td>f/NmvEzHfhINFEYZTR05prUdr+E+3+oewvweYz9cCQE=</td>\n",
       "      <td>13</td>\n",
       "      <td>20</td>\n",
       "      <td>male</td>\n",
       "      <td>3</td>\n",
       "      <td>2013-12-23</td>\n",
       "    </tr>\n",
       "    <tr>\n",
       "      <th>2</th>\n",
       "      <td>zLo9f73nGGT1p21ltZC3ChiRnAVvgibMyazbCxvWPcg=</td>\n",
       "      <td>13</td>\n",
       "      <td>18</td>\n",
       "      <td>male</td>\n",
       "      <td>3</td>\n",
       "      <td>2013-12-27</td>\n",
       "    </tr>\n",
       "    <tr>\n",
       "      <th>3</th>\n",
       "      <td>8iF/+8HY8lJKFrTc7iR9ZYGCG2Ecrogbc2Vy5YhsfhQ=</td>\n",
       "      <td>1</td>\n",
       "      <td>0</td>\n",
       "      <td>NaN</td>\n",
       "      <td>7</td>\n",
       "      <td>2014-01-09</td>\n",
       "    </tr>\n",
       "    <tr>\n",
       "      <th>4</th>\n",
       "      <td>K6fja4+jmoZ5xG6BypqX80Uw/XKpMgrEMdG2edFOxnA=</td>\n",
       "      <td>13</td>\n",
       "      <td>35</td>\n",
       "      <td>female</td>\n",
       "      <td>7</td>\n",
       "      <td>2014-01-25</td>\n",
       "    </tr>\n",
       "  </tbody>\n",
       "</table>\n",
       "</div>"
      ],
      "text/plain": [
       "                                           msno city  bd  gender  \\\n",
       "0  ugx0CjOMzazClkFzU2xasmDZaoIqOUAZPsH1q0teWCg=    5  28    male   \n",
       "1  f/NmvEzHfhINFEYZTR05prUdr+E+3+oewvweYz9cCQE=   13  20    male   \n",
       "2  zLo9f73nGGT1p21ltZC3ChiRnAVvgibMyazbCxvWPcg=   13  18    male   \n",
       "3  8iF/+8HY8lJKFrTc7iR9ZYGCG2Ecrogbc2Vy5YhsfhQ=    1   0     NaN   \n",
       "4  K6fja4+jmoZ5xG6BypqX80Uw/XKpMgrEMdG2edFOxnA=   13  35  female   \n",
       "\n",
       "  registered_via registration_init_time  \n",
       "0              3             2013-12-23  \n",
       "1              3             2013-12-23  \n",
       "2              3             2013-12-27  \n",
       "3              7             2014-01-09  \n",
       "4              7             2014-01-25  "
      ]
     },
     "execution_count": 31,
     "metadata": {},
     "output_type": "execute_result"
    }
   ],
   "source": [
    "members_input.head()"
   ]
  },
  {
   "cell_type": "markdown",
   "metadata": {},
   "source": [
    "#### Adding a membership_months feature"
   ]
  },
  {
   "cell_type": "code",
   "execution_count": 33,
   "metadata": {},
   "outputs": [],
   "source": [
    "## Adding in a member for time period\n",
    "## Max transation date will be used as end period. That date is: 2017-02-28\n",
    "\n",
    "members_input['membership_months'] = (pd.datetime(2017,2, 28) - members_input['registration_init_time']) / np.timedelta64(1, 'M')\n",
    "members_input['membership_months'] = members_input['membership_months'].astype(int)"
   ]
  },
  {
   "cell_type": "code",
   "execution_count": 39,
   "metadata": {},
   "outputs": [
    {
     "data": {
      "text/plain": [
       "<matplotlib.axes._subplots.AxesSubplot at 0x7f8d34086908>"
      ]
     },
     "execution_count": 39,
     "metadata": {},
     "output_type": "execute_result"
    },
    {
     "data": {
      "image/png": "[encoded data removed]",
      "text/plain": [
       "<Figure size 432x288 with 1 Axes>"
      ]
     },
     "metadata": {
      "needs_background": "light"
     },
     "output_type": "display_data"
    }
   ],
   "source": [
    "members_input['membership_months'].value_counts(normalize=True).plot(kind='bar')"
   ]
  },
  {
   "cell_type": "markdown",
   "metadata": {},
   "source": [
    "#### Mapping all missing gender to 'unknown' category"
   ]
  },
  {
   "cell_type": "code",
   "execution_count": 34,
   "metadata": {},
   "outputs": [
    {
     "data": {
      "text/plain": [
       "<matplotlib.axes._subplots.AxesSubplot at 0x7f8d3c9a57b8>"
      ]
     },
     "execution_count": 34,
     "metadata": {},
     "output_type": "execute_result"
    },
    {
     "data": {
      "image/png": "[encoded data removed]",
      "text/plain": [
       "<Figure size 432x288 with 1 Axes>"
      ]
     },
     "metadata": {
      "needs_background": "light"
     },
     "output_type": "display_data"
    }
   ],
   "source": [
    "members_input['gender'] = members_input['gender'].fillna(value='unknown')\n",
    "members_input.gender.value_counts(normalize=True).plot(kind='bar')"
   ]
  },
  {
   "cell_type": "markdown",
   "metadata": {},
   "source": [
    "#### Map outliers in BD"
   ]
  },
  {
   "cell_type": "code",
   "execution_count": 35,
   "metadata": {},
   "outputs": [
    {
     "data": {
      "text/plain": [
       "{'whiskers': [<matplotlib.lines.Line2D at 0x7f8d29248b00>,\n",
       "  <matplotlib.lines.Line2D at 0x7f8d29248eb8>],\n",
       " 'caps': [<matplotlib.lines.Line2D at 0x7f8d29248f98>,\n",
       "  <matplotlib.lines.Line2D at 0x7f8d29273588>],\n",
       " 'boxes': [<matplotlib.lines.Line2D at 0x7f8d292486d8>],\n",
       " 'medians': [<matplotlib.lines.Line2D at 0x7f8d292738d0>],\n",
       " 'fliers': [<matplotlib.lines.Line2D at 0x7f8d29273c18>],\n",
       " 'means': []}"
      ]
     },
     "execution_count": 35,
     "metadata": {},
     "output_type": "execute_result"
    },
    {
     "data": {
      "image/png": "[encoded data removed]",
      "text/plain": [
       "<Figure size 432x288 with 1 Axes>"
      ]
     },
     "metadata": {
      "needs_background": "light"
     },
     "output_type": "display_data"
    }
   ],
   "source": [
    "fig1, ax1 = plt.subplots()\n",
    "ax1.set_title('Box Plot of Age')\n",
    "ax1.boxplot(members_input[members_input.bd.between(0,90)]['bd'])"
   ]
  },
  {
   "cell_type": "code",
   "execution_count": 40,
   "metadata": {},
   "outputs": [],
   "source": [
    "#Everything below 0 and above 90 is junk \n",
    "members_input = members_input[members_input.bd.between(0,90)]"
   ]
  },
  {
   "cell_type": "code",
   "execution_count": 41,
   "metadata": {},
   "outputs": [
    {
     "data": {
      "text/plain": [
       "<matplotlib.axes._subplots.AxesSubplot at 0x7f8cdcbcf2e8>"
      ]
     },
     "execution_count": 41,
     "metadata": {},
     "output_type": "execute_result"
    },
    {
     "data": {
      "image/png": "[encoded data removed]",
      "text/plain": [
       "<Figure size 432x288 with 1 Axes>"
      ]
     },
     "metadata": {
      "needs_background": "light"
     },
     "output_type": "display_data"
    }
   ],
   "source": [
    "members_input[members_input.bd.between(1,40)].bd.value_counts(normalize=True).plot(kind='bar')"
   ]
  },
  {
   "cell_type": "code",
   "execution_count": 42,
   "metadata": {
    "scrolled": false
   },
   "outputs": [
    {
     "data": {
      "text/html": [
       "<div>\n",
       "<style scoped>\n",
       "    .dataframe tbody tr th:only-of-type {\n",
       "        vertical-align: middle;\n",
       "    }\n",
       "\n",
       "    .dataframe tbody tr th {\n",
       "        vertical-align: top;\n",
       "    }\n",
       "\n",
       "    .dataframe thead th {\n",
       "        text-align: right;\n",
       "    }\n",
       "</style>\n",
       "<table border=\"1\" class=\"dataframe\">\n",
       "  <thead>\n",
       "    <tr style=\"text-align: right;\">\n",
       "      <th></th>\n",
       "      <th>msno</th>\n",
       "      <th>city</th>\n",
       "      <th>bd</th>\n",
       "      <th>gender</th>\n",
       "      <th>registered_via</th>\n",
       "      <th>registration_init_time</th>\n",
       "      <th>membership_months</th>\n",
       "    </tr>\n",
       "  </thead>\n",
       "  <tbody>\n",
       "    <tr>\n",
       "      <th>count</th>\n",
       "      <td>860333</td>\n",
       "      <td>860333</td>\n",
       "      <td>860333.00</td>\n",
       "      <td>860333</td>\n",
       "      <td>860333</td>\n",
       "      <td>860333</td>\n",
       "      <td>860333.00</td>\n",
       "    </tr>\n",
       "    <tr>\n",
       "      <th>unique</th>\n",
       "      <td>860333</td>\n",
       "      <td>21</td>\n",
       "      <td>nan</td>\n",
       "      <td>3</td>\n",
       "      <td>5</td>\n",
       "      <td>4749</td>\n",
       "      <td>nan</td>\n",
       "    </tr>\n",
       "    <tr>\n",
       "      <th>top</th>\n",
       "      <td>jS7mXQDlnot48OjPQGJvXVpqlDATm3mDWlQv+7YWOZo=</td>\n",
       "      <td>1</td>\n",
       "      <td>nan</td>\n",
       "      <td>unknown</td>\n",
       "      <td>7</td>\n",
       "      <td>2015-10-09 00:00:00</td>\n",
       "      <td>nan</td>\n",
       "    </tr>\n",
       "    <tr>\n",
       "      <th>freq</th>\n",
       "      <td>1</td>\n",
       "      <td>442554</td>\n",
       "      <td>nan</td>\n",
       "      <td>471984</td>\n",
       "      <td>462595</td>\n",
       "      <td>1574</td>\n",
       "      <td>nan</td>\n",
       "    </tr>\n",
       "    <tr>\n",
       "      <th>first</th>\n",
       "      <td>NaN</td>\n",
       "      <td>NaN</td>\n",
       "      <td>nan</td>\n",
       "      <td>NaN</td>\n",
       "      <td>NaN</td>\n",
       "      <td>2004-03-26 00:00:00</td>\n",
       "      <td>nan</td>\n",
       "    </tr>\n",
       "    <tr>\n",
       "      <th>last</th>\n",
       "      <td>NaN</td>\n",
       "      <td>NaN</td>\n",
       "      <td>nan</td>\n",
       "      <td>NaN</td>\n",
       "      <td>NaN</td>\n",
       "      <td>2017-04-24 00:00:00</td>\n",
       "      <td>nan</td>\n",
       "    </tr>\n",
       "    <tr>\n",
       "      <th>mean</th>\n",
       "      <td>NaN</td>\n",
       "      <td>NaN</td>\n",
       "      <td>13.43</td>\n",
       "      <td>NaN</td>\n",
       "      <td>NaN</td>\n",
       "      <td>NaN</td>\n",
       "      <td>41.02</td>\n",
       "    </tr>\n",
       "    <tr>\n",
       "      <th>std</th>\n",
       "      <td>NaN</td>\n",
       "      <td>NaN</td>\n",
       "      <td>16.01</td>\n",
       "      <td>NaN</td>\n",
       "      <td>NaN</td>\n",
       "      <td>NaN</td>\n",
       "      <td>36.06</td>\n",
       "    </tr>\n",
       "    <tr>\n",
       "      <th>min</th>\n",
       "      <td>NaN</td>\n",
       "      <td>NaN</td>\n",
       "      <td>0.00</td>\n",
       "      <td>NaN</td>\n",
       "      <td>NaN</td>\n",
       "      <td>NaN</td>\n",
       "      <td>-1.00</td>\n",
       "    </tr>\n",
       "    <tr>\n",
       "      <th>25%</th>\n",
       "      <td>NaN</td>\n",
       "      <td>NaN</td>\n",
       "      <td>0.00</td>\n",
       "      <td>NaN</td>\n",
       "      <td>NaN</td>\n",
       "      <td>NaN</td>\n",
       "      <td>13.00</td>\n",
       "    </tr>\n",
       "    <tr>\n",
       "      <th>50%</th>\n",
       "      <td>NaN</td>\n",
       "      <td>NaN</td>\n",
       "      <td>0.00</td>\n",
       "      <td>NaN</td>\n",
       "      <td>NaN</td>\n",
       "      <td>NaN</td>\n",
       "      <td>32.00</td>\n",
       "    </tr>\n",
       "    <tr>\n",
       "      <th>75%</th>\n",
       "      <td>NaN</td>\n",
       "      <td>NaN</td>\n",
       "      <td>27.00</td>\n",
       "      <td>NaN</td>\n",
       "      <td>NaN</td>\n",
       "      <td>NaN</td>\n",
       "      <td>60.00</td>\n",
       "    </tr>\n",
       "    <tr>\n",
       "      <th>max</th>\n",
       "      <td>NaN</td>\n",
       "      <td>NaN</td>\n",
       "      <td>90.00</td>\n",
       "      <td>NaN</td>\n",
       "      <td>NaN</td>\n",
       "      <td>NaN</td>\n",
       "      <td>155.00</td>\n",
       "    </tr>\n",
       "  </tbody>\n",
       "</table>\n",
       "</div>"
      ],
      "text/plain": [
       "                                                msno    city        bd  \\\n",
       "count                                         860333  860333 860333.00   \n",
       "unique                                        860333      21       nan   \n",
       "top     jS7mXQDlnot48OjPQGJvXVpqlDATm3mDWlQv+7YWOZo=       1       nan   \n",
       "freq                                               1  442554       nan   \n",
       "first                                            NaN     NaN       nan   \n",
       "last                                             NaN     NaN       nan   \n",
       "mean                                             NaN     NaN     13.43   \n",
       "std                                              NaN     NaN     16.01   \n",
       "min                                              NaN     NaN      0.00   \n",
       "25%                                              NaN     NaN      0.00   \n",
       "50%                                              NaN     NaN      0.00   \n",
       "75%                                              NaN     NaN     27.00   \n",
       "max                                              NaN     NaN     90.00   \n",
       "\n",
       "         gender registered_via registration_init_time  membership_months  \n",
       "count    860333         860333                 860333          860333.00  \n",
       "unique        3              5                   4749                nan  \n",
       "top     unknown              7    2015-10-09 00:00:00                nan  \n",
       "freq     471984         462595                   1574                nan  \n",
       "first       NaN            NaN    2004-03-26 00:00:00                nan  \n",
       "last        NaN            NaN    2017-04-24 00:00:00                nan  \n",
       "mean        NaN            NaN                    NaN              41.02  \n",
       "std         NaN            NaN                    NaN              36.06  \n",
       "min         NaN            NaN                    NaN              -1.00  \n",
       "25%         NaN            NaN                    NaN              13.00  \n",
       "50%         NaN            NaN                    NaN              32.00  \n",
       "75%         NaN            NaN                    NaN              60.00  \n",
       "max         NaN            NaN                    NaN             155.00  "
      ]
     },
     "execution_count": 42,
     "metadata": {},
     "output_type": "execute_result"
    }
   ],
   "source": [
    "members_input.describe(include='all')"
   ]
  },
  {
   "cell_type": "markdown",
   "metadata": {},
   "source": [
    "    bd/age_cat is an issue. \n",
    "    gender is also an issue.\n",
    "\n",
    "    It may be better to drop them or remove the poor instances."
   ]
  },
  {
   "cell_type": "code",
   "execution_count": null,
   "metadata": {},
   "outputs": [],
   "source": []
  },
  {
   "cell_type": "markdown",
   "metadata": {},
   "source": [
    "#### Categorical Features"
   ]
  },
  {
   "cell_type": "code",
   "execution_count": 43,
   "metadata": {},
   "outputs": [
    {
     "data": {
      "image/png": "[encoded data removed]",
      "text/plain": [
       "<Figure size 432x288 with 1 Axes>"
      ]
     },
     "metadata": {
      "needs_background": "light"
     },
     "output_type": "display_data"
    },
    {
     "data": {
      "image/png": "[encoded data removed]",
      "text/plain": [
       "<Figure size 432x288 with 1 Axes>"
      ]
     },
     "metadata": {
      "needs_background": "light"
     },
     "output_type": "display_data"
    },
    {
     "data": {
      "image/png": "[encoded data removed]",
      "text/plain": [
       "<Figure size 432x288 with 1 Axes>"
      ]
     },
     "metadata": {
      "needs_background": "light"
     },
     "output_type": "display_data"
    }
   ],
   "source": [
    "for idx, col in enumerate(['city','gender','registered_via']):\n",
    "    plt.figure()\n",
    "    members_input[col].value_counts(dropna=False, normalize=True).plot(kind='bar', title='Train Set - Normalized Count % ({0})'.format(col))"
   ]
  },
  {
   "cell_type": "markdown",
   "metadata": {},
   "source": [
    "#### Notes:\n",
    "    msno: 6769473 members in total in the system.\n",
    "    city [1] is by far the most active city in terms of memberships (~ 50%)\n",
    "    A large portion (>60%) of gender information is missing\n",
    "    There are 5 main approaches to registering, [9, 9, 3, 4, 13]."
   ]
  },
  {
   "cell_type": "code",
   "execution_count": null,
   "metadata": {},
   "outputs": [],
   "source": []
  },
  {
   "cell_type": "markdown",
   "metadata": {},
   "source": [
    "#### TRANSACTIONS"
   ]
  },
  {
   "cell_type": "code",
   "execution_count": 47,
   "metadata": {},
   "outputs": [
    {
     "data": {
      "text/html": [
       "<div>\n",
       "<style scoped>\n",
       "    .dataframe tbody tr th:only-of-type {\n",
       "        vertical-align: middle;\n",
       "    }\n",
       "\n",
       "    .dataframe tbody tr th {\n",
       "        vertical-align: top;\n",
       "    }\n",
       "\n",
       "    .dataframe thead th {\n",
       "        text-align: right;\n",
       "    }\n",
       "</style>\n",
       "<table border=\"1\" class=\"dataframe\">\n",
       "  <thead>\n",
       "    <tr style=\"text-align: right;\">\n",
       "      <th></th>\n",
       "      <th>msno</th>\n",
       "      <th>payment_method_id</th>\n",
       "      <th>payment_plan_days</th>\n",
       "      <th>plan_list_price</th>\n",
       "      <th>actual_amount_paid</th>\n",
       "      <th>is_auto_renew</th>\n",
       "      <th>transaction_date</th>\n",
       "      <th>membership_expire_date</th>\n",
       "      <th>is_cancel</th>\n",
       "    </tr>\n",
       "  </thead>\n",
       "  <tbody>\n",
       "    <tr>\n",
       "      <th>0</th>\n",
       "      <td>YyO+tlZtAXYXoZhNr3Vg3+dfVQvrBVGO8j1mfqe4ZHc=</td>\n",
       "      <td>41</td>\n",
       "      <td>30</td>\n",
       "      <td>129</td>\n",
       "      <td>129</td>\n",
       "      <td>True</td>\n",
       "      <td>20150930</td>\n",
       "      <td>20151101</td>\n",
       "      <td>False</td>\n",
       "    </tr>\n",
       "    <tr>\n",
       "      <th>1</th>\n",
       "      <td>AZtu6Wl0gPojrEQYB8Q3vBSmE2wnZ3hi1FbK1rQQ0A4=</td>\n",
       "      <td>41</td>\n",
       "      <td>30</td>\n",
       "      <td>149</td>\n",
       "      <td>149</td>\n",
       "      <td>True</td>\n",
       "      <td>20150930</td>\n",
       "      <td>20151031</td>\n",
       "      <td>False</td>\n",
       "    </tr>\n",
       "    <tr>\n",
       "      <th>2</th>\n",
       "      <td>UkDFI97Qb6+s2LWcijVVv4rMAsORbVDT2wNXF0aVbns=</td>\n",
       "      <td>41</td>\n",
       "      <td>30</td>\n",
       "      <td>129</td>\n",
       "      <td>129</td>\n",
       "      <td>True</td>\n",
       "      <td>20150930</td>\n",
       "      <td>20160427</td>\n",
       "      <td>False</td>\n",
       "    </tr>\n",
       "    <tr>\n",
       "      <th>3</th>\n",
       "      <td>M1C56ijxozNaGD0t2h68PnH2xtx5iO5iR2MVYQB6nBI=</td>\n",
       "      <td>39</td>\n",
       "      <td>30</td>\n",
       "      <td>149</td>\n",
       "      <td>149</td>\n",
       "      <td>True</td>\n",
       "      <td>20150930</td>\n",
       "      <td>20151128</td>\n",
       "      <td>False</td>\n",
       "    </tr>\n",
       "    <tr>\n",
       "      <th>4</th>\n",
       "      <td>yvj6zyBUaqdbUQSrKsrZ+xNDVM62knauSZJzakS9OW4=</td>\n",
       "      <td>39</td>\n",
       "      <td>30</td>\n",
       "      <td>149</td>\n",
       "      <td>149</td>\n",
       "      <td>True</td>\n",
       "      <td>20150930</td>\n",
       "      <td>20151121</td>\n",
       "      <td>False</td>\n",
       "    </tr>\n",
       "  </tbody>\n",
       "</table>\n",
       "</div>"
      ],
      "text/plain": [
       "                                           msno  payment_method_id  \\\n",
       "0  YyO+tlZtAXYXoZhNr3Vg3+dfVQvrBVGO8j1mfqe4ZHc=                 41   \n",
       "1  AZtu6Wl0gPojrEQYB8Q3vBSmE2wnZ3hi1FbK1rQQ0A4=                 41   \n",
       "2  UkDFI97Qb6+s2LWcijVVv4rMAsORbVDT2wNXF0aVbns=                 41   \n",
       "3  M1C56ijxozNaGD0t2h68PnH2xtx5iO5iR2MVYQB6nBI=                 39   \n",
       "4  yvj6zyBUaqdbUQSrKsrZ+xNDVM62knauSZJzakS9OW4=                 39   \n",
       "\n",
       "   payment_plan_days  plan_list_price  actual_amount_paid  is_auto_renew  \\\n",
       "0                 30              129                 129           True   \n",
       "1                 30              149                 149           True   \n",
       "2                 30              129                 129           True   \n",
       "3                 30              149                 149           True   \n",
       "4                 30              149                 149           True   \n",
       "\n",
       "   transaction_date  membership_expire_date  is_cancel  \n",
       "0          20150930                20151101      False  \n",
       "1          20150930                20151031      False  \n",
       "2          20150930                20160427      False  \n",
       "3          20150930                20151128      False  \n",
       "4          20150930                20151121      False  "
      ]
     },
     "execution_count": 47,
     "metadata": {},
     "output_type": "execute_result"
    }
   ],
   "source": [
    "## Next load in the transactions data\n",
    "transactions_input = pd.read_csv('/home/dissertation/data/transactions.csv',\n",
    "                                 dtype = {'payment_method' : 'category',\n",
    "                                          'payment_plan_days' : np.uint8,\n",
    "                                          'plan_list_price' : np.uint8,\n",
    "                                          'actual_amount_paid': np.uint8,\n",
    "                                          'is_auto_renew' : np.bool,\n",
    "                                          'is_cancel' : np.bool})\n",
    "transactions_input.head()"
   ]
  },
  {
   "cell_type": "code",
   "execution_count": 48,
   "metadata": {},
   "outputs": [
    {
     "data": {
      "text/html": [
       "<div>\n",
       "<style scoped>\n",
       "    .dataframe tbody tr th:only-of-type {\n",
       "        vertical-align: middle;\n",
       "    }\n",
       "\n",
       "    .dataframe tbody tr th {\n",
       "        vertical-align: top;\n",
       "    }\n",
       "\n",
       "    .dataframe thead th {\n",
       "        text-align: right;\n",
       "    }\n",
       "</style>\n",
       "<table border=\"1\" class=\"dataframe\">\n",
       "  <thead>\n",
       "    <tr style=\"text-align: right;\">\n",
       "      <th></th>\n",
       "      <th>msno</th>\n",
       "      <th>payment_method_id</th>\n",
       "      <th>payment_plan_days</th>\n",
       "      <th>plan_list_price</th>\n",
       "      <th>actual_amount_paid</th>\n",
       "      <th>is_auto_renew</th>\n",
       "      <th>transaction_date</th>\n",
       "      <th>membership_expire_date</th>\n",
       "      <th>is_cancel</th>\n",
       "    </tr>\n",
       "  </thead>\n",
       "  <tbody>\n",
       "    <tr>\n",
       "      <th>0</th>\n",
       "      <td>ugx0CjOMzazClkFzU2xasmDZaoIqOUAZPsH1q0teWCg=</td>\n",
       "      <td>38</td>\n",
       "      <td>30</td>\n",
       "      <td>149</td>\n",
       "      <td>149</td>\n",
       "      <td>False</td>\n",
       "      <td>20170228</td>\n",
       "      <td>20170330</td>\n",
       "      <td>False</td>\n",
       "    </tr>\n",
       "    <tr>\n",
       "      <th>1</th>\n",
       "      <td>ugx0CjOMzazClkFzU2xasmDZaoIqOUAZPsH1q0teWCg=</td>\n",
       "      <td>31</td>\n",
       "      <td>0</td>\n",
       "      <td>0</td>\n",
       "      <td>149</td>\n",
       "      <td>True</td>\n",
       "      <td>20150331</td>\n",
       "      <td>20150430</td>\n",
       "      <td>False</td>\n",
       "    </tr>\n",
       "    <tr>\n",
       "      <th>2</th>\n",
       "      <td>ugx0CjOMzazClkFzU2xasmDZaoIqOUAZPsH1q0teWCg=</td>\n",
       "      <td>31</td>\n",
       "      <td>0</td>\n",
       "      <td>0</td>\n",
       "      <td>149</td>\n",
       "      <td>True</td>\n",
       "      <td>20150630</td>\n",
       "      <td>20150731</td>\n",
       "      <td>False</td>\n",
       "    </tr>\n",
       "    <tr>\n",
       "      <th>3</th>\n",
       "      <td>ugx0CjOMzazClkFzU2xasmDZaoIqOUAZPsH1q0teWCg=</td>\n",
       "      <td>31</td>\n",
       "      <td>30</td>\n",
       "      <td>149</td>\n",
       "      <td>149</td>\n",
       "      <td>True</td>\n",
       "      <td>20150902</td>\n",
       "      <td>20150901</td>\n",
       "      <td>True</td>\n",
       "    </tr>\n",
       "    <tr>\n",
       "      <th>4</th>\n",
       "      <td>ugx0CjOMzazClkFzU2xasmDZaoIqOUAZPsH1q0teWCg=</td>\n",
       "      <td>31</td>\n",
       "      <td>0</td>\n",
       "      <td>0</td>\n",
       "      <td>149</td>\n",
       "      <td>True</td>\n",
       "      <td>20150831</td>\n",
       "      <td>20150930</td>\n",
       "      <td>False</td>\n",
       "    </tr>\n",
       "  </tbody>\n",
       "</table>\n",
       "</div>"
      ],
      "text/plain": [
       "                                           msno  payment_method_id  \\\n",
       "0  ugx0CjOMzazClkFzU2xasmDZaoIqOUAZPsH1q0teWCg=                 38   \n",
       "1  ugx0CjOMzazClkFzU2xasmDZaoIqOUAZPsH1q0teWCg=                 31   \n",
       "2  ugx0CjOMzazClkFzU2xasmDZaoIqOUAZPsH1q0teWCg=                 31   \n",
       "3  ugx0CjOMzazClkFzU2xasmDZaoIqOUAZPsH1q0teWCg=                 31   \n",
       "4  ugx0CjOMzazClkFzU2xasmDZaoIqOUAZPsH1q0teWCg=                 31   \n",
       "\n",
       "   payment_plan_days  plan_list_price  actual_amount_paid  is_auto_renew  \\\n",
       "0                 30              149                 149          False   \n",
       "1                  0                0                 149           True   \n",
       "2                  0                0                 149           True   \n",
       "3                 30              149                 149           True   \n",
       "4                  0                0                 149           True   \n",
       "\n",
       "   transaction_date  membership_expire_date  is_cancel  \n",
       "0          20170228                20170330      False  \n",
       "1          20150331                20150430      False  \n",
       "2          20150630                20150731      False  \n",
       "3          20150902                20150901       True  \n",
       "4          20150831                20150930      False  "
      ]
     },
     "execution_count": 48,
     "metadata": {},
     "output_type": "execute_result"
    }
   ],
   "source": [
    "# Reduce the dataset down to the members in the train set only\n",
    "transactions = pd.merge(train_input['msno'], transactions_input, on='msno', how='inner')\n",
    "transactions.head()"
   ]
  },
  {
   "cell_type": "code",
   "execution_count": null,
   "metadata": {},
   "outputs": [],
   "source": []
  },
  {
   "cell_type": "code",
   "execution_count": 49,
   "metadata": {},
   "outputs": [
    {
     "data": {
      "text/plain": [
       "<matplotlib.axes._subplots.AxesSubplot at 0x7f8d161f92b0>"
      ]
     },
     "execution_count": 49,
     "metadata": {},
     "output_type": "execute_result"
    },
    {
     "data": {
      "image/png": "[encoded data removed]",
      "text/plain": [
       "<Figure size 432x288 with 1 Axes>"
      ]
     },
     "metadata": {
      "needs_background": "light"
     },
     "output_type": "display_data"
    }
   ],
   "source": [
    "transactions.plan_list_price.value_counts().plot(kind='bar')"
   ]
  },
  {
   "cell_type": "code",
   "execution_count": 50,
   "metadata": {},
   "outputs": [
    {
     "data": {
      "text/html": [
       "<div>\n",
       "<style scoped>\n",
       "    .dataframe tbody tr th:only-of-type {\n",
       "        vertical-align: middle;\n",
       "    }\n",
       "\n",
       "    .dataframe tbody tr th {\n",
       "        vertical-align: top;\n",
       "    }\n",
       "\n",
       "    .dataframe thead th {\n",
       "        text-align: right;\n",
       "    }\n",
       "</style>\n",
       "<table border=\"1\" class=\"dataframe\">\n",
       "  <thead>\n",
       "    <tr style=\"text-align: right;\">\n",
       "      <th></th>\n",
       "      <th>msno</th>\n",
       "      <th>payment_method_id</th>\n",
       "      <th>payment_plan_days</th>\n",
       "      <th>plan_list_price</th>\n",
       "      <th>actual_amount_paid</th>\n",
       "      <th>is_auto_renew</th>\n",
       "      <th>transaction_date</th>\n",
       "      <th>membership_expire_date</th>\n",
       "      <th>is_cancel</th>\n",
       "    </tr>\n",
       "  </thead>\n",
       "  <tbody>\n",
       "    <tr>\n",
       "      <th>count</th>\n",
       "      <td>21547746</td>\n",
       "      <td>21547746.00</td>\n",
       "      <td>21547746.00</td>\n",
       "      <td>21547746.00</td>\n",
       "      <td>21547746.00</td>\n",
       "      <td>21547746</td>\n",
       "      <td>21547746.00</td>\n",
       "      <td>21547746.00</td>\n",
       "      <td>21547746</td>\n",
       "    </tr>\n",
       "    <tr>\n",
       "      <th>unique</th>\n",
       "      <td>2363626</td>\n",
       "      <td>nan</td>\n",
       "      <td>nan</td>\n",
       "      <td>nan</td>\n",
       "      <td>nan</td>\n",
       "      <td>2</td>\n",
       "      <td>nan</td>\n",
       "      <td>nan</td>\n",
       "      <td>2</td>\n",
       "    </tr>\n",
       "    <tr>\n",
       "      <th>top</th>\n",
       "      <td>xm6fmAfgZx1OYUXaJuHOObD0H2EAtIktv9NYIVlaTf4=</td>\n",
       "      <td>nan</td>\n",
       "      <td>nan</td>\n",
       "      <td>nan</td>\n",
       "      <td>nan</td>\n",
       "      <td>True</td>\n",
       "      <td>nan</td>\n",
       "      <td>nan</td>\n",
       "      <td>False</td>\n",
       "    </tr>\n",
       "    <tr>\n",
       "      <th>freq</th>\n",
       "      <td>71</td>\n",
       "      <td>nan</td>\n",
       "      <td>nan</td>\n",
       "      <td>nan</td>\n",
       "      <td>nan</td>\n",
       "      <td>18357950</td>\n",
       "      <td>nan</td>\n",
       "      <td>nan</td>\n",
       "      <td>20690895</td>\n",
       "    </tr>\n",
       "    <tr>\n",
       "      <th>mean</th>\n",
       "      <td>NaN</td>\n",
       "      <td>38.93</td>\n",
       "      <td>30.15</td>\n",
       "      <td>127.05</td>\n",
       "      <td>128.65</td>\n",
       "      <td>NaN</td>\n",
       "      <td>20157597.16</td>\n",
       "      <td>20158624.78</td>\n",
       "      <td>NaN</td>\n",
       "    </tr>\n",
       "    <tr>\n",
       "      <th>std</th>\n",
       "      <td>NaN</td>\n",
       "      <td>3.51</td>\n",
       "      <td>18.30</td>\n",
       "      <td>42.32</td>\n",
       "      <td>39.57</td>\n",
       "      <td>NaN</td>\n",
       "      <td>6155.98</td>\n",
       "      <td>7755.75</td>\n",
       "      <td>NaN</td>\n",
       "    </tr>\n",
       "    <tr>\n",
       "      <th>min</th>\n",
       "      <td>NaN</td>\n",
       "      <td>1.00</td>\n",
       "      <td>0.00</td>\n",
       "      <td>0.00</td>\n",
       "      <td>0.00</td>\n",
       "      <td>NaN</td>\n",
       "      <td>20150101.00</td>\n",
       "      <td>19700101.00</td>\n",
       "      <td>NaN</td>\n",
       "    </tr>\n",
       "    <tr>\n",
       "      <th>25%</th>\n",
       "      <td>NaN</td>\n",
       "      <td>38.00</td>\n",
       "      <td>30.00</td>\n",
       "      <td>99.00</td>\n",
       "      <td>99.00</td>\n",
       "      <td>NaN</td>\n",
       "      <td>20150906.00</td>\n",
       "      <td>20151019.00</td>\n",
       "      <td>NaN</td>\n",
       "    </tr>\n",
       "    <tr>\n",
       "      <th>50%</th>\n",
       "      <td>NaN</td>\n",
       "      <td>41.00</td>\n",
       "      <td>30.00</td>\n",
       "      <td>149.00</td>\n",
       "      <td>149.00</td>\n",
       "      <td>NaN</td>\n",
       "      <td>20160321.00</td>\n",
       "      <td>20160430.00</td>\n",
       "      <td>NaN</td>\n",
       "    </tr>\n",
       "    <tr>\n",
       "      <th>75%</th>\n",
       "      <td>NaN</td>\n",
       "      <td>41.00</td>\n",
       "      <td>30.00</td>\n",
       "      <td>149.00</td>\n",
       "      <td>149.00</td>\n",
       "      <td>NaN</td>\n",
       "      <td>20160925.00</td>\n",
       "      <td>20161031.00</td>\n",
       "      <td>NaN</td>\n",
       "    </tr>\n",
       "    <tr>\n",
       "      <th>max</th>\n",
       "      <td>NaN</td>\n",
       "      <td>41.00</td>\n",
       "      <td>240.00</td>\n",
       "      <td>252.00</td>\n",
       "      <td>252.00</td>\n",
       "      <td>NaN</td>\n",
       "      <td>20170228.00</td>\n",
       "      <td>20170331.00</td>\n",
       "      <td>NaN</td>\n",
       "    </tr>\n",
       "  </tbody>\n",
       "</table>\n",
       "</div>"
      ],
      "text/plain": [
       "                                                msno  payment_method_id  \\\n",
       "count                                       21547746        21547746.00   \n",
       "unique                                       2363626                nan   \n",
       "top     xm6fmAfgZx1OYUXaJuHOObD0H2EAtIktv9NYIVlaTf4=                nan   \n",
       "freq                                              71                nan   \n",
       "mean                                             NaN              38.93   \n",
       "std                                              NaN               3.51   \n",
       "min                                              NaN               1.00   \n",
       "25%                                              NaN              38.00   \n",
       "50%                                              NaN              41.00   \n",
       "75%                                              NaN              41.00   \n",
       "max                                              NaN              41.00   \n",
       "\n",
       "        payment_plan_days  plan_list_price  actual_amount_paid is_auto_renew  \\\n",
       "count         21547746.00      21547746.00         21547746.00      21547746   \n",
       "unique                nan              nan                 nan             2   \n",
       "top                   nan              nan                 nan          True   \n",
       "freq                  nan              nan                 nan      18357950   \n",
       "mean                30.15           127.05              128.65           NaN   \n",
       "std                 18.30            42.32               39.57           NaN   \n",
       "min                  0.00             0.00                0.00           NaN   \n",
       "25%                 30.00            99.00               99.00           NaN   \n",
       "50%                 30.00           149.00              149.00           NaN   \n",
       "75%                 30.00           149.00              149.00           NaN   \n",
       "max                240.00           252.00              252.00           NaN   \n",
       "\n",
       "        transaction_date  membership_expire_date is_cancel  \n",
       "count        21547746.00             21547746.00  21547746  \n",
       "unique               nan                     nan         2  \n",
       "top                  nan                     nan     False  \n",
       "freq                 nan                     nan  20690895  \n",
       "mean         20157597.16             20158624.78       NaN  \n",
       "std              6155.98                 7755.75       NaN  \n",
       "min          20150101.00             19700101.00       NaN  \n",
       "25%          20150906.00             20151019.00       NaN  \n",
       "50%          20160321.00             20160430.00       NaN  \n",
       "75%          20160925.00             20161031.00       NaN  \n",
       "max          20170228.00             20170331.00       NaN  "
      ]
     },
     "execution_count": 50,
     "metadata": {},
     "output_type": "execute_result"
    }
   ],
   "source": [
    "transactions_input.describe(include='all')"
   ]
  },
  {
   "cell_type": "code",
   "execution_count": 51,
   "metadata": {},
   "outputs": [
    {
     "data": {
      "text/plain": [
       "(array([1.1970e+06, 9.1000e+01, 5.0000e+01, 0.0000e+00, 4.4805e+04,\n",
       "        6.0000e+00, 1.4370e+04, 0.0000e+00, 1.1274e+04, 1.0560e+03,\n",
       "        0.0000e+00, 0.0000e+00, 1.2086e+04, 2.5000e+02, 0.0000e+00,\n",
       "        0.0000e+00, 7.7000e+01, 3.0000e+00, 6.0600e+02, 4.9362e+06,\n",
       "        3.7400e+02, 0.0000e+00, 0.0000e+00, 3.6003e+05, 5.9900e+02,\n",
       "        1.2889e+06, 4.8070e+03, 0.0000e+00, 4.9400e+02, 1.2857e+07,\n",
       "        0.0000e+00, 0.0000e+00, 5.1210e+03, 0.0000e+00, 5.5260e+03,\n",
       "        6.8006e+05, 0.0000e+00, 5.2880e+03, 1.5010e+03, 0.0000e+00,\n",
       "        0.0000e+00, 1.4800e+02, 0.0000e+00, 1.0847e+04, 2.3170e+04,\n",
       "        0.0000e+00, 7.8300e+02, 1.3000e+01, 1.2110e+03, 8.3995e+04]),\n",
       " array([  0.  ,   5.04,  10.08,  15.12,  20.16,  25.2 ,  30.24,  35.28,\n",
       "         40.32,  45.36,  50.4 ,  55.44,  60.48,  65.52,  70.56,  75.6 ,\n",
       "         80.64,  85.68,  90.72,  95.76, 100.8 , 105.84, 110.88, 115.92,\n",
       "        120.96, 126.  , 131.04, 136.08, 141.12, 146.16, 151.2 , 156.24,\n",
       "        161.28, 166.32, 171.36, 176.4 , 181.44, 186.48, 191.52, 196.56,\n",
       "        201.6 , 206.64, 211.68, 216.72, 221.76, 226.8 , 231.84, 236.88,\n",
       "        241.92, 246.96, 252.  ]),\n",
       " <a list of 50 Patch objects>)"
      ]
     },
     "execution_count": 51,
     "metadata": {},
     "output_type": "execute_result"
    },
    {
     "data": {
      "image/png": "[encoded data removed]",
      "text/plain": [
       "<Figure size 432x288 with 1 Axes>"
      ]
     },
     "metadata": {
      "needs_background": "light"
     },
     "output_type": "display_data"
    }
   ],
   "source": [
    "plt.hist(transactions_input.actual_amount_paid, bins=50)"
   ]
  },
  {
   "cell_type": "code",
   "execution_count": 52,
   "metadata": {},
   "outputs": [
    {
     "data": {
      "image/png": "[encoded data removed]",
      "text/plain": [
       "<Figure size 432x288 with 1 Axes>"
      ]
     },
     "metadata": {
      "needs_background": "light"
     },
     "output_type": "display_data"
    },
    {
     "data": {
      "image/png": "[encoded data removed]",
      "text/plain": [
       "<Figure size 432x288 with 1 Axes>"
      ]
     },
     "metadata": {
      "needs_background": "light"
     },
     "output_type": "display_data"
    },
    {
     "data": {
      "image/png": "[encoded data removed]",
      "text/plain": [
       "<Figure size 432x288 with 1 Axes>"
      ]
     },
     "metadata": {
      "needs_background": "light"
     },
     "output_type": "display_data"
    },
    {
     "data": {
      "image/png": "[encoded data removed]",
      "text/plain": [
       "<Figure size 432x288 with 1 Axes>"
      ]
     },
     "metadata": {
      "needs_background": "light"
     },
     "output_type": "display_data"
    }
   ],
   "source": [
    "for idx, col in enumerate(['payment_method_id','payment_plan_days','is_auto_renew','is_cancel']):\n",
    "    plt.figure()\n",
    "    transactions_input[col].value_counts(dropna=False, normalize=True).plot(kind='bar', title='Train Set - Normalized Count % ({0})'.format(col))"
   ]
  },
  {
   "cell_type": "code",
   "execution_count": null,
   "metadata": {},
   "outputs": [],
   "source": []
  },
  {
   "cell_type": "markdown",
   "metadata": {},
   "source": [
    "#### Notes:\n",
    "    payment_method_id 41 accounts for >50% of all payment types\n",
    "    Vast majority of transactions are for 30 day plans\n",
    "    >85% of customers opt to auto_renew \n",
    "    >90% have not cancelled their subscription\n",
    "    149.00 is the most common payment plan"
   ]
  },
  {
   "cell_type": "markdown",
   "metadata": {},
   "source": [
    "### Merge the churn labels and the member data"
   ]
  },
  {
   "cell_type": "code",
   "execution_count": 56,
   "metadata": {},
   "outputs": [],
   "source": [
    "merged_input = pd.merge(train_input, members_input, on='msno', how='inner')"
   ]
  },
  {
   "cell_type": "code",
   "execution_count": 57,
   "metadata": {
    "scrolled": false
   },
   "outputs": [
    {
     "data": {
      "text/html": [
       "<div>\n",
       "<style scoped>\n",
       "    .dataframe tbody tr th:only-of-type {\n",
       "        vertical-align: middle;\n",
       "    }\n",
       "\n",
       "    .dataframe tbody tr th {\n",
       "        vertical-align: top;\n",
       "    }\n",
       "\n",
       "    .dataframe thead th {\n",
       "        text-align: right;\n",
       "    }\n",
       "</style>\n",
       "<table border=\"1\" class=\"dataframe\">\n",
       "  <thead>\n",
       "    <tr style=\"text-align: right;\">\n",
       "      <th>is_churn</th>\n",
       "      <th>0</th>\n",
       "      <th>1</th>\n",
       "    </tr>\n",
       "    <tr>\n",
       "      <th>gender</th>\n",
       "      <th></th>\n",
       "      <th></th>\n",
       "    </tr>\n",
       "  </thead>\n",
       "  <tbody>\n",
       "    <tr>\n",
       "      <th>female</th>\n",
       "      <td>0.19</td>\n",
       "      <td>0.03</td>\n",
       "    </tr>\n",
       "    <tr>\n",
       "      <th>male</th>\n",
       "      <td>0.21</td>\n",
       "      <td>0.03</td>\n",
       "    </tr>\n",
       "    <tr>\n",
       "      <th>unknown</th>\n",
       "      <td>0.51</td>\n",
       "      <td>0.04</td>\n",
       "    </tr>\n",
       "  </tbody>\n",
       "</table>\n",
       "</div>"
      ],
      "text/plain": [
       "is_churn    0    1\n",
       "gender            \n",
       "female   0.19 0.03\n",
       "male     0.21 0.03\n",
       "unknown  0.51 0.04"
      ]
     },
     "execution_count": 57,
     "metadata": {},
     "output_type": "execute_result"
    },
    {
     "data": {
      "image/png": "[encoded data removed]",
      "text/plain": [
       "<Figure size 432x288 with 1 Axes>"
      ]
     },
     "metadata": {
      "needs_background": "light"
     },
     "output_type": "display_data"
    }
   ],
   "source": [
    "merged_input['gender'] = merged_input['gender'].astype(str)\n",
    "pd.crosstab(merged_input['gender'].fillna('missing'), \n",
    "            merged_input['is_churn'].fillna('missing')).plot(kind='bar')\n",
    "pd.crosstab(merged_input['gender'].fillna('missing'), \n",
    "            merged_input['is_churn'].fillna('missing'), normalize=True)"
   ]
  },
  {
   "cell_type": "code",
   "execution_count": null,
   "metadata": {},
   "outputs": [],
   "source": []
  },
  {
   "cell_type": "markdown",
   "metadata": {},
   "source": [
    "### Merging Transactions with those members involved in the churn study"
   ]
  },
  {
   "cell_type": "code",
   "execution_count": 58,
   "metadata": {
    "scrolled": true
   },
   "outputs": [
    {
     "data": {
      "text/html": [
       "<div>\n",
       "<style scoped>\n",
       "    .dataframe tbody tr th:only-of-type {\n",
       "        vertical-align: middle;\n",
       "    }\n",
       "\n",
       "    .dataframe tbody tr th {\n",
       "        vertical-align: top;\n",
       "    }\n",
       "\n",
       "    .dataframe thead th {\n",
       "        text-align: right;\n",
       "    }\n",
       "</style>\n",
       "<table border=\"1\" class=\"dataframe\">\n",
       "  <thead>\n",
       "    <tr style=\"text-align: right;\">\n",
       "      <th></th>\n",
       "      <th>msno</th>\n",
       "      <th>payment_method_id</th>\n",
       "      <th>payment_plan_days</th>\n",
       "      <th>plan_list_price</th>\n",
       "      <th>actual_amount_paid</th>\n",
       "      <th>is_auto_renew</th>\n",
       "      <th>transaction_date</th>\n",
       "      <th>membership_expire_date</th>\n",
       "      <th>is_cancel</th>\n",
       "    </tr>\n",
       "  </thead>\n",
       "  <tbody>\n",
       "    <tr>\n",
       "      <th>0</th>\n",
       "      <td>ugx0CjOMzazClkFzU2xasmDZaoIqOUAZPsH1q0teWCg=</td>\n",
       "      <td>38</td>\n",
       "      <td>30</td>\n",
       "      <td>149</td>\n",
       "      <td>149</td>\n",
       "      <td>False</td>\n",
       "      <td>20170228</td>\n",
       "      <td>20170330</td>\n",
       "      <td>False</td>\n",
       "    </tr>\n",
       "    <tr>\n",
       "      <th>1</th>\n",
       "      <td>ugx0CjOMzazClkFzU2xasmDZaoIqOUAZPsH1q0teWCg=</td>\n",
       "      <td>31</td>\n",
       "      <td>0</td>\n",
       "      <td>0</td>\n",
       "      <td>149</td>\n",
       "      <td>True</td>\n",
       "      <td>20150331</td>\n",
       "      <td>20150430</td>\n",
       "      <td>False</td>\n",
       "    </tr>\n",
       "    <tr>\n",
       "      <th>2</th>\n",
       "      <td>ugx0CjOMzazClkFzU2xasmDZaoIqOUAZPsH1q0teWCg=</td>\n",
       "      <td>31</td>\n",
       "      <td>0</td>\n",
       "      <td>0</td>\n",
       "      <td>149</td>\n",
       "      <td>True</td>\n",
       "      <td>20150630</td>\n",
       "      <td>20150731</td>\n",
       "      <td>False</td>\n",
       "    </tr>\n",
       "    <tr>\n",
       "      <th>3</th>\n",
       "      <td>ugx0CjOMzazClkFzU2xasmDZaoIqOUAZPsH1q0teWCg=</td>\n",
       "      <td>31</td>\n",
       "      <td>30</td>\n",
       "      <td>149</td>\n",
       "      <td>149</td>\n",
       "      <td>True</td>\n",
       "      <td>20150902</td>\n",
       "      <td>20150901</td>\n",
       "      <td>True</td>\n",
       "    </tr>\n",
       "    <tr>\n",
       "      <th>4</th>\n",
       "      <td>ugx0CjOMzazClkFzU2xasmDZaoIqOUAZPsH1q0teWCg=</td>\n",
       "      <td>31</td>\n",
       "      <td>0</td>\n",
       "      <td>0</td>\n",
       "      <td>149</td>\n",
       "      <td>True</td>\n",
       "      <td>20150831</td>\n",
       "      <td>20150930</td>\n",
       "      <td>False</td>\n",
       "    </tr>\n",
       "  </tbody>\n",
       "</table>\n",
       "</div>"
      ],
      "text/plain": [
       "                                           msno  payment_method_id  \\\n",
       "0  ugx0CjOMzazClkFzU2xasmDZaoIqOUAZPsH1q0teWCg=                 38   \n",
       "1  ugx0CjOMzazClkFzU2xasmDZaoIqOUAZPsH1q0teWCg=                 31   \n",
       "2  ugx0CjOMzazClkFzU2xasmDZaoIqOUAZPsH1q0teWCg=                 31   \n",
       "3  ugx0CjOMzazClkFzU2xasmDZaoIqOUAZPsH1q0teWCg=                 31   \n",
       "4  ugx0CjOMzazClkFzU2xasmDZaoIqOUAZPsH1q0teWCg=                 31   \n",
       "\n",
       "   payment_plan_days  plan_list_price  actual_amount_paid  is_auto_renew  \\\n",
       "0                 30              149                 149          False   \n",
       "1                  0                0                 149           True   \n",
       "2                  0                0                 149           True   \n",
       "3                 30              149                 149           True   \n",
       "4                  0                0                 149           True   \n",
       "\n",
       "   transaction_date  membership_expire_date  is_cancel  \n",
       "0          20170228                20170330      False  \n",
       "1          20150331                20150430      False  \n",
       "2          20150630                20150731      False  \n",
       "3          20150902                20150901       True  \n",
       "4          20150831                20150930      False  "
      ]
     },
     "execution_count": 58,
     "metadata": {},
     "output_type": "execute_result"
    }
   ],
   "source": [
    "transactions_merged = pd.merge(left = merged_input[['msno']], \n",
    "                               right = transactions, \n",
    "                               how='inner', \n",
    "                               on='msno')\n",
    "transactions_merged.head()"
   ]
  },
  {
   "cell_type": "code",
   "execution_count": null,
   "metadata": {},
   "outputs": [],
   "source": []
  },
  {
   "cell_type": "code",
   "execution_count": 59,
   "metadata": {},
   "outputs": [
    {
     "name": "stdout",
     "output_type": "stream",
     "text": [
      "CPU times: user 1.02 s, sys: 240 ms, total: 1.26 s\n",
      "Wall time: 815 ms\n"
     ]
    },
    {
     "name": "stderr",
     "output_type": "stream",
     "text": [
      "/home/anaconda/envs/py373/lib/python3.7/site-packages/pandas/core/groupby/generic.py:1315: FutureWarning: using a dict with renaming is deprecated and will be removed in a future version\n",
      "  return super(DataFrameGroupBy, self).aggregate(arg, *args, **kwargs)\n"
     ]
    },
    {
     "data": {
      "text/html": [
       "<div>\n",
       "<style scoped>\n",
       "    .dataframe tbody tr th:only-of-type {\n",
       "        vertical-align: middle;\n",
       "    }\n",
       "\n",
       "    .dataframe tbody tr th {\n",
       "        vertical-align: top;\n",
       "    }\n",
       "\n",
       "    .dataframe thead tr th {\n",
       "        text-align: left;\n",
       "    }\n",
       "\n",
       "    .dataframe thead tr:last-of-type th {\n",
       "        text-align: right;\n",
       "    }\n",
       "</style>\n",
       "<table border=\"1\" class=\"dataframe\">\n",
       "  <thead>\n",
       "    <tr>\n",
       "      <th></th>\n",
       "      <th>msno</th>\n",
       "      <th colspan=\"2\" halign=\"left\">payment_method_id</th>\n",
       "      <th colspan=\"2\" halign=\"left\">payment_plan_days</th>\n",
       "      <th colspan=\"2\" halign=\"left\">plan_list_price</th>\n",
       "      <th colspan=\"2\" halign=\"left\">actual_amount_paid</th>\n",
       "      <th>is_auto_renew</th>\n",
       "      <th colspan=\"2\" halign=\"left\">transaction_date</th>\n",
       "      <th>is_cancel</th>\n",
       "    </tr>\n",
       "    <tr>\n",
       "      <th></th>\n",
       "      <th>total_order</th>\n",
       "      <th>payment_method_id_mode</th>\n",
       "      <th>payment_method_id_count</th>\n",
       "      <th>payment_plan_days_mode</th>\n",
       "      <th>payment_plan_days_mean</th>\n",
       "      <th>plan_list_price_mean</th>\n",
       "      <th>plan_lifetime_value</th>\n",
       "      <th>actual_amount_mean</th>\n",
       "      <th>total_actual_amount</th>\n",
       "      <th>is_auto_renew_mode</th>\n",
       "      <th>transaction_date_min</th>\n",
       "      <th>transaction_date_max</th>\n",
       "      <th>cancel_times</th>\n",
       "    </tr>\n",
       "    <tr>\n",
       "      <th>msno</th>\n",
       "      <th></th>\n",
       "      <th></th>\n",
       "      <th></th>\n",
       "      <th></th>\n",
       "      <th></th>\n",
       "      <th></th>\n",
       "      <th></th>\n",
       "      <th></th>\n",
       "      <th></th>\n",
       "      <th></th>\n",
       "      <th></th>\n",
       "      <th></th>\n",
       "      <th></th>\n",
       "    </tr>\n",
       "  </thead>\n",
       "  <tbody>\n",
       "    <tr>\n",
       "      <th>ugx0CjOMzazClkFzU2xasmDZaoIqOUAZPsH1q0teWCg=</th>\n",
       "      <td>6</td>\n",
       "      <td>31</td>\n",
       "      <td>2</td>\n",
       "      <td>30</td>\n",
       "      <td>10</td>\n",
       "      <td>49.67</td>\n",
       "      <td>298.00</td>\n",
       "      <td>149</td>\n",
       "      <td>894.00</td>\n",
       "      <td>True</td>\n",
       "      <td>20150331</td>\n",
       "      <td>20170228</td>\n",
       "      <td>True</td>\n",
       "    </tr>\n",
       "  </tbody>\n",
       "</table>\n",
       "</div>"
      ],
      "text/plain": [
       "                                                    msno  \\\n",
       "                                             total_order   \n",
       "msno                                                       \n",
       "ugx0CjOMzazClkFzU2xasmDZaoIqOUAZPsH1q0teWCg=           6   \n",
       "\n",
       "                                                  payment_method_id  \\\n",
       "                                             payment_method_id_mode   \n",
       "msno                                                                  \n",
       "ugx0CjOMzazClkFzU2xasmDZaoIqOUAZPsH1q0teWCg=                     31   \n",
       "\n",
       "                                                                      \\\n",
       "                                             payment_method_id_count   \n",
       "msno                                                                   \n",
       "ugx0CjOMzazClkFzU2xasmDZaoIqOUAZPsH1q0teWCg=                       2   \n",
       "\n",
       "                                                  payment_plan_days  \\\n",
       "                                             payment_plan_days_mode   \n",
       "msno                                                                  \n",
       "ugx0CjOMzazClkFzU2xasmDZaoIqOUAZPsH1q0teWCg=                     30   \n",
       "\n",
       "                                                                     \\\n",
       "                                             payment_plan_days_mean   \n",
       "msno                                                                  \n",
       "ugx0CjOMzazClkFzU2xasmDZaoIqOUAZPsH1q0teWCg=                     10   \n",
       "\n",
       "                                                  plan_list_price  \\\n",
       "                                             plan_list_price_mean   \n",
       "msno                                                                \n",
       "ugx0CjOMzazClkFzU2xasmDZaoIqOUAZPsH1q0teWCg=                49.67   \n",
       "\n",
       "                                                                  \\\n",
       "                                             plan_lifetime_value   \n",
       "msno                                                               \n",
       "ugx0CjOMzazClkFzU2xasmDZaoIqOUAZPsH1q0teWCg=              298.00   \n",
       "\n",
       "                                             actual_amount_paid  \\\n",
       "                                             actual_amount_mean   \n",
       "msno                                                              \n",
       "ugx0CjOMzazClkFzU2xasmDZaoIqOUAZPsH1q0teWCg=                149   \n",
       "\n",
       "                                                                  \\\n",
       "                                             total_actual_amount   \n",
       "msno                                                               \n",
       "ugx0CjOMzazClkFzU2xasmDZaoIqOUAZPsH1q0teWCg=              894.00   \n",
       "\n",
       "                                                  is_auto_renew  \\\n",
       "                                             is_auto_renew_mode   \n",
       "msno                                                              \n",
       "ugx0CjOMzazClkFzU2xasmDZaoIqOUAZPsH1q0teWCg=               True   \n",
       "\n",
       "                                                 transaction_date  \\\n",
       "                                             transaction_date_min   \n",
       "msno                                                                \n",
       "ugx0CjOMzazClkFzU2xasmDZaoIqOUAZPsH1q0teWCg=             20150331   \n",
       "\n",
       "                                                                     is_cancel  \n",
       "                                             transaction_date_max cancel_times  \n",
       "msno                                                                            \n",
       "ugx0CjOMzazClkFzU2xasmDZaoIqOUAZPsH1q0teWCg=             20170228         True  "
      ]
     },
     "execution_count": 59,
     "metadata": {},
     "output_type": "execute_result"
    }
   ],
   "source": [
    "%%time\n",
    "#[transactions_merged.msno == 'ugx0CjOMzazClkFzU2xasmDZaoIqOUAZPsH1q0teWCg=']\\\n",
    "\n",
    "transactions_merged[transactions_merged.msno == 'ugx0CjOMzazClkFzU2xasmDZaoIqOUAZPsH1q0teWCg=']\\\n",
    "        .groupby('msno')\\\n",
    "        .agg({'msno' : {'total_order' : 'count'},\n",
    "                        'payment_method_id' : {'payment_method_id_mode' : lambda x: x.mode()[0],\n",
    "                                               'payment_method_id_count' : lambda x: len(np.unique(x))},\n",
    "                        'payment_plan_days' : {'payment_plan_days_mode' : lambda x: x[x>0].mode()[0],\n",
    "                                               'payment_plan_days_mean' : 'mean'},\n",
    "                        'plan_list_price' : {'plan_list_price_mean' : 'mean',\n",
    "                                             'plan_lifetime_value' : 'sum'},\n",
    "                        'actual_amount_paid' : {'actual_amount_mean' : 'mean',\n",
    "                                                'total_actual_amount' : 'sum'},\n",
    "                        'is_auto_renew' : {'is_auto_renew_mode' : lambda x : x.mode()[0]},\n",
    "                        'transaction_date' : {'transaction_date_min' : lambda x: x.min(),\n",
    "                                              'transaction_date_max' : lambda x: x.max()},\n",
    "                        'is_cancel' : {'cancel_times' : lambda x : sum(x==1)}\n",
    "            })"
   ]
  },
  {
   "cell_type": "code",
   "execution_count": 60,
   "metadata": {},
   "outputs": [
    {
     "name": "stdout",
     "output_type": "stream",
     "text": [
      "CPU times: user 12min 34s, sys: 9.93 s, total: 12min 44s\n",
      "Wall time: 12min 25s\n"
     ]
    }
   ],
   "source": [
    "%%time\n",
    "\n",
    "transactions_summary = \\\n",
    "    transactions_merged\\\n",
    "            .groupby('msno')\\\n",
    "            .agg({'msno' : {'total_order' : 'count'},\n",
    "                            'payment_method_id' : {'payment_method_id_mode' : lambda x: x.mode()[0] if len(x) > 1 else x,\n",
    "                                                   'payment_method_id_count' : lambda x: len(np.unique(x))},\n",
    "                            'payment_plan_days' : {'payment_plan_days_mode' : lambda x: x.mode()[0] if len(x) > 1 else x\n",
    "                                                   ,\n",
    "                                                   'payment_plan_days_mean' : 'mean'},\n",
    "                            'plan_list_price' : {'plan_list_price_mean' : 'mean',\n",
    "                                                 'plan_lifetime_value' : 'sum'},\n",
    "                            'actual_amount_paid' : {'actual_amount_mean' : 'mean',\n",
    "                                                    'total_actual_amount' : 'sum'},\n",
    "                            'is_auto_renew' : {'is_auto_renew_mode' : lambda x : x.mode()[0] if len(x) > 1 else x},\n",
    "                            'transaction_date' : {'transaction_date_min' : lambda x: x.min(),\n",
    "                                                  'transaction_date_max' : lambda x: x.max()},\n",
    "                            'is_cancel' : {'cancel_times' : lambda x : sum(x==1)}\n",
    "                })\n",
    "        \n",
    "transactions_summary.columns = transactions_summary.columns.droplevel(0)\n",
    "transactions_summary.reset_index(inplace=True)"
   ]
  },
  {
   "cell_type": "code",
   "execution_count": null,
   "metadata": {},
   "outputs": [],
   "source": []
  },
  {
   "cell_type": "markdown",
   "metadata": {},
   "source": [
    "### Compute some additional features on the transactions dataset"
   ]
  },
  {
   "cell_type": "code",
   "execution_count": 62,
   "metadata": {},
   "outputs": [],
   "source": [
    "transactions_summary['transaction_date_min'] = pd.to_datetime(transactions_summary['transaction_date_min'], \n",
    "                                                              format='%Y%m%d', errors='ignore')\n",
    "transactions_summary['transaction_date_max'] = pd.to_datetime(transactions_summary['transaction_date_max'], \n",
    "                                                              format='%Y%m%d', errors='ignore')\n",
    "transactions_summary['transaction_date_delta'] =  (transactions_summary.transaction_date_max - transactions_summary.transaction_date_min) / pd.offsets.Day(1)\n",
    "transactions_summary.drop(['transaction_date_min', 'transaction_date_max'], axis=1, inplace=True)"
   ]
  },
  {
   "cell_type": "code",
   "execution_count": 63,
   "metadata": {},
   "outputs": [
    {
     "data": {
      "text/html": [
       "<div>\n",
       "<style scoped>\n",
       "    .dataframe tbody tr th:only-of-type {\n",
       "        vertical-align: middle;\n",
       "    }\n",
       "\n",
       "    .dataframe tbody tr th {\n",
       "        vertical-align: top;\n",
       "    }\n",
       "\n",
       "    .dataframe thead th {\n",
       "        text-align: right;\n",
       "    }\n",
       "</style>\n",
       "<table border=\"1\" class=\"dataframe\">\n",
       "  <thead>\n",
       "    <tr style=\"text-align: right;\">\n",
       "      <th></th>\n",
       "      <th>msno</th>\n",
       "      <th>total_order</th>\n",
       "      <th>payment_method_id_mode</th>\n",
       "      <th>payment_method_id_count</th>\n",
       "      <th>payment_plan_days_mode</th>\n",
       "      <th>payment_plan_days_mean</th>\n",
       "      <th>plan_list_price_mean</th>\n",
       "      <th>plan_lifetime_value</th>\n",
       "      <th>actual_amount_mean</th>\n",
       "      <th>total_actual_amount</th>\n",
       "      <th>is_auto_renew_mode</th>\n",
       "      <th>cancel_times</th>\n",
       "      <th>transaction_date_delta</th>\n",
       "    </tr>\n",
       "  </thead>\n",
       "  <tbody>\n",
       "    <tr>\n",
       "      <th>0</th>\n",
       "      <td>+++hVY1rZox/33YtvDgmKA2Frg/2qhkz12B9ylCvh8o=</td>\n",
       "      <td>4</td>\n",
       "      <td>41</td>\n",
       "      <td>1</td>\n",
       "      <td>30</td>\n",
       "      <td>30.00</td>\n",
       "      <td>99.00</td>\n",
       "      <td>396.00</td>\n",
       "      <td>99.00</td>\n",
       "      <td>396.00</td>\n",
       "      <td>True</td>\n",
       "      <td>0</td>\n",
       "      <td>91.00</td>\n",
       "    </tr>\n",
       "    <tr>\n",
       "      <th>1</th>\n",
       "      <td>+++l/EXNMLTijfLBa8p2TUVVVp2aFGSuUI/h7mLmthw=</td>\n",
       "      <td>19</td>\n",
       "      <td>39</td>\n",
       "      <td>1</td>\n",
       "      <td>30</td>\n",
       "      <td>28.58</td>\n",
       "      <td>141.16</td>\n",
       "      <td>2682.00</td>\n",
       "      <td>149.00</td>\n",
       "      <td>2831.00</td>\n",
       "      <td>True</td>\n",
       "      <td>0</td>\n",
       "      <td>731.00</td>\n",
       "    </tr>\n",
       "    <tr>\n",
       "      <th>2</th>\n",
       "      <td>+++snpr7pmobhLKUgSHTv/mpkqgBT0tQJ0zQj6qKrqc=</td>\n",
       "      <td>26</td>\n",
       "      <td>41</td>\n",
       "      <td>1</td>\n",
       "      <td>30</td>\n",
       "      <td>28.85</td>\n",
       "      <td>143.27</td>\n",
       "      <td>3725.00</td>\n",
       "      <td>149.00</td>\n",
       "      <td>3874.00</td>\n",
       "      <td>True</td>\n",
       "      <td>0</td>\n",
       "      <td>762.00</td>\n",
       "    </tr>\n",
       "    <tr>\n",
       "      <th>3</th>\n",
       "      <td>++/9R3sX37CjxbY/AaGvbwr3QkwElKBCtSvVzhCBDOk=</td>\n",
       "      <td>12</td>\n",
       "      <td>41</td>\n",
       "      <td>1</td>\n",
       "      <td>30</td>\n",
       "      <td>30.00</td>\n",
       "      <td>149.00</td>\n",
       "      <td>1788.00</td>\n",
       "      <td>149.00</td>\n",
       "      <td>1788.00</td>\n",
       "      <td>True</td>\n",
       "      <td>0</td>\n",
       "      <td>337.00</td>\n",
       "    </tr>\n",
       "    <tr>\n",
       "      <th>4</th>\n",
       "      <td>++/UDNo9DLrxT8QVGiDi1OnWfczAdEwThaVyD0fXO50=</td>\n",
       "      <td>19</td>\n",
       "      <td>39</td>\n",
       "      <td>1</td>\n",
       "      <td>30</td>\n",
       "      <td>28.58</td>\n",
       "      <td>141.16</td>\n",
       "      <td>2682.00</td>\n",
       "      <td>149.00</td>\n",
       "      <td>2831.00</td>\n",
       "      <td>True</td>\n",
       "      <td>0</td>\n",
       "      <td>731.00</td>\n",
       "    </tr>\n",
       "  </tbody>\n",
       "</table>\n",
       "</div>"
      ],
      "text/plain": [
       "                                           msno  total_order  \\\n",
       "0  +++hVY1rZox/33YtvDgmKA2Frg/2qhkz12B9ylCvh8o=            4   \n",
       "1  +++l/EXNMLTijfLBa8p2TUVVVp2aFGSuUI/h7mLmthw=           19   \n",
       "2  +++snpr7pmobhLKUgSHTv/mpkqgBT0tQJ0zQj6qKrqc=           26   \n",
       "3  ++/9R3sX37CjxbY/AaGvbwr3QkwElKBCtSvVzhCBDOk=           12   \n",
       "4  ++/UDNo9DLrxT8QVGiDi1OnWfczAdEwThaVyD0fXO50=           19   \n",
       "\n",
       "   payment_method_id_mode  payment_method_id_count  payment_plan_days_mode  \\\n",
       "0                      41                        1                      30   \n",
       "1                      39                        1                      30   \n",
       "2                      41                        1                      30   \n",
       "3                      41                        1                      30   \n",
       "4                      39                        1                      30   \n",
       "\n",
       "   payment_plan_days_mean  plan_list_price_mean  plan_lifetime_value  \\\n",
       "0                   30.00                 99.00               396.00   \n",
       "1                   28.58                141.16              2682.00   \n",
       "2                   28.85                143.27              3725.00   \n",
       "3                   30.00                149.00              1788.00   \n",
       "4                   28.58                141.16              2682.00   \n",
       "\n",
       "   actual_amount_mean  total_actual_amount  is_auto_renew_mode  cancel_times  \\\n",
       "0               99.00               396.00                True             0   \n",
       "1              149.00              2831.00                True             0   \n",
       "2              149.00              3874.00                True             0   \n",
       "3              149.00              1788.00                True             0   \n",
       "4              149.00              2831.00                True             0   \n",
       "\n",
       "   transaction_date_delta  \n",
       "0                   91.00  \n",
       "1                  731.00  \n",
       "2                  762.00  \n",
       "3                  337.00  \n",
       "4                  731.00  "
      ]
     },
     "execution_count": 63,
     "metadata": {},
     "output_type": "execute_result"
    }
   ],
   "source": [
    "transactions_summary.head()"
   ]
  },
  {
   "cell_type": "code",
   "execution_count": 64,
   "metadata": {},
   "outputs": [
    {
     "data": {
      "text/plain": [
       "msno                       0\n",
       "total_order                0\n",
       "payment_method_id_mode     0\n",
       "payment_method_id_count    0\n",
       "payment_plan_days_mode     0\n",
       "payment_plan_days_mean     0\n",
       "plan_list_price_mean       0\n",
       "plan_lifetime_value        0\n",
       "actual_amount_mean         0\n",
       "total_actual_amount        0\n",
       "is_auto_renew_mode         0\n",
       "cancel_times               0\n",
       "transaction_date_delta     0\n",
       "dtype: int64"
      ]
     },
     "execution_count": 64,
     "metadata": {},
     "output_type": "execute_result"
    }
   ],
   "source": [
    "transactions_summary.isnull().sum()"
   ]
  },
  {
   "cell_type": "code",
   "execution_count": 65,
   "metadata": {},
   "outputs": [
    {
     "data": {
      "text/html": [
       "<div>\n",
       "<style scoped>\n",
       "    .dataframe tbody tr th:only-of-type {\n",
       "        vertical-align: middle;\n",
       "    }\n",
       "\n",
       "    .dataframe tbody tr th {\n",
       "        vertical-align: top;\n",
       "    }\n",
       "\n",
       "    .dataframe thead th {\n",
       "        text-align: right;\n",
       "    }\n",
       "</style>\n",
       "<table border=\"1\" class=\"dataframe\">\n",
       "  <thead>\n",
       "    <tr style=\"text-align: right;\">\n",
       "      <th></th>\n",
       "      <th>msno</th>\n",
       "      <th>is_churn</th>\n",
       "      <th>city</th>\n",
       "      <th>bd</th>\n",
       "      <th>gender</th>\n",
       "      <th>registered_via</th>\n",
       "      <th>registration_init_time</th>\n",
       "      <th>membership_months</th>\n",
       "    </tr>\n",
       "  </thead>\n",
       "  <tbody>\n",
       "    <tr>\n",
       "      <th>count</th>\n",
       "      <td>860333</td>\n",
       "      <td>860333.00</td>\n",
       "      <td>860333</td>\n",
       "      <td>860333.00</td>\n",
       "      <td>860333</td>\n",
       "      <td>860333</td>\n",
       "      <td>860333</td>\n",
       "      <td>860333.00</td>\n",
       "    </tr>\n",
       "    <tr>\n",
       "      <th>unique</th>\n",
       "      <td>860333</td>\n",
       "      <td>nan</td>\n",
       "      <td>21</td>\n",
       "      <td>nan</td>\n",
       "      <td>3</td>\n",
       "      <td>5</td>\n",
       "      <td>4749</td>\n",
       "      <td>nan</td>\n",
       "    </tr>\n",
       "    <tr>\n",
       "      <th>top</th>\n",
       "      <td>jS7mXQDlnot48OjPQGJvXVpqlDATm3mDWlQv+7YWOZo=</td>\n",
       "      <td>nan</td>\n",
       "      <td>1</td>\n",
       "      <td>nan</td>\n",
       "      <td>unknown</td>\n",
       "      <td>7</td>\n",
       "      <td>2015-10-09 00:00:00</td>\n",
       "      <td>nan</td>\n",
       "    </tr>\n",
       "    <tr>\n",
       "      <th>freq</th>\n",
       "      <td>1</td>\n",
       "      <td>nan</td>\n",
       "      <td>442554</td>\n",
       "      <td>nan</td>\n",
       "      <td>471984</td>\n",
       "      <td>462595</td>\n",
       "      <td>1574</td>\n",
       "      <td>nan</td>\n",
       "    </tr>\n",
       "    <tr>\n",
       "      <th>first</th>\n",
       "      <td>NaN</td>\n",
       "      <td>nan</td>\n",
       "      <td>NaN</td>\n",
       "      <td>nan</td>\n",
       "      <td>NaN</td>\n",
       "      <td>NaN</td>\n",
       "      <td>2004-03-26 00:00:00</td>\n",
       "      <td>nan</td>\n",
       "    </tr>\n",
       "    <tr>\n",
       "      <th>last</th>\n",
       "      <td>NaN</td>\n",
       "      <td>nan</td>\n",
       "      <td>NaN</td>\n",
       "      <td>nan</td>\n",
       "      <td>NaN</td>\n",
       "      <td>NaN</td>\n",
       "      <td>2017-04-24 00:00:00</td>\n",
       "      <td>nan</td>\n",
       "    </tr>\n",
       "    <tr>\n",
       "      <th>mean</th>\n",
       "      <td>NaN</td>\n",
       "      <td>0.09</td>\n",
       "      <td>NaN</td>\n",
       "      <td>13.43</td>\n",
       "      <td>NaN</td>\n",
       "      <td>NaN</td>\n",
       "      <td>NaN</td>\n",
       "      <td>41.02</td>\n",
       "    </tr>\n",
       "    <tr>\n",
       "      <th>std</th>\n",
       "      <td>NaN</td>\n",
       "      <td>0.29</td>\n",
       "      <td>NaN</td>\n",
       "      <td>16.01</td>\n",
       "      <td>NaN</td>\n",
       "      <td>NaN</td>\n",
       "      <td>NaN</td>\n",
       "      <td>36.06</td>\n",
       "    </tr>\n",
       "    <tr>\n",
       "      <th>min</th>\n",
       "      <td>NaN</td>\n",
       "      <td>0.00</td>\n",
       "      <td>NaN</td>\n",
       "      <td>0.00</td>\n",
       "      <td>NaN</td>\n",
       "      <td>NaN</td>\n",
       "      <td>NaN</td>\n",
       "      <td>-1.00</td>\n",
       "    </tr>\n",
       "    <tr>\n",
       "      <th>25%</th>\n",
       "      <td>NaN</td>\n",
       "      <td>0.00</td>\n",
       "      <td>NaN</td>\n",
       "      <td>0.00</td>\n",
       "      <td>NaN</td>\n",
       "      <td>NaN</td>\n",
       "      <td>NaN</td>\n",
       "      <td>13.00</td>\n",
       "    </tr>\n",
       "    <tr>\n",
       "      <th>50%</th>\n",
       "      <td>NaN</td>\n",
       "      <td>0.00</td>\n",
       "      <td>NaN</td>\n",
       "      <td>0.00</td>\n",
       "      <td>NaN</td>\n",
       "      <td>NaN</td>\n",
       "      <td>NaN</td>\n",
       "      <td>32.00</td>\n",
       "    </tr>\n",
       "    <tr>\n",
       "      <th>75%</th>\n",
       "      <td>NaN</td>\n",
       "      <td>0.00</td>\n",
       "      <td>NaN</td>\n",
       "      <td>27.00</td>\n",
       "      <td>NaN</td>\n",
       "      <td>NaN</td>\n",
       "      <td>NaN</td>\n",
       "      <td>60.00</td>\n",
       "    </tr>\n",
       "    <tr>\n",
       "      <th>max</th>\n",
       "      <td>NaN</td>\n",
       "      <td>1.00</td>\n",
       "      <td>NaN</td>\n",
       "      <td>90.00</td>\n",
       "      <td>NaN</td>\n",
       "      <td>NaN</td>\n",
       "      <td>NaN</td>\n",
       "      <td>155.00</td>\n",
       "    </tr>\n",
       "  </tbody>\n",
       "</table>\n",
       "</div>"
      ],
      "text/plain": [
       "                                                msno  is_churn    city  \\\n",
       "count                                         860333 860333.00  860333   \n",
       "unique                                        860333       nan      21   \n",
       "top     jS7mXQDlnot48OjPQGJvXVpqlDATm3mDWlQv+7YWOZo=       nan       1   \n",
       "freq                                               1       nan  442554   \n",
       "first                                            NaN       nan     NaN   \n",
       "last                                             NaN       nan     NaN   \n",
       "mean                                             NaN      0.09     NaN   \n",
       "std                                              NaN      0.29     NaN   \n",
       "min                                              NaN      0.00     NaN   \n",
       "25%                                              NaN      0.00     NaN   \n",
       "50%                                              NaN      0.00     NaN   \n",
       "75%                                              NaN      0.00     NaN   \n",
       "max                                              NaN      1.00     NaN   \n",
       "\n",
       "              bd   gender registered_via registration_init_time  \\\n",
       "count  860333.00   860333         860333                 860333   \n",
       "unique       nan        3              5                   4749   \n",
       "top          nan  unknown              7    2015-10-09 00:00:00   \n",
       "freq         nan   471984         462595                   1574   \n",
       "first        nan      NaN            NaN    2004-03-26 00:00:00   \n",
       "last         nan      NaN            NaN    2017-04-24 00:00:00   \n",
       "mean       13.43      NaN            NaN                    NaN   \n",
       "std        16.01      NaN            NaN                    NaN   \n",
       "min         0.00      NaN            NaN                    NaN   \n",
       "25%         0.00      NaN            NaN                    NaN   \n",
       "50%         0.00      NaN            NaN                    NaN   \n",
       "75%        27.00      NaN            NaN                    NaN   \n",
       "max        90.00      NaN            NaN                    NaN   \n",
       "\n",
       "        membership_months  \n",
       "count           860333.00  \n",
       "unique                nan  \n",
       "top                   nan  \n",
       "freq                  nan  \n",
       "first                 nan  \n",
       "last                  nan  \n",
       "mean                41.02  \n",
       "std                 36.06  \n",
       "min                 -1.00  \n",
       "25%                 13.00  \n",
       "50%                 32.00  \n",
       "75%                 60.00  \n",
       "max                155.00  "
      ]
     },
     "execution_count": 65,
     "metadata": {},
     "output_type": "execute_result"
    }
   ],
   "source": [
    "merged_input.describe(include='all')"
   ]
  },
  {
   "cell_type": "code",
   "execution_count": 66,
   "metadata": {
    "scrolled": true
   },
   "outputs": [
    {
     "data": {
      "text/html": [
       "<div>\n",
       "<style scoped>\n",
       "    .dataframe tbody tr th:only-of-type {\n",
       "        vertical-align: middle;\n",
       "    }\n",
       "\n",
       "    .dataframe tbody tr th {\n",
       "        vertical-align: top;\n",
       "    }\n",
       "\n",
       "    .dataframe thead th {\n",
       "        text-align: right;\n",
       "    }\n",
       "</style>\n",
       "<table border=\"1\" class=\"dataframe\">\n",
       "  <thead>\n",
       "    <tr style=\"text-align: right;\">\n",
       "      <th></th>\n",
       "      <th>msno</th>\n",
       "      <th>total_order</th>\n",
       "      <th>payment_method_id_mode</th>\n",
       "      <th>payment_method_id_count</th>\n",
       "      <th>payment_plan_days_mode</th>\n",
       "      <th>payment_plan_days_mean</th>\n",
       "      <th>plan_list_price_mean</th>\n",
       "      <th>plan_lifetime_value</th>\n",
       "      <th>actual_amount_mean</th>\n",
       "      <th>total_actual_amount</th>\n",
       "      <th>is_auto_renew_mode</th>\n",
       "      <th>cancel_times</th>\n",
       "      <th>transaction_date_delta</th>\n",
       "    </tr>\n",
       "  </thead>\n",
       "  <tbody>\n",
       "    <tr>\n",
       "      <th>count</th>\n",
       "      <td>858301</td>\n",
       "      <td>858301.00</td>\n",
       "      <td>858301.00</td>\n",
       "      <td>858301.00</td>\n",
       "      <td>858301.00</td>\n",
       "      <td>858301.00</td>\n",
       "      <td>858301.00</td>\n",
       "      <td>858301.00</td>\n",
       "      <td>858301.00</td>\n",
       "      <td>858301.00</td>\n",
       "      <td>858301</td>\n",
       "      <td>858301.00</td>\n",
       "      <td>858301.00</td>\n",
       "    </tr>\n",
       "    <tr>\n",
       "      <th>unique</th>\n",
       "      <td>858301</td>\n",
       "      <td>nan</td>\n",
       "      <td>nan</td>\n",
       "      <td>nan</td>\n",
       "      <td>nan</td>\n",
       "      <td>nan</td>\n",
       "      <td>nan</td>\n",
       "      <td>nan</td>\n",
       "      <td>nan</td>\n",
       "      <td>nan</td>\n",
       "      <td>2</td>\n",
       "      <td>nan</td>\n",
       "      <td>nan</td>\n",
       "    </tr>\n",
       "    <tr>\n",
       "      <th>top</th>\n",
       "      <td>jS7mXQDlnot48OjPQGJvXVpqlDATm3mDWlQv+7YWOZo=</td>\n",
       "      <td>nan</td>\n",
       "      <td>nan</td>\n",
       "      <td>nan</td>\n",
       "      <td>nan</td>\n",
       "      <td>nan</td>\n",
       "      <td>nan</td>\n",
       "      <td>nan</td>\n",
       "      <td>nan</td>\n",
       "      <td>nan</td>\n",
       "      <td>True</td>\n",
       "      <td>nan</td>\n",
       "      <td>nan</td>\n",
       "    </tr>\n",
       "    <tr>\n",
       "      <th>freq</th>\n",
       "      <td>1</td>\n",
       "      <td>nan</td>\n",
       "      <td>nan</td>\n",
       "      <td>nan</td>\n",
       "      <td>nan</td>\n",
       "      <td>nan</td>\n",
       "      <td>nan</td>\n",
       "      <td>nan</td>\n",
       "      <td>nan</td>\n",
       "      <td>nan</td>\n",
       "      <td>736805</td>\n",
       "      <td>nan</td>\n",
       "      <td>nan</td>\n",
       "    </tr>\n",
       "    <tr>\n",
       "      <th>mean</th>\n",
       "      <td>NaN</td>\n",
       "      <td>15.88</td>\n",
       "      <td>38.80</td>\n",
       "      <td>1.20</td>\n",
       "      <td>32.08</td>\n",
       "      <td>32.17</td>\n",
       "      <td>129.32</td>\n",
       "      <td>2066.13</td>\n",
       "      <td>132.36</td>\n",
       "      <td>2142.18</td>\n",
       "      <td>NaN</td>\n",
       "      <td>0.28</td>\n",
       "      <td>491.75</td>\n",
       "    </tr>\n",
       "    <tr>\n",
       "      <th>std</th>\n",
       "      <td>NaN</td>\n",
       "      <td>8.64</td>\n",
       "      <td>3.70</td>\n",
       "      <td>0.50</td>\n",
       "      <td>17.10</td>\n",
       "      <td>17.89</td>\n",
       "      <td>27.22</td>\n",
       "      <td>1230.97</td>\n",
       "      <td>28.16</td>\n",
       "      <td>1292.01</td>\n",
       "      <td>NaN</td>\n",
       "      <td>0.58</td>\n",
       "      <td>258.47</td>\n",
       "    </tr>\n",
       "    <tr>\n",
       "      <th>min</th>\n",
       "      <td>NaN</td>\n",
       "      <td>1.00</td>\n",
       "      <td>2.00</td>\n",
       "      <td>1.00</td>\n",
       "      <td>0.00</td>\n",
       "      <td>0.00</td>\n",
       "      <td>0.00</td>\n",
       "      <td>0.00</td>\n",
       "      <td>0.00</td>\n",
       "      <td>0.00</td>\n",
       "      <td>NaN</td>\n",
       "      <td>0.00</td>\n",
       "      <td>0.00</td>\n",
       "    </tr>\n",
       "    <tr>\n",
       "      <th>25%</th>\n",
       "      <td>NaN</td>\n",
       "      <td>8.00</td>\n",
       "      <td>38.00</td>\n",
       "      <td>1.00</td>\n",
       "      <td>30.00</td>\n",
       "      <td>28.85</td>\n",
       "      <td>99.00</td>\n",
       "      <td>990.00</td>\n",
       "      <td>99.00</td>\n",
       "      <td>990.00</td>\n",
       "      <td>NaN</td>\n",
       "      <td>0.00</td>\n",
       "      <td>275.00</td>\n",
       "    </tr>\n",
       "    <tr>\n",
       "      <th>50%</th>\n",
       "      <td>NaN</td>\n",
       "      <td>17.00</td>\n",
       "      <td>41.00</td>\n",
       "      <td>1.00</td>\n",
       "      <td>30.00</td>\n",
       "      <td>30.00</td>\n",
       "      <td>137.08</td>\n",
       "      <td>1937.00</td>\n",
       "      <td>143.27</td>\n",
       "      <td>1937.00</td>\n",
       "      <td>NaN</td>\n",
       "      <td>0.00</td>\n",
       "      <td>536.00</td>\n",
       "    </tr>\n",
       "    <tr>\n",
       "      <th>75%</th>\n",
       "      <td>NaN</td>\n",
       "      <td>24.00</td>\n",
       "      <td>41.00</td>\n",
       "      <td>1.00</td>\n",
       "      <td>30.00</td>\n",
       "      <td>30.00</td>\n",
       "      <td>149.00</td>\n",
       "      <td>3174.00</td>\n",
       "      <td>149.00</td>\n",
       "      <td>3278.00</td>\n",
       "      <td>NaN</td>\n",
       "      <td>0.00</td>\n",
       "      <td>745.00</td>\n",
       "    </tr>\n",
       "    <tr>\n",
       "      <th>max</th>\n",
       "      <td>NaN</td>\n",
       "      <td>64.00</td>\n",
       "      <td>41.00</td>\n",
       "      <td>8.00</td>\n",
       "      <td>240.00</td>\n",
       "      <td>240.00</td>\n",
       "      <td>252.00</td>\n",
       "      <td>8139.00</td>\n",
       "      <td>252.00</td>\n",
       "      <td>8138.00</td>\n",
       "      <td>NaN</td>\n",
       "      <td>20.00</td>\n",
       "      <td>789.00</td>\n",
       "    </tr>\n",
       "  </tbody>\n",
       "</table>\n",
       "</div>"
      ],
      "text/plain": [
       "                                                msno  total_order  \\\n",
       "count                                         858301    858301.00   \n",
       "unique                                        858301          nan   \n",
       "top     jS7mXQDlnot48OjPQGJvXVpqlDATm3mDWlQv+7YWOZo=          nan   \n",
       "freq                                               1          nan   \n",
       "mean                                             NaN        15.88   \n",
       "std                                              NaN         8.64   \n",
       "min                                              NaN         1.00   \n",
       "25%                                              NaN         8.00   \n",
       "50%                                              NaN        17.00   \n",
       "75%                                              NaN        24.00   \n",
       "max                                              NaN        64.00   \n",
       "\n",
       "        payment_method_id_mode  payment_method_id_count  \\\n",
       "count                858301.00                858301.00   \n",
       "unique                     nan                      nan   \n",
       "top                        nan                      nan   \n",
       "freq                       nan                      nan   \n",
       "mean                     38.80                     1.20   \n",
       "std                       3.70                     0.50   \n",
       "min                       2.00                     1.00   \n",
       "25%                      38.00                     1.00   \n",
       "50%                      41.00                     1.00   \n",
       "75%                      41.00                     1.00   \n",
       "max                      41.00                     8.00   \n",
       "\n",
       "        payment_plan_days_mode  payment_plan_days_mean  plan_list_price_mean  \\\n",
       "count                858301.00               858301.00             858301.00   \n",
       "unique                     nan                     nan                   nan   \n",
       "top                        nan                     nan                   nan   \n",
       "freq                       nan                     nan                   nan   \n",
       "mean                     32.08                   32.17                129.32   \n",
       "std                      17.10                   17.89                 27.22   \n",
       "min                       0.00                    0.00                  0.00   \n",
       "25%                      30.00                   28.85                 99.00   \n",
       "50%                      30.00                   30.00                137.08   \n",
       "75%                      30.00                   30.00                149.00   \n",
       "max                     240.00                  240.00                252.00   \n",
       "\n",
       "        plan_lifetime_value  actual_amount_mean  total_actual_amount  \\\n",
       "count             858301.00           858301.00            858301.00   \n",
       "unique                  nan                 nan                  nan   \n",
       "top                     nan                 nan                  nan   \n",
       "freq                    nan                 nan                  nan   \n",
       "mean                2066.13              132.36              2142.18   \n",
       "std                 1230.97               28.16              1292.01   \n",
       "min                    0.00                0.00                 0.00   \n",
       "25%                  990.00               99.00               990.00   \n",
       "50%                 1937.00              143.27              1937.00   \n",
       "75%                 3174.00              149.00              3278.00   \n",
       "max                 8139.00              252.00              8138.00   \n",
       "\n",
       "       is_auto_renew_mode  cancel_times  transaction_date_delta  \n",
       "count              858301     858301.00               858301.00  \n",
       "unique                  2           nan                     nan  \n",
       "top                  True           nan                     nan  \n",
       "freq               736805           nan                     nan  \n",
       "mean                  NaN          0.28                  491.75  \n",
       "std                   NaN          0.58                  258.47  \n",
       "min                   NaN          0.00                    0.00  \n",
       "25%                   NaN          0.00                  275.00  \n",
       "50%                   NaN          0.00                  536.00  \n",
       "75%                   NaN          0.00                  745.00  \n",
       "max                   NaN         20.00                  789.00  "
      ]
     },
     "execution_count": 66,
     "metadata": {},
     "output_type": "execute_result"
    }
   ],
   "source": [
    "transactions_summary.describe(include='all')"
   ]
  },
  {
   "cell_type": "code",
   "execution_count": null,
   "metadata": {},
   "outputs": [],
   "source": []
  },
  {
   "cell_type": "code",
   "execution_count": null,
   "metadata": {},
   "outputs": [],
   "source": []
  },
  {
   "cell_type": "code",
   "execution_count": 67,
   "metadata": {
    "scrolled": true
   },
   "outputs": [
    {
     "name": "stdout",
     "output_type": "stream",
     "text": [
      "858301\n"
     ]
    },
    {
     "data": {
      "text/html": [
       "<div>\n",
       "<style scoped>\n",
       "    .dataframe tbody tr th:only-of-type {\n",
       "        vertical-align: middle;\n",
       "    }\n",
       "\n",
       "    .dataframe tbody tr th {\n",
       "        vertical-align: top;\n",
       "    }\n",
       "\n",
       "    .dataframe thead th {\n",
       "        text-align: right;\n",
       "    }\n",
       "</style>\n",
       "<table border=\"1\" class=\"dataframe\">\n",
       "  <thead>\n",
       "    <tr style=\"text-align: right;\">\n",
       "      <th></th>\n",
       "      <th>msno</th>\n",
       "      <th>is_churn</th>\n",
       "      <th>city</th>\n",
       "      <th>bd</th>\n",
       "      <th>gender</th>\n",
       "      <th>registered_via</th>\n",
       "      <th>registration_init_time</th>\n",
       "      <th>membership_months</th>\n",
       "      <th>total_order</th>\n",
       "      <th>payment_method_id_mode</th>\n",
       "      <th>payment_method_id_count</th>\n",
       "      <th>payment_plan_days_mode</th>\n",
       "      <th>payment_plan_days_mean</th>\n",
       "      <th>plan_list_price_mean</th>\n",
       "      <th>plan_lifetime_value</th>\n",
       "      <th>actual_amount_mean</th>\n",
       "      <th>total_actual_amount</th>\n",
       "      <th>is_auto_renew_mode</th>\n",
       "      <th>cancel_times</th>\n",
       "      <th>transaction_date_delta</th>\n",
       "    </tr>\n",
       "  </thead>\n",
       "  <tbody>\n",
       "    <tr>\n",
       "      <th>0</th>\n",
       "      <td>ugx0CjOMzazClkFzU2xasmDZaoIqOUAZPsH1q0teWCg=</td>\n",
       "      <td>1</td>\n",
       "      <td>5</td>\n",
       "      <td>28</td>\n",
       "      <td>male</td>\n",
       "      <td>3</td>\n",
       "      <td>2013-12-23</td>\n",
       "      <td>38</td>\n",
       "      <td>6</td>\n",
       "      <td>31</td>\n",
       "      <td>2</td>\n",
       "      <td>0</td>\n",
       "      <td>10.00</td>\n",
       "      <td>49.67</td>\n",
       "      <td>298.00</td>\n",
       "      <td>149.00</td>\n",
       "      <td>894.00</td>\n",
       "      <td>True</td>\n",
       "      <td>1</td>\n",
       "      <td>700.00</td>\n",
       "    </tr>\n",
       "    <tr>\n",
       "      <th>1</th>\n",
       "      <td>f/NmvEzHfhINFEYZTR05prUdr+E+3+oewvweYz9cCQE=</td>\n",
       "      <td>1</td>\n",
       "      <td>13</td>\n",
       "      <td>20</td>\n",
       "      <td>male</td>\n",
       "      <td>3</td>\n",
       "      <td>2013-12-23</td>\n",
       "      <td>38</td>\n",
       "      <td>5</td>\n",
       "      <td>38</td>\n",
       "      <td>3</td>\n",
       "      <td>30</td>\n",
       "      <td>25.40</td>\n",
       "      <td>125.40</td>\n",
       "      <td>627.00</td>\n",
       "      <td>125.40</td>\n",
       "      <td>627.00</td>\n",
       "      <td>False</td>\n",
       "      <td>0</td>\n",
       "      <td>344.00</td>\n",
       "    </tr>\n",
       "    <tr>\n",
       "      <th>2</th>\n",
       "      <td>zLo9f73nGGT1p21ltZC3ChiRnAVvgibMyazbCxvWPcg=</td>\n",
       "      <td>1</td>\n",
       "      <td>13</td>\n",
       "      <td>18</td>\n",
       "      <td>male</td>\n",
       "      <td>3</td>\n",
       "      <td>2013-12-27</td>\n",
       "      <td>38</td>\n",
       "      <td>18</td>\n",
       "      <td>38</td>\n",
       "      <td>1</td>\n",
       "      <td>30</td>\n",
       "      <td>30.00</td>\n",
       "      <td>149.00</td>\n",
       "      <td>2682.00</td>\n",
       "      <td>149.00</td>\n",
       "      <td>2682.00</td>\n",
       "      <td>False</td>\n",
       "      <td>0</td>\n",
       "      <td>530.00</td>\n",
       "    </tr>\n",
       "    <tr>\n",
       "      <th>3</th>\n",
       "      <td>8iF/+8HY8lJKFrTc7iR9ZYGCG2Ecrogbc2Vy5YhsfhQ=</td>\n",
       "      <td>1</td>\n",
       "      <td>1</td>\n",
       "      <td>0</td>\n",
       "      <td>unknown</td>\n",
       "      <td>7</td>\n",
       "      <td>2014-01-09</td>\n",
       "      <td>37</td>\n",
       "      <td>19</td>\n",
       "      <td>41</td>\n",
       "      <td>2</td>\n",
       "      <td>30</td>\n",
       "      <td>25.63</td>\n",
       "      <td>125.47</td>\n",
       "      <td>2384.00</td>\n",
       "      <td>141.16</td>\n",
       "      <td>2682.00</td>\n",
       "      <td>True</td>\n",
       "      <td>3</td>\n",
       "      <td>413.00</td>\n",
       "    </tr>\n",
       "    <tr>\n",
       "      <th>4</th>\n",
       "      <td>K6fja4+jmoZ5xG6BypqX80Uw/XKpMgrEMdG2edFOxnA=</td>\n",
       "      <td>1</td>\n",
       "      <td>13</td>\n",
       "      <td>35</td>\n",
       "      <td>female</td>\n",
       "      <td>7</td>\n",
       "      <td>2014-01-25</td>\n",
       "      <td>37</td>\n",
       "      <td>24</td>\n",
       "      <td>41</td>\n",
       "      <td>1</td>\n",
       "      <td>30</td>\n",
       "      <td>26.25</td>\n",
       "      <td>105.38</td>\n",
       "      <td>2529.00</td>\n",
       "      <td>123.17</td>\n",
       "      <td>2956.00</td>\n",
       "      <td>True</td>\n",
       "      <td>2</td>\n",
       "      <td>586.00</td>\n",
       "    </tr>\n",
       "  </tbody>\n",
       "</table>\n",
       "</div>"
      ],
      "text/plain": [
       "                                           msno  is_churn city  bd   gender  \\\n",
       "0  ugx0CjOMzazClkFzU2xasmDZaoIqOUAZPsH1q0teWCg=         1    5  28     male   \n",
       "1  f/NmvEzHfhINFEYZTR05prUdr+E+3+oewvweYz9cCQE=         1   13  20     male   \n",
       "2  zLo9f73nGGT1p21ltZC3ChiRnAVvgibMyazbCxvWPcg=         1   13  18     male   \n",
       "3  8iF/+8HY8lJKFrTc7iR9ZYGCG2Ecrogbc2Vy5YhsfhQ=         1    1   0  unknown   \n",
       "4  K6fja4+jmoZ5xG6BypqX80Uw/XKpMgrEMdG2edFOxnA=         1   13  35   female   \n",
       "\n",
       "  registered_via registration_init_time  membership_months  total_order  \\\n",
       "0              3             2013-12-23                 38            6   \n",
       "1              3             2013-12-23                 38            5   \n",
       "2              3             2013-12-27                 38           18   \n",
       "3              7             2014-01-09                 37           19   \n",
       "4              7             2014-01-25                 37           24   \n",
       "\n",
       "   payment_method_id_mode  payment_method_id_count  payment_plan_days_mode  \\\n",
       "0                      31                        2                       0   \n",
       "1                      38                        3                      30   \n",
       "2                      38                        1                      30   \n",
       "3                      41                        2                      30   \n",
       "4                      41                        1                      30   \n",
       "\n",
       "   payment_plan_days_mean  plan_list_price_mean  plan_lifetime_value  \\\n",
       "0                   10.00                 49.67               298.00   \n",
       "1                   25.40                125.40               627.00   \n",
       "2                   30.00                149.00              2682.00   \n",
       "3                   25.63                125.47              2384.00   \n",
       "4                   26.25                105.38              2529.00   \n",
       "\n",
       "   actual_amount_mean  total_actual_amount  is_auto_renew_mode  cancel_times  \\\n",
       "0              149.00               894.00                True             1   \n",
       "1              125.40               627.00               False             0   \n",
       "2              149.00              2682.00               False             0   \n",
       "3              141.16              2682.00                True             3   \n",
       "4              123.17              2956.00                True             2   \n",
       "\n",
       "   transaction_date_delta  \n",
       "0                  700.00  \n",
       "1                  344.00  \n",
       "2                  530.00  \n",
       "3                  413.00  \n",
       "4                  586.00  "
      ]
     },
     "execution_count": 67,
     "metadata": {},
     "output_type": "execute_result"
    }
   ],
   "source": [
    "data_prepared = pd.merge(left = merged_input, \n",
    "                         right = transactions_summary,\n",
    "                         how='inner',\n",
    "                         on='msno')\n",
    "print(len(data_prepared))\n",
    "transactions_summary.is_auto_renew_mode = transactions_summary.is_auto_renew_mode.astype(bool)\n",
    "data_prepared.head()"
   ]
  },
  {
   "cell_type": "code",
   "execution_count": null,
   "metadata": {},
   "outputs": [],
   "source": []
  },
  {
   "cell_type": "code",
   "execution_count": 68,
   "metadata": {},
   "outputs": [
    {
     "data": {
      "text/plain": [
       "Index(['msno', 'is_churn', 'city', 'bd', 'gender', 'registered_via',\n",
       "       'registration_init_time', 'membership_months', 'total_order',\n",
       "       'payment_method_id_mode', 'payment_method_id_count',\n",
       "       'payment_plan_days_mode', 'payment_plan_days_mean',\n",
       "       'plan_list_price_mean', 'plan_lifetime_value', 'actual_amount_mean',\n",
       "       'total_actual_amount', 'is_auto_renew_mode', 'cancel_times',\n",
       "       'transaction_date_delta'],\n",
       "      dtype='object')"
      ]
     },
     "execution_count": 68,
     "metadata": {},
     "output_type": "execute_result"
    }
   ],
   "source": [
    "data_prepared.columns"
   ]
  },
  {
   "cell_type": "code",
   "execution_count": 69,
   "metadata": {},
   "outputs": [
    {
     "data": {
      "text/plain": [
       "<matplotlib.axes._subplots.AxesSubplot at 0x7f8d20e4ce10>"
      ]
     },
     "execution_count": 69,
     "metadata": {},
     "output_type": "execute_result"
    },
    {
     "data": {
      "image/png": "[encoded data removed]",
      "text/plain": [
       "<Figure size 720x720 with 2 Axes>"
      ]
     },
     "metadata": {
      "needs_background": "light"
     },
     "output_type": "display_data"
    }
   ],
   "source": [
    "import seaborn as sns\n",
    "\n",
    "# calculate the correlation matrix using spearman as some of the distributions are not normal.\n",
    "df_corr = data_prepared[[\n",
    "                     'membership_months', 'bd', 'payment_method_id_count',\\\n",
    "                     'payment_plan_days_mean', 'plan_list_price_mean', 'plan_lifetime_value',\\\n",
    "                     'actual_amount_mean', 'total_actual_amount',\\\n",
    "                     'cancel_times', 'total_order',\\\n",
    "                     'transaction_date_delta']]\\\n",
    "                .corr('spearman')\n",
    "\n",
    "fig, ax = plt.subplots(figsize=(10,10)) \n",
    "sns.heatmap(df_corr, xticklabels=df_corr.columns, yticklabels=df_corr.columns, annot=True)"
   ]
  },
  {
   "cell_type": "markdown",
   "metadata": {},
   "source": [
    "    total_actual_amount and plan_lifetime_value are near perfectly correlated. \n",
    "    transaction_date_min is highly correlated with a number of variables also\n",
    "    actual_amount_mean is highly correlated with plan_list_price_mean"
   ]
  },
  {
   "cell_type": "markdown",
   "metadata": {},
   "source": [
    "### Might need to remove total_actual_amount as it's highly correlated with other features"
   ]
  },
  {
   "cell_type": "code",
   "execution_count": 70,
   "metadata": {},
   "outputs": [],
   "source": [
    "# Removing \n",
    "#     , 'total_actual_amount'\n",
    "#     , 'plan_list_price_mean'"
   ]
  },
  {
   "cell_type": "code",
   "execution_count": 71,
   "metadata": {},
   "outputs": [
    {
     "data": {
      "text/plain": [
       "<matplotlib.axes._subplots.AxesSubplot at 0x7f8c4c4306d8>"
      ]
     },
     "execution_count": 71,
     "metadata": {},
     "output_type": "execute_result"
    },
    {
     "data": {
      "image/png": "[encoded data removed]",
      "text/plain": [
       "<Figure size 720x720 with 2 Axes>"
      ]
     },
     "metadata": {
      "needs_background": "light"
     },
     "output_type": "display_data"
    }
   ],
   "source": [
    "# calculate the correlation matrix using spearman as some of the distributions are not normal.\n",
    "df_corr = data_prepared[[\n",
    "                     'membership_months', 'bd', 'payment_method_id_count',\\\n",
    "                     'payment_plan_days_mean', 'plan_list_price_mean', \\\n",
    "                     #'actual_amount_mean', 'total_actual_amount', 'plan_lifetime_value',\\\n",
    "                     'cancel_times', 'total_order',\\\n",
    "                     'transaction_date_delta']]\\\n",
    "                .corr('spearman')\n",
    "\n",
    "fig, ax = plt.subplots(figsize=(10,10)) \n",
    "sns.heatmap(df_corr, xticklabels=df_corr.columns, yticklabels=df_corr.columns, annot=True)"
   ]
  },
  {
   "cell_type": "markdown",
   "metadata": {},
   "source": [
    "## Write out the modified dataset to the HDF5 store"
   ]
  },
  {
   "cell_type": "code",
   "execution_count": 74,
   "metadata": {},
   "outputs": [],
   "source": [
    "df = data_prepared.drop(['msno'], axis=1)\n",
    "target_index = 0\n",
    "split_ratio = 0.7\n",
    "r_state = 42\n",
    "\n",
    "## Finally generate the train-test splits\n",
    "X_train, X_test, y_train, y_test = train_test_split(df.iloc[:,target_index+1:], \n",
    "                                                    df.iloc[:,target_index],\n",
    "                                                    train_size=split_ratio, \n",
    "                                                    stratify=df.iloc[:,target_index],\n",
    "                                                    random_state = r_state)"
   ]
  },
  {
   "cell_type": "code",
   "execution_count": 75,
   "metadata": {},
   "outputs": [],
   "source": [
    "store = pd.HDFStore('/home/dissertation/data/feat_eng_abt_split.h5')\n",
    "store['X_train'] = X_train   # write to HDF5\n",
    "store['X_test'] = X_test   # write to HDF5\n",
    "store['y_train'] = y_train   # write to HDF5\n",
    "store['y_test'] = y_test   # write to HDF5\n",
    "store.close()"
   ]
  }
 ],
 "metadata": {
  "kernelspec": {
   "display_name": "Python 3",
   "language": "python",
   "name": "python3"
  },
  "language_info": {
   "codemirror_mode": {
    "name": "ipython",
    "version": 3
   },
   "file_extension": ".py",
   "mimetype": "text/x-python",
   "name": "python",
   "nbconvert_exporter": "python",
   "pygments_lexer": "ipython3",
   "version": "3.7.3"
  }
 },
 "nbformat": 4,
 "nbformat_minor": 2
}
