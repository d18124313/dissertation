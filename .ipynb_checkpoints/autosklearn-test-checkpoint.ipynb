{
 "cells": [
  {
   "cell_type": "code",
   "execution_count": 1,
   "metadata": {},
   "outputs": [],
   "source": [
    "from tpot import TPOTClassifier\n",
    "from sklearn.datasets import load_iris\n",
    "from sklearn.model_selection import train_test_split\n",
    "import numpy as np\n"
   ]
  },
  {
   "cell_type": "code",
   "execution_count": 7,
   "metadata": {},
   "outputs": [
    {
     "name": "stdout",
     "output_type": "stream",
     "text": [
      "Wall time: 2.99 ms\n"
     ]
    }
   ],
   "source": [
    "%%time\n",
    "iris = load_iris()\n",
    "X_train, X_test, y_train, y_test = train_test_split(iris.data.astype(np.float64),\n",
    "    iris.target.astype(np.float64), train_size=0.75, test_size=0.25)"
   ]
  },
  {
   "cell_type": "code",
   "execution_count": 13,
   "metadata": {},
   "outputs": [],
   "source": [
    "tpot = TPOTClassifier(generations=25, population_size=50, verbosity=2)"
   ]
  },
  {
   "cell_type": "code",
   "execution_count": 14,
   "metadata": {
    "scrolled": true
   },
   "outputs": [
    {
     "name": "stdout",
     "output_type": "stream",
     "text": [
      "Warning: xgboost.XGBClassifier is not available and will not be used by TPOT.\n"
     ]
    },
    {
     "data": {
      "application/vnd.jupyter.widget-view+json": {
       "model_id": "",
       "version_major": 2,
       "version_minor": 0
      },
      "text/plain": [
       "HBox(children=(IntProgress(value=0, description='Optimization Progress', max=1300, style=ProgressStyle(descrip…"
      ]
     },
     "metadata": {},
     "output_type": "display_data"
    },
    {
     "name": "stdout",
     "output_type": "stream",
     "text": [
      "Generation 1 - Current best internal CV score: 0.980952380952381\n",
      "Generation 2 - Current best internal CV score: 0.980952380952381\n",
      "Generation 3 - Current best internal CV score: 0.9813852813852814\n",
      "Generation 4 - Current best internal CV score: 0.9813852813852814\n",
      "Generation 5 - Current best internal CV score: 0.9813852813852814\n",
      "Generation 6 - Current best internal CV score: 0.9813852813852814\n",
      "Generation 7 - Current best internal CV score: 0.9813852813852814\n",
      "Generation 8 - Current best internal CV score: 0.9813852813852814\n",
      "Generation 9 - Current best internal CV score: 0.9813852813852814\n",
      "Generation 10 - Current best internal CV score: 0.9813852813852814\n",
      "Generation 11 - Current best internal CV score: 0.9813852813852814\n",
      "Generation 12 - Current best internal CV score: 0.9813852813852814\n",
      "Generation 13 - Current best internal CV score: 0.9813852813852814\n",
      "Generation 14 - Current best internal CV score: 0.9813852813852814\n",
      "Generation 15 - Current best internal CV score: 0.9813852813852814\n",
      "Generation 16 - Current best internal CV score: 0.9813852813852814\n",
      "Generation 17 - Current best internal CV score: 0.9813852813852814\n",
      "Generation 18 - Current best internal CV score: 0.9813852813852814\n",
      "Generation 19 - Current best internal CV score: 0.9813852813852814\n",
      "Generation 20 - Current best internal CV score: 0.9813852813852814\n",
      "Generation 21 - Current best internal CV score: 0.9813852813852814\n",
      "Generation 22 - Current best internal CV score: 0.9813852813852814\n",
      "Generation 23 - Current best internal CV score: 0.9813852813852814\n",
      "Generation 24 - Current best internal CV score: 0.9813852813852814\n",
      "Generation 25 - Current best internal CV score: 0.9813852813852814\n",
      "\n",
      "Best pipeline: KNeighborsClassifier(PCA(input_matrix, iterated_power=5, svd_solver=randomized), n_neighbors=10, p=1, weights=distance)\n",
      "0.9736842105263158\n",
      "Wall time: 5min 10s\n"
     ]
    }
   ],
   "source": [
    "%%time\n",
    "tpot.fit(X_train, y_train)\n",
    "print(tpot.score(X_test, y_test))"
   ]
  },
  {
   "cell_type": "code",
   "execution_count": 5,
   "metadata": {},
   "outputs": [],
   "source": [
    "tpot.export('tpot_iris_pipeline.py')"
   ]
  },
  {
   "cell_type": "code",
   "execution_count": null,
   "metadata": {},
   "outputs": [],
   "source": []
  },
  {
   "cell_type": "code",
   "execution_count": null,
   "metadata": {},
   "outputs": [],
   "source": [
    "import autosklearn.classification\n",
    "import sklearn.model_selection\n",
    "import sklearn.datasets\n",
    "import sklearn.metrics"
   ]
  },
  {
   "cell_type": "code",
   "execution_count": null,
   "metadata": {},
   "outputs": [],
   "source": [
    "print(\"Ready\")"
   ]
  },
  {
   "cell_type": "code",
   "execution_count": null,
   "metadata": {},
   "outputs": [],
   "source": [
    "X, y = sklearn.datasets.load_digits(return_X_y=True)\n",
    "X_train, X_test, y_train, y_test = \\\n",
    "        sklearn.model_selection.train_test_split(X, y, random_state=1)"
   ]
  },
  {
   "cell_type": "code",
   "execution_count": null,
   "metadata": {},
   "outputs": [],
   "source": [
    "print(\"Test\")"
   ]
  },
  {
   "cell_type": "code",
   "execution_count": null,
   "metadata": {},
   "outputs": [],
   "source": [
    "automl = autosklearn.classification.AutoSklearnClassifier()\n",
    "automl.fit(X_train, y_train)\n",
    "y_hat = automl.predict(X_test)\n",
    "print(\"Accuracy score\", sklearn.metrics.accuracy_score(y_test, y_hat))"
   ]
  }
 ],
 "metadata": {
  "kernelspec": {
   "display_name": "Python 3",
   "language": "python",
   "name": "python3"
  },
  "language_info": {
   "codemirror_mode": {
    "name": "ipython",
    "version": 3
   },
   "file_extension": ".py",
   "mimetype": "text/x-python",
   "name": "python",
   "nbconvert_exporter": "python",
   "pygments_lexer": "ipython3",
   "version": "3.5.4"
  }
 },
 "nbformat": 4,
 "nbformat_minor": 2
}
