{
 "cells": [
  {
   "cell_type": "code",
   "execution_count": 13,
   "metadata": {},
   "outputs": [
    {
     "name": "stderr",
     "output_type": "stream",
     "text": [
      "/home/anaconda/lib/python3.7/site-packages/pyparsing.py:2927: FutureWarning: Possible set intersection at position 3\n",
      "  self.re = re.compile( self.reString )\n",
      "/home/anaconda/lib/python3.7/site-packages/sklearn/externals/joblib/__init__.py:15: DeprecationWarning: sklearn.externals.joblib is deprecated in 0.21 and will be removed in 0.23. Please import this functionality directly from joblib, which can be installed with: pip install joblib. If this warning is raised when loading pickled models, you may need to re-serialize those models with scikit-learn 0.21+.\n",
      "  warnings.warn(msg, category=DeprecationWarning)\n"
     ]
    }
   ],
   "source": [
    "import autosklearn\n",
    "import autosklearn.metrics\n",
    "import autosklearn.classification"
   ]
  },
  {
   "cell_type": "code",
   "execution_count": 26,
   "metadata": {},
   "outputs": [],
   "source": [
    "RANDOM_STATE = 42 \n",
    "CV_ITER = None\n",
    "SCORING_METRIC = autosklearn.metrics.recall\n",
    "BASE_NAME = \"askbasic_\" + str(CV_ITER) + \"cv_\" + str(SCORING_METRIC)\n",
    "N_JOBS = 6\n",
    "TIME_PERIODS = [0.25, 0.5]\n",
    "classifiers = []"
   ]
  },
  {
   "cell_type": "code",
   "execution_count": 27,
   "metadata": {},
   "outputs": [],
   "source": [
    "for period in TIME_PERIODS:\n",
    "    classifiers.append(\n",
    "            ('ASKLEARN_{}_'.format(str(period)) + BASE_NAME, \n",
    "         autosklearn.classification.AutoSklearnClassifier(\n",
    "                time_left_for_this_task=int(3600*period), \n",
    "                n_jobs=N_JOBS,\n",
    "                include_estimators=[\"random_forest\", \"decision_tree\", \"adaboost\", \"gaussian_nb\",\n",
    "                                    \"liblinear_svc\", \"xgradient_boosting\"], \n",
    "                exclude_estimators=None,\n",
    "                include_preprocessors=[\"no_preprocessing\", ], \n",
    "                exclude_preprocessors=None,\n",
    "                ml_memory_limit = 3072*5), {}, \n",
    "         SCORING_METRIC)\n",
    "    )"
   ]
  },
  {
   "cell_type": "code",
   "execution_count": 28,
   "metadata": {},
   "outputs": [
    {
     "data": {
      "text/plain": [
       "[('ASKLEARN_0.25_askbasic_Nonecv_recall',\n",
       "  AutoSklearnClassifier(delete_output_folder_after_terminate=True,\n",
       "                        delete_tmp_folder_after_terminate=True,\n",
       "                        disable_evaluator_output=False,\n",
       "                        ensemble_memory_limit=1024, ensemble_nbest=50,\n",
       "                        ensemble_size=50, exclude_estimators=None,\n",
       "                        exclude_preprocessors=None, get_smac_object_callback=None,\n",
       "                        include_estimators=['random_forest', 'decision_tree',\n",
       "                                            'adaboost', 'gaussian_...\n",
       "                        include_preprocessors=['no_preprocessing'],\n",
       "                        initial_configurations_via_metalearning=25,\n",
       "                        logging_config=None, metadata_directory=None,\n",
       "                        ml_memory_limit=15360, n_jobs=6, output_folder=None,\n",
       "                        per_run_time_limit=360, resampling_strategy='holdout',\n",
       "                        resampling_strategy_arguments=None, seed=1,\n",
       "                        shared_mode=False, smac_scenario_args=None,\n",
       "                        time_left_for_this_task=900, tmp_folder=None),\n",
       "  {},\n",
       "  recall),\n",
       " ('ASKLEARN_0.5_askbasic_Nonecv_recall',\n",
       "  AutoSklearnClassifier(delete_output_folder_after_terminate=True,\n",
       "                        delete_tmp_folder_after_terminate=True,\n",
       "                        disable_evaluator_output=False,\n",
       "                        ensemble_memory_limit=1024, ensemble_nbest=50,\n",
       "                        ensemble_size=50, exclude_estimators=None,\n",
       "                        exclude_preprocessors=None, get_smac_object_callback=None,\n",
       "                        include_estimators=['random_forest', 'decision_tree',\n",
       "                                            'adaboost', 'gaussian_...\n",
       "                        include_preprocessors=['no_preprocessing'],\n",
       "                        initial_configurations_via_metalearning=25,\n",
       "                        logging_config=None, metadata_directory=None,\n",
       "                        ml_memory_limit=15360, n_jobs=6, output_folder=None,\n",
       "                        per_run_time_limit=360, resampling_strategy='holdout',\n",
       "                        resampling_strategy_arguments=None, seed=1,\n",
       "                        shared_mode=False, smac_scenario_args=None,\n",
       "                        time_left_for_this_task=1800, tmp_folder=None),\n",
       "  {},\n",
       "  recall)]"
      ]
     },
     "execution_count": 28,
     "metadata": {},
     "output_type": "execute_result"
    }
   ],
   "source": [
    "classifiers"
   ]
  }
 ],
 "metadata": {
  "kernelspec": {
   "display_name": "Python 3",
   "language": "python",
   "name": "python3"
  },
  "language_info": {
   "codemirror_mode": {
    "name": "ipython",
    "version": 3
   },
   "file_extension": ".py",
   "mimetype": "text/x-python",
   "name": "python",
   "nbconvert_exporter": "python",
   "pygments_lexer": "ipython3",
   "version": "3.7.3"
  }
 },
 "nbformat": 4,
 "nbformat_minor": 2
}
